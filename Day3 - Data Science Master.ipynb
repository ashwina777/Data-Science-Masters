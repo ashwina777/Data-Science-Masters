{
 "cells": [
  {
   "cell_type": "markdown",
   "id": "9937dfdb-da38-46a8-8904-99081cd39ea1",
   "metadata": {},
   "source": [
    "## Logical Operators\n",
    "1. And\n",
    "2. or\n",
    "3. not"
   ]
  },
  {
   "cell_type": "code",
   "execution_count": 1,
   "id": "feb08555-3d08-42d9-b476-7191236f2375",
   "metadata": {},
   "outputs": [
    {
     "data": {
      "text/plain": [
       "True"
      ]
     },
     "execution_count": 1,
     "metadata": {},
     "output_type": "execute_result"
    }
   ],
   "source": [
    "True and True"
   ]
  },
  {
   "cell_type": "code",
   "execution_count": 2,
   "id": "e33dc53e-9f29-4578-ad94-9e25dbc1490f",
   "metadata": {},
   "outputs": [
    {
     "data": {
      "text/plain": [
       "False"
      ]
     },
     "execution_count": 2,
     "metadata": {},
     "output_type": "execute_result"
    }
   ],
   "source": [
    "True and False"
   ]
  },
  {
   "cell_type": "code",
   "execution_count": 3,
   "id": "3ec180b7-d9cb-49b4-880b-9aa27bf29ba9",
   "metadata": {},
   "outputs": [
    {
     "data": {
      "text/plain": [
       "True"
      ]
     },
     "execution_count": 3,
     "metadata": {},
     "output_type": "execute_result"
    }
   ],
   "source": [
    "True or False"
   ]
  },
  {
   "cell_type": "code",
   "execution_count": 4,
   "id": "8b244d90-bc85-41ad-b1c4-672005c99253",
   "metadata": {},
   "outputs": [
    {
     "data": {
      "text/plain": [
       "False"
      ]
     },
     "execution_count": 4,
     "metadata": {},
     "output_type": "execute_result"
    }
   ],
   "source": [
    "not True"
   ]
  },
  {
   "cell_type": "code",
   "execution_count": 5,
   "id": "79d27d39-041d-48fc-93f5-14079cbe1b3f",
   "metadata": {},
   "outputs": [
    {
     "data": {
      "text/plain": [
       "True"
      ]
     },
     "execution_count": 5,
     "metadata": {},
     "output_type": "execute_result"
    }
   ],
   "source": [
    "not(bool(0))"
   ]
  },
  {
   "cell_type": "code",
   "execution_count": 6,
   "id": "f2fa49c9-09ac-44e3-a310-dab162a34c5b",
   "metadata": {},
   "outputs": [
    {
     "data": {
      "text/plain": [
       "False"
      ]
     },
     "execution_count": 6,
     "metadata": {},
     "output_type": "execute_result"
    }
   ],
   "source": [
    "not int(bool(1))\n",
    "##typecasting"
   ]
  },
  {
   "cell_type": "code",
   "execution_count": 12,
   "id": "b8dddd63-3e82-4910-a3e1-80dedfe76fa9",
   "metadata": {},
   "outputs": [
    {
     "data": {
      "text/plain": [
       "False"
      ]
     },
     "execution_count": 12,
     "metadata": {},
     "output_type": "execute_result"
    }
   ],
   "source": [
    "not 1 ## Anything other than 1 will give value false even negative number"
   ]
  },
  {
   "cell_type": "code",
   "execution_count": 11,
   "id": "ac459c73-936b-43ae-8b63-1932d5b82af0",
   "metadata": {},
   "outputs": [
    {
     "data": {
      "text/plain": [
       "True"
      ]
     },
     "execution_count": 11,
     "metadata": {},
     "output_type": "execute_result"
    }
   ],
   "source": [
    "not 0"
   ]
  },
  {
   "cell_type": "code",
   "execution_count": 13,
   "id": "ab3e05a2-ad96-46be-9bb4-8d574cf596ee",
   "metadata": {},
   "outputs": [
    {
     "name": "stdout",
     "output_type": "stream",
     "text": [
      "Defined value of start = 1\n",
      "Defined value of stop = 0\n",
      "\n",
      "Defined value of start = 1\n",
      "Defined value of stop by negating start = 0\n",
      "\n",
      "Defined value of start by negating stop = 1\n",
      "Defined value of stop = 0\n",
      "\n"
     ]
    }
   ],
   "source": [
    "start=1\n",
    "stop=0\n",
    "# Print the values as it is\n",
    "print(f\"Defined value of start = {start}\")\n",
    "print(f\"Defined value of stop = {stop}\\n\")\n",
    "\n",
    "#if can also be written as\n",
    "print(f\"Defined value of start = {start}\")\n",
    "print(f\"Defined value of stop by negating start = {int(not start)}\\n\")\n",
    "\n",
    "#alternatively-\n",
    "print(f\"Defined value of start by negating stop = {int(not stop)}\")\n",
    "print(f\"Defined value of stop = {stop}\\n\")"
   ]
  },
  {
   "cell_type": "code",
   "execution_count": 14,
   "id": "0ef5d050-4f63-48b4-9dda-dfb144cf1a47",
   "metadata": {},
   "outputs": [
    {
     "name": "stdout",
     "output_type": "stream",
     "text": [
      "boolean value of no. 0 is False\n",
      "boolean value of no. 1 is True\n",
      "boolean of 0 is True and negation of 1 is False\n",
      "\n",
      "#------------------------#\n",
      "\n"
     ]
    }
   ],
   "source": [
    "zero = 0\n",
    "one = 1\n",
    "print(f\"boolean value of no. {zero} is {bool(zero)}\")\n",
    "print(f\"boolean value of no. {one} is {bool(one)}\")\n",
    "print(f\"boolean of {zero} is {not zero} and negation of {one} is {not one}\")\n",
    "print(\"\\n#------------------------#\\n\")"
   ]
  },
  {
   "cell_type": "code",
   "execution_count": 17,
   "id": "0e6b6b5e-6948-4574-9645-f4834f7b4934",
   "metadata": {},
   "outputs": [
    {
     "data": {
      "text/plain": [
       "False"
      ]
     },
     "execution_count": 17,
     "metadata": {},
     "output_type": "execute_result"
    }
   ],
   "source": [
    "not bool(-5)"
   ]
  },
  {
   "cell_type": "markdown",
   "id": "2efa02f0-9669-4b08-b9b8-c04f54c5a70d",
   "metadata": {},
   "source": [
    "## Logical And"
   ]
  },
  {
   "cell_type": "code",
   "execution_count": 19,
   "id": "e05661c4-4fa9-4639-9181-bfe40e718d62",
   "metadata": {},
   "outputs": [
    {
     "name": "stdout",
     "output_type": "stream",
     "text": [
      "Dish contains vegetable: True\n",
      "Dish contains salt: False\n",
      "Hence dish prepared was good: False\n",
      "\n"
     ]
    }
   ],
   "source": [
    "vegetable=True\n",
    "salt=False\n",
    "dish = vegetable and salt\n",
    "\n",
    "print(f\"Dish contains vegetable: {vegetable}\")\n",
    "print(f\"Dish contains salt: {salt}\")\n",
    "print(f\"Hence dish prepared was good: {dish}\\n\")"
   ]
  },
  {
   "cell_type": "markdown",
   "id": "fa373cfe-a3c2-4226-b85e-11cc8a6c9be9",
   "metadata": {},
   "source": [
    "## Operator Precedence"
   ]
  },
  {
   "cell_type": "code",
   "execution_count": null,
   "id": "5972c5fd-d430-40c8-a43f-bbcc251d8109",
   "metadata": {},
   "outputs": [
    {
     "data": {
      "text/plain": [
       "True"
      ]
     },
     "execution_count": 21,
     "metadata": {},
     "output_type": "execute_result"
    }
   ],
   "source": [
    "not(False) * True # here false * true is happening first"
   ]
  },
  {
   "cell_type": "code",
   "execution_count": 20,
   "id": "dbd3b50c-9943-41ae-882b-4c538895d888",
   "metadata": {},
   "outputs": [
    {
     "data": {
      "text/plain": [
       "0"
      ]
     },
     "execution_count": 20,
     "metadata": {},
     "output_type": "execute_result"
    }
   ],
   "source": [
    "True * False"
   ]
  },
  {
   "cell_type": "code",
   "execution_count": 26,
   "id": "9cdeb576-4b7a-4b9b-a65e-ba0aa7635593",
   "metadata": {},
   "outputs": [
    {
     "data": {
      "text/plain": [
       "True"
      ]
     },
     "execution_count": 26,
     "metadata": {},
     "output_type": "execute_result"
    }
   ],
   "source": [
    "not 0 ## not is a bollean expression"
   ]
  },
  {
   "cell_type": "code",
   "execution_count": 25,
   "id": "b7650068-b48c-430f-8a91-d20f2666bbd9",
   "metadata": {},
   "outputs": [
    {
     "data": {
      "text/plain": [
       "1"
      ]
     },
     "execution_count": 25,
     "metadata": {},
     "output_type": "execute_result"
    }
   ],
   "source": [
    "(not(False))  * True \n",
    "#precedence has been added here therfore 1 as output\n",
    "# first the bracket part is executed"
   ]
  },
  {
   "cell_type": "code",
   "execution_count": null,
   "id": "57e3f71e-d022-4192-81e3-2ce0c0f7eac2",
   "metadata": {},
   "outputs": [
    {
     "ename": "SyntaxError",
     "evalue": "invalid syntax (3005608816.py, line 1)",
     "output_type": "error",
     "traceback": [
      "\u001b[0;36m  Cell \u001b[0;32mIn[23], line 1\u001b[0;36m\u001b[0m\n\u001b[0;31m    False * not (False)\u001b[0m\n\u001b[0m            ^\u001b[0m\n\u001b[0;31mSyntaxError\u001b[0m\u001b[0;31m:\u001b[0m invalid syntax\n"
     ]
    }
   ],
   "source": [
    "False * not(False) #"
   ]
  },
  {
   "cell_type": "code",
   "execution_count": 24,
   "id": "42476939-87a0-4593-a170-190eae0c3323",
   "metadata": {},
   "outputs": [
    {
     "data": {
      "text/plain": [
       "0"
      ]
     },
     "execution_count": 24,
     "metadata": {},
     "output_type": "execute_result"
    }
   ],
   "source": [
    "False * ( not False)"
   ]
  },
  {
   "cell_type": "code",
   "execution_count": 27,
   "id": "a1c7bd17-fcee-4d21-881a-6052a8690007",
   "metadata": {},
   "outputs": [
    {
     "data": {
      "text/plain": [
       "True"
      ]
     },
     "execution_count": 27,
     "metadata": {},
     "output_type": "execute_result"
    }
   ],
   "source": [
    "1==True"
   ]
  },
  {
   "cell_type": "code",
   "execution_count": 28,
   "id": "64ef3977-22ec-41e3-bf2a-946930249bbc",
   "metadata": {},
   "outputs": [
    {
     "data": {
      "text/plain": [
       "True"
      ]
     },
     "execution_count": 28,
     "metadata": {},
     "output_type": "execute_result"
    }
   ],
   "source": [
    "not(False) * False == True "
   ]
  },
  {
   "cell_type": "code",
   "execution_count": 29,
   "id": "a1a1f0cd-a87b-41db-b2a3-5a0f24d38865",
   "metadata": {},
   "outputs": [
    {
     "name": "stdout",
     "output_type": "stream",
     "text": [
      "True\n"
     ]
    }
   ],
   "source": [
    "print(not(False)*False)"
   ]
  },
  {
   "cell_type": "code",
   "execution_count": 30,
   "id": "a6eb726e-23a9-4403-b5ae-3356bdc9da67",
   "metadata": {},
   "outputs": [
    {
     "name": "stdout",
     "output_type": "stream",
     "text": [
      "0\n"
     ]
    }
   ],
   "source": [
    "print((not(False))*False)"
   ]
  },
  {
   "cell_type": "code",
   "execution_count": 33,
   "id": "21f0e446-336d-4a8d-975b-a962373d94c9",
   "metadata": {},
   "outputs": [
    {
     "data": {
      "text/plain": [
       "1"
      ]
     },
     "execution_count": 33,
     "metadata": {},
     "output_type": "execute_result"
    }
   ],
   "source": [
    "1*True"
   ]
  },
  {
   "cell_type": "code",
   "execution_count": 31,
   "id": "0ca9f79c-51d6-4259-a175-b9a892395847",
   "metadata": {},
   "outputs": [
    {
     "data": {
      "text/plain": [
       "0"
      ]
     },
     "execution_count": 31,
     "metadata": {},
     "output_type": "execute_result"
    }
   ],
   "source": [
    "1*False"
   ]
  },
  {
   "cell_type": "code",
   "execution_count": 32,
   "id": "5c212b87-c903-4dbf-bbf1-cea9fb66ee51",
   "metadata": {},
   "outputs": [
    {
     "data": {
      "text/plain": [
       "0"
      ]
     },
     "execution_count": 32,
     "metadata": {},
     "output_type": "execute_result"
    }
   ],
   "source": [
    "0*True"
   ]
  },
  {
   "cell_type": "code",
   "execution_count": 34,
   "id": "418798b6-b9b5-4dc7-a182-e9a4605601e2",
   "metadata": {},
   "outputs": [
    {
     "data": {
      "text/plain": [
       "0"
      ]
     },
     "execution_count": 34,
     "metadata": {},
     "output_type": "execute_result"
    }
   ],
   "source": [
    "0*False"
   ]
  },
  {
   "cell_type": "markdown",
   "id": "59089882-0971-4a03-9b00-87c9c5d798a9",
   "metadata": {},
   "source": [
    "## Equality operators\n",
    "1. is\n",
    "2. is not\n",
    "3. ==\n",
    "4. !="
   ]
  },
  {
   "cell_type": "code",
   "execution_count": 41,
   "id": "426d1245-e3f7-4bd9-9598-7c5b07512f14",
   "metadata": {},
   "outputs": [],
   "source": [
    "lst_a=[1,2,3,4]\n",
    "lst_b=[1,2,3,4]"
   ]
  },
  {
   "cell_type": "code",
   "execution_count": 40,
   "id": "d742f0c7-58a9-42e7-a0a0-0afc615d9981",
   "metadata": {},
   "outputs": [
    {
     "name": "stdout",
     "output_type": "stream",
     "text": [
      "139642981862912\n",
      "139644019121024\n"
     ]
    }
   ],
   "source": [
    "# memory address\n",
    "print(id(lst_a))\n",
    "print(id(lst_b))"
   ]
  },
  {
   "cell_type": "code",
   "execution_count": 42,
   "id": "cc77d323-fc7a-4cf8-8ac2-e40f764acc2d",
   "metadata": {},
   "outputs": [
    {
     "data": {
      "text/plain": [
       "False"
      ]
     },
     "execution_count": 42,
     "metadata": {},
     "output_type": "execute_result"
    }
   ],
   "source": [
    "lst_a is lst_b"
   ]
  },
  {
   "cell_type": "code",
   "execution_count": 43,
   "id": "0749b04c-427a-46ed-a7ce-48ae7df10f5c",
   "metadata": {},
   "outputs": [
    {
     "data": {
      "text/plain": [
       "True"
      ]
     },
     "execution_count": 43,
     "metadata": {},
     "output_type": "execute_result"
    }
   ],
   "source": [
    "lst_a is not lst_b"
   ]
  },
  {
   "cell_type": "code",
   "execution_count": null,
   "id": "b2e67c15-aa03-47ee-be2d-09615f9fe0a5",
   "metadata": {},
   "outputs": [],
   "source": [
    "## is --) a is b returns true if variable/identifiers a and b points to the same object or location\n",
    "## is not --) a is not b returns true if variable/identifiers a and b points to the different object or location"
   ]
  },
  {
   "cell_type": "code",
   "execution_count": 45,
   "id": "4f6f0f52-f414-44f4-8317-ee359b7dc652",
   "metadata": {},
   "outputs": [],
   "source": [
    "lst_a=lst_b"
   ]
  },
  {
   "cell_type": "code",
   "execution_count": 48,
   "id": "188800fb-2416-4e59-a5d0-6f18d55f7ccc",
   "metadata": {},
   "outputs": [
    {
     "name": "stdout",
     "output_type": "stream",
     "text": [
      "139643483508864\n",
      "139643483508864\n"
     ]
    }
   ],
   "source": [
    "# memory address\n",
    "print(id(lst_a))\n",
    "print(id(lst_b))"
   ]
  },
  {
   "cell_type": "code",
   "execution_count": 46,
   "id": "3df0412e-ea61-4217-b655-bb7fe86199a2",
   "metadata": {},
   "outputs": [
    {
     "data": {
      "text/plain": [
       "True"
      ]
     },
     "execution_count": 46,
     "metadata": {},
     "output_type": "execute_result"
    }
   ],
   "source": [
    "lst_a is lst_b"
   ]
  },
  {
   "cell_type": "code",
   "execution_count": 47,
   "id": "37b8bb1a-398d-4ca0-be4d-34bd81fdb11e",
   "metadata": {},
   "outputs": [
    {
     "data": {
      "text/plain": [
       "False"
      ]
     },
     "execution_count": 47,
     "metadata": {},
     "output_type": "execute_result"
    }
   ],
   "source": [
    "lst_a is not lst_b"
   ]
  },
  {
   "cell_type": "code",
   "execution_count": 50,
   "id": "57abb049-704e-4d4d-ab05-ea453b729b4e",
   "metadata": {},
   "outputs": [
    {
     "data": {
      "text/plain": [
       "True"
      ]
     },
     "execution_count": 50,
     "metadata": {},
     "output_type": "execute_result"
    }
   ],
   "source": [
    "lst_a == lst_b #it checks the elements are equal or not inside the list"
   ]
  },
  {
   "cell_type": "code",
   "execution_count": 51,
   "id": "572fb823-39ef-4195-9631-601faf70f418",
   "metadata": {},
   "outputs": [],
   "source": [
    "a=2\n",
    "b=2"
   ]
  },
  {
   "cell_type": "code",
   "execution_count": 53,
   "id": "896edf9f-6503-49c8-a46e-d173ee774aac",
   "metadata": {},
   "outputs": [
    {
     "name": "stdout",
     "output_type": "stream",
     "text": [
      "139644148924688\n",
      "139644148924688\n"
     ]
    }
   ],
   "source": [
    "# same address\n",
    "print(id(a))\n",
    "print(id(b))"
   ]
  },
  {
   "cell_type": "code",
   "execution_count": 55,
   "id": "29b5567a-cefa-49aa-b3a1-992fcea08823",
   "metadata": {},
   "outputs": [
    {
     "name": "stdout",
     "output_type": "stream",
     "text": [
      "139642981870832\n",
      "139642981870832\n"
     ]
    }
   ],
   "source": [
    "str1=\"ashwina\"\n",
    "str2=\"ashwina\"\n",
    "print(id(str1))\n",
    "print(id(str2))\n",
    "#same address"
   ]
  },
  {
   "cell_type": "code",
   "execution_count": 56,
   "id": "decfb4ac-0d6e-413f-b45e-828fc8d05a6c",
   "metadata": {},
   "outputs": [],
   "source": [
    "#list and strings or varibales are different because in lists there are different values but in strings and variables there is only 1 value\n",
    "# that is why address of two lists with same values inside them have different address locations"
   ]
  },
  {
   "cell_type": "code",
   "execution_count": 57,
   "id": "4fe7e16f-62ab-4db3-9139-78711fbd3543",
   "metadata": {},
   "outputs": [
    {
     "data": {
      "text/plain": [
       "[1, 2, 3, 4]"
      ]
     },
     "execution_count": 57,
     "metadata": {},
     "output_type": "execute_result"
    }
   ],
   "source": [
    "lst_a"
   ]
  },
  {
   "cell_type": "code",
   "execution_count": 58,
   "id": "1bea168d-9225-40f0-9d66-3604060c8b53",
   "metadata": {},
   "outputs": [],
   "source": [
    "lst_a[1]=22\n",
    "#lists are mutable"
   ]
  },
  {
   "cell_type": "code",
   "execution_count": 59,
   "id": "d111eb94-2e1c-44b1-98c0-e90df1015624",
   "metadata": {},
   "outputs": [
    {
     "data": {
      "text/plain": [
       "[1, 22, 3, 4]"
      ]
     },
     "execution_count": 59,
     "metadata": {},
     "output_type": "execute_result"
    }
   ],
   "source": [
    "lst_a"
   ]
  },
  {
   "cell_type": "code",
   "execution_count": 60,
   "id": "5373f896-c3a7-4820-a7a7-a36bd59c568a",
   "metadata": {},
   "outputs": [
    {
     "data": {
      "text/plain": [
       "'ashwina'"
      ]
     },
     "execution_count": 60,
     "metadata": {},
     "output_type": "execute_result"
    }
   ],
   "source": [
    "str1"
   ]
  },
  {
   "cell_type": "code",
   "execution_count": 62,
   "id": "2cde07c2-b0bf-4a4b-95f2-52df68fb1d0f",
   "metadata": {},
   "outputs": [
    {
     "ename": "TypeError",
     "evalue": "'str' object does not support item assignment",
     "output_type": "error",
     "traceback": [
      "\u001b[0;31m---------------------------------------------------------------------------\u001b[0m",
      "\u001b[0;31mTypeError\u001b[0m                                 Traceback (most recent call last)",
      "Cell \u001b[0;32mIn[62], line 1\u001b[0m\n\u001b[0;32m----> 1\u001b[0m \u001b[43mstr1\u001b[49m\u001b[43m[\u001b[49m\u001b[38;5;241;43m0\u001b[39;49m\u001b[43m]\u001b[49m\u001b[38;5;241m=\u001b[39m\u001b[38;5;124m'\u001b[39m\u001b[38;5;124mY\u001b[39m\u001b[38;5;124m'\u001b[39m \n\u001b[1;32m      2\u001b[0m \u001b[38;5;66;03m# strings are immutable or non mutable\u001b[39;00m\n",
      "\u001b[0;31mTypeError\u001b[0m: 'str' object does not support item assignment"
     ]
    }
   ],
   "source": [
    "str1[0]='Y' \n",
    "# strings are immutable or non mutable"
   ]
  },
  {
   "cell_type": "markdown",
   "id": "3f3f0ad4-6511-43c9-9c6a-ac3d78e21486",
   "metadata": {},
   "source": [
    "## Comparison Operations\n",
    "1. < less than\n",
    "2. <= less than or equal to\n",
    "3. '>' greater than\n",
    "4. '>'= greater than or equal to"
   ]
  },
  {
   "cell_type": "code",
   "execution_count": 66,
   "id": "f697eee4-f402-4e37-9fd4-2dec811b0142",
   "metadata": {},
   "outputs": [
    {
     "name": "stdout",
     "output_type": "stream",
     "text": [
      "bike is faster than car: True\n"
     ]
    }
   ],
   "source": [
    "maxb=150\n",
    "maxc=200\n",
    "print(f\"bike is faster than car: {maxb < maxc}\")"
   ]
  },
  {
   "cell_type": "markdown",
   "id": "c7f82a07-62ab-4a2c-adae-155b4a45a559",
   "metadata": {},
   "source": [
    "## Arithmetic Operations\n",
    "|Operation|Meaning|\n",
    "|:-:|:-:|\n",
    "| **+** | addition|\n",
    "| **-** | subtraction|\n",
    "| **\\*** | multiplication|\n",
    "| **/** | true division|\n",
    "| **//** | integer division|\n",
    "| **%** | the modulo operator|"
   ]
  },
  {
   "cell_type": "code",
   "execution_count": 67,
   "id": "bbe045eb-093a-47be-aadd-3b0a8edc79c5",
   "metadata": {},
   "outputs": [],
   "source": [
    "a=234\n",
    "b=78"
   ]
  },
  {
   "cell_type": "code",
   "execution_count": 68,
   "id": "f1358220-6bdc-403d-a3e2-0c2862fb79fe",
   "metadata": {},
   "outputs": [
    {
     "data": {
      "text/plain": [
       "312"
      ]
     },
     "execution_count": 68,
     "metadata": {},
     "output_type": "execute_result"
    }
   ],
   "source": [
    "a+b"
   ]
  },
  {
   "cell_type": "code",
   "execution_count": 69,
   "id": "ab33ba17-f7e3-42ef-942f-4a9b790a19b1",
   "metadata": {},
   "outputs": [
    {
     "data": {
      "text/plain": [
       "156"
      ]
     },
     "execution_count": 69,
     "metadata": {},
     "output_type": "execute_result"
    }
   ],
   "source": [
    "a-b"
   ]
  },
  {
   "cell_type": "code",
   "execution_count": 70,
   "id": "149c8eeb-4615-483a-8b47-1b661eae1127",
   "metadata": {},
   "outputs": [
    {
     "data": {
      "text/plain": [
       "18252"
      ]
     },
     "execution_count": 70,
     "metadata": {},
     "output_type": "execute_result"
    }
   ],
   "source": [
    "a*b"
   ]
  },
  {
   "cell_type": "code",
   "execution_count": 71,
   "id": "17919759-4cfe-40fb-9cbd-b7961a6f0f7e",
   "metadata": {},
   "outputs": [
    {
     "data": {
      "text/plain": [
       "3.0"
      ]
     },
     "execution_count": 71,
     "metadata": {},
     "output_type": "execute_result"
    }
   ],
   "source": [
    "a/b"
   ]
  },
  {
   "cell_type": "code",
   "execution_count": 73,
   "id": "dc1665bc-034b-4502-a7ef-1a7fc856f662",
   "metadata": {},
   "outputs": [
    {
     "data": {
      "text/plain": [
       "0.3333333333333333"
      ]
     },
     "execution_count": 73,
     "metadata": {},
     "output_type": "execute_result"
    }
   ],
   "source": [
    "b/a"
   ]
  },
  {
   "cell_type": "code",
   "execution_count": 75,
   "id": "19f60d00-5b85-4dd5-a3a6-ee28915e2e59",
   "metadata": {},
   "outputs": [
    {
     "data": {
      "text/plain": [
       "0"
      ]
     },
     "execution_count": 75,
     "metadata": {},
     "output_type": "execute_result"
    }
   ],
   "source": [
    "b//a #removes decimal part only displays integer part"
   ]
  },
  {
   "cell_type": "code",
   "execution_count": 78,
   "id": "7c25eb3c-a9bf-48d0-8928-1561577dd9a9",
   "metadata": {},
   "outputs": [
    {
     "data": {
      "text/plain": [
       "4"
      ]
     },
     "execution_count": 78,
     "metadata": {},
     "output_type": "execute_result"
    }
   ],
   "source": [
    "123%7 #display the remainder"
   ]
  },
  {
   "cell_type": "code",
   "execution_count": 76,
   "id": "20b361a3-ddd6-4821-bc1f-cea4c0ce1185",
   "metadata": {},
   "outputs": [
    {
     "data": {
      "text/plain": [
       "0"
      ]
     },
     "execution_count": 76,
     "metadata": {},
     "output_type": "execute_result"
    }
   ],
   "source": [
    "a%b"
   ]
  },
  {
   "cell_type": "markdown",
   "id": "353638c0-47c6-4d6d-a0e1-fee3cc744beb",
   "metadata": {},
   "source": [
    "###Bitwise operators\n",
    "|Operation|Meaning|\n",
    "|:-:|:-:|\n",
    "| **∼** |bitwise complement (prefix unary operator)|\n",
    "| **&** |bitwise and|\n",
    "| **\\|** |bitwise or|\n",
    "| **^** |bitwise exclusive-or|\n",
    "| **<<** |shift bits left, filling in with zeros|\n",
    "| **>>** |shift bits right, filling in with sign bit|\n"
   ]
  },
  {
   "cell_type": "code",
   "execution_count": 80,
   "id": "6d1b102d-efa0-467e-b019-1d9f233f2bdb",
   "metadata": {},
   "outputs": [
    {
     "data": {
      "text/plain": [
       "'0b1010'"
      ]
     },
     "execution_count": 80,
     "metadata": {},
     "output_type": "execute_result"
    }
   ],
   "source": [
    "var=10\n",
    "bin(var)\n",
    "## 0b in output in python is a prefix for representation of binary number"
   ]
  },
  {
   "cell_type": "code",
   "execution_count": 83,
   "id": "bd1a60ad-1c98-4c2b-86b9-df78a2410f3d",
   "metadata": {},
   "outputs": [
    {
     "data": {
      "text/plain": [
       "-11"
      ]
     },
     "execution_count": 83,
     "metadata": {},
     "output_type": "execute_result"
    }
   ],
   "source": [
    "~var"
   ]
  },
  {
   "cell_type": "code",
   "execution_count": 84,
   "id": "6206b26f-f4a8-4ae7-b217-6b4e327d1ca9",
   "metadata": {},
   "outputs": [
    {
     "data": {
      "text/plain": [
       "False"
      ]
     },
     "execution_count": 84,
     "metadata": {},
     "output_type": "execute_result"
    }
   ],
   "source": [
    "True & False"
   ]
  },
  {
   "cell_type": "code",
   "execution_count": 85,
   "id": "8218c179-3a90-4e35-b3af-918e201d1da2",
   "metadata": {},
   "outputs": [
    {
     "data": {
      "text/plain": [
       "True"
      ]
     },
     "execution_count": 85,
     "metadata": {},
     "output_type": "execute_result"
    }
   ],
   "source": [
    "True | False"
   ]
  },
  {
   "cell_type": "code",
   "execution_count": 88,
   "id": "134aee6a-6d5d-4cbc-94ff-2cd3bb295bec",
   "metadata": {},
   "outputs": [
    {
     "data": {
      "text/plain": [
       "5"
      ]
     },
     "execution_count": 88,
     "metadata": {},
     "output_type": "execute_result"
    }
   ],
   "source": [
    "var>>1\n",
    "# 10 in binary is 1010 >> 1 =0 0101 = 5"
   ]
  },
  {
   "cell_type": "code",
   "execution_count": 89,
   "id": "806cae36-be43-4710-b06e-8cb580da0b18",
   "metadata": {},
   "outputs": [
    {
     "data": {
      "text/plain": [
       "20"
      ]
     },
     "execution_count": 89,
     "metadata": {},
     "output_type": "execute_result"
    }
   ],
   "source": [
    "var<<1\n",
    "#1010 becomes 10100"
   ]
  },
  {
   "cell_type": "markdown",
   "id": "4baf8340-1bc0-428e-a101-9ba71a9af18a",
   "metadata": {},
   "source": [
    "## Strings"
   ]
  },
  {
   "cell_type": "code",
   "execution_count": 91,
   "id": "b6de95c6-c0ea-4894-9868-2c61c65c1624",
   "metadata": {},
   "outputs": [
    {
     "data": {
      "text/plain": [
       "'I am a student of Data science Master'"
      ]
     },
     "execution_count": 91,
     "metadata": {},
     "output_type": "execute_result"
    }
   ],
   "source": [
    "'Ashwina'\n",
    "\"I am a student of Data science Master\""
   ]
  },
  {
   "cell_type": "code",
   "execution_count": 92,
   "id": "9b3dccd7-0869-48b4-aeb3-d350b85a8d43",
   "metadata": {},
   "outputs": [],
   "source": [
    "str1=\"Welcome to Data Science Masters\""
   ]
  },
  {
   "cell_type": "code",
   "execution_count": 95,
   "id": "060c636e-6b46-49a5-be83-6e30c5da2f2c",
   "metadata": {},
   "outputs": [
    {
     "data": {
      "text/plain": [
       "str"
      ]
     },
     "execution_count": 95,
     "metadata": {},
     "output_type": "execute_result"
    }
   ],
   "source": [
    "type(str1)"
   ]
  },
  {
   "cell_type": "code",
   "execution_count": 97,
   "id": "bd619a67-a07f-4069-9423-0d70e5f8a342",
   "metadata": {},
   "outputs": [
    {
     "data": {
      "text/plain": [
       "'W'"
      ]
     },
     "execution_count": 97,
     "metadata": {},
     "output_type": "execute_result"
    }
   ],
   "source": [
    "str1[0]"
   ]
  },
  {
   "cell_type": "code",
   "execution_count": 98,
   "id": "d034114e-0df1-49de-a9c4-7895129bd06f",
   "metadata": {},
   "outputs": [
    {
     "ename": "NameError",
     "evalue": "name 'e' is not defined",
     "output_type": "error",
     "traceback": [
      "\u001b[0;31m---------------------------------------------------------------------------\u001b[0m",
      "\u001b[0;31mNameError\u001b[0m                                 Traceback (most recent call last)",
      "Cell \u001b[0;32mIn[98], line 1\u001b[0m\n\u001b[0;32m----> 1\u001b[0m str1[\u001b[38;5;241m0\u001b[39m]\u001b[38;5;241m=\u001b[39m\u001b[43me\u001b[49m\n",
      "\u001b[0;31mNameError\u001b[0m: name 'e' is not defined"
     ]
    }
   ],
   "source": [
    "3immutable\n",
    "str1[0]=e"
   ]
  },
  {
   "cell_type": "code",
   "execution_count": 3,
   "id": "b1ec0a03-7b4c-435a-88ba-e280a46cd3a4",
   "metadata": {},
   "outputs": [],
   "source": [
    "str1=\"Ashwina Rawat\""
   ]
  },
  {
   "cell_type": "code",
   "execution_count": 4,
   "id": "d8741c1f-0d1c-48e3-9c1c-9533f4ca7447",
   "metadata": {},
   "outputs": [
    {
     "data": {
      "text/plain": [
       "'Ashwina Rawat'"
      ]
     },
     "execution_count": 4,
     "metadata": {},
     "output_type": "execute_result"
    }
   ],
   "source": [
    "str1"
   ]
  },
  {
   "cell_type": "code",
   "execution_count": 5,
   "id": "a616889f-34fd-4435-8efe-67bb22825e56",
   "metadata": {},
   "outputs": [
    {
     "data": {
      "text/plain": [
       "'i'"
      ]
     },
     "execution_count": 5,
     "metadata": {},
     "output_type": "execute_result"
    }
   ],
   "source": [
    "str1[4]"
   ]
  },
  {
   "cell_type": "code",
   "execution_count": 6,
   "id": "856fb9fd-eee9-46f4-9239-349e30f118b9",
   "metadata": {},
   "outputs": [
    {
     "data": {
      "text/plain": [
       "'ina Rawat'"
      ]
     },
     "execution_count": 6,
     "metadata": {},
     "output_type": "execute_result"
    }
   ],
   "source": [
    "# slice operation\n",
    "str1[4:]"
   ]
  },
  {
   "cell_type": "code",
   "execution_count": 7,
   "id": "f2857a8a-7a03-4352-a0c4-21341ec971ea",
   "metadata": {},
   "outputs": [
    {
     "data": {
      "text/plain": [
       "'in'"
      ]
     },
     "execution_count": 7,
     "metadata": {},
     "output_type": "execute_result"
    }
   ],
   "source": [
    "# slice operation\n",
    "str1[4:6]"
   ]
  },
  {
   "cell_type": "code",
   "execution_count": 13,
   "id": "43d7b6a6-b305-472e-9906-4e731693fccd",
   "metadata": {},
   "outputs": [
    {
     "data": {
      "text/plain": [
       "'a'"
      ]
     },
     "execution_count": 13,
     "metadata": {},
     "output_type": "execute_result"
    }
   ],
   "source": [
    "str1[-2]"
   ]
  },
  {
   "cell_type": "code",
   "execution_count": 14,
   "id": "ab807823-db5a-46e6-8ba4-3797a17a3e1a",
   "metadata": {},
   "outputs": [
    {
     "data": {
      "text/plain": [
       "'Rawat'"
      ]
     },
     "execution_count": 14,
     "metadata": {},
     "output_type": "execute_result"
    }
   ],
   "source": [
    "str1[-5:]"
   ]
  },
  {
   "cell_type": "code",
   "execution_count": 18,
   "id": "b24a4104-fe9c-4822-9d47-fbe57dd2bed3",
   "metadata": {},
   "outputs": [
    {
     "data": {
      "text/plain": [
       "'Ashwina R'"
      ]
     },
     "execution_count": 18,
     "metadata": {},
     "output_type": "execute_result"
    }
   ],
   "source": [
    "str1[0:-4]"
   ]
  },
  {
   "cell_type": "code",
   "execution_count": 19,
   "id": "5ecd02a0-6b50-4ac5-8a25-c894f81ad578",
   "metadata": {},
   "outputs": [
    {
     "data": {
      "text/plain": [
       "'awa'"
      ]
     },
     "execution_count": 19,
     "metadata": {},
     "output_type": "execute_result"
    }
   ],
   "source": [
    "str1[-4:-1]"
   ]
  },
  {
   "cell_type": "code",
   "execution_count": 20,
   "id": "47e69490-9887-4b36-b3e3-455f7fae51d1",
   "metadata": {},
   "outputs": [
    {
     "data": {
      "text/plain": [
       "''"
      ]
     },
     "execution_count": 20,
     "metadata": {},
     "output_type": "execute_result"
    }
   ],
   "source": [
    "str1[-2:2]"
   ]
  },
  {
   "cell_type": "code",
   "execution_count": 21,
   "id": "c63c3666-dad8-462d-ad80-6eaccc38fc6e",
   "metadata": {},
   "outputs": [
    {
     "data": {
      "text/plain": [
       "''"
      ]
     },
     "execution_count": 21,
     "metadata": {},
     "output_type": "execute_result"
    }
   ],
   "source": [
    "str1[3:1]"
   ]
  },
  {
   "cell_type": "code",
   "execution_count": 23,
   "id": "84e33cec-1348-4bce-b36e-2064c91db171",
   "metadata": {},
   "outputs": [
    {
     "data": {
      "text/plain": [
       "'Ashwina Ra'"
      ]
     },
     "execution_count": 23,
     "metadata": {},
     "output_type": "execute_result"
    }
   ],
   "source": [
    "str1[:-3]"
   ]
  },
  {
   "cell_type": "code",
   "execution_count": 24,
   "id": "306fe6cb-023c-43ac-a82b-b83e57da71dd",
   "metadata": {},
   "outputs": [
    {
     "data": {
      "text/plain": [
       "'Ashwina Rawat'"
      ]
     },
     "execution_count": 24,
     "metadata": {},
     "output_type": "execute_result"
    }
   ],
   "source": [
    "str1[:]"
   ]
  },
  {
   "cell_type": "code",
   "execution_count": 34,
   "id": "01a2c59c-4549-4209-a607-a15573718d14",
   "metadata": {},
   "outputs": [
    {
     "data": {
      "text/plain": [
       "'antika'"
      ]
     },
     "execution_count": 34,
     "metadata": {},
     "output_type": "execute_result"
    }
   ],
   "source": [
    "name=\"Avantika\"\n",
    "name[-6:8]\n"
   ]
  },
  {
   "cell_type": "code",
   "execution_count": 35,
   "id": "ec60b433-816e-4090-ac67-4ecb9e925edc",
   "metadata": {},
   "outputs": [
    {
     "data": {
      "text/plain": [
       "'Ashwina Rawat'"
      ]
     },
     "execution_count": 35,
     "metadata": {},
     "output_type": "execute_result"
    }
   ],
   "source": [
    "str1"
   ]
  },
  {
   "cell_type": "code",
   "execution_count": 40,
   "id": "1f1f6084-7899-46cc-b223-6697a059f697",
   "metadata": {},
   "outputs": [
    {
     "data": {
      "text/plain": [
       "'tawaR aniwhsA'"
      ]
     },
     "execution_count": 40,
     "metadata": {},
     "output_type": "execute_result"
    }
   ],
   "source": [
    "str1[::-1]\n",
    "# number -1 is step size"
   ]
  },
  {
   "cell_type": "code",
   "execution_count": 48,
   "id": "a1ea0ffd-e8ff-4bfe-8595-87b763414086",
   "metadata": {},
   "outputs": [
    {
     "data": {
      "text/plain": [
       "'twRaihA'"
      ]
     },
     "execution_count": 48,
     "metadata": {},
     "output_type": "execute_result"
    }
   ],
   "source": [
    "str1[::-2]\n",
    "# takes every second element from last"
   ]
  },
  {
   "cell_type": "code",
   "execution_count": 49,
   "id": "de614038-7ae2-4ab6-819d-9229ddc07cb3",
   "metadata": {},
   "outputs": [
    {
     "data": {
      "text/plain": [
       "'aniw'"
      ]
     },
     "execution_count": 49,
     "metadata": {},
     "output_type": "execute_result"
    }
   ],
   "source": [
    "str1[6:2:-1]"
   ]
  },
  {
   "cell_type": "code",
   "execution_count": 50,
   "id": "d58ef262-f03f-4b0c-ac28-5d72dad4b714",
   "metadata": {},
   "outputs": [
    {
     "data": {
      "text/plain": [
       "'Anw'"
      ]
     },
     "execution_count": 50,
     "metadata": {},
     "output_type": "execute_result"
    }
   ],
   "source": [
    "str1[::5]"
   ]
  },
  {
   "cell_type": "code",
   "execution_count": 51,
   "id": "f8af7961-fd6f-4e8c-bbc6-a0b28c33d36e",
   "metadata": {},
   "outputs": [
    {
     "data": {
      "text/plain": [
       "'Ashwina Rawat'"
      ]
     },
     "execution_count": 51,
     "metadata": {},
     "output_type": "execute_result"
    }
   ],
   "source": [
    "str1[::1]"
   ]
  },
  {
   "cell_type": "code",
   "execution_count": 53,
   "id": "35b117bc-be31-40c5-b070-033e1ef685fd",
   "metadata": {},
   "outputs": [
    {
     "data": {
      "text/plain": [
       "'iwhsA'"
      ]
     },
     "execution_count": 53,
     "metadata": {},
     "output_type": "execute_result"
    }
   ],
   "source": [
    "str1[4::-1]\n",
    "# first -1 reverses the string then first four elements are displayyed"
   ]
  },
  {
   "cell_type": "code",
   "execution_count": 59,
   "id": "b5758f3d-fac9-48f6-892d-6556480d4a92",
   "metadata": {},
   "outputs": [
    {
     "data": {
      "text/plain": [
       "' aniw'"
      ]
     },
     "execution_count": 59,
     "metadata": {},
     "output_type": "execute_result"
    }
   ],
   "source": [
    "str1[7:2:-1]\n",
    "# tawaR aniwhsA -1 reverses the string\n",
    "# Ashwina_ these are 7 indices\n",
    "# ash has 2 indices (removed)"
   ]
  },
  {
   "cell_type": "code",
   "execution_count": 60,
   "id": "50fc10e6-1584-49b8-93a1-61adffeed507",
   "metadata": {},
   "outputs": [
    {
     "data": {
      "text/plain": [
       "'h'"
      ]
     },
     "execution_count": 60,
     "metadata": {},
     "output_type": "execute_result"
    }
   ],
   "source": [
    "str1[2:1:-1]"
   ]
  },
  {
   "cell_type": "code",
   "execution_count": 64,
   "id": "ad4a93ca-cd15-4f0b-9b75-49aa80198ce2",
   "metadata": {},
   "outputs": [
    {
     "data": {
      "text/plain": [
       "'Rawa'"
      ]
     },
     "execution_count": 64,
     "metadata": {},
     "output_type": "execute_result"
    }
   ],
   "source": [
    "str1[-5:-1:1]\n",
    "# Ashwina Rawat is the string because of 1 all are printed in same order\n",
    "# -5 includes Rawat\n",
    "# -1 removes t "
   ]
  },
  {
   "cell_type": "code",
   "execution_count": 65,
   "id": "cecdc59f-638c-4190-ae47-9f6a182d86e2",
   "metadata": {},
   "outputs": [],
   "source": [
    "course=\"Data Science Masters\"\n",
    "# now slice the word science in forward and reverse"
   ]
  },
  {
   "cell_type": "code",
   "execution_count": 68,
   "id": "9a7c8ab2-0d72-4993-9352-2e32006bdd9e",
   "metadata": {},
   "outputs": [
    {
     "data": {
      "text/plain": [
       "'Science'"
      ]
     },
     "execution_count": 68,
     "metadata": {},
     "output_type": "execute_result"
    }
   ],
   "source": [
    "course[5:-8:1]"
   ]
  },
  {
   "cell_type": "code",
   "execution_count": 74,
   "id": "70127fdb-59c8-413c-bebb-d0df5dfe36d4",
   "metadata": {},
   "outputs": [
    {
     "data": {
      "text/plain": [
       "'ecneicS'"
      ]
     },
     "execution_count": 74,
     "metadata": {},
     "output_type": "execute_result"
    }
   ],
   "source": [
    "course[-9:4:-1]"
   ]
  },
  {
   "cell_type": "code",
   "execution_count": 75,
   "id": "d3ecdcc7-ef31-4452-a1b7-76080f7d7f46",
   "metadata": {},
   "outputs": [
    {
     "data": {
      "text/plain": [
       "'Science'"
      ]
     },
     "execution_count": 75,
     "metadata": {},
     "output_type": "execute_result"
    }
   ],
   "source": [
    "course[5:12]"
   ]
  },
  {
   "cell_type": "code",
   "execution_count": 83,
   "id": "1a6af551-a5ee-48c6-af5a-31da8fb59239",
   "metadata": {},
   "outputs": [
    {
     "data": {
      "text/plain": [
       "'ecneicS'"
      ]
     },
     "execution_count": 83,
     "metadata": {},
     "output_type": "execute_result"
    }
   ],
   "source": [
    "course[11:4:-1]"
   ]
  },
  {
   "cell_type": "code",
   "execution_count": 85,
   "id": "6b8ee95b-993d-436e-8d27-d87000487b97",
   "metadata": {},
   "outputs": [
    {
     "data": {
      "text/plain": [
       "'Data Science Masters Course'"
      ]
     },
     "execution_count": 85,
     "metadata": {},
     "output_type": "execute_result"
    }
   ],
   "source": [
    "course + \" Course\"\n",
    "# concatenation"
   ]
  },
  {
   "cell_type": "code",
   "execution_count": 86,
   "id": "cd97e562-1374-4574-b8c3-6bb1fd77af0c",
   "metadata": {},
   "outputs": [
    {
     "name": "stdout",
     "output_type": "stream",
     "text": [
      "Helloworld\n"
     ]
    }
   ],
   "source": [
    "print(\"Hello\" + 'world')"
   ]
  },
  {
   "cell_type": "code",
   "execution_count": 100,
   "id": "3c3cfe09-9533-4dd0-90ec-31c4d8741ba4",
   "metadata": {},
   "outputs": [
    {
     "data": {
      "text/plain": [
       "'Data Science MastersData Science MastersData Science Masters'"
      ]
     },
     "execution_count": 100,
     "metadata": {},
     "output_type": "execute_result"
    }
   ],
   "source": [
    "course * 3"
   ]
  },
  {
   "cell_type": "code",
   "execution_count": 89,
   "id": "9ff17b54-cc1e-4a7d-a9b6-0fc2b5fe74dd",
   "metadata": {},
   "outputs": [
    {
     "data": {
      "text/plain": [
       "20"
      ]
     },
     "execution_count": 89,
     "metadata": {},
     "output_type": "execute_result"
    }
   ],
   "source": [
    "len(course)\n",
    "#length including spaces"
   ]
  },
  {
   "cell_type": "code",
   "execution_count": 91,
   "id": "11606196-0897-4952-a8d9-8299a0b876e0",
   "metadata": {},
   "outputs": [
    {
     "data": {
      "text/plain": [
       "9"
      ]
     },
     "execution_count": 91,
     "metadata": {},
     "output_type": "execute_result"
    }
   ],
   "source": [
    "course.find(\"n\")\n",
    "# find function gives index number"
   ]
  },
  {
   "cell_type": "code",
   "execution_count": 93,
   "id": "450ff924-ee7f-4a8d-8a3b-eb6b1367542f",
   "metadata": {},
   "outputs": [
    {
     "data": {
      "text/plain": [
       "1"
      ]
     },
     "execution_count": 93,
     "metadata": {},
     "output_type": "execute_result"
    }
   ],
   "source": [
    "course.find('a')"
   ]
  },
  {
   "cell_type": "code",
   "execution_count": 97,
   "id": "454e0247-4324-4ced-a85f-563d65e93739",
   "metadata": {},
   "outputs": [
    {
     "data": {
      "text/plain": [
       "3"
      ]
     },
     "execution_count": 97,
     "metadata": {},
     "output_type": "execute_result"
    }
   ],
   "source": [
    "course.find('a',2,10)\n",
    "# here 2 and 10 means find a from 2 to 10th index"
   ]
  },
  {
   "cell_type": "code",
   "execution_count": 98,
   "id": "9ef6d607-872b-4aea-8a95-dcae94e9c2b5",
   "metadata": {},
   "outputs": [
    {
     "data": {
      "text/plain": [
       "-1"
      ]
     },
     "execution_count": 98,
     "metadata": {},
     "output_type": "execute_result"
    }
   ],
   "source": [
    "course.find('z')"
   ]
  },
  {
   "cell_type": "code",
   "execution_count": 101,
   "id": "892de16b-e145-4209-be89-290dc1ef8962",
   "metadata": {},
   "outputs": [
    {
     "data": {
      "text/plain": [
       "3"
      ]
     },
     "execution_count": 101,
     "metadata": {},
     "output_type": "execute_result"
    }
   ],
   "source": [
    "## count function\n",
    "course.count('a')\n",
    "# gives the number of repition or non-overlapping occurences of substring"
   ]
  },
  {
   "cell_type": "code",
   "execution_count": 102,
   "id": "29a8f203-37e2-45ef-a230-b737e4132cb9",
   "metadata": {},
   "outputs": [
    {
     "data": {
      "text/plain": [
       "1"
      ]
     },
     "execution_count": 102,
     "metadata": {},
     "output_type": "execute_result"
    }
   ],
   "source": [
    "course.count('a',2,7)"
   ]
  },
  {
   "cell_type": "code",
   "execution_count": 112,
   "id": "634fe5ab-34fc-4105-8ca9-03fcea7d5ced",
   "metadata": {},
   "outputs": [
    {
     "data": {
      "text/plain": [
       "21"
      ]
     },
     "execution_count": 112,
     "metadata": {},
     "output_type": "execute_result"
    }
   ],
   "source": [
    "course.count(\"\")"
   ]
  },
  {
   "cell_type": "code",
   "execution_count": 105,
   "id": "9bfeecf7-e829-4706-b6f1-d2c46dda3824",
   "metadata": {},
   "outputs": [
    {
     "data": {
      "text/plain": [
       "2"
      ]
     },
     "execution_count": 105,
     "metadata": {},
     "output_type": "execute_result"
    }
   ],
   "source": [
    "course.count(\" \")"
   ]
  },
  {
   "cell_type": "code",
   "execution_count": 106,
   "id": "57a09052-2039-4417-ac9d-8c16e6a8d5d0",
   "metadata": {},
   "outputs": [],
   "source": [
    "#string split function\n",
    "# returns a list of the substring in the string, using sep as a separator string"
   ]
  },
  {
   "cell_type": "code",
   "execution_count": 109,
   "id": "a7022b22-b6d7-4cb7-acb0-d86429d385de",
   "metadata": {},
   "outputs": [
    {
     "data": {
      "text/plain": [
       "['Data', 'Science', 'Masters']"
      ]
     },
     "execution_count": 109,
     "metadata": {},
     "output_type": "execute_result"
    }
   ],
   "source": [
    "course.split(\" \")"
   ]
  },
  {
   "cell_type": "code",
   "execution_count": 110,
   "id": "8f725cc7-6f67-4523-b2d5-468cdf35300d",
   "metadata": {},
   "outputs": [
    {
     "data": {
      "text/plain": [
       "['Data Sci', 'nc', ' Mast', 'rs']"
      ]
     },
     "execution_count": 110,
     "metadata": {},
     "output_type": "execute_result"
    }
   ],
   "source": [
    "course.split(\"e\")"
   ]
  },
  {
   "cell_type": "code",
   "execution_count": 115,
   "id": "72540469-00ba-4912-94a7-97ea1cbb872d",
   "metadata": {},
   "outputs": [
    {
     "data": {
      "text/plain": [
       "('Data Sci', 'e', 'nce Masters')"
      ]
     },
     "execution_count": 115,
     "metadata": {},
     "output_type": "execute_result"
    }
   ],
   "source": [
    "course.partition(\"e\")\n",
    "# only for first character"
   ]
  },
  {
   "cell_type": "code",
   "execution_count": 116,
   "id": "054161f6-81c1-475a-9b0c-ec5d10754ccf",
   "metadata": {},
   "outputs": [],
   "source": [
    "## string upper and lower case"
   ]
  },
  {
   "cell_type": "code",
   "execution_count": 117,
   "id": "8969354f-a201-4cc8-9b9a-f3bf158cd940",
   "metadata": {},
   "outputs": [
    {
     "data": {
      "text/plain": [
       "'DATA SCIENCE MASTERS'"
      ]
     },
     "execution_count": 117,
     "metadata": {},
     "output_type": "execute_result"
    }
   ],
   "source": [
    "course.upper()"
   ]
  },
  {
   "cell_type": "code",
   "execution_count": 121,
   "id": "9b0392bb-a060-4bb5-8728-a69b33fd767e",
   "metadata": {},
   "outputs": [
    {
     "data": {
      "text/plain": [
       "'data science masters'"
      ]
     },
     "execution_count": 121,
     "metadata": {},
     "output_type": "execute_result"
    }
   ],
   "source": [
    "course.lower()"
   ]
  },
  {
   "cell_type": "code",
   "execution_count": 122,
   "id": "c5edb1d8-f601-4f34-a7d6-779eae103457",
   "metadata": {},
   "outputs": [
    {
     "data": {
      "text/plain": [
       "'Data Science Masters'"
      ]
     },
     "execution_count": 122,
     "metadata": {},
     "output_type": "execute_result"
    }
   ],
   "source": [
    "course"
   ]
  },
  {
   "cell_type": "code",
   "execution_count": 123,
   "id": "9d9e1aa4-2d47-4780-bc5c-a64b94813aef",
   "metadata": {},
   "outputs": [
    {
     "data": {
      "text/plain": [
       "'dATA sCIENCE mASTERS'"
      ]
     },
     "execution_count": 123,
     "metadata": {},
     "output_type": "execute_result"
    }
   ],
   "source": [
    "course.swapcase()"
   ]
  },
  {
   "cell_type": "code",
   "execution_count": 125,
   "id": "0f560025-eb4d-4915-997e-e6882fa862be",
   "metadata": {},
   "outputs": [
    {
     "data": {
      "text/plain": [
       "'Data Science Masters'"
      ]
     },
     "execution_count": 125,
     "metadata": {},
     "output_type": "execute_result"
    }
   ],
   "source": [
    "course.title()\n",
    "#first word capital"
   ]
  },
  {
   "cell_type": "code",
   "execution_count": null,
   "id": "990a498e-57d9-4681-901e-2a8e47625b4c",
   "metadata": {},
   "outputs": [],
   "source": [
    "nam"
   ]
  }
 ],
 "metadata": {
  "kernelspec": {
   "display_name": "Python 3 (ipykernel)",
   "language": "python",
   "name": "python3"
  },
  "language_info": {
   "codemirror_mode": {
    "name": "ipython",
    "version": 3
   },
   "file_extension": ".py",
   "mimetype": "text/x-python",
   "name": "python",
   "nbconvert_exporter": "python",
   "pygments_lexer": "ipython3",
   "version": "3.10.8"
  }
 },
 "nbformat": 4,
 "nbformat_minor": 5
}
