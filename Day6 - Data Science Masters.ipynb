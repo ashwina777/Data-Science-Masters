{
 "cells": [
  {
   "cell_type": "markdown",
   "id": "47c7b46d-2701-4d37-8912-a878a686925c",
   "metadata": {},
   "source": [
    "## FUNCTIONS"
   ]
  },
  {
   "cell_type": "code",
   "execution_count": 1,
   "id": "18a1ba84-a871-4a6e-bc20-04fe1033c967",
   "metadata": {},
   "outputs": [],
   "source": [
    "## user defined\n",
    "# name anything expcept keyword \n",
    "## have to follow naming convention"
   ]
  },
  {
   "cell_type": "code",
   "execution_count": 2,
   "id": "5eca1fd0-f901-4467-8fc9-af217362b5f4",
   "metadata": {},
   "outputs": [
    {
     "name": "stdout",
     "output_type": "stream",
     "text": [
      "print is a pre defined function\n"
     ]
    }
   ],
   "source": [
    "print('print is a pre defined function')"
   ]
  },
  {
   "cell_type": "code",
   "execution_count": 4,
   "id": "da694a7a-1fac-45b1-ad22-84f683c91f41",
   "metadata": {},
   "outputs": [],
   "source": [
    "# def is defininng a function\n",
    "def test():\n",
    "    pass"
   ]
  },
  {
   "cell_type": "code",
   "execution_count": 7,
   "id": "643ac3a7-26a1-47e9-af1f-b0d57273159e",
   "metadata": {},
   "outputs": [],
   "source": [
    "def test1():\n",
    "    print(\"this is my very first fun\")"
   ]
  },
  {
   "cell_type": "code",
   "execution_count": 9,
   "id": "3db1ae27-2a0c-4389-9b4a-6ba41b57edf2",
   "metadata": {},
   "outputs": [
    {
     "name": "stdout",
     "output_type": "stream",
     "text": [
      "this is my very first fun\n"
     ]
    }
   ],
   "source": [
    "test1()"
   ]
  },
  {
   "cell_type": "code",
   "execution_count": 12,
   "id": "9a9b9076-f309-441a-a10e-e2c5c1d5f37d",
   "metadata": {},
   "outputs": [
    {
     "name": "stdout",
     "output_type": "stream",
     "text": [
      "this is my very first fun\n"
     ]
    },
    {
     "ename": "TypeError",
     "evalue": "unsupported operand type(s) for +: 'NoneType' and 'str'",
     "output_type": "error",
     "traceback": [
      "\u001b[0;31m---------------------------------------------------------------------------\u001b[0m",
      "\u001b[0;31mTypeError\u001b[0m                                 Traceback (most recent call last)",
      "Cell \u001b[0;32mIn[12], line 1\u001b[0m\n\u001b[0;32m----> 1\u001b[0m \u001b[43mtest1\u001b[49m\u001b[43m(\u001b[49m\u001b[43m)\u001b[49m\u001b[43m \u001b[49m\u001b[38;5;241;43m+\u001b[39;49m\u001b[43m \u001b[49m\u001b[38;5;124;43m'\u001b[39;49m\u001b[38;5;124;43mI am Ashwina\u001b[39;49m\u001b[38;5;124;43m'\u001b[39;49m\n\u001b[1;32m      2\u001b[0m \u001b[38;5;66;03m#because test1() is not a string type\u001b[39;00m\n",
      "\u001b[0;31mTypeError\u001b[0m: unsupported operand type(s) for +: 'NoneType' and 'str'"
     ]
    }
   ],
   "source": [
    "test1() + 'I am Ashwina'\n",
    "#because test1() is not a string type"
   ]
  },
  {
   "cell_type": "code",
   "execution_count": 11,
   "id": "fcb6460c-6bf1-4dfe-8418-4b6dc8798e50",
   "metadata": {},
   "outputs": [
    {
     "name": "stdout",
     "output_type": "stream",
     "text": [
      "this is my very first fun\n"
     ]
    },
    {
     "data": {
      "text/plain": [
       "NoneType"
      ]
     },
     "execution_count": 11,
     "metadata": {},
     "output_type": "execute_result"
    }
   ],
   "source": [
    "type(test1())"
   ]
  },
  {
   "cell_type": "code",
   "execution_count": 18,
   "id": "5a7ad565-4685-40ee-8647-a341cd7e811a",
   "metadata": {},
   "outputs": [
    {
     "name": "stdout",
     "output_type": "stream",
     "text": [
      "\n"
     ]
    },
    {
     "data": {
      "text/plain": [
       "NoneType"
      ]
     },
     "execution_count": 18,
     "metadata": {},
     "output_type": "execute_result"
    }
   ],
   "source": [
    "type(print())\n",
    "# print is NoneType by default"
   ]
  },
  {
   "cell_type": "code",
   "execution_count": 19,
   "id": "2cebf0d7-e49c-4baa-93e6-1a7494bc9594",
   "metadata": {},
   "outputs": [],
   "source": [
    "def test2():\n",
    "    return \"this is my function with return\""
   ]
  },
  {
   "cell_type": "code",
   "execution_count": 20,
   "id": "e867a9a7-07b2-4168-a282-2f6884daaa02",
   "metadata": {},
   "outputs": [
    {
     "data": {
      "text/plain": [
       "'this is my function with return'"
      ]
     },
     "execution_count": 20,
     "metadata": {},
     "output_type": "execute_result"
    }
   ],
   "source": [
    "test2()"
   ]
  },
  {
   "cell_type": "code",
   "execution_count": 21,
   "id": "5b3bf748-4f82-4456-bbb4-730d2e163ce0",
   "metadata": {},
   "outputs": [
    {
     "data": {
      "text/plain": [
       "'this is my function with returnI am Ashwina'"
      ]
     },
     "execution_count": 21,
     "metadata": {},
     "output_type": "execute_result"
    }
   ],
   "source": [
    "test2() + 'I am Ashwina'"
   ]
  },
  {
   "cell_type": "code",
   "execution_count": 22,
   "id": "d2123292-5aad-4fe5-9255-e603cbde1efe",
   "metadata": {},
   "outputs": [],
   "source": [
    "# return returns value as it is"
   ]
  },
  {
   "cell_type": "code",
   "execution_count": 23,
   "id": "ba1bb81c-6862-4856-ba24-7ce9c38b770f",
   "metadata": {},
   "outputs": [],
   "source": [
    "def test3():\n",
    "    return 1,4,'ashwina',34.67"
   ]
  },
  {
   "cell_type": "code",
   "execution_count": 24,
   "id": "a08d1ded-90cd-4b07-a4ff-d8ce248585c4",
   "metadata": {},
   "outputs": [
    {
     "data": {
      "text/plain": [
       "(1, 4, 'ashwina', 34.67)"
      ]
     },
     "execution_count": 24,
     "metadata": {},
     "output_type": "execute_result"
    }
   ],
   "source": [
    "test3()"
   ]
  },
  {
   "cell_type": "code",
   "execution_count": 25,
   "id": "162e8cdd-3fe2-4487-893d-659efe35bd9a",
   "metadata": {},
   "outputs": [],
   "source": [
    "a = 1,2,3,4,5"
   ]
  },
  {
   "cell_type": "code",
   "execution_count": 26,
   "id": "ecd95ec8-3a83-4adf-8542-d446957fb2b0",
   "metadata": {},
   "outputs": [
    {
     "data": {
      "text/plain": [
       "(1, 2, 3, 4, 5)"
      ]
     },
     "execution_count": 26,
     "metadata": {},
     "output_type": "execute_result"
    }
   ],
   "source": [
    "a"
   ]
  },
  {
   "cell_type": "code",
   "execution_count": 27,
   "id": "0fcd91ad-a4a0-44d5-b50b-bfd1b7db8e45",
   "metadata": {},
   "outputs": [],
   "source": [
    "a,b,c,d = \"ash\",1,23.45,True"
   ]
  },
  {
   "cell_type": "code",
   "execution_count": 28,
   "id": "9b838260-2084-41bb-988f-db822337fc87",
   "metadata": {},
   "outputs": [
    {
     "data": {
      "text/plain": [
       "'ash'"
      ]
     },
     "execution_count": 28,
     "metadata": {},
     "output_type": "execute_result"
    }
   ],
   "source": [
    "a"
   ]
  },
  {
   "cell_type": "code",
   "execution_count": 29,
   "id": "905ab351-4782-4cb5-8eb0-836c427ae3cf",
   "metadata": {},
   "outputs": [
    {
     "data": {
      "text/plain": [
       "1"
      ]
     },
     "execution_count": 29,
     "metadata": {},
     "output_type": "execute_result"
    }
   ],
   "source": [
    "b"
   ]
  },
  {
   "cell_type": "code",
   "execution_count": 30,
   "id": "e1084d22-2110-488f-9546-1c81ac7f4caf",
   "metadata": {},
   "outputs": [
    {
     "data": {
      "text/plain": [
       "23.45"
      ]
     },
     "execution_count": 30,
     "metadata": {},
     "output_type": "execute_result"
    }
   ],
   "source": [
    "c"
   ]
  },
  {
   "cell_type": "code",
   "execution_count": 31,
   "id": "0b1dcd4a-6603-41d7-befe-2e0142ea269e",
   "metadata": {},
   "outputs": [
    {
     "data": {
      "text/plain": [
       "True"
      ]
     },
     "execution_count": 31,
     "metadata": {},
     "output_type": "execute_result"
    }
   ],
   "source": [
    "d"
   ]
  },
  {
   "cell_type": "code",
   "execution_count": 32,
   "id": "bc8ec3d0-61ef-4e4d-a819-ee41c1731cb7",
   "metadata": {},
   "outputs": [
    {
     "data": {
      "text/plain": [
       "(1, 4, 'ashwina', 34.67)"
      ]
     },
     "execution_count": 32,
     "metadata": {},
     "output_type": "execute_result"
    }
   ],
   "source": [
    "test3()\n",
    "# return in form of tuple"
   ]
  },
  {
   "cell_type": "code",
   "execution_count": 33,
   "id": "beab5b3c-f1aa-4f80-aaf5-014e6dff085c",
   "metadata": {},
   "outputs": [
    {
     "data": {
      "text/plain": [
       "34.67"
      ]
     },
     "execution_count": 33,
     "metadata": {},
     "output_type": "execute_result"
    }
   ],
   "source": [
    "test3()[3]"
   ]
  },
  {
   "cell_type": "code",
   "execution_count": 34,
   "id": "9f6a0b32-95d0-466c-aa1c-eb72c4e9698e",
   "metadata": {},
   "outputs": [
    {
     "data": {
      "text/plain": [
       "'ashwina'"
      ]
     },
     "execution_count": 34,
     "metadata": {},
     "output_type": "execute_result"
    }
   ],
   "source": [
    "test3()[2]"
   ]
  },
  {
   "cell_type": "code",
   "execution_count": 35,
   "id": "bb1c7e06-b227-4f20-879e-784fc4dd3a4d",
   "metadata": {},
   "outputs": [
    {
     "data": {
      "text/plain": [
       "4"
      ]
     },
     "execution_count": 35,
     "metadata": {},
     "output_type": "execute_result"
    }
   ],
   "source": [
    "len(test3())"
   ]
  },
  {
   "cell_type": "code",
   "execution_count": 36,
   "id": "984060f7-bde3-4301-b851-3fd15993ec4c",
   "metadata": {},
   "outputs": [],
   "source": [
    "a,b,c,d = test3()"
   ]
  },
  {
   "cell_type": "code",
   "execution_count": 37,
   "id": "a6635a07-5b49-4d53-8f22-1a1a8d22ae01",
   "metadata": {},
   "outputs": [
    {
     "data": {
      "text/plain": [
       "1"
      ]
     },
     "execution_count": 37,
     "metadata": {},
     "output_type": "execute_result"
    }
   ],
   "source": [
    "a"
   ]
  },
  {
   "cell_type": "code",
   "execution_count": 38,
   "id": "e891fc2d-dbf5-4bc5-92b2-6a0ddcb25e30",
   "metadata": {},
   "outputs": [
    {
     "data": {
      "text/plain": [
       "4"
      ]
     },
     "execution_count": 38,
     "metadata": {},
     "output_type": "execute_result"
    }
   ],
   "source": [
    "b"
   ]
  },
  {
   "cell_type": "code",
   "execution_count": 39,
   "id": "e221bba3-49cb-4959-9c66-272b44464b6b",
   "metadata": {},
   "outputs": [
    {
     "data": {
      "text/plain": [
       "'ashwina'"
      ]
     },
     "execution_count": 39,
     "metadata": {},
     "output_type": "execute_result"
    }
   ],
   "source": [
    "c"
   ]
  },
  {
   "cell_type": "code",
   "execution_count": 41,
   "id": "094bf9eb-a85e-498c-a126-e17e9d6ade87",
   "metadata": {},
   "outputs": [
    {
     "ename": "ValueError",
     "evalue": "not enough values to unpack (expected 5, got 4)",
     "output_type": "error",
     "traceback": [
      "\u001b[0;31m---------------------------------------------------------------------------\u001b[0m",
      "\u001b[0;31mValueError\u001b[0m                                Traceback (most recent call last)",
      "Cell \u001b[0;32mIn[41], line 1\u001b[0m\n\u001b[0;32m----> 1\u001b[0m a,b,c,d,e \u001b[38;5;241m=\u001b[39m test3()\n",
      "\u001b[0;31mValueError\u001b[0m: not enough values to unpack (expected 5, got 4)"
     ]
    }
   ],
   "source": [
    "a,b,c,d,e = test3()"
   ]
  },
  {
   "cell_type": "code",
   "execution_count": 43,
   "id": "a867f736-fa24-4e6b-9b89-4539d55600b6",
   "metadata": {},
   "outputs": [
    {
     "ename": "ValueError",
     "evalue": "too many values to unpack (expected 3)",
     "output_type": "error",
     "traceback": [
      "\u001b[0;31m---------------------------------------------------------------------------\u001b[0m",
      "\u001b[0;31mValueError\u001b[0m                                Traceback (most recent call last)",
      "Cell \u001b[0;32mIn[43], line 1\u001b[0m\n\u001b[0;32m----> 1\u001b[0m a,b,c \u001b[38;5;241m=\u001b[39m test3()\n",
      "\u001b[0;31mValueError\u001b[0m: too many values to unpack (expected 3)"
     ]
    }
   ],
   "source": [
    "a,b,c = test3()"
   ]
  },
  {
   "cell_type": "code",
   "execution_count": 44,
   "id": "a5c9da19-db3d-4624-ac58-97a5d84b5055",
   "metadata": {},
   "outputs": [],
   "source": [
    "def test4():\n",
    "    a=3*4+5\n",
    "    return a"
   ]
  },
  {
   "cell_type": "code",
   "execution_count": 45,
   "id": "59d0ae24-3063-43e9-ba45-e5f41fc5dbff",
   "metadata": {},
   "outputs": [
    {
     "data": {
      "text/plain": [
       "17"
      ]
     },
     "execution_count": 45,
     "metadata": {},
     "output_type": "execute_result"
    }
   ],
   "source": [
    "test4()"
   ]
  },
  {
   "cell_type": "code",
   "execution_count": 46,
   "id": "1a4aa119-c15c-4f15-ba87-1d50ad2a4168",
   "metadata": {},
   "outputs": [
    {
     "data": {
      "text/plain": [
       "int"
      ]
     },
     "execution_count": 46,
     "metadata": {},
     "output_type": "execute_result"
    }
   ],
   "source": [
    "type(test4())"
   ]
  },
  {
   "cell_type": "code",
   "execution_count": 47,
   "id": "8da46df8-a8f9-4440-a10d-1c71c53ba562",
   "metadata": {},
   "outputs": [],
   "source": [
    "# passing data while calling a function\n",
    "def test5(a,b):\n",
    "    c=a+b\n",
    "    return c\n",
    "    "
   ]
  },
  {
   "cell_type": "code",
   "execution_count": 48,
   "id": "a09b5b6a-bb75-4460-adbc-b3d24b968ffa",
   "metadata": {},
   "outputs": [
    {
     "data": {
      "text/plain": [
       "7"
      ]
     },
     "execution_count": 48,
     "metadata": {},
     "output_type": "execute_result"
    }
   ],
   "source": [
    "test5(3,4)"
   ]
  },
  {
   "cell_type": "code",
   "execution_count": 49,
   "id": "513a4a32-2dc3-44ea-90b0-eec9e30445af",
   "metadata": {},
   "outputs": [
    {
     "data": {
      "text/plain": [
       "'ashwina rawat'"
      ]
     },
     "execution_count": 49,
     "metadata": {},
     "output_type": "execute_result"
    }
   ],
   "source": [
    "test5('ashwina',' rawat')"
   ]
  },
  {
   "cell_type": "code",
   "execution_count": 50,
   "id": "ea6d1a46-1974-4b2e-810e-9f4080b77866",
   "metadata": {},
   "outputs": [
    {
     "data": {
      "text/plain": [
       "[1, 2, 3, 4, 4, 5, 6, 7, 8]"
      ]
     },
     "execution_count": 50,
     "metadata": {},
     "output_type": "execute_result"
    }
   ],
   "source": [
    "test5([1,2,3,4],[4,5,6,7,8])"
   ]
  },
  {
   "cell_type": "code",
   "execution_count": 51,
   "id": "11e8e409-9969-4225-932c-5a6939868f5d",
   "metadata": {},
   "outputs": [
    {
     "ename": "TypeError",
     "evalue": "can only concatenate list (not \"set\") to list",
     "output_type": "error",
     "traceback": [
      "\u001b[0;31m---------------------------------------------------------------------------\u001b[0m",
      "\u001b[0;31mTypeError\u001b[0m                                 Traceback (most recent call last)",
      "Cell \u001b[0;32mIn[51], line 1\u001b[0m\n\u001b[0;32m----> 1\u001b[0m \u001b[43mtest5\u001b[49m\u001b[43m(\u001b[49m\u001b[43m[\u001b[49m\u001b[38;5;241;43m1\u001b[39;49m\u001b[43m,\u001b[49m\u001b[38;5;241;43m2\u001b[39;49m\u001b[43m,\u001b[49m\u001b[38;5;241;43m3\u001b[39;49m\u001b[43m]\u001b[49m\u001b[43m,\u001b[49m\u001b[43m{\u001b[49m\u001b[43ma\u001b[49m\u001b[43m,\u001b[49m\u001b[43mb\u001b[49m\u001b[43m,\u001b[49m\u001b[43mc\u001b[49m\u001b[43m}\u001b[49m\u001b[43m)\u001b[49m\n",
      "Cell \u001b[0;32mIn[47], line 3\u001b[0m, in \u001b[0;36mtest5\u001b[0;34m(a, b)\u001b[0m\n\u001b[1;32m      2\u001b[0m \u001b[38;5;28;01mdef\u001b[39;00m \u001b[38;5;21mtest5\u001b[39m(a,b):\n\u001b[0;32m----> 3\u001b[0m     c\u001b[38;5;241m=\u001b[39m\u001b[43ma\u001b[49m\u001b[38;5;241;43m+\u001b[39;49m\u001b[43mb\u001b[49m\n\u001b[1;32m      4\u001b[0m     \u001b[38;5;28;01mreturn\u001b[39;00m c\n",
      "\u001b[0;31mTypeError\u001b[0m: can only concatenate list (not \"set\") to list"
     ]
    }
   ],
   "source": [
    "test5([1,2,3],{a,b,c})"
   ]
  },
  {
   "cell_type": "code",
   "execution_count": 52,
   "id": "0db4bafa-94d5-46b2-9644-2806ba02450e",
   "metadata": {},
   "outputs": [
    {
     "ename": "TypeError",
     "evalue": "unsupported operand type(s) for +: 'set' and 'set'",
     "output_type": "error",
     "traceback": [
      "\u001b[0;31m---------------------------------------------------------------------------\u001b[0m",
      "\u001b[0;31mTypeError\u001b[0m                                 Traceback (most recent call last)",
      "Cell \u001b[0;32mIn[52], line 1\u001b[0m\n\u001b[0;32m----> 1\u001b[0m \u001b[43mtest5\u001b[49m\u001b[43m(\u001b[49m\u001b[43m{\u001b[49m\u001b[38;5;241;43m1\u001b[39;49m\u001b[43m,\u001b[49m\u001b[38;5;241;43m2\u001b[39;49m\u001b[43m,\u001b[49m\u001b[38;5;241;43m3\u001b[39;49m\u001b[43m}\u001b[49m\u001b[43m,\u001b[49m\u001b[43m{\u001b[49m\u001b[43ma\u001b[49m\u001b[43m,\u001b[49m\u001b[43mb\u001b[49m\u001b[43m,\u001b[49m\u001b[43mc\u001b[49m\u001b[43m}\u001b[49m\u001b[43m)\u001b[49m\n",
      "Cell \u001b[0;32mIn[47], line 3\u001b[0m, in \u001b[0;36mtest5\u001b[0;34m(a, b)\u001b[0m\n\u001b[1;32m      2\u001b[0m \u001b[38;5;28;01mdef\u001b[39;00m \u001b[38;5;21mtest5\u001b[39m(a,b):\n\u001b[0;32m----> 3\u001b[0m     c\u001b[38;5;241m=\u001b[39m\u001b[43ma\u001b[49m\u001b[38;5;241;43m+\u001b[39;49m\u001b[43mb\u001b[49m\n\u001b[1;32m      4\u001b[0m     \u001b[38;5;28;01mreturn\u001b[39;00m c\n",
      "\u001b[0;31mTypeError\u001b[0m: unsupported operand type(s) for +: 'set' and 'set'"
     ]
    }
   ],
   "source": [
    "test5({1,2,3},{a,b,c})"
   ]
  },
  {
   "cell_type": "code",
   "execution_count": 54,
   "id": "9d611c83-3a86-46e8-b4d0-c6982c807c67",
   "metadata": {},
   "outputs": [
    {
     "data": {
      "text/plain": [
       "(1, 2, 3, 4, 5, 6)"
      ]
     },
     "execution_count": 54,
     "metadata": {},
     "output_type": "execute_result"
    }
   ],
   "source": [
    "test5((1,2,3),(4,5,6))"
   ]
  },
  {
   "cell_type": "code",
   "execution_count": 53,
   "id": "a3f2f4f8-bc33-403f-be19-dddc733c0ba0",
   "metadata": {},
   "outputs": [
    {
     "data": {
      "text/plain": [
       "(1, 2, 3, 1, 4, 'ashwina')"
      ]
     },
     "execution_count": 53,
     "metadata": {},
     "output_type": "execute_result"
    }
   ],
   "source": [
    "test5((1,2,3),(a,b,c))\n",
    "# here values of a ,b,c are printed"
   ]
  },
  {
   "cell_type": "code",
   "execution_count": 58,
   "id": "f64d0867-4575-4d61-8276-b687976cd523",
   "metadata": {},
   "outputs": [
    {
     "ename": "TypeError",
     "evalue": "can only concatenate list (not \"tuple\") to list",
     "output_type": "error",
     "traceback": [
      "\u001b[0;31m---------------------------------------------------------------------------\u001b[0m",
      "\u001b[0;31mTypeError\u001b[0m                                 Traceback (most recent call last)",
      "Cell \u001b[0;32mIn[58], line 1\u001b[0m\n\u001b[0;32m----> 1\u001b[0m \u001b[43mtest5\u001b[49m\u001b[43m(\u001b[49m\u001b[43m[\u001b[49m\u001b[38;5;241;43m1\u001b[39;49m\u001b[43m,\u001b[49m\u001b[38;5;241;43m2\u001b[39;49m\u001b[43m,\u001b[49m\u001b[38;5;241;43m3\u001b[39;49m\u001b[43m]\u001b[49m\u001b[43m,\u001b[49m\u001b[43m(\u001b[49m\u001b[43ma\u001b[49m\u001b[43m,\u001b[49m\u001b[43mb\u001b[49m\u001b[43m,\u001b[49m\u001b[43mc\u001b[49m\u001b[43m)\u001b[49m\u001b[43m)\u001b[49m\n\u001b[1;32m      2\u001b[0m \u001b[38;5;66;03m# here values of a ,b,c are printed\u001b[39;00m\n",
      "Cell \u001b[0;32mIn[47], line 3\u001b[0m, in \u001b[0;36mtest5\u001b[0;34m(a, b)\u001b[0m\n\u001b[1;32m      2\u001b[0m \u001b[38;5;28;01mdef\u001b[39;00m \u001b[38;5;21mtest5\u001b[39m(a,b):\n\u001b[0;32m----> 3\u001b[0m     c\u001b[38;5;241m=\u001b[39m\u001b[43ma\u001b[49m\u001b[38;5;241;43m+\u001b[39;49m\u001b[43mb\u001b[49m\n\u001b[1;32m      4\u001b[0m     \u001b[38;5;28;01mreturn\u001b[39;00m c\n",
      "\u001b[0;31mTypeError\u001b[0m: can only concatenate list (not \"tuple\") to list"
     ]
    }
   ],
   "source": [
    "test5([1,2,3],(a,b,c))\n",
    "# here values of a ,b,c are printed"
   ]
  },
  {
   "cell_type": "code",
   "execution_count": 54,
   "id": "cc5aa403-235c-41d5-8b4c-c3c895751ed4",
   "metadata": {},
   "outputs": [
    {
     "data": {
      "text/plain": [
       "(1, 2, 3, 4, 5, 6)"
      ]
     },
     "execution_count": 54,
     "metadata": {},
     "output_type": "execute_result"
    }
   ],
   "source": [
    "test5((1,2,3),(4,5,6))"
   ]
  },
  {
   "cell_type": "code",
   "execution_count": 56,
   "id": "4a0ba552-08d2-4f41-b727-6f737776cfc0",
   "metadata": {},
   "outputs": [
    {
     "data": {
      "text/plain": [
       "(1, 4, 'ashwina')"
      ]
     },
     "execution_count": 56,
     "metadata": {},
     "output_type": "execute_result"
    }
   ],
   "source": [
    "a,b,c"
   ]
  },
  {
   "cell_type": "code",
   "execution_count": 57,
   "id": "b58d5372-ba36-457c-a3d4-78bf77390a6d",
   "metadata": {},
   "outputs": [
    {
     "ename": "NameError",
     "evalue": "name 'e' is not defined",
     "output_type": "error",
     "traceback": [
      "\u001b[0;31m---------------------------------------------------------------------------\u001b[0m",
      "\u001b[0;31mNameError\u001b[0m                                 Traceback (most recent call last)",
      "Cell \u001b[0;32mIn[57], line 1\u001b[0m\n\u001b[0;32m----> 1\u001b[0m test5((\u001b[38;5;241m1\u001b[39m,\u001b[38;5;241m2\u001b[39m,\u001b[38;5;241m3\u001b[39m),(c,d,\u001b[43me\u001b[49m,fg))\n\u001b[1;32m      2\u001b[0m \u001b[38;5;66;03m# here values of a ,b,c are printed\u001b[39;00m\n",
      "\u001b[0;31mNameError\u001b[0m: name 'e' is not defined"
     ]
    }
   ],
   "source": [
    "test5((1,2,3),(c,d,e,fg))\n",
    "# only defined variables can be printed"
   ]
  },
  {
   "cell_type": "code",
   "execution_count": 59,
   "id": "52a7c265-7cef-4bc4-ae90-c071b578970d",
   "metadata": {},
   "outputs": [
    {
     "data": {
      "text/plain": [
       "'rawatashwina'"
      ]
     },
     "execution_count": 59,
     "metadata": {},
     "output_type": "execute_result"
    }
   ],
   "source": [
    "test5(a='rawat', b='ashwina')"
   ]
  },
  {
   "cell_type": "code",
   "execution_count": 60,
   "id": "eb7275a0-bdc9-4adc-819b-0d97382d6f16",
   "metadata": {},
   "outputs": [],
   "source": [
    "l=[1,2,3,4,5,'ash','rawat',[4,5,6,7,8,999]]"
   ]
  },
  {
   "cell_type": "code",
   "execution_count": 61,
   "id": "3caafea4-73e3-4302-b814-673481a35e95",
   "metadata": {},
   "outputs": [],
   "source": [
    "# create a function which will take list as input and give a final list with only numeric values"
   ]
  },
  {
   "cell_type": "code",
   "execution_count": 68,
   "id": "15d3f11b-f4a3-41e5-a886-354a1fb0a27b",
   "metadata": {},
   "outputs": [],
   "source": [
    "def test6(a):\n",
    "        n=[]\n",
    "        for i in a:\n",
    "            if type(i) == int or type(i) == float :\n",
    "                n.append(i)\n",
    "        return n"
   ]
  },
  {
   "cell_type": "code",
   "execution_count": 69,
   "id": "204c52b4-79ca-47e6-a34f-810871323e92",
   "metadata": {},
   "outputs": [
    {
     "data": {
      "text/plain": [
       "[1, 2, 3, 4, 5]"
      ]
     },
     "execution_count": 69,
     "metadata": {},
     "output_type": "execute_result"
    }
   ],
   "source": [
    "test6(l)"
   ]
  },
  {
   "cell_type": "code",
   "execution_count": 70,
   "id": "d34f4950-bda5-4c2d-adda-a9a43cc25418",
   "metadata": {},
   "outputs": [],
   "source": [
    "# extract integer of a list inside list"
   ]
  },
  {
   "cell_type": "code",
   "execution_count": 73,
   "id": "eb6c085d-8b51-48d9-ac1f-612af970e2d1",
   "metadata": {},
   "outputs": [
    {
     "data": {
      "text/plain": [
       "[1, 2, 3, 4, 5, 'ash', 'rawat', [4, 5, 6, 7, 8, 999]]"
      ]
     },
     "execution_count": 73,
     "metadata": {},
     "output_type": "execute_result"
    }
   ],
   "source": [
    "l"
   ]
  },
  {
   "cell_type": "code",
   "execution_count": 74,
   "id": "16373808-3ffe-4f6f-a666-654e13db9913",
   "metadata": {},
   "outputs": [],
   "source": [
    "def test7(a):\n",
    "    n=[]\n",
    "    for i in a:\n",
    "        if type(i)==list:\n",
    "            for j in i:\n",
    "                if type(j)== int or type(j)==float:\n",
    "                    n.append(j)\n",
    "        else:\n",
    "            if type(i)==int or type(i)==float:\n",
    "                n.append(i)\n",
    "    return n"
   ]
  },
  {
   "cell_type": "code",
   "execution_count": 75,
   "id": "0c3676c8-b0ef-42cf-a1ca-43c6a0bf8abc",
   "metadata": {},
   "outputs": [
    {
     "data": {
      "text/plain": [
       "[1, 2, 3, 4, 5, 4, 5, 6, 7, 8, 999]"
      ]
     },
     "execution_count": 75,
     "metadata": {},
     "output_type": "execute_result"
    }
   ],
   "source": [
    "test7(l)"
   ]
  },
  {
   "cell_type": "code",
   "execution_count": 76,
   "id": "3d4596f6-166c-43c8-8231-f0f71df00765",
   "metadata": {},
   "outputs": [],
   "source": [
    "def test8(a,b,c,d,e):\n",
    "    pass"
   ]
  },
  {
   "cell_type": "code",
   "execution_count": 78,
   "id": "fcde22aa-f12a-45cf-9456-b6f479370cab",
   "metadata": {},
   "outputs": [],
   "source": [
    "test8(1,2,3,4,5)"
   ]
  },
  {
   "cell_type": "code",
   "execution_count": 80,
   "id": "65c6f7ad-a031-4912-bea8-a8aee8bfc590",
   "metadata": {},
   "outputs": [
    {
     "ename": "TypeError",
     "evalue": "test8() takes 5 positional arguments but 6 were given",
     "output_type": "error",
     "traceback": [
      "\u001b[0;31m---------------------------------------------------------------------------\u001b[0m",
      "\u001b[0;31mTypeError\u001b[0m                                 Traceback (most recent call last)",
      "Cell \u001b[0;32mIn[80], line 1\u001b[0m\n\u001b[0;32m----> 1\u001b[0m \u001b[43mtest8\u001b[49m\u001b[43m(\u001b[49m\u001b[38;5;241;43m5\u001b[39;49m\u001b[43m,\u001b[49m\u001b[38;5;241;43m6\u001b[39;49m\u001b[43m,\u001b[49m\u001b[38;5;241;43m7\u001b[39;49m\u001b[43m,\u001b[49m\u001b[38;5;241;43m8\u001b[39;49m\u001b[43m,\u001b[49m\u001b[38;5;241;43m9\u001b[39;49m\u001b[43m,\u001b[49m\u001b[38;5;241;43m76\u001b[39;49m\u001b[43m)\u001b[49m\n",
      "\u001b[0;31mTypeError\u001b[0m: test8() takes 5 positional arguments but 6 were given"
     ]
    }
   ],
   "source": [
    "test8(5,6,7,8,9,76)"
   ]
  },
  {
   "cell_type": "markdown",
   "id": "33c93919-b07d-42c6-b8c3-e5033f6a7a1c",
   "metadata": {},
   "source": [
    "### method to take multiple or n number of arguments"
   ]
  },
  {
   "cell_type": "code",
   "execution_count": 82,
   "id": "376072a8-4008-498d-a365-c9b8acc01da3",
   "metadata": {},
   "outputs": [],
   "source": [
    "# it will take any number of arguments\n",
    "def test9(*args):\n",
    "    return args"
   ]
  },
  {
   "cell_type": "code",
   "execution_count": 83,
   "id": "da794326-f126-4ada-b743-66c5ca960a0f",
   "metadata": {},
   "outputs": [
    {
     "data": {
      "text/plain": [
       "(1, 2, 3, 4, 5, 6, 7, 8, 9, 88, 7, 6, 7, 0)"
      ]
     },
     "execution_count": 83,
     "metadata": {},
     "output_type": "execute_result"
    }
   ],
   "source": [
    "test9(1,2,3,4,5,6,7,8,9,88,7,6,7,0)"
   ]
  },
  {
   "cell_type": "code",
   "execution_count": 84,
   "id": "c3eb336d-0d25-4fd6-8511-a476643bec8f",
   "metadata": {},
   "outputs": [
    {
     "data": {
      "text/plain": [
       "('ashwina', [1, 2, 3, 4, 5], (4, 5, 6, 7))"
      ]
     },
     "execution_count": 84,
     "metadata": {},
     "output_type": "execute_result"
    }
   ],
   "source": [
    "test9('ashwina',[1,2,3,4,5],(4,5,6,7))"
   ]
  },
  {
   "cell_type": "code",
   "execution_count": 85,
   "id": "da8b4314-a991-4529-99ca-266d885780f4",
   "metadata": {},
   "outputs": [],
   "source": [
    "def test10(*ash):\n",
    "    return ash"
   ]
  },
  {
   "cell_type": "code",
   "execution_count": 86,
   "id": "2e0996d8-441c-4399-be2f-f2f0d5a5b5b8",
   "metadata": {},
   "outputs": [
    {
     "data": {
      "text/plain": [
       "('sdjhf', 56, 6, 67, 67)"
      ]
     },
     "execution_count": 86,
     "metadata": {},
     "output_type": "execute_result"
    }
   ],
   "source": [
    "test10('sdjhf',56,6,67,67)"
   ]
  },
  {
   "cell_type": "code",
   "execution_count": 91,
   "id": "13ecc99a-ca5c-4378-9bab-6c2b65fbfc5a",
   "metadata": {},
   "outputs": [],
   "source": [
    "def test11(*args, a):\n",
    "    return args ,a"
   ]
  },
  {
   "cell_type": "code",
   "execution_count": 92,
   "id": "3deaf11d-4724-4bad-8091-7c36432a98ed",
   "metadata": {},
   "outputs": [
    {
     "data": {
      "text/plain": [
       "((1, 2, 3, 4, 5), 'Ashwina Rawat')"
      ]
     },
     "execution_count": 92,
     "metadata": {},
     "output_type": "execute_result"
    }
   ],
   "source": [
    "test11(1,2,3,4,5, a = 'Ashwina Rawat')"
   ]
  },
  {
   "cell_type": "code",
   "execution_count": 93,
   "id": "3290e1c4-2499-4eb8-bc93-343f02610874",
   "metadata": {},
   "outputs": [],
   "source": [
    "def test12(*args):\n",
    "    l =[]\n",
    "    for i in args:\n",
    "        if type(i) == list:\n",
    "            l.append(i)\n",
    "    return l       "
   ]
  },
  {
   "cell_type": "code",
   "execution_count": 95,
   "id": "2fbe2eed-1a58-49d7-86cd-0a48b57e69ca",
   "metadata": {},
   "outputs": [
    {
     "data": {
      "text/plain": [
       "[[33, 44, 5, 55, 66, 5], [2, 3, 4, 5]]"
      ]
     },
     "execution_count": 95,
     "metadata": {},
     "output_type": "execute_result"
    }
   ],
   "source": [
    "test12(1,2,3,[33,44,5,55,66,5],(1,4,4,3,2),'ash',[2,3,4,5])"
   ]
  },
  {
   "cell_type": "code",
   "execution_count": 103,
   "id": "62cde1a9-10cc-415e-8007-76a9a4438f0f",
   "metadata": {},
   "outputs": [],
   "source": [
    "#for dictionary\n",
    "def test13(**kwargs):\n",
    "    return kwargs"
   ]
  },
  {
   "cell_type": "code",
   "execution_count": 104,
   "id": "cb7b79f9-f586-45c6-9ba4-0cf09a980f42",
   "metadata": {},
   "outputs": [
    {
     "data": {
      "text/plain": [
       "{}"
      ]
     },
     "execution_count": 104,
     "metadata": {},
     "output_type": "execute_result"
    }
   ],
   "source": [
    "test13()"
   ]
  },
  {
   "cell_type": "code",
   "execution_count": 105,
   "id": "7845f30d-839e-49f9-8eee-222335a213ba",
   "metadata": {},
   "outputs": [
    {
     "data": {
      "text/plain": [
       "dict"
      ]
     },
     "execution_count": 105,
     "metadata": {},
     "output_type": "execute_result"
    }
   ],
   "source": [
    "type(test13())"
   ]
  },
  {
   "cell_type": "code",
   "execution_count": 106,
   "id": "ea5dafbb-aa52-46bc-a8ca-b250c4a53bc5",
   "metadata": {},
   "outputs": [
    {
     "data": {
      "text/plain": [
       "{'a': 34, 'b': 'ash', 'c': [1, 2, 3], 'd': ('ashwina', 'rawat')}"
      ]
     },
     "execution_count": 106,
     "metadata": {},
     "output_type": "execute_result"
    }
   ],
   "source": [
    "test13(a=34,b='ash',c=[1,2,3],d=('ashwina','rawat'))"
   ]
  },
  {
   "cell_type": "code",
   "execution_count": 119,
   "id": "022f4124-cdf4-4d7b-a43a-237b6ad75ed5",
   "metadata": {},
   "outputs": [],
   "source": [
    "def test14(**kwargs):\n",
    "    for i in kwargs.keys():\n",
    "        if type(kwargs[i])==list:\n",
    "            return i , kwargs[i]"
   ]
  },
  {
   "cell_type": "code",
   "execution_count": 120,
   "id": "4da4a1d6-01f7-4b71-a0e8-03f3119fc793",
   "metadata": {},
   "outputs": [
    {
     "data": {
      "text/plain": [
       "('c', [1, 2, 3])"
      ]
     },
     "execution_count": 120,
     "metadata": {},
     "output_type": "execute_result"
    }
   ],
   "source": [
    "test14(a=34,b='ash',c=[1,2,3],d=('ashwina','rawat'))"
   ]
  },
  {
   "cell_type": "code",
   "execution_count": 121,
   "id": "34a1ddb6-1283-4b89-9a54-129f02809777",
   "metadata": {},
   "outputs": [],
   "source": [
    "def test15(*args,**kwargs):\n",
    "    return args , kwargs"
   ]
  },
  {
   "cell_type": "code",
   "execution_count": 123,
   "id": "49c69175-d97d-4e7f-814b-0117a4fb39b0",
   "metadata": {},
   "outputs": [
    {
     "data": {
      "text/plain": [
       "((2, 3, 4, 5), {'a': 'ash', 'b': 765})"
      ]
     },
     "execution_count": 123,
     "metadata": {},
     "output_type": "execute_result"
    }
   ],
   "source": [
    "test15(2,3,4,5,a='ash',b=765)"
   ]
  },
  {
   "cell_type": "markdown",
   "id": "151a9995-9270-4ef9-9ef2-00c710c8a022",
   "metadata": {},
   "source": [
    "## Generator Function"
   ]
  },
  {
   "cell_type": "code",
   "execution_count": 124,
   "id": "9250a74c-9be2-4de4-bb87-e4c9f933d038",
   "metadata": {},
   "outputs": [
    {
     "data": {
      "text/plain": [
       "range(1, 10)"
      ]
     },
     "execution_count": 124,
     "metadata": {},
     "output_type": "execute_result"
    }
   ],
   "source": [
    "range(1,10)"
   ]
  },
  {
   "cell_type": "code",
   "execution_count": 126,
   "id": "36bc1370-2b52-45e7-889c-d07718851b00",
   "metadata": {},
   "outputs": [
    {
     "name": "stdout",
     "output_type": "stream",
     "text": [
      "1\n",
      "2\n",
      "3\n",
      "4\n",
      "5\n",
      "6\n",
      "7\n",
      "8\n",
      "9\n"
     ]
    }
   ],
   "source": [
    "for i in range(1,10):\n",
    "    print(i)"
   ]
  },
  {
   "cell_type": "code",
   "execution_count": 127,
   "id": "9a0a596e-0b38-4708-99c2-26bb837d3551",
   "metadata": {},
   "outputs": [],
   "source": [
    "l=[1,2,3,4,5,6,7,7,'ashwina','pwskills']"
   ]
  },
  {
   "cell_type": "code",
   "execution_count": 128,
   "id": "158d6d69-0550-4b0c-b224-55df34b63607",
   "metadata": {},
   "outputs": [],
   "source": [
    "def test16(a):\n",
    "    n=[]\n",
    "    for i in a:\n",
    "        if type(i)==int:\n",
    "            n.append(i)\n",
    "    return n"
   ]
  },
  {
   "cell_type": "code",
   "execution_count": 129,
   "id": "e58bcc7c-317f-4918-a4c3-9746fd88e734",
   "metadata": {},
   "outputs": [
    {
     "data": {
      "text/plain": [
       "[1, 2, 3, 4, 5, 6, 7, 7]"
      ]
     },
     "execution_count": 129,
     "metadata": {},
     "output_type": "execute_result"
    }
   ],
   "source": [
    "test16(l)"
   ]
  },
  {
   "cell_type": "code",
   "execution_count": null,
   "id": "15cb47fa-ded3-4c70-b811-02105eac67ce",
   "metadata": {},
   "outputs": [],
   "source": [
    "## range function doesn't blolck the whole moemoery like the test16 function... range just sees the last given output and then iterates again to generate next output according to condition\n",
    "## that waits for the whole list to be prepared and then give the output this is not feasible in case of millions of data or entities\n"
   ]
  },
  {
   "cell_type": "code",
   "execution_count": null,
   "id": "7ad588b9-7c89-4dfa-98eb-28c1912d42d6",
   "metadata": {},
   "outputs": [],
   "source": [
    "Fibonacci : \n",
    "    0,1,1,,2,3,5,8,13"
   ]
  },
  {
   "cell_type": "code",
   "execution_count": 130,
   "id": "d68e48c9-919a-415e-aee3-850d2b05d37c",
   "metadata": {},
   "outputs": [],
   "source": [
    "def test_fib(n):\n",
    "    a,b=0,1\n",
    "    for i in range(n):\n",
    "        yield a \n",
    "        a,b= b,a+b"
   ]
  },
  {
   "cell_type": "code",
   "execution_count": 131,
   "id": "aa685b8d-2b92-43c2-91ae-9b4fba39cd35",
   "metadata": {},
   "outputs": [
    {
     "data": {
      "text/plain": [
       "<generator object test_fib at 0x7f109a7e1690>"
      ]
     },
     "execution_count": 131,
     "metadata": {},
     "output_type": "execute_result"
    }
   ],
   "source": [
    "test_fib(10)"
   ]
  },
  {
   "cell_type": "code",
   "execution_count": 132,
   "id": "58f9b409-a4c8-410f-82ab-1771db192de5",
   "metadata": {},
   "outputs": [],
   "source": [
    "# generator function need to be called inside a for loop"
   ]
  },
  {
   "cell_type": "code",
   "execution_count": 133,
   "id": "b93f3266-a381-449b-b338-91cfcbfc1230",
   "metadata": {},
   "outputs": [
    {
     "name": "stdout",
     "output_type": "stream",
     "text": [
      "0\n",
      "1\n",
      "1\n",
      "2\n",
      "3\n",
      "5\n",
      "8\n",
      "13\n",
      "21\n",
      "34\n"
     ]
    }
   ],
   "source": [
    "for i in test_fib(10):\n",
    "    print(i)"
   ]
  },
  {
   "cell_type": "code",
   "execution_count": null,
   "id": "5ca2ddb0-3562-4d15-9865-4692e462c408",
   "metadata": {},
   "outputs": [],
   "source": []
  }
 ],
 "metadata": {
  "kernelspec": {
   "display_name": "Python 3 (ipykernel)",
   "language": "python",
   "name": "python3"
  },
  "language_info": {
   "codemirror_mode": {
    "name": "ipython",
    "version": 3
   },
   "file_extension": ".py",
   "mimetype": "text/x-python",
   "name": "python",
   "nbconvert_exporter": "python",
   "pygments_lexer": "ipython3",
   "version": "3.10.8"
  }
 },
 "nbformat": 4,
 "nbformat_minor": 5
}
