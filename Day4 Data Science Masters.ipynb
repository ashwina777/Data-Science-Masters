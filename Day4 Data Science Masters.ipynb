{
 "cells": [
  {
   "cell_type": "code",
   "execution_count": 11,
   "id": "8f392d2e-cf2b-40ce-ae37-48a90a1858fd",
   "metadata": {},
   "outputs": [],
   "source": [
    "name=\"data science masters\""
   ]
  },
  {
   "cell_type": "code",
   "execution_count": 12,
   "id": "4d183ba5-636c-41ba-92aa-7403e2cf307f",
   "metadata": {},
   "outputs": [
    {
     "data": {
      "text/plain": [
       "'DATA SCIENCE MASTERS'"
      ]
     },
     "execution_count": 12,
     "metadata": {},
     "output_type": "execute_result"
    }
   ],
   "source": [
    "name.swapcase()"
   ]
  },
  {
   "cell_type": "code",
   "execution_count": 13,
   "id": "7788ec17-da4b-405a-81c0-92797ae7ff4d",
   "metadata": {},
   "outputs": [
    {
     "data": {
      "text/plain": [
       "'Data Science Masters'"
      ]
     },
     "execution_count": 13,
     "metadata": {},
     "output_type": "execute_result"
    }
   ],
   "source": [
    "name.title()"
   ]
  },
  {
   "cell_type": "code",
   "execution_count": 14,
   "id": "770cee7a-9d61-4ba8-a8bd-6814ee0b8d53",
   "metadata": {},
   "outputs": [],
   "source": [
    "name = name.title()"
   ]
  },
  {
   "cell_type": "code",
   "execution_count": 15,
   "id": "c3b90252-c69f-48c5-9acb-468283cac0cc",
   "metadata": {},
   "outputs": [
    {
     "data": {
      "text/plain": [
       "'Data Science Masters'"
      ]
     },
     "execution_count": 15,
     "metadata": {},
     "output_type": "execute_result"
    }
   ],
   "source": [
    "name"
   ]
  },
  {
   "cell_type": "code",
   "execution_count": 16,
   "id": "896c1c01-1937-4cbb-a2c3-950f4fcb4a7c",
   "metadata": {},
   "outputs": [
    {
     "data": {
      "text/plain": [
       "'Data science masters'"
      ]
     },
     "execution_count": 16,
     "metadata": {},
     "output_type": "execute_result"
    }
   ],
   "source": [
    "name.capitalize()"
   ]
  },
  {
   "cell_type": "markdown",
   "id": "78224d54-85eb-4bda-b3d3-cc58f100c99b",
   "metadata": {},
   "source": [
    "## Reversing a string"
   ]
  },
  {
   "cell_type": "code",
   "execution_count": 17,
   "id": "0dc67449-fc1f-46d7-a9cb-d43960ed8c99",
   "metadata": {},
   "outputs": [
    {
     "data": {
      "text/plain": [
       "'sretsaM ecneicS ataD'"
      ]
     },
     "execution_count": 17,
     "metadata": {},
     "output_type": "execute_result"
    }
   ],
   "source": [
    "name[::-1]"
   ]
  },
  {
   "cell_type": "code",
   "execution_count": 18,
   "id": "6bc399d0-a4c5-4f8b-836f-987cf7847c8a",
   "metadata": {},
   "outputs": [
    {
     "data": {
      "text/plain": [
       "<reversed at 0x7ff7264235b0>"
      ]
     },
     "execution_count": 18,
     "metadata": {},
     "output_type": "execute_result"
    }
   ],
   "source": [
    "reversed(name)"
   ]
  },
  {
   "cell_type": "code",
   "execution_count": 19,
   "id": "9090a9a1-fc0f-46f5-84bd-ef47fd82c1b5",
   "metadata": {},
   "outputs": [
    {
     "data": {
      "text/plain": [
       "'s r e t s a M   e c n e i c S   a t a D'"
      ]
     },
     "execution_count": 19,
     "metadata": {},
     "output_type": "execute_result"
    }
   ],
   "source": [
    "' '.join(reversed(name))"
   ]
  },
  {
   "cell_type": "code",
   "execution_count": 20,
   "id": "5c242cdf-a505-402b-9ccf-eb58bc0386a3",
   "metadata": {},
   "outputs": [
    {
     "data": {
      "text/plain": [
       "'RAshwinaaAshwinawAshwinaaAshwinat'"
      ]
     },
     "execution_count": 20,
     "metadata": {},
     "output_type": "execute_result"
    }
   ],
   "source": [
    "\"Ashwina\".join(\"Rawat\")"
   ]
  },
  {
   "cell_type": "code",
   "execution_count": 21,
   "id": "e14d12c4-2a99-46aa-a299-bfd7d5e87bb0",
   "metadata": {},
   "outputs": [
    {
     "data": {
      "text/plain": [
       "'R'"
      ]
     },
     "execution_count": 21,
     "metadata": {},
     "output_type": "execute_result"
    }
   ],
   "source": [
    "\"Ashwina\".join(\"R\")"
   ]
  },
  {
   "cell_type": "code",
   "execution_count": 22,
   "id": "3495e945-7377-43ba-9b2c-92e635996efb",
   "metadata": {},
   "outputs": [
    {
     "data": {
      "text/plain": [
       "'a b c d'"
      ]
     },
     "execution_count": 22,
     "metadata": {},
     "output_type": "execute_result"
    }
   ],
   "source": [
    "\" \".join(\"abcd\")"
   ]
  },
  {
   "cell_type": "code",
   "execution_count": 23,
   "id": "e1707ccd-b7e5-4088-9852-50bd15abc944",
   "metadata": {},
   "outputs": [
    {
     "data": {
      "text/plain": [
       "' abcd1abcd abcd2abcd abcd3abcd '"
      ]
     },
     "execution_count": 23,
     "metadata": {},
     "output_type": "execute_result"
    }
   ],
   "source": [
    "\"abcd\".join(\" 1 2 3 \")"
   ]
  },
  {
   "cell_type": "code",
   "execution_count": 24,
   "id": "63829ac6-7387-495b-aef9-5a6634e5e106",
   "metadata": {},
   "outputs": [
    {
     "data": {
      "text/plain": [
       "'a n t'"
      ]
     },
     "execution_count": 24,
     "metadata": {},
     "output_type": "execute_result"
    }
   ],
   "source": [
    "' '.join(\"ant\")"
   ]
  },
  {
   "cell_type": "code",
   "execution_count": 25,
   "id": "67744820-f9de-4125-8a7d-29ebf1401f53",
   "metadata": {},
   "outputs": [
    {
     "data": {
      "text/plain": [
       "'t n a'"
      ]
     },
     "execution_count": 25,
     "metadata": {},
     "output_type": "execute_result"
    }
   ],
   "source": [
    "' '.join(reversed(\"ant\"))"
   ]
  },
  {
   "cell_type": "code",
   "execution_count": 26,
   "id": "9c822a11-39ec-4211-9b77-9655719c206b",
   "metadata": {},
   "outputs": [
    {
     "data": {
      "text/plain": [
       "'t Pwskills n Pwskills a'"
      ]
     },
     "execution_count": 26,
     "metadata": {},
     "output_type": "execute_result"
    }
   ],
   "source": [
    "' Pwskills '.join(reversed(\"ant\"))"
   ]
  },
  {
   "cell_type": "code",
   "execution_count": 27,
   "id": "47ca711f-56b4-40f2-b666-3eca2085e3a6",
   "metadata": {},
   "outputs": [
    {
     "data": {
      "text/plain": [
       "['t', 'n', 'a']"
      ]
     },
     "execution_count": 27,
     "metadata": {},
     "output_type": "execute_result"
    }
   ],
   "source": [
    "## it can be typecasted\n",
    "list(reversed(\"ant\"))"
   ]
  },
  {
   "cell_type": "code",
   "execution_count": 28,
   "id": "6120e18f-cad0-4e16-9466-73a075cac7ac",
   "metadata": {},
   "outputs": [],
   "source": [
    "str1=\"Pw is a good company\""
   ]
  },
  {
   "cell_type": "code",
   "execution_count": 29,
   "id": "45048bdd-0f6d-43d5-9e8c-ef1140922512",
   "metadata": {},
   "outputs": [
    {
     "data": {
      "text/plain": [
       "'Pskillswskills skillsiskillssskills skillsaskills skillsgskillsoskillsoskillsdskills skillscskillsoskillsmskillspskillsaskillsnskillsy'"
      ]
     },
     "execution_count": 29,
     "metadata": {},
     "output_type": "execute_result"
    }
   ],
   "source": [
    "\"skills\".join(str1)"
   ]
  },
  {
   "cell_type": "code",
   "execution_count": 30,
   "id": "7a98e614-7e37-4540-a44a-abb44eb4b816",
   "metadata": {},
   "outputs": [
    {
     "data": {
      "text/plain": [
       "'P * w *   * i * s *   * a *   * g * o * o * d *   * c * o * m * p * a * n * y'"
      ]
     },
     "execution_count": 30,
     "metadata": {},
     "output_type": "execute_result"
    }
   ],
   "source": [
    "\" * \".join(str1)"
   ]
  },
  {
   "cell_type": "code",
   "execution_count": 31,
   "id": "df19cad6-9e9b-48b3-9948-d5859b0aed61",
   "metadata": {},
   "outputs": [
    {
     "name": "stdout",
     "output_type": "stream",
     "text": [
      "sretsaM ecneicS ataD"
     ]
    }
   ],
   "source": [
    "for i in list(reversed(name)):\n",
    "    print(i,end='')"
   ]
  },
  {
   "cell_type": "code",
   "execution_count": 32,
   "id": "5cc623b6-dde8-43eb-a094-31296ecccbb1",
   "metadata": {},
   "outputs": [],
   "source": [
    "## Removing characters from the end of string"
   ]
  },
  {
   "cell_type": "code",
   "execution_count": 33,
   "id": "79b82043-5c64-44b6-86bd-9d7320f4ec18",
   "metadata": {},
   "outputs": [],
   "source": [
    "str_a=\" pwskills \""
   ]
  },
  {
   "cell_type": "code",
   "execution_count": 34,
   "id": "40141fd3-8874-4d68-b378-a026abbf77e7",
   "metadata": {},
   "outputs": [
    {
     "data": {
      "text/plain": [
       "'pwskills'"
      ]
     },
     "execution_count": 34,
     "metadata": {},
     "output_type": "execute_result"
    }
   ],
   "source": [
    "str_a.strip(\" \")"
   ]
  },
  {
   "cell_type": "code",
   "execution_count": 35,
   "id": "1f17d90c-f594-4fd8-bbc4-d1be875486d7",
   "metadata": {},
   "outputs": [
    {
     "data": {
      "text/plain": [
       "'pwskills '"
      ]
     },
     "execution_count": 35,
     "metadata": {},
     "output_type": "execute_result"
    }
   ],
   "source": [
    "str_a.lstrip(\" \")\n",
    "#remove first space"
   ]
  },
  {
   "cell_type": "code",
   "execution_count": 36,
   "id": "dced0d45-b284-4bc5-a1af-2ef3add2ba5c",
   "metadata": {},
   "outputs": [
    {
     "data": {
      "text/plain": [
       "' pwskills'"
      ]
     },
     "execution_count": 36,
     "metadata": {},
     "output_type": "execute_result"
    }
   ],
   "source": [
    "str_a.rstrip(\" \")\n",
    "# last space remove"
   ]
  },
  {
   "cell_type": "code",
   "execution_count": 37,
   "id": "f72ffa0d-d43d-4fc9-97d8-c12aee629b8e",
   "metadata": {},
   "outputs": [
    {
     "data": {
      "text/plain": [
       "'Greeting from Everyone'"
      ]
     },
     "execution_count": 37,
     "metadata": {},
     "output_type": "execute_result"
    }
   ],
   "source": [
    "str_b=\"Greeting to Everyone\"\n",
    "str_b.replace(\"to\",\"from\")\n",
    "# we cannot replace a single character (immutable\n",
    "# it returns a new string"
   ]
  },
  {
   "cell_type": "code",
   "execution_count": 38,
   "id": "15f9f19f-143d-4d6b-95d6-552e45e93db2",
   "metadata": {},
   "outputs": [
    {
     "ename": "TypeError",
     "evalue": "'str' object does not support item assignment",
     "output_type": "error",
     "traceback": [
      "\u001b[0;31m---------------------------------------------------------------------------\u001b[0m",
      "\u001b[0;31mTypeError\u001b[0m                                 Traceback (most recent call last)",
      "Cell \u001b[0;32mIn[38], line 1\u001b[0m\n\u001b[0;32m----> 1\u001b[0m \u001b[43mstr_b\u001b[49m\u001b[43m[\u001b[49m\u001b[38;5;241;43m0\u001b[39;49m\u001b[43m]\u001b[49m\u001b[38;5;241m=\u001b[39m\u001b[38;5;124m'\u001b[39m\u001b[38;5;124mH\u001b[39m\u001b[38;5;124m'\u001b[39m\n",
      "\u001b[0;31mTypeError\u001b[0m: 'str' object does not support item assignment"
     ]
    }
   ],
   "source": [
    "str_b[0]='H'"
   ]
  },
  {
   "cell_type": "code",
   "execution_count": 39,
   "id": "7aea9784-27fa-4e65-a99b-92662816db58",
   "metadata": {},
   "outputs": [
    {
     "data": {
      "text/plain": [
       "'treetint to PWskills'"
      ]
     },
     "execution_count": 39,
     "metadata": {},
     "output_type": "execute_result"
    }
   ],
   "source": [
    "str_n='greeting to PWskills'\n",
    "str_n.replace(\"g\",\"t\")"
   ]
  },
  {
   "cell_type": "code",
   "execution_count": 40,
   "id": "d5f23792-1aed-4366-a22f-76aee74d61e7",
   "metadata": {},
   "outputs": [],
   "source": [
    "str_n='greeting to PWskills'\n",
    "var_a=str_n.replace(\"g\",\"t\")"
   ]
  },
  {
   "cell_type": "code",
   "execution_count": 41,
   "id": "315fd334-24d9-43cf-97bf-30f15071b8c4",
   "metadata": {},
   "outputs": [
    {
     "name": "stdout",
     "output_type": "stream",
     "text": [
      "140699174525952\n",
      "140699174525072\n"
     ]
    }
   ],
   "source": [
    "print(id(str_n))\n",
    "print(id(var_a))"
   ]
  },
  {
   "cell_type": "code",
   "execution_count": 42,
   "id": "5647344c-5ae1-4ec3-8abc-cfbcb87cd4ab",
   "metadata": {},
   "outputs": [
    {
     "data": {
      "text/plain": [
       "'greeting to PWskills'"
      ]
     },
     "execution_count": 42,
     "metadata": {},
     "output_type": "execute_result"
    }
   ],
   "source": [
    "str_n"
   ]
  },
  {
   "cell_type": "code",
   "execution_count": 43,
   "id": "d8dc16fa-9276-489f-ab42-5608f81015f9",
   "metadata": {},
   "outputs": [
    {
     "data": {
      "text/plain": [
       "'hello \\nworld'"
      ]
     },
     "execution_count": 43,
     "metadata": {},
     "output_type": "execute_result"
    }
   ],
   "source": [
    "'hello \\nworld'"
   ]
  },
  {
   "cell_type": "code",
   "execution_count": 44,
   "id": "b8d9844e-c87e-4d19-8007-cadf512672cd",
   "metadata": {},
   "outputs": [
    {
     "data": {
      "text/plain": [
       "'hello \\tworld'"
      ]
     },
     "execution_count": 44,
     "metadata": {},
     "output_type": "execute_result"
    }
   ],
   "source": [
    "'hello \\tworld'"
   ]
  },
  {
   "cell_type": "code",
   "execution_count": 45,
   "id": "250942bd-fa22-4b78-8fbd-d61c4d68f39d",
   "metadata": {},
   "outputs": [
    {
     "data": {
      "text/plain": [
       "'hello   world'"
      ]
     },
     "execution_count": 45,
     "metadata": {},
     "output_type": "execute_result"
    }
   ],
   "source": [
    "'hello \\tworld'.expandtabs()"
   ]
  },
  {
   "cell_type": "code",
   "execution_count": 46,
   "id": "11bc1925-b2b8-4ab8-b0b7-2e5baaae7d44",
   "metadata": {},
   "outputs": [],
   "source": [
    "str1=\"Welcome to pwskills.Welcome to Dat cience Masters\""
   ]
  },
  {
   "cell_type": "code",
   "execution_count": 47,
   "id": "2fc69b1e-728a-4f02-926b-0ba103b78cb4",
   "metadata": {},
   "outputs": [
    {
     "data": {
      "text/plain": [
       "'Welcome to pwskills.Welcome to Data Science Masters'"
      ]
     },
     "execution_count": 47,
     "metadata": {},
     "output_type": "execute_result"
    }
   ],
   "source": [
    "str1.replace(\"Dat\",\"Data\").replace(\"cience\",\"Science\")"
   ]
  },
  {
   "cell_type": "code",
   "execution_count": 48,
   "id": "23bd175e-ac77-4204-a622-c01d358cb55c",
   "metadata": {},
   "outputs": [
    {
     "data": {
      "text/plain": [
       "False"
      ]
     },
     "execution_count": 48,
     "metadata": {},
     "output_type": "execute_result"
    }
   ],
   "source": [
    "str1.isupper()"
   ]
  },
  {
   "cell_type": "code",
   "execution_count": 49,
   "id": "058fe4d0-0aba-44f6-a599-b85913852c9b",
   "metadata": {},
   "outputs": [],
   "source": [
    "str2=\"ASHWINA\""
   ]
  },
  {
   "cell_type": "code",
   "execution_count": 50,
   "id": "4b56baae-244f-43ba-afe7-a42ca6c9f534",
   "metadata": {},
   "outputs": [
    {
     "data": {
      "text/plain": [
       "True"
      ]
     },
     "execution_count": 50,
     "metadata": {},
     "output_type": "execute_result"
    }
   ],
   "source": [
    "str2.isupper()"
   ]
  },
  {
   "cell_type": "code",
   "execution_count": 51,
   "id": "e034d19c-99ed-4462-b256-5c49a8aa6656",
   "metadata": {},
   "outputs": [
    {
     "data": {
      "text/plain": [
       "False"
      ]
     },
     "execution_count": 51,
     "metadata": {},
     "output_type": "execute_result"
    }
   ],
   "source": [
    "str1.isspace()\n",
    "# blank or space or not"
   ]
  },
  {
   "cell_type": "code",
   "execution_count": 52,
   "id": "18c2d80d-d59c-4ec1-9623-6c7ed37f482c",
   "metadata": {},
   "outputs": [
    {
     "data": {
      "text/plain": [
       "False"
      ]
     },
     "execution_count": 52,
     "metadata": {},
     "output_type": "execute_result"
    }
   ],
   "source": [
    "str1.islower()"
   ]
  },
  {
   "cell_type": "code",
   "execution_count": 53,
   "id": "0cf34c6f-5f45-4dac-b4ee-1be3ced97cc0",
   "metadata": {},
   "outputs": [
    {
     "data": {
      "text/plain": [
       "True"
      ]
     },
     "execution_count": 53,
     "metadata": {},
     "output_type": "execute_result"
    }
   ],
   "source": [
    "' '.isspace()"
   ]
  },
  {
   "cell_type": "code",
   "execution_count": 54,
   "id": "9f3cbab1-eb3d-4235-814a-f681db585ae2",
   "metadata": {},
   "outputs": [
    {
     "name": "stdout",
     "output_type": "stream",
     "text": [
      "Enter name\n"
     ]
    }
   ],
   "source": [
    "if ' '.isspace():\n",
    "    print(\"Enter name\")"
   ]
  },
  {
   "cell_type": "code",
   "execution_count": 55,
   "id": "4db81774-d42f-4b4f-9f3c-84e9465319d2",
   "metadata": {},
   "outputs": [],
   "source": [
    "str3=\"pwskills\""
   ]
  },
  {
   "cell_type": "code",
   "execution_count": 56,
   "id": "55af03ab-1738-4f51-990f-0cd18cbed118",
   "metadata": {},
   "outputs": [
    {
     "data": {
      "text/plain": [
       "True"
      ]
     },
     "execution_count": 56,
     "metadata": {},
     "output_type": "execute_result"
    }
   ],
   "source": [
    "str3.endswith('s')"
   ]
  },
  {
   "cell_type": "code",
   "execution_count": 57,
   "id": "5e6df4c8-7795-4e96-bff4-755a524b03bd",
   "metadata": {},
   "outputs": [
    {
     "data": {
      "text/plain": [
       "True"
      ]
     },
     "execution_count": 57,
     "metadata": {},
     "output_type": "execute_result"
    }
   ],
   "source": [
    "str3.startswith('p')"
   ]
  },
  {
   "cell_type": "code",
   "execution_count": 58,
   "id": "b979c984-6fb9-432d-abf4-266361fa4350",
   "metadata": {},
   "outputs": [
    {
     "data": {
      "text/plain": [
       "True"
      ]
     },
     "execution_count": 58,
     "metadata": {},
     "output_type": "execute_result"
    }
   ],
   "source": [
    "## checl if all char in strings are alphanumeric\n",
    "a='abcdef12345'\n",
    "a.isalnum()"
   ]
  },
  {
   "cell_type": "code",
   "execution_count": 59,
   "id": "d0c91cb6-4c65-408b-8b2e-6ff29963f6e6",
   "metadata": {},
   "outputs": [],
   "source": [
    "## to oount the number of character in the string"
   ]
  },
  {
   "cell_type": "code",
   "execution_count": 60,
   "id": "052aad88-e761-4d58-bd7a-b8c3d9a7839a",
   "metadata": {},
   "outputs": [
    {
     "name": "stdout",
     "output_type": "stream",
     "text": [
      "7\n"
     ]
    }
   ],
   "source": [
    "count=0\n",
    "for i in str2:\n",
    "    count=count+1\n",
    "print(count)"
   ]
  },
  {
   "cell_type": "code",
   "execution_count": 61,
   "id": "322e934b-4078-42b7-8857-43c5b0563446",
   "metadata": {},
   "outputs": [
    {
     "data": {
      "text/plain": [
       "7"
      ]
     },
     "execution_count": 61,
     "metadata": {},
     "output_type": "execute_result"
    }
   ],
   "source": [
    "len(str2)"
   ]
  },
  {
   "cell_type": "code",
   "execution_count": 62,
   "id": "d089c2f6-f907-4434-847e-6856311539cf",
   "metadata": {},
   "outputs": [
    {
     "data": {
      "text/plain": [
       "'ASHWINA'"
      ]
     },
     "execution_count": 62,
     "metadata": {},
     "output_type": "execute_result"
    }
   ],
   "source": [
    "str2"
   ]
  },
  {
   "cell_type": "code",
   "execution_count": 63,
   "id": "59249ce5-cfcb-4114-bfcc-1b188b37b58c",
   "metadata": {},
   "outputs": [
    {
     "name": "stdout",
     "output_type": "stream",
     "text": [
      "A\n",
      "S\n",
      "H\n",
      "W\n",
      "I\n",
      "N\n",
      "A\n"
     ]
    }
   ],
   "source": [
    "for i in str2:\n",
    "    print(i)"
   ]
  },
  {
   "cell_type": "code",
   "execution_count": 64,
   "id": "5104b240-ff77-42ef-a9e8-8fd51c4a9ba3",
   "metadata": {},
   "outputs": [
    {
     "name": "stdout",
     "output_type": "stream",
     "text": [
      "A\n",
      "S\n",
      "H\n",
      "W\n",
      "I\n",
      "N\n",
      "A\n"
     ]
    }
   ],
   "source": [
    "for i in range(len(str2)):\n",
    "    print(str2[i])"
   ]
  },
  {
   "cell_type": "code",
   "execution_count": 65,
   "id": "c6ad1a41-1f66-4823-8d65-6850daa93f25",
   "metadata": {},
   "outputs": [
    {
     "data": {
      "text/plain": [
       "range(0, 7)"
      ]
     },
     "execution_count": 65,
     "metadata": {},
     "output_type": "execute_result"
    }
   ],
   "source": [
    "range(len(str2))"
   ]
  },
  {
   "cell_type": "code",
   "execution_count": 66,
   "id": "a9ca213e-19b4-4842-83e8-6350e77f810e",
   "metadata": {},
   "outputs": [
    {
     "name": "stdout",
     "output_type": "stream",
     "text": [
      "0 = A\n",
      "1 = S\n",
      "2 = H\n",
      "3 = W\n",
      "4 = I\n",
      "5 = N\n",
      "6 = A\n"
     ]
    }
   ],
   "source": [
    "for i in range(len(str2)):\n",
    "    print(i,\"=\",str2[i])"
   ]
  },
  {
   "cell_type": "code",
   "execution_count": 67,
   "id": "d35109f0-b3e7-4b34-a677-677406c1be42",
   "metadata": {},
   "outputs": [],
   "source": [
    "# We can use index to iterate string reverse direction"
   ]
  },
  {
   "cell_type": "code",
   "execution_count": 68,
   "id": "91e2756c-a6c8-4c80-b1c7-0aefabf4a2df",
   "metadata": {},
   "outputs": [
    {
     "data": {
      "text/plain": [
       "7"
      ]
     },
     "execution_count": 68,
     "metadata": {},
     "output_type": "execute_result"
    }
   ],
   "source": [
    "len(str2)"
   ]
  },
  {
   "cell_type": "code",
   "execution_count": 69,
   "id": "1f8f04fd-74d0-4159-8d72-42aa52e0ebbf",
   "metadata": {},
   "outputs": [
    {
     "name": "stdout",
     "output_type": "stream",
     "text": [
      "A\n",
      "N\n",
      "I\n",
      "W\n",
      "H\n",
      "S\n",
      "A\n"
     ]
    }
   ],
   "source": [
    "for i in range(len(str2)-1,-1,-1):\n",
    "    print(str2[i])"
   ]
  },
  {
   "cell_type": "code",
   "execution_count": 70,
   "id": "07fe5d88-59ad-4379-9dcb-2af3ad83c3d8",
   "metadata": {},
   "outputs": [
    {
     "data": {
      "text/plain": [
       "6"
      ]
     },
     "execution_count": 70,
     "metadata": {},
     "output_type": "execute_result"
    }
   ],
   "source": [
    "len(str2)-1"
   ]
  },
  {
   "cell_type": "code",
   "execution_count": 71,
   "id": "592f7d10-d24f-47e6-b554-8825bee88f63",
   "metadata": {},
   "outputs": [
    {
     "data": {
      "text/plain": [
       "range(6, -1, -1)"
      ]
     },
     "execution_count": 71,
     "metadata": {},
     "output_type": "execute_result"
    }
   ],
   "source": [
    "range(len(str2)-1,-1,-1)"
   ]
  },
  {
   "cell_type": "code",
   "execution_count": 72,
   "id": "453dff4a-b2b4-49a7-b68f-e41ffa78bbd7",
   "metadata": {},
   "outputs": [
    {
     "name": "stdout",
     "output_type": "stream",
     "text": [
      "e\n",
      "c\n",
      "n\n",
      "e\n",
      "i\n",
      "c\n",
      "s\n",
      "a\n",
      "t\n",
      "a\n",
      "d\n"
     ]
    }
   ],
   "source": [
    "string=\"datascience\"\n",
    "ch=len(string)-1\n",
    "while ch>=0:\n",
    "    print(string[ch])\n",
    "    ch=ch-1"
   ]
  },
  {
   "cell_type": "code",
   "execution_count": 73,
   "id": "4ba48aff-22e0-4a92-a49e-8e54b8b8e750",
   "metadata": {},
   "outputs": [
    {
     "data": {
      "text/plain": [
       "('e', 'i', 'c')"
      ]
     },
     "execution_count": 73,
     "metadata": {},
     "output_type": "execute_result"
    }
   ],
   "source": [
    "string[7],string[6],string[5]"
   ]
  },
  {
   "cell_type": "code",
   "execution_count": 74,
   "id": "8ebfc25d-4074-4a1d-8a68-9d13a20bb8c2",
   "metadata": {},
   "outputs": [
    {
     "name": "stdout",
     "output_type": "stream",
     "text": [
      "e\n",
      "c\n",
      "n\n",
      "e\n",
      "i\n",
      "c\n",
      "s\n",
      "a\n",
      "t\n",
      "a\n",
      "d\n"
     ]
    }
   ],
   "source": [
    "# another method\n",
    "for i in range(len(string)):\n",
    "    print(string[len(string) - (i+1)])"
   ]
  },
  {
   "cell_type": "code",
   "execution_count": 75,
   "id": "8c1eec88-ca50-4148-98f9-057bb869d355",
   "metadata": {},
   "outputs": [
    {
     "name": "stdout",
     "output_type": "stream",
     "text": [
      "ecneicsatad"
     ]
    }
   ],
   "source": [
    "# another method\n",
    "for i in range(len(string)):\n",
    "    print(string[len(string) - (i+1)],end='')"
   ]
  },
  {
   "cell_type": "code",
   "execution_count": 76,
   "id": "55953547-03e1-488e-a9e1-939b0f7d9efb",
   "metadata": {},
   "outputs": [
    {
     "data": {
      "text/plain": [
       "[11]"
      ]
     },
     "execution_count": 76,
     "metadata": {},
     "output_type": "execute_result"
    }
   ],
   "source": [
    " [len(string)]"
   ]
  },
  {
   "cell_type": "code",
   "execution_count": 77,
   "id": "b5b53a61-5a5d-4b32-9298-e316310eb429",
   "metadata": {},
   "outputs": [
    {
     "data": {
      "text/plain": [
       "range(0, 11)"
      ]
     },
     "execution_count": 77,
     "metadata": {},
     "output_type": "execute_result"
    }
   ],
   "source": [
    "range(len(string))"
   ]
  },
  {
   "cell_type": "code",
   "execution_count": 78,
   "id": "ff05241b-c6f7-4eb8-beb5-cf7744307a53",
   "metadata": {},
   "outputs": [],
   "source": [
    "name=\"ashwina rawat\"\n",
    "vowels=\"aAeEIiOoUu\""
   ]
  },
  {
   "cell_type": "code",
   "execution_count": 79,
   "id": "7bf9bf65-bd00-47ae-893a-8930eddf4beb",
   "metadata": {},
   "outputs": [
    {
     "name": "stdout",
     "output_type": "stream",
     "text": [
      "a is a vowel\n",
      "s is not a vowel\n",
      "h is not a vowel\n",
      "w is not a vowel\n",
      "i is a vowel\n",
      "n is not a vowel\n",
      "a is a vowel\n",
      "  is not a vowel\n",
      "r is not a vowel\n",
      "a is a vowel\n",
      "w is not a vowel\n",
      "a is a vowel\n",
      "t is not a vowel\n"
     ]
    }
   ],
   "source": [
    "for ch in name:\n",
    "    if ch in vowels:\n",
    "        print(f\"{ch} is a vowel\")\n",
    "    else:\n",
    "        print(f\"{ch} is not a vowel\")"
   ]
  },
  {
   "cell_type": "markdown",
   "id": "bc49ef17-0e06-476b-8315-0c8590f89dee",
   "metadata": {},
   "source": [
    "## List"
   ]
  },
  {
   "cell_type": "code",
   "execution_count": 80,
   "id": "116ebca3-06d3-442d-b308-fa3846ad0467",
   "metadata": {},
   "outputs": [
    {
     "data": {
      "text/plain": [
       "list"
      ]
     },
     "execution_count": 80,
     "metadata": {},
     "output_type": "execute_result"
    }
   ],
   "source": [
    "type([])"
   ]
  },
  {
   "cell_type": "code",
   "execution_count": 4,
   "id": "e60329b5-54b8-4e8d-b1af-53bb2003a39a",
   "metadata": {},
   "outputs": [],
   "source": [
    "lst=[1,2,3,4,5]\n",
    "lst.insert(1,10)\n",
    "#insert 10 at 1st index"
   ]
  },
  {
   "cell_type": "code",
   "execution_count": 2,
   "id": "0f8cfef4-1906-486d-b9bd-ee04695bd5ec",
   "metadata": {},
   "outputs": [
    {
     "data": {
      "text/plain": [
       "[1, 10, 2, 3, 4, 5]"
      ]
     },
     "execution_count": 2,
     "metadata": {},
     "output_type": "execute_result"
    }
   ],
   "source": [
    "lst"
   ]
  },
  {
   "cell_type": "code",
   "execution_count": 6,
   "id": "68782c0e-f8b0-47b8-b922-692aefbb5a4a",
   "metadata": {},
   "outputs": [
    {
     "data": {
      "text/plain": [
       "[1, 10, 2, 3, 4, 10, 10, 5]"
      ]
     },
     "execution_count": 6,
     "metadata": {},
     "output_type": "execute_result"
    }
   ],
   "source": [
    "lst.insert(-1,10)\n",
    "lst"
   ]
  },
  {
   "cell_type": "code",
   "execution_count": 81,
   "id": "fb78058d-ba90-4eab-a2ea-a7871f828a9a",
   "metadata": {},
   "outputs": [
    {
     "data": {
      "text/plain": [
       "['Ashwina', 'Rawat', 'Data', 'Science', 1, 2]"
      ]
     },
     "execution_count": 81,
     "metadata": {},
     "output_type": "execute_result"
    }
   ],
   "source": [
    "['Ashwina','Rawat','Data','Science',1,2]"
   ]
  },
  {
   "cell_type": "code",
   "execution_count": 82,
   "id": "9dbce7e6-1469-465f-8262-b6a8fd867f14",
   "metadata": {},
   "outputs": [
    {
     "data": {
      "text/plain": [
       "[1, 2, 3, 4, 5]"
      ]
     },
     "execution_count": 82,
     "metadata": {},
     "output_type": "execute_result"
    }
   ],
   "source": [
    "list([1,2,3,4,5])"
   ]
  },
  {
   "cell_type": "code",
   "execution_count": 83,
   "id": "6fb2af49-0ef7-41e9-b5b7-3d68aeb60904",
   "metadata": {},
   "outputs": [
    {
     "data": {
      "text/plain": [
       "'ASHWINA'"
      ]
     },
     "execution_count": 83,
     "metadata": {},
     "output_type": "execute_result"
    }
   ],
   "source": [
    "str2"
   ]
  },
  {
   "cell_type": "code",
   "execution_count": 84,
   "id": "f17bd723-5073-42dd-a2c0-249991d48138",
   "metadata": {},
   "outputs": [
    {
     "data": {
      "text/plain": [
       "['A', 'S', 'H', 'W', 'I', 'N', 'A']"
      ]
     },
     "execution_count": 84,
     "metadata": {},
     "output_type": "execute_result"
    }
   ],
   "source": [
    "list(str2)"
   ]
  },
  {
   "cell_type": "code",
   "execution_count": 85,
   "id": "0edd9595-1f35-4f96-8a7d-2b3547c67e9d",
   "metadata": {},
   "outputs": [],
   "source": [
    "str4=\"Pw skills Data Science Masters\""
   ]
  },
  {
   "cell_type": "code",
   "execution_count": 86,
   "id": "a3d0be2d-2bd4-41c5-a0be-1bcb70cc0628",
   "metadata": {},
   "outputs": [
    {
     "data": {
      "text/plain": [
       "['Pw', 'skills', 'Data', 'Science', 'Masters']"
      ]
     },
     "execution_count": 86,
     "metadata": {},
     "output_type": "execute_result"
    }
   ],
   "source": [
    "# list is an ordered collection of objects\n",
    "list(str4.split(\" \"))"
   ]
  },
  {
   "cell_type": "code",
   "execution_count": 87,
   "id": "e2d86cea-9691-4115-bd02-5584b54b0513",
   "metadata": {},
   "outputs": [
    {
     "data": {
      "text/plain": [
       "['Pw', 'skills', 'Data', 'Science', 'Masters']"
      ]
     },
     "execution_count": 87,
     "metadata": {},
     "output_type": "execute_result"
    }
   ],
   "source": [
    "# return type of split function is also a list\n",
    "str4.split(' ')"
   ]
  },
  {
   "cell_type": "code",
   "execution_count": 88,
   "id": "4c01c098-72dc-47f7-8bd4-ff35b47f1879",
   "metadata": {},
   "outputs": [],
   "source": [
    "lst1=str1.split(' ')"
   ]
  },
  {
   "cell_type": "code",
   "execution_count": 89,
   "id": "c533556d-7e0f-4ebf-a03a-c7508d76e29c",
   "metadata": {},
   "outputs": [
    {
     "data": {
      "text/plain": [
       "['Welcome', 'to', 'pwskills.Welcome', 'to', 'Dat', 'cience', 'Masters']"
      ]
     },
     "execution_count": 89,
     "metadata": {},
     "output_type": "execute_result"
    }
   ],
   "source": [
    "lst1"
   ]
  },
  {
   "cell_type": "code",
   "execution_count": 90,
   "id": "ab6b85c4-ca00-40bc-95ef-943edd2c1c75",
   "metadata": {},
   "outputs": [
    {
     "data": {
      "text/plain": [
       "['to', 'pwskills.Welcome', 'to', 'Dat', 'cience', 'Masters']"
      ]
     },
     "execution_count": 90,
     "metadata": {},
     "output_type": "execute_result"
    }
   ],
   "source": [
    "lst1[1:]"
   ]
  },
  {
   "cell_type": "code",
   "execution_count": 91,
   "id": "3313928b-7372-4573-91d6-431a4beac38d",
   "metadata": {},
   "outputs": [
    {
     "data": {
      "text/plain": [
       "['pwskills.Welcome', 'to', 'Dat']"
      ]
     },
     "execution_count": 91,
     "metadata": {},
     "output_type": "execute_result"
    }
   ],
   "source": [
    "lst1[2:5]"
   ]
  },
  {
   "cell_type": "code",
   "execution_count": 92,
   "id": "ab25040f-096e-41c5-bfde-8de7f824954b",
   "metadata": {},
   "outputs": [],
   "source": [
    "lst1[5]=\"Science\""
   ]
  },
  {
   "cell_type": "code",
   "execution_count": 93,
   "id": "9ef4d063-5d3e-44b1-b2d7-b69d7ffd4e50",
   "metadata": {},
   "outputs": [
    {
     "data": {
      "text/plain": [
       "['Welcome', 'to', 'pwskills.Welcome', 'to', 'Dat', 'Science', 'Masters']"
      ]
     },
     "execution_count": 93,
     "metadata": {},
     "output_type": "execute_result"
    }
   ],
   "source": [
    "lst1"
   ]
  },
  {
   "cell_type": "code",
   "execution_count": 94,
   "id": "69058dca-a483-49f7-ba5a-9ee4dd86ade9",
   "metadata": {},
   "outputs": [
    {
     "data": {
      "text/plain": [
       "'to'"
      ]
     },
     "execution_count": 94,
     "metadata": {},
     "output_type": "execute_result"
    }
   ],
   "source": [
    "lst1[-4]"
   ]
  },
  {
   "cell_type": "code",
   "execution_count": 95,
   "id": "61606239-73e2-43b4-b72f-e55b3f5d102e",
   "metadata": {},
   "outputs": [
    {
     "data": {
      "text/plain": [
       "['Masters', 'Dat', 'pwskills.Welcome', 'Welcome']"
      ]
     },
     "execution_count": 95,
     "metadata": {},
     "output_type": "execute_result"
    }
   ],
   "source": [
    "lst1[::-2]"
   ]
  },
  {
   "cell_type": "code",
   "execution_count": 96,
   "id": "7ae99f2f-e8b8-42d1-b58b-e98bd2d4939e",
   "metadata": {},
   "outputs": [
    {
     "data": {
      "text/plain": [
       "['pwskills.Welcome']"
      ]
     },
     "execution_count": 96,
     "metadata": {},
     "output_type": "execute_result"
    }
   ],
   "source": [
    "lst1[-5:1:-2]"
   ]
  },
  {
   "cell_type": "code",
   "execution_count": 97,
   "id": "f432bd76-90f0-409a-b2d2-08409653e044",
   "metadata": {},
   "outputs": [
    {
     "ename": "TypeError",
     "evalue": "can only concatenate list (not \"int\") to list",
     "output_type": "error",
     "traceback": [
      "\u001b[0;31m---------------------------------------------------------------------------\u001b[0m",
      "\u001b[0;31mTypeError\u001b[0m                                 Traceback (most recent call last)",
      "Cell \u001b[0;32mIn[97], line 2\u001b[0m\n\u001b[1;32m      1\u001b[0m \u001b[38;5;66;03m## concatenation operation\u001b[39;00m\n\u001b[0;32m----> 2\u001b[0m \u001b[43mlst1\u001b[49m\u001b[38;5;241;43m+\u001b[39;49m\u001b[38;5;241;43m1\u001b[39;49m\n",
      "\u001b[0;31mTypeError\u001b[0m: can only concatenate list (not \"int\") to list"
     ]
    }
   ],
   "source": [
    "## concatenation operation\n",
    "lst1+1"
   ]
  },
  {
   "cell_type": "code",
   "execution_count": 98,
   "id": "7fd2276a-27b2-4f4e-8aeb-678839855ff7",
   "metadata": {},
   "outputs": [
    {
     "data": {
      "text/plain": [
       "['Welcome',\n",
       " 'to',\n",
       " 'pwskills.Welcome',\n",
       " 'to',\n",
       " 'Dat',\n",
       " 'Science',\n",
       " 'Masters',\n",
       " 'new element']"
      ]
     },
     "execution_count": 98,
     "metadata": {},
     "output_type": "execute_result"
    }
   ],
   "source": [
    "lst1 + ['new element']"
   ]
  },
  {
   "cell_type": "code",
   "execution_count": 99,
   "id": "7110faf7-ad13-41b7-a20b-8d40712e019f",
   "metadata": {},
   "outputs": [
    {
     "data": {
      "text/plain": [
       "['Welcome',\n",
       " 'to',\n",
       " 'pwskills.Welcome',\n",
       " 'to',\n",
       " 'Dat',\n",
       " 'Science',\n",
       " 'Masters',\n",
       " ['new element', 7]]"
      ]
     },
     "execution_count": 99,
     "metadata": {},
     "output_type": "execute_result"
    }
   ],
   "source": [
    "lst1 + [['new element', 7]]\n",
    "#multi nested list"
   ]
  },
  {
   "cell_type": "code",
   "execution_count": 100,
   "id": "2a95a596-f77d-4025-a287-311125e9c570",
   "metadata": {},
   "outputs": [],
   "source": [
    "lst2  = lst1 + [['new element', 7]]"
   ]
  },
  {
   "cell_type": "code",
   "execution_count": 101,
   "id": "aa8a791b-0452-4d3d-a022-9778f383e5e9",
   "metadata": {},
   "outputs": [
    {
     "data": {
      "text/plain": [
       "['new element', 7]"
      ]
     },
     "execution_count": 101,
     "metadata": {},
     "output_type": "execute_result"
    }
   ],
   "source": [
    "lst2[-1]"
   ]
  },
  {
   "cell_type": "code",
   "execution_count": 104,
   "id": "816a2be0-1f83-4663-a9f7-a6d9bb2b3046",
   "metadata": {},
   "outputs": [
    {
     "data": {
      "text/plain": [
       "'new element'"
      ]
     },
     "execution_count": 104,
     "metadata": {},
     "output_type": "execute_result"
    }
   ],
   "source": [
    "lst2[-1][0]"
   ]
  },
  {
   "cell_type": "code",
   "execution_count": 106,
   "id": "50302421-c162-44a8-97e7-b02c1b5fb9f6",
   "metadata": {},
   "outputs": [
    {
     "data": {
      "text/plain": [
       "['Welcome',\n",
       " 'to',\n",
       " 'pwskills.Welcome',\n",
       " 'to',\n",
       " 'Dat',\n",
       " 'Science',\n",
       " 'Masters',\n",
       " 'Welcome',\n",
       " 'to',\n",
       " 'pwskills.Welcome',\n",
       " 'to',\n",
       " 'Dat',\n",
       " 'Science',\n",
       " 'Masters']"
      ]
     },
     "execution_count": 106,
     "metadata": {},
     "output_type": "execute_result"
    }
   ],
   "source": [
    "lst1 * 2\n",
    "# here the list 1 is not updating the calculation"
   ]
  },
  {
   "cell_type": "code",
   "execution_count": 107,
   "id": "ba63507f-b2fb-4567-b30f-c5e28acb3dca",
   "metadata": {},
   "outputs": [
    {
     "data": {
      "text/plain": [
       "['Welcome', 'to', 'pwskills.Welcome', 'to', 'Dat', 'Science', 'Masters']"
      ]
     },
     "execution_count": 107,
     "metadata": {},
     "output_type": "execute_result"
    }
   ],
   "source": [
    "lst1"
   ]
  },
  {
   "cell_type": "code",
   "execution_count": 127,
   "id": "8673490a-f94e-4801-98e8-b854e142ce5b",
   "metadata": {},
   "outputs": [
    {
     "name": "stdout",
     "output_type": "stream",
     "text": [
      "Science\n"
     ]
    }
   ],
   "source": [
    "for i in lst1:\n",
    "     \n",
    "    if i==\"Science\":\n",
    "        print(i)\n",
    "        break\n",
    "        \n"
   ]
  },
  {
   "cell_type": "code",
   "execution_count": 128,
   "id": "2cbb1583-df2d-422c-8e04-d57c57285867",
   "metadata": {},
   "outputs": [
    {
     "data": {
      "text/plain": [
       "True"
      ]
     },
     "execution_count": 128,
     "metadata": {},
     "output_type": "execute_result"
    }
   ],
   "source": [
    "## check elementd inside a list\n",
    "lst=[1,2,3,4,5]\n",
    "4 in lst"
   ]
  },
  {
   "cell_type": "code",
   "execution_count": 137,
   "id": "9a3768f8-b523-417a-8cd9-fca62f53c304",
   "metadata": {},
   "outputs": [
    {
     "data": {
      "text/plain": [
       "True"
      ]
     },
     "execution_count": 137,
     "metadata": {},
     "output_type": "execute_result"
    }
   ],
   "source": [
    "2.0 in lst"
   ]
  },
  {
   "cell_type": "code",
   "execution_count": 141,
   "id": "4f0ea977-3f2b-4179-9409-af0dd15f4c21",
   "metadata": {},
   "outputs": [
    {
     "data": {
      "text/plain": [
       "True"
      ]
     },
     "execution_count": 141,
     "metadata": {},
     "output_type": "execute_result"
    }
   ],
   "source": [
    "1.9999999999999999 in lst"
   ]
  },
  {
   "cell_type": "code",
   "execution_count": 131,
   "id": "a669d1d3-235b-4e02-8286-2742a40e2333",
   "metadata": {},
   "outputs": [],
   "source": [
    "lst5=['zebra','monkey','donkey','lion']\n",
    "lst6=[5,6,7,8,9,2,4,5]"
   ]
  },
  {
   "cell_type": "code",
   "execution_count": 134,
   "id": "6794a2dd-bc2b-40d4-a4f8-ab696fd88e76",
   "metadata": {},
   "outputs": [
    {
     "name": "stdout",
     "output_type": "stream",
     "text": [
      "zebra\n"
     ]
    }
   ],
   "source": [
    "print(max(lst5))\n",
    "#ASCII Value comparison"
   ]
  },
  {
   "cell_type": "code",
   "execution_count": 135,
   "id": "793689b5-59a8-419e-a30f-0428a3d2793c",
   "metadata": {},
   "outputs": [
    {
     "name": "stdout",
     "output_type": "stream",
     "text": [
      "9\n"
     ]
    }
   ],
   "source": [
    "print(max(lst6))"
   ]
  },
  {
   "cell_type": "code",
   "execution_count": 136,
   "id": "5f12b1a1-1875-43f2-904c-4291571330a2",
   "metadata": {},
   "outputs": [],
   "source": [
    "## Append"
   ]
  },
  {
   "cell_type": "code",
   "execution_count": 143,
   "id": "41fc006d-ec3a-4b28-8cf9-78b3f9cd55c4",
   "metadata": {},
   "outputs": [],
   "source": [
    "lst=[1,2,3,4,5,6]"
   ]
  },
  {
   "cell_type": "code",
   "execution_count": 144,
   "id": "ca181ca7-d487-465c-a4c3-fadf29875f25",
   "metadata": {},
   "outputs": [
    {
     "data": {
      "text/plain": [
       "[1, 2, 3, 4, 5, 6]"
      ]
     },
     "execution_count": 144,
     "metadata": {},
     "output_type": "execute_result"
    }
   ],
   "source": [
    "lst"
   ]
  },
  {
   "cell_type": "code",
   "execution_count": 145,
   "id": "8c81ca6d-139c-45c2-8479-bee9ef83e482",
   "metadata": {},
   "outputs": [],
   "source": [
    "lst.append(\"Pwskills\")"
   ]
  },
  {
   "cell_type": "code",
   "execution_count": 146,
   "id": "dc19a633-f542-46d1-a5c7-18e5aabc11dd",
   "metadata": {},
   "outputs": [
    {
     "data": {
      "text/plain": [
       "[1, 2, 3, 4, 5, 6, 'Pwskills']"
      ]
     },
     "execution_count": 146,
     "metadata": {},
     "output_type": "execute_result"
    }
   ],
   "source": [
    "lst"
   ]
  },
  {
   "cell_type": "code",
   "execution_count": 147,
   "id": "71cf2f11-502e-4815-8c7a-7776b49e51be",
   "metadata": {},
   "outputs": [],
   "source": [
    "lst.append(['Data','Science','Course'])"
   ]
  },
  {
   "cell_type": "code",
   "execution_count": 148,
   "id": "6bee327c-ee6c-4e9c-b956-b2a96f427932",
   "metadata": {},
   "outputs": [
    {
     "data": {
      "text/plain": [
       "[1, 2, 3, 4, 5, 6, 'Pwskills', ['Data', 'Science', 'Course']]"
      ]
     },
     "execution_count": 148,
     "metadata": {},
     "output_type": "execute_result"
    }
   ],
   "source": [
    "lst"
   ]
  },
  {
   "cell_type": "code",
   "execution_count": 149,
   "id": "657a6082-b8dd-4d11-81bc-7cb9cfdec7ca",
   "metadata": {},
   "outputs": [
    {
     "data": {
      "text/plain": [
       "['zebra', 'monkey', 'donkey', 'lion']"
      ]
     },
     "execution_count": 149,
     "metadata": {},
     "output_type": "execute_result"
    }
   ],
   "source": [
    "lst5"
   ]
  },
  {
   "cell_type": "code",
   "execution_count": 151,
   "id": "a88d6e22-c40a-4555-aebc-6ce94dff4b4f",
   "metadata": {},
   "outputs": [
    {
     "data": {
      "text/plain": [
       "'lion'"
      ]
     },
     "execution_count": 151,
     "metadata": {},
     "output_type": "execute_result"
    }
   ],
   "source": [
    "lst5.pop()"
   ]
  },
  {
   "cell_type": "code",
   "execution_count": 152,
   "id": "cc184415-907f-4f1c-8161-22cf3ddf8056",
   "metadata": {},
   "outputs": [
    {
     "data": {
      "text/plain": [
       "['zebra', 'monkey', 'donkey']"
      ]
     },
     "execution_count": 152,
     "metadata": {},
     "output_type": "execute_result"
    }
   ],
   "source": [
    "lst5"
   ]
  },
  {
   "cell_type": "code",
   "execution_count": 153,
   "id": "3faba021-1f6b-49a8-a7f5-7889d8225f4f",
   "metadata": {},
   "outputs": [
    {
     "data": {
      "text/plain": [
       "'donkey'"
      ]
     },
     "execution_count": 153,
     "metadata": {},
     "output_type": "execute_result"
    }
   ],
   "source": [
    "lst5.pop(2)"
   ]
  },
  {
   "cell_type": "code",
   "execution_count": 154,
   "id": "777a8174-0e75-4812-96cd-7a367018e2e8",
   "metadata": {},
   "outputs": [
    {
     "data": {
      "text/plain": [
       "['zebra', 'monkey']"
      ]
     },
     "execution_count": 154,
     "metadata": {},
     "output_type": "execute_result"
    }
   ],
   "source": [
    "lst5"
   ]
  },
  {
   "cell_type": "code",
   "execution_count": 155,
   "id": "2dc28f6f-22e7-43db-b927-669dbe06e81c",
   "metadata": {},
   "outputs": [
    {
     "data": {
      "text/plain": [
       "'zebra'"
      ]
     },
     "execution_count": 155,
     "metadata": {},
     "output_type": "execute_result"
    }
   ],
   "source": [
    "rem_elt=lst5.pop(0)\n",
    "rem_elt"
   ]
  },
  {
   "cell_type": "code",
   "execution_count": 156,
   "id": "70d65e0c-9f3c-485e-8de9-99f7b81037c5",
   "metadata": {},
   "outputs": [
    {
     "ename": "IndexError",
     "evalue": "list index out of range",
     "output_type": "error",
     "traceback": [
      "\u001b[0;31m---------------------------------------------------------------------------\u001b[0m",
      "\u001b[0;31mIndexError\u001b[0m                                Traceback (most recent call last)",
      "Cell \u001b[0;32mIn[156], line 1\u001b[0m\n\u001b[0;32m----> 1\u001b[0m \u001b[43mlst5\u001b[49m\u001b[43m[\u001b[49m\u001b[38;5;241;43m100\u001b[39;49m\u001b[43m]\u001b[49m\n",
      "\u001b[0;31mIndexError\u001b[0m: list index out of range"
     ]
    }
   ],
   "source": [
    "lst5[100]"
   ]
  },
  {
   "cell_type": "code",
   "execution_count": 157,
   "id": "45979880-358f-4bd3-9306-56367aab2cbc",
   "metadata": {},
   "outputs": [],
   "source": [
    "## Sorting and Reverse method in list"
   ]
  },
  {
   "cell_type": "code",
   "execution_count": 159,
   "id": "a88def3d-85a8-4643-85c9-86a5ce41e268",
   "metadata": {},
   "outputs": [
    {
     "data": {
      "text/plain": [
       "['q', 'e', 'f', 's', 't', 'u']"
      ]
     },
     "execution_count": 159,
     "metadata": {},
     "output_type": "execute_result"
    }
   ],
   "source": [
    "new_list=['q','e','f','s','t','u']\n",
    "new_list"
   ]
  },
  {
   "cell_type": "code",
   "execution_count": 160,
   "id": "2da9c08e-8630-4c58-93e8-c4c120ceafb4",
   "metadata": {},
   "outputs": [
    {
     "data": {
      "text/plain": [
       "['u', 't', 's', 'f', 'e', 'q']"
      ]
     },
     "execution_count": 160,
     "metadata": {},
     "output_type": "execute_result"
    }
   ],
   "source": [
    "new_list[::-1]"
   ]
  },
  {
   "cell_type": "code",
   "execution_count": 163,
   "id": "fe268e5f-c1a3-432d-8398-ae0dfe4e9417",
   "metadata": {},
   "outputs": [],
   "source": [
    "# inplace list is getting updated then and there\n",
    "new_list.reverse()"
   ]
  },
  {
   "cell_type": "code",
   "execution_count": 164,
   "id": "1a70ecd3-9a63-425b-879f-fe836e98e25a",
   "metadata": {},
   "outputs": [
    {
     "data": {
      "text/plain": [
       "['q', 'e', 'f', 's', 't', 'u']"
      ]
     },
     "execution_count": 164,
     "metadata": {},
     "output_type": "execute_result"
    }
   ],
   "source": [
    "new_list"
   ]
  },
  {
   "cell_type": "code",
   "execution_count": 166,
   "id": "3d9d4947-9f8e-4a5e-80f6-4490bd3396b0",
   "metadata": {},
   "outputs": [
    {
     "data": {
      "text/plain": [
       "['e', 'f', 'q', 's', 't', 'u']"
      ]
     },
     "execution_count": 166,
     "metadata": {},
     "output_type": "execute_result"
    }
   ],
   "source": [
    "new_list.sort() # by default ascending order\n",
    "new_list"
   ]
  },
  {
   "cell_type": "code",
   "execution_count": 174,
   "id": "13a52bc5-fc59-484c-a1f4-6e796c93158d",
   "metadata": {},
   "outputs": [],
   "source": [
    "new_list.sort(reverse=True)"
   ]
  },
  {
   "cell_type": "code",
   "execution_count": 175,
   "id": "4e2e43ab-2b6b-4cdf-b610-57e02dff04b8",
   "metadata": {},
   "outputs": [
    {
     "data": {
      "text/plain": [
       "['u', 't', 's', 'q', 'f', 'e']"
      ]
     },
     "execution_count": 175,
     "metadata": {},
     "output_type": "execute_result"
    }
   ],
   "source": [
    "new_list"
   ]
  },
  {
   "cell_type": "code",
   "execution_count": 167,
   "id": "dc22c4d9-166b-4097-8732-3928e9321ef1",
   "metadata": {},
   "outputs": [],
   "source": [
    "lst=[1,2,3,4,5,6]\n",
    "lst.append(10)"
   ]
  },
  {
   "cell_type": "code",
   "execution_count": 168,
   "id": "bab389f2-110d-4543-9871-b1a22e2d7579",
   "metadata": {},
   "outputs": [
    {
     "data": {
      "text/plain": [
       "[1, 2, 3, 4, 5, 6, 10]"
      ]
     },
     "execution_count": 168,
     "metadata": {},
     "output_type": "execute_result"
    }
   ],
   "source": [
    "lst"
   ]
  },
  {
   "cell_type": "code",
   "execution_count": 169,
   "id": "a959890f-fe81-4637-9c26-f5a9810665c4",
   "metadata": {},
   "outputs": [],
   "source": [
    "lst.append(['Pw','Skills'])"
   ]
  },
  {
   "cell_type": "code",
   "execution_count": 170,
   "id": "55d8af20-baf6-49cd-badf-b2ac5d1b2749",
   "metadata": {},
   "outputs": [
    {
     "data": {
      "text/plain": [
       "[1, 2, 3, 4, 5, 6, 10, ['Pw', 'Skills']]"
      ]
     },
     "execution_count": 170,
     "metadata": {},
     "output_type": "execute_result"
    }
   ],
   "source": [
    "lst"
   ]
  },
  {
   "cell_type": "code",
   "execution_count": 171,
   "id": "72c2c409-196f-455f-812b-99474c7323cd",
   "metadata": {},
   "outputs": [],
   "source": [
    "lst.extend(['Data','science'])"
   ]
  },
  {
   "cell_type": "code",
   "execution_count": 172,
   "id": "42c7566d-425c-4228-982d-f9b0c8d68e8a",
   "metadata": {},
   "outputs": [
    {
     "data": {
      "text/plain": [
       "[1, 2, 3, 4, 5, 6, 10, ['Pw', 'Skills'], 'Data', 'science']"
      ]
     },
     "execution_count": 172,
     "metadata": {},
     "output_type": "execute_result"
    }
   ],
   "source": [
    "lst"
   ]
  },
  {
   "cell_type": "markdown",
   "id": "435f5be2-f254-43f7-aee9-003c59866c72",
   "metadata": {},
   "source": [
    "## Nested List"
   ]
  },
  {
   "cell_type": "code",
   "execution_count": 176,
   "id": "2a7bd9f1-2d79-4048-9757-0ec65cb62bef",
   "metadata": {},
   "outputs": [],
   "source": [
    "lst_1=[1,2,3]\n",
    "lst_2=[4,5,6]\n",
    "lst_3=[7,8,9]\n",
    "\n",
    "matrix=[lst_1,lst_2,lst_3]"
   ]
  },
  {
   "cell_type": "code",
   "execution_count": 177,
   "id": "4877cf45-eb4e-41e3-af3c-2588aca651bc",
   "metadata": {},
   "outputs": [
    {
     "data": {
      "text/plain": [
       "[[1, 2, 3], [4, 5, 6], [7, 8, 9]]"
      ]
     },
     "execution_count": 177,
     "metadata": {},
     "output_type": "execute_result"
    }
   ],
   "source": [
    "matrix"
   ]
  },
  {
   "cell_type": "code",
   "execution_count": 178,
   "id": "8f7b8911-4072-42b8-9609-d29716c144eb",
   "metadata": {},
   "outputs": [
    {
     "data": {
      "text/plain": [
       "6"
      ]
     },
     "execution_count": 178,
     "metadata": {},
     "output_type": "execute_result"
    }
   ],
   "source": [
    "matrix[1][2]"
   ]
  },
  {
   "cell_type": "code",
   "execution_count": 183,
   "id": "ff1df5df-8722-42d6-a359-75d712067985",
   "metadata": {},
   "outputs": [
    {
     "data": {
      "text/plain": [
       "[8, 9]"
      ]
     },
     "execution_count": 183,
     "metadata": {},
     "output_type": "execute_result"
    }
   ],
   "source": [
    "matrix[2][1:]"
   ]
  },
  {
   "cell_type": "code",
   "execution_count": 195,
   "id": "73d33122-d9d3-4715-8e54-8a3c64b714c7",
   "metadata": {},
   "outputs": [
    {
     "data": {
      "text/plain": [
       "[0, 1, 2, 3, 4, 5, 6, 7, 8, 9, 10, 11, 12, 13, 14, 15, 16, 17, 18, 19]"
      ]
     },
     "execution_count": 195,
     "metadata": {},
     "output_type": "execute_result"
    }
   ],
   "source": [
    "## List comprehension\n",
    "[i for i in range(20)]"
   ]
  },
  {
   "cell_type": "code",
   "execution_count": 207,
   "id": "bac5fc19-98ff-47b4-a24e-e12303fcabc2",
   "metadata": {},
   "outputs": [
    {
     "data": {
      "text/plain": [
       "[0,\n",
       " 'ODD',\n",
       " 2,\n",
       " 'ODD',\n",
       " 4,\n",
       " 'ODD',\n",
       " 6,\n",
       " 'ODD',\n",
       " 8,\n",
       " 'ODD',\n",
       " 10,\n",
       " 'ODD',\n",
       " 12,\n",
       " 'ODD',\n",
       " 14,\n",
       " 'ODD',\n",
       " 16,\n",
       " 'ODD',\n",
       " 18,\n",
       " 'ODD']"
      ]
     },
     "execution_count": 207,
     "metadata": {},
     "output_type": "execute_result"
    }
   ],
   "source": [
    "## Even numbers\n",
    "[i if i%2==0 else \"ODD\" for i in range(20)]"
   ]
  },
  {
   "cell_type": "code",
   "execution_count": 214,
   "id": "a3f10324-7c6c-46e0-bb66-4cbce783961a",
   "metadata": {},
   "outputs": [
    {
     "name": "stdout",
     "output_type": "stream",
     "text": [
      "sum of even number is: 20\n",
      "sum of odd number is: 25\n"
     ]
    }
   ],
   "source": [
    "## sum of even numbers and odd numbers\n",
    "lst=[1,2,3,4,5,6,7,8,9]\n",
    "even_sum=odd_sum=0\n",
    "for i in lst:\n",
    "    if i%2==0:\n",
    "        even_sum+=i\n",
    "        \n",
    "    else:\n",
    "           \t odd_sum+=i\n",
    "print('sum of even number is:',sum1)\n",
    "print('sum of odd number is:',sum2)"
   ]
  },
  {
   "cell_type": "code",
   "execution_count": 226,
   "id": "94400600-9c9f-42e1-b842-ba73b45174ec",
   "metadata": {},
   "outputs": [
    {
     "data": {
      "text/plain": [
       "[1, 4, 9, 16, 25, 36, 49, 64, 81, 100]"
      ]
     },
     "execution_count": 226,
     "metadata": {},
     "output_type": "execute_result"
    }
   ],
   "source": [
    "lst=[1,2,3,4,5,6,7,8,9,10]\n",
    "[num*num for num in lst ]"
   ]
  },
  {
   "cell_type": "code",
   "execution_count": 227,
   "id": "692c2650-ca8a-4a47-a19e-4f513b497d4c",
   "metadata": {},
   "outputs": [
    {
     "data": {
      "text/plain": [
       "[1, 4, 9, 16, 25, 36, 49, 64, 81, 100]"
      ]
     },
     "execution_count": 227,
     "metadata": {},
     "output_type": "execute_result"
    }
   ],
   "source": [
    "lst=[1,2,3,4,5,6,7,8,9,10]\n",
    "[num**2 for num in lst ]"
   ]
  },
  {
   "cell_type": "code",
   "execution_count": 231,
   "id": "95534a35-7f42-4160-ac1a-d9f1d9fad2f7",
   "metadata": {},
   "outputs": [
    {
     "data": {
      "text/plain": [
       "[1, 2, 3, 4, 5]"
      ]
     },
     "execution_count": 231,
     "metadata": {},
     "output_type": "execute_result"
    }
   ],
   "source": [
    "# create a list of only positive numbers from a given list\n",
    "numbers =[-3,-2,-1,0,1,2,3,4,5]\n",
    "[num for num in numbers if num>0]"
   ]
  },
  {
   "cell_type": "code",
   "execution_count": 233,
   "id": "055b1a57-bc84-4f30-9ce7-9193fa29c74d",
   "metadata": {},
   "outputs": [
    {
     "data": {
      "text/plain": [
       "['a', 'b', 'c', 'd']"
      ]
     },
     "execution_count": 233,
     "metadata": {},
     "output_type": "execute_result"
    }
   ],
   "source": [
    "# create a list of only first letter of words in a list\n",
    "words=['apple','banana','cherry','date']\n",
    "[ch[0] for ch in words]"
   ]
  },
  {
   "cell_type": "code",
   "execution_count": 234,
   "id": "2d56fbb1-ae7d-48cf-9fd0-845db6512f23",
   "metadata": {},
   "outputs": [
    {
     "data": {
      "text/plain": [
       "[32.0, 50.0, 68.0, 86.0, 104.0, 122.0]"
      ]
     },
     "execution_count": 234,
     "metadata": {},
     "output_type": "execute_result"
    }
   ],
   "source": [
    "#formula (9/5)*temp+32\n",
    "celsius_temp=[0,10,20,30,40,50]\n",
    "[((9/5)*temp+32) for temp in celsius_temp ]"
   ]
  },
  {
   "cell_type": "code",
   "execution_count": null,
   "id": "4317bc80-3501-424a-b8f6-ee3b051505db",
   "metadata": {},
   "outputs": [],
   "source": []
  }
 ],
 "metadata": {
  "kernelspec": {
   "display_name": "Python 3 (ipykernel)",
   "language": "python",
   "name": "python3"
  },
  "language_info": {
   "codemirror_mode": {
    "name": "ipython",
    "version": 3
   },
   "file_extension": ".py",
   "mimetype": "text/x-python",
   "name": "python",
   "nbconvert_exporter": "python",
   "pygments_lexer": "ipython3",
   "version": "3.10.8"
  }
 },
 "nbformat": 4,
 "nbformat_minor": 5
}
