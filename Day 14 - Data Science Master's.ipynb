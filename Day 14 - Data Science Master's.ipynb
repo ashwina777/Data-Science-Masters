{
 "cells": [
  {
   "cell_type": "markdown",
   "id": "d8798058-e19c-4a1b-90e3-894a39eaeec7",
   "metadata": {},
   "source": [
    "# Threading"
   ]
  },
  {
   "cell_type": "code",
   "execution_count": 2,
   "id": "e37f2049-9ee0-486c-8359-88be25fef658",
   "metadata": {},
   "outputs": [],
   "source": [
    "import threading"
   ]
  },
  {
   "cell_type": "code",
   "execution_count": 3,
   "id": "030c3f10-241f-4c71-bcaf-38948901c4a7",
   "metadata": {},
   "outputs": [],
   "source": [
    "def test(id):\n",
    "    print(\"this is my test id %d \" % id)"
   ]
  },
  {
   "cell_type": "code",
   "execution_count": 4,
   "id": "2c931650-6b9c-4672-a2e3-d24dc0f3b42b",
   "metadata": {},
   "outputs": [
    {
     "name": "stdout",
     "output_type": "stream",
     "text": [
      "this is my test id 10 \n"
     ]
    }
   ],
   "source": [
    "test(10)"
   ]
  },
  {
   "cell_type": "code",
   "execution_count": 5,
   "id": "51cc3405-3c00-4d90-bd6e-957f5bdc365f",
   "metadata": {},
   "outputs": [
    {
     "name": "stdout",
     "output_type": "stream",
     "text": [
      "this is my test id 3 \n"
     ]
    }
   ],
   "source": [
    "test(3)"
   ]
  },
  {
   "cell_type": "code",
   "execution_count": 6,
   "id": "96c541bd-6882-4dc1-9ce2-2c5997c3ad07",
   "metadata": {},
   "outputs": [
    {
     "name": "stdout",
     "output_type": "stream",
     "text": [
      "this is my test id 21 \n"
     ]
    }
   ],
   "source": [
    "test(21)\n"
   ]
  },
  {
   "cell_type": "code",
   "execution_count": 7,
   "id": "00416e3a-d46b-4d97-af3f-0fdc232372d1",
   "metadata": {},
   "outputs": [],
   "source": [
    "# call all three function together\n",
    "thread1 = [threading.Thread(target = test , args = (i,)) for i in [10,3,21]]"
   ]
  },
  {
   "cell_type": "code",
   "execution_count": 8,
   "id": "3f38250e-b7bb-4076-87a9-638043665cab",
   "metadata": {},
   "outputs": [
    {
     "data": {
      "text/plain": [
       "[<Thread(Thread-5 (test), initial)>,\n",
       " <Thread(Thread-6 (test), initial)>,\n",
       " <Thread(Thread-7 (test), initial)>]"
      ]
     },
     "execution_count": 8,
     "metadata": {},
     "output_type": "execute_result"
    }
   ],
   "source": [
    "thread1"
   ]
  },
  {
   "cell_type": "code",
   "execution_count": 9,
   "id": "91cc085e-ca49-427d-87d8-1a240d45f6c2",
   "metadata": {},
   "outputs": [
    {
     "name": "stdout",
     "output_type": "stream",
     "text": [
      "this is my test id 10 \n",
      "this is my test id 3 \n",
      "this is my test id 21 \n"
     ]
    }
   ],
   "source": [
    "for t in thread1:\n",
    "    t.start()\n",
    "    "
   ]
  },
  {
   "cell_type": "code",
   "execution_count": 10,
   "id": "0ba5af3b-6d1b-4feb-8a56-c4073bd0cfa2",
   "metadata": {},
   "outputs": [],
   "source": [
    "import urllib.request\n",
    "\n",
    "def file_download(url,filename):\n",
    "    urllib.request.urlretrieve(url,filename)"
   ]
  },
  {
   "cell_type": "code",
   "execution_count": 11,
   "id": "3881b5f9-9a1f-48b6-9b70-0a28c3945022",
   "metadata": {},
   "outputs": [],
   "source": [
    "file_download('https://raw.githubusercontent.com/ashwina777/C_Programming/main/sample-1.txt',\"test7.txt\")"
   ]
  },
  {
   "cell_type": "code",
   "execution_count": 12,
   "id": "e069aa0c-f624-41cf-ad70-29e642594e3f",
   "metadata": {},
   "outputs": [],
   "source": [
    "url_list=['https://github.com/ashwina777/C_Programming/raw/main/sample-1.txt','https://raw.githubusercontent.com/ashwina777/C_Programming/main/sample-2.txt','https://raw.githubusercontent.com/ashwina777/C_Programming/main/sample-3.txt']"
   ]
  },
  {
   "cell_type": "code",
   "execution_count": 13,
   "id": "99f7ca65-a986-4c1f-968f-af680a70c466",
   "metadata": {},
   "outputs": [
    {
     "data": {
      "text/plain": [
       "['https://github.com/ashwina777/C_Programming/raw/main/sample-1.txt',\n",
       " 'https://raw.githubusercontent.com/ashwina777/C_Programming/main/sample-2.txt',\n",
       " 'https://raw.githubusercontent.com/ashwina777/C_Programming/main/sample-3.txt']"
      ]
     },
     "execution_count": 13,
     "metadata": {},
     "output_type": "execute_result"
    }
   ],
   "source": [
    "url_list"
   ]
  },
  {
   "cell_type": "code",
   "execution_count": 17,
   "id": "d82478ac-5960-4d97-a2ee-b00efeae5206",
   "metadata": {},
   "outputs": [],
   "source": [
    "data_file_list = ['data1.txt','data2.txt','data3.txt']"
   ]
  },
  {
   "cell_type": "code",
   "execution_count": 18,
   "id": "0ae07a24-57b4-4e3a-b715-16184d676268",
   "metadata": {},
   "outputs": [],
   "source": [
    "thread2 = [threading.Thread(target=file_download,args=(url_list[i],data_file_list[i])) for i in range(len(url_list))]"
   ]
  },
  {
   "cell_type": "code",
   "execution_count": 19,
   "id": "eea10a8d-f1ff-46cd-8d9d-78b99c74052a",
   "metadata": {},
   "outputs": [],
   "source": [
    "for t in thread2:\n",
    "    t.start()"
   ]
  },
  {
   "cell_type": "code",
   "execution_count": 20,
   "id": "84bfcd3e-7873-42d0-9724-ffdba21e22b3",
   "metadata": {},
   "outputs": [
    {
     "data": {
      "text/plain": [
       "[<Thread(Thread-11 (file_download), stopped 140035328308800)>,\n",
       " <Thread(Thread-12 (file_download), stopped 140035890325056)>,\n",
       " <Thread(Thread-13 (file_download), stopped 140035881932352)>]"
      ]
     },
     "execution_count": 20,
     "metadata": {},
     "output_type": "execute_result"
    }
   ],
   "source": [
    "thread2"
   ]
  },
  {
   "cell_type": "code",
   "execution_count": 21,
   "id": "e2e4ad22-9784-47e3-aeaa-0c8a2c3e55e8",
   "metadata": {},
   "outputs": [],
   "source": [
    "import time"
   ]
  },
  {
   "cell_type": "code",
   "execution_count": 23,
   "id": "fa7aac41-6b7f-4b7b-a91e-3d8b7f1d21d1",
   "metadata": {},
   "outputs": [],
   "source": [
    "def test2(x):\n",
    "    for i in range(10):\n",
    "        print(\"test1 print the value of x %d and print the value of i %d\" %(x,i))"
   ]
  },
  {
   "cell_type": "code",
   "execution_count": 24,
   "id": "c7af18ad-c581-444d-957f-addd5849fcf3",
   "metadata": {},
   "outputs": [
    {
     "name": "stdout",
     "output_type": "stream",
     "text": [
      "test1 print the value of x 7 and print the value of i 0\n",
      "test1 print the value of x 7 and print the value of i 1\n",
      "test1 print the value of x 7 and print the value of i 2\n",
      "test1 print the value of x 7 and print the value of i 3\n",
      "test1 print the value of x 7 and print the value of i 4\n",
      "test1 print the value of x 7 and print the value of i 5\n",
      "test1 print the value of x 7 and print the value of i 6\n",
      "test1 print the value of x 7 and print the value of i 7\n",
      "test1 print the value of x 7 and print the value of i 8\n",
      "test1 print the value of x 7 and print the value of i 9\n"
     ]
    }
   ],
   "source": [
    "test2(7)"
   ]
  },
  {
   "cell_type": "code",
   "execution_count": 25,
   "id": "f9f6058b-fbe2-4326-a4fc-c87285ebfe09",
   "metadata": {},
   "outputs": [],
   "source": [
    "def test2(x):\n",
    "    for i in range(10):\n",
    "        print(\"test1 print the value of x %d and print the value of i %d\" %(x,i))\n",
    "        time.sleep(2)"
   ]
  },
  {
   "cell_type": "code",
   "execution_count": 26,
   "id": "770f92eb-9258-4566-86ca-afc0d4d812de",
   "metadata": {},
   "outputs": [
    {
     "name": "stdout",
     "output_type": "stream",
     "text": [
      "test1 print the value of x 1 and print the value of i 0\n",
      "test1 print the value of x 1 and print the value of i 1\n",
      "test1 print the value of x 1 and print the value of i 2\n",
      "test1 print the value of x 1 and print the value of i 3\n",
      "test1 print the value of x 1 and print the value of i 4\n",
      "test1 print the value of x 1 and print the value of i 5\n",
      "test1 print the value of x 1 and print the value of i 6\n",
      "test1 print the value of x 1 and print the value of i 7\n",
      "test1 print the value of x 1 and print the value of i 8\n",
      "test1 print the value of x 1 and print the value of i 9\n"
     ]
    }
   ],
   "source": [
    "test2(1)"
   ]
  },
  {
   "cell_type": "code",
   "execution_count": 27,
   "id": "e1ec2cc5-c875-423e-a932-d2cd646b28f4",
   "metadata": {},
   "outputs": [],
   "source": [
    "# here the compiler will sleep / wait for the given time and then give output"
   ]
  },
  {
   "cell_type": "code",
   "execution_count": 28,
   "id": "a1b98bbb-fcdf-453e-8256-b14e7f2d67a7",
   "metadata": {},
   "outputs": [],
   "source": [
    "thread3 = [threading.Thread(target=test2,args=(i,)) for i in [100,20,10,5]]"
   ]
  },
  {
   "cell_type": "code",
   "execution_count": 29,
   "id": "2f95b160-50b0-4bbd-b4ae-bd46d7360fa7",
   "metadata": {},
   "outputs": [
    {
     "name": "stdout",
     "output_type": "stream",
     "text": [
      "test1 print the value of x 100 and print the value of i 0\n",
      "test1 print the value of x 20 and print the value of i 0\n",
      "test1 print the value of x 10 and print the value of i 0\n",
      "test1 print the value of x 5 and print the value of i 0\n",
      "test1 print the value of x 100 and print the value of i 1\n",
      "test1 print the value of x 20 and print the value of i 1\n",
      "test1 print the value of x 10 and print the value of i 1\n",
      "test1 print the value of x 5 and print the value of i 1\n",
      "test1 print the value of x 100 and print the value of i 2\n",
      "test1 print the value of x 20 and print the value of i 2\n",
      "test1 print the value of x 10 and print the value of i 2\n",
      "test1 print the value of x 5 and print the value of i 2\n",
      "test1 print the value of x 100 and print the value of i 3\n",
      "test1 print the value of x 20 and print the value of i 3\n",
      "test1 print the value of x 10 and print the value of i 3\n",
      "test1 print the value of x 5 and print the value of i 3\n",
      "test1 print the value of x 100 and print the value of i 4\n",
      "test1 print the value of x 20 and print the value of i 4\n",
      "test1 print the value of x 10 and print the value of i 4\n",
      "test1 print the value of x 5 and print the value of i 4\n",
      "test1 print the value of x 100 and print the value of i 5\n",
      "test1 print the value of x 20 and print the value of i 5\n",
      "test1 print the value of x 10 and print the value of i 5\n",
      "test1 print the value of x 5 and print the value of i 5\n",
      "test1 print the value of x 100 and print the value of i 6\n",
      "test1 print the value of x 20 and print the value of i 6\n",
      "test1 print the value of x 10 and print the value of i 6\n",
      "test1 print the value of x 5 and print the value of i 6\n",
      "test1 print the value of x 100 and print the value of i 7\n",
      "test1 print the value of x 20 and print the value of i 7\n",
      "test1 print the value of x 10 and print the value of i 7\n",
      "test1 print the value of x 5 and print the value of i 7\n",
      "test1 print the value of x 100 and print the value of i 8test1 print the value of x 20 and print the value of i 8\n",
      "\n",
      "test1 print the value of x 10 and print the value of i 8\n",
      "test1 print the value of x 5 and print the value of i 8\n",
      "test1 print the value of x 20 and print the value of i 9\n",
      "test1 print the value of x 10 and print the value of i 9\n",
      "test1 print the value of x 5 and print the value of i 9\n",
      "test1 print the value of x 100 and print the value of i 9\n"
     ]
    }
   ],
   "source": [
    "for t in thread3:\n",
    "    t.start()"
   ]
  },
  {
   "cell_type": "code",
   "execution_count": 30,
   "id": "5e86ad97-94bc-49e2-9cf4-3b778d93aedf",
   "metadata": {},
   "outputs": [],
   "source": [
    "def test2(x):\n",
    "    for i in range(10):\n",
    "        print(\"test1 print the value of x %d and print the value of i %d\" %(x,i))\n",
    "        #time.sleep(2)"
   ]
  },
  {
   "cell_type": "code",
   "execution_count": 31,
   "id": "91b70591-428f-4dde-bf0a-5a8ee4b1fef6",
   "metadata": {},
   "outputs": [],
   "source": [
    "thread3 = [threading.Thread(target=test2,args=(i,)) for i in [100,20,10,5]]"
   ]
  },
  {
   "cell_type": "code",
   "execution_count": 32,
   "id": "fb2f66d6-65cb-4c80-a74b-a0bb6ab26cb8",
   "metadata": {},
   "outputs": [
    {
     "name": "stdout",
     "output_type": "stream",
     "text": [
      "test1 print the value of x 100 and print the value of i 0\n",
      "test1 print the value of x 100 and print the value of i 1\n",
      "test1 print the value of x 100 and print the value of i 2\n",
      "test1 print the value of x 100 and print the value of i 3\n",
      "test1 print the value of x 100 and print the value of i 4\n",
      "test1 print the value of x 100 and print the value of i 5\n",
      "test1 print the value of x 100 and print the value of i 6\n",
      "test1 print the value of x 100 and print the value of i 7\n",
      "test1 print the value of x 100 and print the value of i 8\n",
      "test1 print the value of x 100 and print the value of i 9\n",
      "test1 print the value of x 20 and print the value of i 0\n",
      "test1 print the value of x 20 and print the value of i 1\n",
      "test1 print the value of x 20 and print the value of i 2\n",
      "test1 print the value of x 20 and print the value of i 3\n",
      "test1 print the value of x 20 and print the value of i 4\n",
      "test1 print the value of x 20 and print the value of i 5\n",
      "test1 print the value of x 20 and print the value of i 6\n",
      "test1 print the value of x 20 and print the value of i 7\n",
      "test1 print the value of x 20 and print the value of i 8\n",
      "test1 print the value of x 20 and print the value of i 9\n",
      "test1 print the value of x 10 and print the value of i 0\n",
      "test1 print the value of x 10 and print the value of i 1\n",
      "test1 print the value of x 10 and print the value of i 2\n",
      "test1 print the value of x 10 and print the value of i 3\n",
      "test1 print the value of x 10 and print the value of i 4\n",
      "test1 print the value of x 10 and print the value of i 5\n",
      "test1 print the value of x 10 and print the value of i 6\n",
      "test1 print the value of x 10 and print the value of i 7\n",
      "test1 print the value of x 10 and print the value of i 8\n",
      "test1 print the value of x 10 and print the value of i 9\n",
      "test1 print the value of x 5 and print the value of i 0\n",
      "test1 print the value of x 5 and print the value of i 1\n",
      "test1 print the value of x 5 and print the value of i 2\n",
      "test1 print the value of x 5 and print the value of i 3\n",
      "test1 print the value of x 5 and print the value of i 4\n",
      "test1 print the value of x 5 and print the value of i 5\n",
      "test1 print the value of x 5 and print the value of i 6\n",
      "test1 print the value of x 5 and print the value of i 7\n",
      "test1 print the value of x 5 and print the value of i 8\n",
      "test1 print the value of x 5 and print the value of i 9\n"
     ]
    }
   ],
   "source": [
    "for t in thread3:\n",
    "    t.start()"
   ]
  },
  {
   "cell_type": "code",
   "execution_count": null,
   "id": "1ca5c4ae-4687-4313-b8fc-ee29e8d3f13d",
   "metadata": {},
   "outputs": [],
   "source": [
    "# remember when we use sleep in threading for multiple inputs \n",
    "# the sleep time is utilised for other inputs give opportunity to other program\n",
    "# if sleep not used one input is executed at a time"
   ]
  },
  {
   "cell_type": "code",
   "execution_count": 41,
   "id": "5a9e9070-e4cf-47a0-85c7-2f0475278f30",
   "metadata": {},
   "outputs": [],
   "source": [
    "# program for shared variable\n",
    "shared_var=0\n",
    "lock_var = threading.Lock()\n",
    "def test3(x):\n",
    "    global shared_var\n",
    "    with lock_var:\n",
    "        shared_var = shared_var+1\n",
    "        print(\"value of x %d and value of shared_var %d \" %(x,shared_var))\n",
    "        time.sleep(1)\n",
    "        \n",
    "thread4= [threading.Thread(target=test3,args=(i,)) for i in [1,2,3,4,5]]        "
   ]
  },
  {
   "cell_type": "code",
   "execution_count": 42,
   "id": "23e11e49-bddf-4b15-82bf-42f693428650",
   "metadata": {},
   "outputs": [],
   "source": [
    "#before using thread4"
   ]
  },
  {
   "cell_type": "code",
   "execution_count": 43,
   "id": "ac31c65b-35bf-4f5a-a985-cd2b61740072",
   "metadata": {},
   "outputs": [
    {
     "name": "stdout",
     "output_type": "stream",
     "text": [
      "value of x 1 and value of shared_var 1 \n"
     ]
    }
   ],
   "source": [
    "test3(1)"
   ]
  },
  {
   "cell_type": "code",
   "execution_count": 44,
   "id": "6dbec9fd-b854-421e-a7c1-b4daadd5308e",
   "metadata": {},
   "outputs": [
    {
     "name": "stdout",
     "output_type": "stream",
     "text": [
      "value of x 2 and value of shared_var 2 \n"
     ]
    }
   ],
   "source": [
    "test3(2)"
   ]
  },
  {
   "cell_type": "code",
   "execution_count": 45,
   "id": "25735541-509d-4b48-b4e0-63143ffaba09",
   "metadata": {},
   "outputs": [
    {
     "name": "stdout",
     "output_type": "stream",
     "text": [
      "value of x 1 and value of shared_var 3 \n",
      "value of x 2 and value of shared_var 4 \n",
      "value of x 3 and value of shared_var 5 \n",
      "value of x 4 and value of shared_var 6 \n",
      "value of x 5 and value of shared_var 7 \n"
     ]
    }
   ],
   "source": [
    "#after editing thread4\n",
    "for t in thread4:\n",
    "    t.start()"
   ]
  },
  {
   "cell_type": "code",
   "execution_count": null,
   "id": "dfdf8c31-43e9-4211-8156-e2624d2e4def",
   "metadata": {},
   "outputs": [],
   "source": []
  }
 ],
 "metadata": {
  "kernelspec": {
   "display_name": "Python 3 (ipykernel)",
   "language": "python",
   "name": "python3"
  },
  "language_info": {
   "codemirror_mode": {
    "name": "ipython",
    "version": 3
   },
   "file_extension": ".py",
   "mimetype": "text/x-python",
   "name": "python",
   "nbconvert_exporter": "python",
   "pygments_lexer": "ipython3",
   "version": "3.10.8"
  }
 },
 "nbformat": 4,
 "nbformat_minor": 5
}
