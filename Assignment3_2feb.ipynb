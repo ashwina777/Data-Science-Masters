{
 "cells": [
  {
   "attachments": {},
   "cell_type": "markdown",
   "metadata": {},
   "source": [
    "##### Q1. What are the characteristics of the tuples? Is tuple immutable?\n",
    "<br>\n",
    "The characteristics of tuples in Python are:<br>\n",
    "\n",
    "Ordered: Tuples maintain the order of elements, so the first element in a tuple is considered the first element, the second element is considered the second, and so on.<br>\n",
    "\n",
    "Immutable: Tuples are immutable, meaning once a tuple is created, its elements cannot be changed.<br>\n",
    "\n",
    "Heterogeneous: Tuples can contain elements of different data types.<br>\n",
    "\n",
    "Indexed: Each element in a tuple can be accessed by its index, starting from 0.<br>\n",
    "\n",
    "Hashable: Tuples can be used as keys in dictionaries because they are hashable, while lists are not.<br>\n",
    "\n",
    "Multiple Assignment: Tuples can be used to assign multiple values to multiple variables in a single line.<br>\n",
    "\n",
    "Lightweight: Tuples are more lightweight than lists, making them faster and more efficient for basic data storage and retrieval tasks.<br>\n",
    "\n",
    "yes tuple is immutable... as mentioned above."
   ]
  },
  {
   "attachments": {},
   "cell_type": "markdown",
   "metadata": {},
   "source": [
    " ##### Q2. What are the two tuple methods in python? Give an example of each method. Give a reason why tuples have only two in-built methods as compared to Lists.\n",
    "<br>\n",
    "Ans.The two tuples methods in python are count and index.<br>\n",
    "count(): This method returns the number of occurrences of a specified element in the tuple.<br>\n",
    "Example:<br>\n",
    "t = (1, 2, 3, 2, 4)<br>\n",
    "print(t.count(2)) <br>\n",
    "Output: 2<br>\n",
    "\n",
    "index(): This method returns the index of the first occurrence of a specified element in the tuple.<br>\n",
    "Example:<br>\n",
    "t2 = (1, 2, 3, 2, 4)<br>\n",
    "print(t2.index(2)) <br>\n",
    "Output: 1<br>\n",
    "\n",
    "Tuples have only two in-built methods compared to lists because tuples are meant to be used for simple, immutable data structures that are used for basic tasks such as grouping and ordering data. On the other hand, lists are more flexible and have more methods to support more complex operations such as sorting, appending, and removing elements.<br>\n",
    "\n",
    "In general, tuples are favored over lists when immutability and simplicity are more important than the ability to perform complex operations.\n"
   ]
  },
  {
   "attachments": {},
   "cell_type": "markdown",
   "metadata": {},
   "source": [
    "##### Q3.  Which collection datatypes in python do not allow duplicate items? Write a code using a set to remove duplicates from the given list. <br>\n",
    "##### List = [1, 1, 1, 2, 1, 3, 1, 4, 2, 1, 2, 2, 2, 3, 2, 4, 3, 1, 3, 2, 3, 3, 3, 4, 4, 1, 4, 2, 4, 3, 4, 4] <br>\n",
    "Ans.Sets in Python do not allow duplicate items. To remove duplicates from the given list, you can convert the list into a set and then convert it back into a list.<br>\n",
    "\n",
    "Example code:<br>\n",
    "List = [1, 1, 1, 2, 1, 3, 1, 4, 2, 1, 2, 2, 2, 3, 2, 4, 3, 1, 3, 2, 3, 3, 3, 4, 4, 1, 4, 2, 4, 3, 4, 4]<br>\n",
    "new_list = list(set(List))<br>\n",
    "print(new_list)<br>\n",
    "Output: [1, 2, 3, 4]<br>\n",
    "\n",
    "\n",
    "\n"
   ]
  },
  {
   "attachments": {},
   "cell_type": "markdown",
   "metadata": {},
   "source": [
    "##### Q4. Explain the difference between the union() and update() methods for a set. Give an example of each method.<br>\n",
    "The union() and update() methods in Python are used to combine two sets. However, there is a difference between the two methods in terms of how the sets are combined and how the original sets are modified.<br>\n",
    "\n",
    "union() method: The union() method returns a set that contains all the elements from both sets, without duplicates. The original sets are not modified.<br>\n",
    "\n",
    "Example:<br>\n",
    "set1 = {1, 2, 3}<br>\n",
    "set2 = {3, 4, 5}<br>\n",
    "result = set1.union(set2)<br>\n",
    "print(result)<br> \n",
    "Output: {1, 2, 3, 4, 5}<br>\n",
    "print(set1) <br>\n",
    "Output: {1, 2, 3}<br>\n",
    "print(set2) <br>\n",
    "Output: {3, 4, 5}<br>\n",
    "update() method: The update() method adds all the elements from one set to another set, without duplicates. The original set is modified.<br>\n",
    "\n",
    "Example:<br>\n",
    "set1 = {1, 2, 3}<br>\n",
    "set2 = {3, 4, 5}<br>\n",
    "set1.update(set2)<br>\n",
    "print(set1) <br>\n",
    "Output: {1, 2, 3, 4, 5}<br>\n",
    "print(set2) <br>\n",
    "Output: {3, 4, 5}<br>\n",
    "In conclusion, use union() if you want to combine sets without modifying the original sets and use update() if you want to add elements from one set to another set, modifying the original set in the process."
   ]
  },
  {
   "attachments": {},
   "cell_type": "markdown",
   "metadata": {},
   "source": [
    "##### Q5. What is a dictionary? Give an example. Also, state whether a dictionary is ordered or unordered.<br>\n",
    "A dictionary in Python is an unordered collection of key-value pairs, where each key is unique and maps to a specific value. Dictionaries are defined using curly braces {} and are separated by commas ,.<br>\n",
    "\n",
    "Example:<br>\n",
    "\n",
    "dict1 = {'name': 'Ash', 'age': 19 , 'city': 'Dehradun','Course':'BCA'}<br>\n",
    "print(dict1)<br> \n",
    "Output: {'name': 'Ash', 'age': 19 , 'city': 'Dehradun','Course':'BCA'}<br>\n",
    "Dictionaries in Python are unordered, which means that the items have no index or position and are not sorted in any particular order. The order of items in a dictionary can change when a new item is added or an existing item is removed. However, it is possible to sort a dictionary using the sorted() function or the items() method, which returns a sorted view of the items in the dictionary."
   ]
  },
  {
   "attachments": {},
   "cell_type": "markdown",
   "metadata": {},
   "source": [
    "##### Q6. Can we create a nested dictionary? If so, please give an example by creating a simple one-level nested dictionary.<br>\n",
    "Yes, it is possible to create a nested dictionary in Python. A nested dictionary is a dictionary that contains another dictionary as its value.<br>\n",
    "\n",
    "Example:<br>\n",
    "\n",
    "person = {'name': 'Ashwina Rawat', 'details': {'age': 18, 'city': 'Dehradun'}}<br>\n",
    "print(person) <br>\n",
    "Output: {'name': 'Ashwina Rawat', 'details': {'age': 18, 'city': 'Dehradun'}}<br>\n",
    "In this example, person is a dictionary that contains a name key and a details key. The details key maps to another dictionary that contains the age and city keys."
   ]
  },
  {
   "attachments": {},
   "cell_type": "markdown",
   "metadata": {},
   "source": [
    "##### Q7. Using setdefault() method, create key named topics in the given dictionary and also add the value of the key as this list ['Python', 'Machine Learning’, 'Deep Learning'] <br> dict1 = {'language' : 'Python', 'course': 'Data Science Masters'}<br>\n",
    "You can use the setdefault() method to add a key and its value to a dictionary if the key does not exist. Here's how you can add the topics key and its value to the dict1 dictionary:<br>\n",
    "dict1 = {'language' : 'Python', 'course': 'Data Science Masters'}<br>\n",
    "dict1.setdefault('topics', ['Python', 'Machine Learning', 'Deep Learning'])\n",
    "print(dict1) <br>\n",
    "Output: {'language': 'Python', 'course': 'Data Science Masters', 'topics': ['Python', 'Machine Learning', 'Deep Learning']}<br>\n",
    "\n",
    "In this example, the setdefault() method is used to add the topics key to the dict1 dictionary with the value ['Python', 'Machine Learning', 'Deep Learning']. If the topics key already exists in the dictionary, the setdefault() method will not change its value."
   ]
  },
  {
   "attachments": {},
   "cell_type": "markdown",
   "metadata": {},
   "source": [
    "##### Q8. What are the three view objects in dictionaries? Use the three in-built methods in python to display these three view objects for the given dictionary.<br>dict1 = {'Sport': 'Cricket' , 'Teams': ['India', 'Australia', 'England', 'South Africa', 'Sri Lanka', 'New Zealand']}<br>\n",
    "In Python, dictionaries have three view objects: keys, values, and items. You can use the following in-built methods to display these view objects:<br>\n",
    "\n",
    "1.keys() method: returns a view object that displays a list of all the keys in the dictionary.<br>\n",
    "dict1 = {'Sport': 'Cricket' , 'Teams': ['India', 'Australia', 'England', 'South Africa', 'Sri Lanka', 'New Zealand']}<br>\n",
    "print(dict1.keys()) <br>\n",
    "Output: dict_keys(['Sport', 'Teams'])<br>\n",
    "\n",
    "2.values() method: returns a view object that displays a list of all the values in the dictionary.<br>\n",
    "dict1 = {'Sport': 'Cricket' , 'Teams': ['India', 'Australia', 'England', 'South Africa', 'Sri Lanka', 'New Zealand']}\n",
    "print(dict1.values())<br>\n",
    "Output: dict_values(['Cricket', ['India', 'Australia', 'England', 'South Africa', 'Sri Lanka', 'New Zealand']])<br>\n",
    "\n",
    "3.items() method: returns a view object that displays a list of all the items (keys and values) in the dictionary.<br>\n",
    "dict1 = {'Sport': 'Cricket' , 'Teams': ['India', 'Australia', 'England', 'South Africa', 'Sri Lanka', 'New Zealand']}\n",
    "print(dict1.items()) <br>\n",
    "Output: dict_items([('Sport', 'Cricket'), ('Teams', ['India', 'Australia', 'England', 'South Africa', 'Sri Lanka', 'New Zealand'])])<br>\n",
    "These view objects allow you to view the keys, values, and items of a dictionary without modifying the dictionary itself.\n"
   ]
  }
 ],
 "metadata": {
  "kernelspec": {
   "display_name": "Python 3",
   "language": "python",
   "name": "python3"
  },
  "language_info": {
   "name": "python",
   "version": "3.11.1"
  },
  "orig_nbformat": 4,
  "vscode": {
   "interpreter": {
    "hash": "9259e2f00e7ca890b3913178432707c30a13b99d64274d8b1e92c206a8d09780"
   }
  }
 },
 "nbformat": 4,
 "nbformat_minor": 2
}
