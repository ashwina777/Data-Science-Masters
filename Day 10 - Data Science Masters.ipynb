{
 "cells": [
  {
   "cell_type": "markdown",
   "id": "c6bb28c9-255d-475b-b6db-5d388ed4bfae",
   "metadata": {},
   "source": [
    "## Decorator"
   ]
  },
  {
   "cell_type": "code",
   "execution_count": 1,
   "id": "bda7b02f-59f0-4132-934d-15a87e5303cf",
   "metadata": {},
   "outputs": [],
   "source": [
    "def test():\n",
    "    print(\"This is the star of my function\")\n",
    "    print(4+6)\n",
    "    print(\"This is the end of my function\")"
   ]
  },
  {
   "cell_type": "code",
   "execution_count": 2,
   "id": "cda8d5a8-fb25-4f55-8ae4-7ed63bc1ad8d",
   "metadata": {},
   "outputs": [
    {
     "name": "stdout",
     "output_type": "stream",
     "text": [
      "This is the star of my function\n",
      "10\n",
      "This is the end of my function\n"
     ]
    }
   ],
   "source": [
    "test()"
   ]
  },
  {
   "cell_type": "code",
   "execution_count": 7,
   "id": "91604d0a-c228-4eed-baac-8dc30539733e",
   "metadata": {},
   "outputs": [],
   "source": [
    "# objective - print a particular line in every fucntion\n",
    "# therefore we use decorator\n",
    "# remove repeatedness of things we want in every function"
   ]
  },
  {
   "cell_type": "code",
   "execution_count": 4,
   "id": "8f0695e1-fdf8-4b38-bd89-a7afed42971d",
   "metadata": {},
   "outputs": [],
   "source": [
    "def deco(func):\n",
    "    def inner_deco():\n",
    "        print(\"This is the start of my func\")\n",
    "        func()\n",
    "        print(\"This is the end of my function\")\n",
    "    return inner_deco"
   ]
  },
  {
   "cell_type": "code",
   "execution_count": 5,
   "id": "9b82e04c-ee29-4ef0-ad43-4321d1647206",
   "metadata": {},
   "outputs": [],
   "source": [
    "@deco\n",
    "def test1():\n",
    "    print(4+5)"
   ]
  },
  {
   "cell_type": "code",
   "execution_count": 6,
   "id": "33f5d262-0a35-43c2-a7c4-efe65105c468",
   "metadata": {},
   "outputs": [
    {
     "name": "stdout",
     "output_type": "stream",
     "text": [
      "This is the start of my func\n",
      "9\n",
      "This is the end of my function\n"
     ]
    }
   ],
   "source": [
    "test1()"
   ]
  },
  {
   "cell_type": "code",
   "execution_count": 8,
   "id": "78038500-eee5-435f-bf56-5fbc7bd869ce",
   "metadata": {},
   "outputs": [],
   "source": [
    "import time\n",
    "def timer_test(func):\n",
    "    def timer_test_inner():\n",
    "        start = time.time()\n",
    "        func()\n",
    "        end = time.time()\n",
    "        print(end-start)\n",
    "    return timer_test_inner"
   ]
  },
  {
   "cell_type": "code",
   "execution_count": 9,
   "id": "e01844f8-6e6c-46cf-b04f-a198a24e4caa",
   "metadata": {},
   "outputs": [],
   "source": [
    "@timer_test\n",
    "def test2():\n",
    "    print(545*4)"
   ]
  },
  {
   "cell_type": "code",
   "execution_count": 10,
   "id": "2d4d14c6-9c9b-4299-af20-f6f71657ea59",
   "metadata": {},
   "outputs": [
    {
     "name": "stdout",
     "output_type": "stream",
     "text": [
      "2180\n",
      "4.57763671875e-05\n"
     ]
    }
   ],
   "source": [
    "test2()"
   ]
  },
  {
   "cell_type": "code",
   "execution_count": 16,
   "id": "9f2e1f8a-8793-418b-b7b2-8dc5e778c89d",
   "metadata": {},
   "outputs": [],
   "source": [
    "@timer_test\n",
    "def test3():\n",
    "    for i in range(10000000):\n",
    "        pass"
   ]
  },
  {
   "cell_type": "code",
   "execution_count": 17,
   "id": "93dc135d-8b39-4fd4-a15e-a4e760e771a2",
   "metadata": {},
   "outputs": [
    {
     "name": "stdout",
     "output_type": "stream",
     "text": [
      "0.23511028289794922\n"
     ]
    }
   ],
   "source": [
    "test3()"
   ]
  },
  {
   "cell_type": "markdown",
   "id": "96ae3108-0003-48b2-a86c-955bfaf04899",
   "metadata": {},
   "source": [
    "## Class Method"
   ]
  },
  {
   "cell_type": "code",
   "execution_count": 18,
   "id": "a05f8a62-1ee3-4e63-93a3-6f04886365b7",
   "metadata": {},
   "outputs": [],
   "source": [
    "class pwskills:\n",
    "    def __init__(self,name,email):\n",
    "        \n",
    "        self.name = name\n",
    "        self.email = email\n",
    "        \n",
    "    def student_details(self):\n",
    "        print(self.name , self.email)"
   ]
  },
  {
   "cell_type": "code",
   "execution_count": 19,
   "id": "bb88a6d7-f4ed-4871-9969-a8797f303aa1",
   "metadata": {},
   "outputs": [],
   "source": [
    "pw = pwskills(\"ashwina\",\"ashwina8@gmail.com\")"
   ]
  },
  {
   "cell_type": "code",
   "execution_count": 20,
   "id": "0ec50c8c-33c1-4533-a017-a436948ad0bf",
   "metadata": {},
   "outputs": [
    {
     "data": {
      "text/plain": [
       "'ashwina'"
      ]
     },
     "execution_count": 20,
     "metadata": {},
     "output_type": "execute_result"
    }
   ],
   "source": [
    "pw.name"
   ]
  },
  {
   "cell_type": "code",
   "execution_count": 21,
   "id": "6b0803e4-d4ac-4d1a-89d0-615cbc59939e",
   "metadata": {},
   "outputs": [
    {
     "data": {
      "text/plain": [
       "'ashwina8@gmail.com'"
      ]
     },
     "execution_count": 21,
     "metadata": {},
     "output_type": "execute_result"
    }
   ],
   "source": [
    "pw.email"
   ]
  },
  {
   "cell_type": "code",
   "execution_count": 24,
   "id": "aba7520a-a221-42bb-80a0-e5c22c4c58ba",
   "metadata": {},
   "outputs": [],
   "source": [
    "class pwskills1:\n",
    "    def __init__(self,name,email):\n",
    "        \n",
    "        self.name = name\n",
    "        self.email = email\n",
    "        \n",
    "    @classmethod\n",
    "    def details(cls,name,email):\n",
    "        return cls(name,email)\n",
    "    \n",
    "    def student_details(self):\n",
    "        print(self.name , self.email)"
   ]
  },
  {
   "cell_type": "code",
   "execution_count": 26,
   "id": "bd2eb90e-1e98-4049-adab-493ed7ebaa49",
   "metadata": {},
   "outputs": [],
   "source": [
    "pw1=pwskills1.details(\"mohan\",\"mohan@gmail.com\")"
   ]
  },
  {
   "cell_type": "code",
   "execution_count": 27,
   "id": "76eec060-b84d-40da-b065-35bdb0fdbd80",
   "metadata": {},
   "outputs": [
    {
     "data": {
      "text/plain": [
       "'mohan'"
      ]
     },
     "execution_count": 27,
     "metadata": {},
     "output_type": "execute_result"
    }
   ],
   "source": [
    "pw1.name"
   ]
  },
  {
   "cell_type": "code",
   "execution_count": 28,
   "id": "853fb29b-f622-43a9-b67f-7c62c25fbd78",
   "metadata": {},
   "outputs": [
    {
     "data": {
      "text/plain": [
       "'mohan@gmail.com'"
      ]
     },
     "execution_count": 28,
     "metadata": {},
     "output_type": "execute_result"
    }
   ],
   "source": [
    "pw1.email"
   ]
  },
  {
   "cell_type": "code",
   "execution_count": null,
   "id": "ff311655-6380-4611-bc63-17b8f85f9d30",
   "metadata": {},
   "outputs": [],
   "source": [
    "## here we are achieving function overloading it is not directly possible in python"
   ]
  },
  {
   "cell_type": "code",
   "execution_count": 30,
   "id": "d4b478e6-3590-4283-99da-1f7ebdddc8ee",
   "metadata": {},
   "outputs": [
    {
     "name": "stdout",
     "output_type": "stream",
     "text": [
      "mohan mohan@gmail.com\n"
     ]
    }
   ],
   "source": [
    "pw1.student_details()"
   ]
  },
  {
   "cell_type": "code",
   "execution_count": 31,
   "id": "de81a662-f3ed-4d98-9bbf-4b041915c8ce",
   "metadata": {},
   "outputs": [],
   "source": [
    "class pwskills2:\n",
    "    \n",
    "    mobile_number = 2435645677\n",
    "    \n",
    "    def __init__(self,name,email):\n",
    "        \n",
    "        self.name = name\n",
    "        self.email = email\n",
    "        \n",
    "    @classmethod\n",
    "    def details(cls,name,email):\n",
    "        return cls(name,email)\n",
    "    \n",
    "    def student_details(self):\n",
    "        print(self.name , self.email)"
   ]
  },
  {
   "cell_type": "code",
   "execution_count": 32,
   "id": "b4b0fa3d-e8b3-4c0a-846f-2effa2367914",
   "metadata": {},
   "outputs": [
    {
     "data": {
      "text/plain": [
       "2435645677"
      ]
     },
     "execution_count": 32,
     "metadata": {},
     "output_type": "execute_result"
    }
   ],
   "source": [
    "pwskills2.mobile_number"
   ]
  },
  {
   "cell_type": "code",
   "execution_count": 3,
   "id": "1825bcdd-9719-4666-ab63-9f085777d354",
   "metadata": {},
   "outputs": [],
   "source": [
    "pw2=pwskills2.details(\"sohan\",\"sohan@gmail.com\")"
   ]
  },
  {
   "cell_type": "code",
   "execution_count": 35,
   "id": "05b190dd-2347-4f6c-889a-db5189f4db61",
   "metadata": {},
   "outputs": [
    {
     "name": "stdout",
     "output_type": "stream",
     "text": [
      "sohan sohan@gmail.com\n"
     ]
    }
   ],
   "source": [
    "pw2.student_details()"
   ]
  },
  {
   "cell_type": "code",
   "execution_count": 1,
   "id": "2e79bcbf-dbd0-4782-8393-1d6c01ec62be",
   "metadata": {},
   "outputs": [],
   "source": [
    "class pwskills2:\n",
    "    \n",
    "    mobile_number = 2435645677\n",
    "    \n",
    "    def __init__(self,name,email):\n",
    "        \n",
    "        self.name = name\n",
    "        self.email = email\n",
    "        \n",
    "    @classmethod\n",
    "    def details(cls,name,email):\n",
    "        return cls(name,email)\n",
    "    \n",
    "    def student_details(self):\n",
    "        print(self.name , self.email,pwskills2.mobile_number)"
   ]
  },
  {
   "cell_type": "code",
   "execution_count": null,
   "id": "9048e7a4-9377-4115-b5b4-8c9e72308b3e",
   "metadata": {},
   "outputs": [],
   "source": [
    "# cls means binding to class not self\n",
    "# classmethod (sort of a global method) is binding to class acess it through class name and objects\n",
    "# class method always create only one instance\n",
    "# instance method will be created as per the number of objects(if we create 10 obj so 10 methods in memory will be created)"
   ]
  },
  {
   "cell_type": "code",
   "execution_count": 4,
   "id": "a64a9d2e-f140-4f42-b00f-c58c8e772e50",
   "metadata": {},
   "outputs": [
    {
     "name": "stdout",
     "output_type": "stream",
     "text": [
      "sohan sohan@gmail.com 2435645677\n"
     ]
    }
   ],
   "source": [
    "pw2.student_details()"
   ]
  },
  {
   "cell_type": "code",
   "execution_count": 6,
   "id": "ed998be3-0081-4787-8c2a-4b6318f36c4a",
   "metadata": {},
   "outputs": [],
   "source": [
    "pw2_obj = pwskills2(\"rohan\",\"rohan@gmail.com\")"
   ]
  },
  {
   "cell_type": "code",
   "execution_count": 7,
   "id": "43655d53-876f-4b05-b69b-2a82a08dee88",
   "metadata": {},
   "outputs": [
    {
     "name": "stdout",
     "output_type": "stream",
     "text": [
      "rohan rohan@gmail.com 2435645677\n"
     ]
    }
   ],
   "source": [
    "pw2_obj.student_details()"
   ]
  },
  {
   "cell_type": "code",
   "execution_count": 24,
   "id": "09012d35-9723-4e71-8e1f-8e1eaca53e5e",
   "metadata": {},
   "outputs": [],
   "source": [
    "class pwskills2:\n",
    "    \n",
    "    mobile_number = 2435645677\n",
    "    \n",
    "    def __init__(self,name,email):\n",
    "        \n",
    "        self.name = name\n",
    "        self.email = email\n",
    "    @classmethod\n",
    "    def change_number(cls,mobile):\n",
    "        pwskills2.mobile_number = mobile\n",
    "        \n",
    "    @classmethod\n",
    "    def details(cls,name,email):\n",
    "        return cls(name,email)\n",
    "    #instant method\n",
    "    def student_details(self):\n",
    "        print(self.name , self.email,pwskills2.mobile_number)"
   ]
  },
  {
   "cell_type": "code",
   "execution_count": 9,
   "id": "bc0b5171-55af-4fd4-94cc-b17874b3fcb4",
   "metadata": {},
   "outputs": [
    {
     "data": {
      "text/plain": [
       "2435645677"
      ]
     },
     "execution_count": 9,
     "metadata": {},
     "output_type": "execute_result"
    }
   ],
   "source": [
    "pwskills2.mobile_number"
   ]
  },
  {
   "cell_type": "code",
   "execution_count": 10,
   "id": "60e91bed-98cd-4137-a7dc-b7aecf026fd5",
   "metadata": {},
   "outputs": [],
   "source": [
    "pwskills2.change_number(92378478237)"
   ]
  },
  {
   "cell_type": "code",
   "execution_count": 13,
   "id": "79236047-6710-4639-b449-ef4a8893fee5",
   "metadata": {},
   "outputs": [
    {
     "data": {
      "text/plain": [
       "92378478237"
      ]
     },
     "execution_count": 13,
     "metadata": {},
     "output_type": "execute_result"
    }
   ],
   "source": [
    "pwskills2.mobile_number"
   ]
  },
  {
   "cell_type": "code",
   "execution_count": 15,
   "id": "cd11a734-13fb-4f44-9991-273cc1a3cd90",
   "metadata": {},
   "outputs": [],
   "source": [
    "pw2_obj = pwskills2(\"ashwina\",\"ashwina8@gmail.com\")"
   ]
  },
  {
   "cell_type": "code",
   "execution_count": 18,
   "id": "b38bb109-c053-44e3-995c-c78a0365d809",
   "metadata": {},
   "outputs": [
    {
     "data": {
      "text/plain": [
       "<__main__.pwskills2 at 0x7f37ec3518a0>"
      ]
     },
     "execution_count": 18,
     "metadata": {},
     "output_type": "execute_result"
    }
   ],
   "source": [
    "pw2_obj.details(\"ash\",\"ash2@gmail.com\")"
   ]
  },
  {
   "cell_type": "code",
   "execution_count": 19,
   "id": "4ed4cae0-a35f-48aa-9dd8-619c7ec4b81f",
   "metadata": {},
   "outputs": [
    {
     "data": {
      "text/plain": [
       "'ashwina'"
      ]
     },
     "execution_count": 19,
     "metadata": {},
     "output_type": "execute_result"
    }
   ],
   "source": [
    "pw2_obj.name"
   ]
  },
  {
   "cell_type": "code",
   "execution_count": 21,
   "id": "621ef215-9f2e-4e3a-99c1-aead9aeeb3ce",
   "metadata": {},
   "outputs": [
    {
     "data": {
      "text/plain": [
       "92378478237"
      ]
     },
     "execution_count": 21,
     "metadata": {},
     "output_type": "execute_result"
    }
   ],
   "source": [
    "pw2_obj.mobile_number"
   ]
  },
  {
   "cell_type": "code",
   "execution_count": 22,
   "id": "eda84fd6-1eb3-4e76-9a05-dfd10ac67fdc",
   "metadata": {},
   "outputs": [],
   "source": [
    "pw2_obj.change_number(919332823277)"
   ]
  },
  {
   "cell_type": "code",
   "execution_count": 23,
   "id": "b9130283-84d7-4c7f-a006-bab973fdadb9",
   "metadata": {},
   "outputs": [
    {
     "data": {
      "text/plain": [
       "919332823277"
      ]
     },
     "execution_count": 23,
     "metadata": {},
     "output_type": "execute_result"
    }
   ],
   "source": [
    "pw2_obj.mobile_number"
   ]
  },
  {
   "cell_type": "code",
   "execution_count": 25,
   "id": "97dc570d-2807-4d5d-a031-bdca4ffd80b7",
   "metadata": {},
   "outputs": [],
   "source": [
    "class pwskills3:\n",
    "    \n",
    "    mobile_number = 2435645677\n",
    "    \n",
    "    def __init__(self,name,email):\n",
    "        \n",
    "        self.name = name\n",
    "        self.email = email\n",
    "    @classmethod\n",
    "    def change_number(cls,mobile):\n",
    "        pwskills2.mobile_number = mobile\n",
    "        \n",
    "    @classmethod\n",
    "    def details(cls,name,email):\n",
    "        return cls(name,email)\n",
    "    #instant method\n",
    "    def student_details(self):\n",
    "        print(self.name , self.email,pwskills2.mobile_number)"
   ]
  },
  {
   "cell_type": "code",
   "execution_count": 26,
   "id": "59766671-e96d-41d3-9c6d-20741b011281",
   "metadata": {},
   "outputs": [],
   "source": [
    "# external func\n",
    "def course_details(cls, course_name):\n",
    "    print(\"course details\",course_name)"
   ]
  },
  {
   "cell_type": "code",
   "execution_count": 27,
   "id": "e7fc12a5-d186-4d30-a308-201d17dd69d6",
   "metadata": {},
   "outputs": [],
   "source": [
    "# add ext func to clss\n",
    "pwskills3.course_details = classmethod(course_details)"
   ]
  },
  {
   "cell_type": "code",
   "execution_count": 28,
   "id": "12c5d6ee-5425-447d-b395-00a5e9121e76",
   "metadata": {},
   "outputs": [
    {
     "name": "stdout",
     "output_type": "stream",
     "text": [
      "course details data science master's\n"
     ]
    }
   ],
   "source": [
    "pwskills3.course_details(\"data science master's\")"
   ]
  },
  {
   "cell_type": "code",
   "execution_count": 30,
   "id": "4419b7a7-3336-46ff-9d84-bad9a5e384ec",
   "metadata": {},
   "outputs": [],
   "source": [
    "pw3 = pwskills3(\"ashwiina\",\"ashwina@gmail.com\")"
   ]
  },
  {
   "cell_type": "code",
   "execution_count": 32,
   "id": "1d3bff11-a4de-42af-90d2-78ee9ae91742",
   "metadata": {},
   "outputs": [
    {
     "name": "stdout",
     "output_type": "stream",
     "text": [
      "course details web_dev\n"
     ]
    }
   ],
   "source": [
    "pw3.course_details(\"web_dev\")"
   ]
  },
  {
   "cell_type": "code",
   "execution_count": 51,
   "id": "db863b6b-2a06-413e-a6d9-3f87c8223ca6",
   "metadata": {},
   "outputs": [],
   "source": [
    "# delete any func\n",
    "class pwskills4:\n",
    "    \n",
    "    mobile_number = 2435645677\n",
    "    \n",
    "    def __init__(self,name,email):\n",
    "        \n",
    "        self.name = name\n",
    "        self.email = email\n",
    "    @classmethod\n",
    "    def change_number(cls,mobile):\n",
    "        pwskills4.mobile_number = mobile\n",
    "        \n",
    "    @classmethod\n",
    "    def details(cls,name,email):\n",
    "        return cls(name,email)\n",
    "    #instant method\n",
    "    def student_details(self):\n",
    "        print(self.name , self.email,pwskills2.mobile_number)"
   ]
  },
  {
   "cell_type": "code",
   "execution_count": 52,
   "id": "dee99783-033e-4fb4-88c6-af81a9e5ea43",
   "metadata": {},
   "outputs": [],
   "source": [
    "del pwskills4.change_number"
   ]
  },
  {
   "cell_type": "code",
   "execution_count": 53,
   "id": "607d96cd-b34c-4a0a-ae26-0f91859e8fc1",
   "metadata": {},
   "outputs": [
    {
     "ename": "NameError",
     "evalue": "name 'pwskills' is not defined",
     "output_type": "error",
     "traceback": [
      "\u001b[0;31m---------------------------------------------------------------------------\u001b[0m",
      "\u001b[0;31mNameError\u001b[0m                                 Traceback (most recent call last)",
      "Cell \u001b[0;32mIn[53], line 1\u001b[0m\n\u001b[0;32m----> 1\u001b[0m \u001b[43mpwskills\u001b[49m\u001b[38;5;241m.\u001b[39mchange_number(\u001b[38;5;241m32434\u001b[39m)\n",
      "\u001b[0;31mNameError\u001b[0m: name 'pwskills' is not defined"
     ]
    }
   ],
   "source": [
    "pwskills.change_number(32434)"
   ]
  },
  {
   "cell_type": "code",
   "execution_count": 54,
   "id": "70892357-79c0-4390-9eb0-73c47683895c",
   "metadata": {},
   "outputs": [
    {
     "data": {
      "text/plain": [
       "<__main__.pwskills4 at 0x7f37ec3131f0>"
      ]
     },
     "execution_count": 54,
     "metadata": {},
     "output_type": "execute_result"
    }
   ],
   "source": [
    "pwskills4.details(\"ash\",\"ash@hotmial.com\")"
   ]
  },
  {
   "cell_type": "code",
   "execution_count": 55,
   "id": "fb8cc782-f45b-4c29-b875-4e4214644ea9",
   "metadata": {},
   "outputs": [
    {
     "data": {
      "text/plain": [
       "<bound method pwskills4.details of <class '__main__.pwskills4'>>"
      ]
     },
     "execution_count": 55,
     "metadata": {},
     "output_type": "execute_result"
    }
   ],
   "source": [
    "pwskills4.details"
   ]
  },
  {
   "cell_type": "code",
   "execution_count": 57,
   "id": "0a086a61-7862-43d2-b1f0-08203c95afed",
   "metadata": {},
   "outputs": [],
   "source": [
    "# delete attribute func can also be used\n",
    "delattr(pwskills4,\"details\")"
   ]
  },
  {
   "cell_type": "code",
   "execution_count": 58,
   "id": "6162a7e8-ed36-4b1f-83d2-c288550aa53d",
   "metadata": {},
   "outputs": [
    {
     "ename": "AttributeError",
     "evalue": "type object 'pwskills4' has no attribute 'details'",
     "output_type": "error",
     "traceback": [
      "\u001b[0;31m---------------------------------------------------------------------------\u001b[0m",
      "\u001b[0;31mAttributeError\u001b[0m                            Traceback (most recent call last)",
      "Cell \u001b[0;32mIn[58], line 1\u001b[0m\n\u001b[0;32m----> 1\u001b[0m \u001b[43mpwskills4\u001b[49m\u001b[38;5;241;43m.\u001b[39;49m\u001b[43mdetails\u001b[49m\n",
      "\u001b[0;31mAttributeError\u001b[0m: type object 'pwskills4' has no attribute 'details'"
     ]
    }
   ],
   "source": [
    "pwskills4.details"
   ]
  },
  {
   "cell_type": "code",
   "execution_count": 59,
   "id": "7bbec11f-ac08-4308-8e13-826466ea66cf",
   "metadata": {},
   "outputs": [],
   "source": [
    "# delete instance method\n",
    "delattr(pwskills4,\"student_details\")"
   ]
  },
  {
   "cell_type": "code",
   "execution_count": 60,
   "id": "3e5b0921-1f37-4b5e-846d-10d9163dbd65",
   "metadata": {},
   "outputs": [
    {
     "ename": "AttributeError",
     "evalue": "type object 'pwskills4' has no attribute 'student_details'",
     "output_type": "error",
     "traceback": [
      "\u001b[0;31m---------------------------------------------------------------------------\u001b[0m",
      "\u001b[0;31mAttributeError\u001b[0m                            Traceback (most recent call last)",
      "Cell \u001b[0;32mIn[60], line 1\u001b[0m\n\u001b[0;32m----> 1\u001b[0m \u001b[43mpwskills4\u001b[49m\u001b[38;5;241;43m.\u001b[39;49m\u001b[43mstudent_details\u001b[49m\n",
      "\u001b[0;31mAttributeError\u001b[0m: type object 'pwskills4' has no attribute 'student_details'"
     ]
    }
   ],
   "source": [
    "pwskills4.student_details"
   ]
  },
  {
   "cell_type": "markdown",
   "id": "59a215d9-7b65-4d29-882b-c6a078f5eceb",
   "metadata": {},
   "source": [
    "## Static method"
   ]
  },
  {
   "cell_type": "code",
   "execution_count": 64,
   "id": "b682afb7-4fa2-4c2c-a2a4-8d157ec72230",
   "metadata": {},
   "outputs": [],
   "source": [
    "class pwskills:\n",
    "    def student_details(self,name, mail_id , number):\n",
    "        print(name,mail_id,number)"
   ]
  },
  {
   "cell_type": "code",
   "execution_count": 65,
   "id": "bd2434e8-d01b-4d5c-b32a-a8f640ba66e8",
   "metadata": {},
   "outputs": [],
   "source": [
    "pw = pwskills()"
   ]
  },
  {
   "cell_type": "code",
   "execution_count": 66,
   "id": "acd3ad2f-5849-4ae5-a0df-0a59cdfab350",
   "metadata": {},
   "outputs": [
    {
     "name": "stdout",
     "output_type": "stream",
     "text": [
      "ashwina ashwina@hotmial.com 919234\n"
     ]
    }
   ],
   "source": [
    "pw.student_details(\"ashwina\",\"ashwina@hotmial.com\",919234)"
   ]
  },
  {
   "cell_type": "code",
   "execution_count": null,
   "id": "1d439af7-2e0c-4b56-b3ab-fa7cd48c7cf0",
   "metadata": {},
   "outputs": [],
   "source": [
    "# for each obj created it is going to replicate the same method in memory which consumes a lot of space\n",
    "# if we pass somehing common to entire class we wont't be able to access bcoz it is specific to obj"
   ]
  },
  {
   "cell_type": "code",
   "execution_count": 70,
   "id": "041c092f-c6fc-469c-9cf7-83ba68a38159",
   "metadata": {},
   "outputs": [],
   "source": [
    "class pwskills1:\n",
    "    def student_details(self,name, mail_id , number):\n",
    "        print(name,mail_id,number)\n",
    "        \n",
    "    @staticmethod\n",
    "    def mentor_class(list_mentor):\n",
    "        print(list_mentor)\n",
    "        \n",
    "        \n",
    "    def mentor(self,mentor_list):\n",
    "        print(mentor_list)"
   ]
  },
  {
   "cell_type": "code",
   "execution_count": 69,
   "id": "900c257b-8eda-4db2-ad69-58da4962315c",
   "metadata": {},
   "outputs": [
    {
     "name": "stdout",
     "output_type": "stream",
     "text": [
      "['sudh', 'krish']\n"
     ]
    }
   ],
   "source": [
    "pwskills1.mentor_class([\"sudh\",\"krish\"])"
   ]
  },
  {
   "cell_type": "code",
   "execution_count": 72,
   "id": "c2f7b43e-c0b3-4e4b-b2d1-3b9217347a49",
   "metadata": {},
   "outputs": [],
   "source": [
    "pw1 = pwskills1()"
   ]
  },
  {
   "cell_type": "code",
   "execution_count": 73,
   "id": "5c365a24-c10f-4c88-b274-b49107976980",
   "metadata": {},
   "outputs": [
    {
     "name": "stdout",
     "output_type": "stream",
     "text": [
      "['krish', 'sudh']\n"
     ]
    }
   ],
   "source": [
    "pw1.mentor([\"krish\",\"sudh\"])"
   ]
  },
  {
   "cell_type": "code",
   "execution_count": null,
   "id": "4ed7be90-2371-4213-8241-2e88bff3b45e",
   "metadata": {},
   "outputs": [],
   "source": [
    "# even through obj we access mentor class\n",
    "# even through class name we can access mentor class\n",
    "# even though obj access mentor func or instance method/ func\n",
    "# basic diff is when we define something as static it is available across all the classes\n",
    "# it is not creating diff diff func internally wrt to diff diff instances\n",
    "# whereas -- as we create an obj instance of func is created i.e replica is created of the func in instance method\n"
   ]
  },
  {
   "cell_type": "code",
   "execution_count": 82,
   "id": "f2a8039b-c641-44b1-a72c-30cb06419ef6",
   "metadata": {},
   "outputs": [],
   "source": [
    "class pwskills1:\n",
    "    def student_details(self,name, mail_id , number):\n",
    "        print(name,mail_id,number)\n",
    "        # we can't call static mentor class here\n",
    "    @staticmethod\n",
    "    def mentor_mail_id(mail_id):\n",
    "        print(mail_id)\n",
    "        \n",
    "    @staticmethod\n",
    "    def mentor_class(list_mentor):\n",
    "        print(list_mentor)\n",
    "        pwskills1.mentor_mail_id([\"krish@gmail.com\",\"sudh@gmail.com\"])\n",
    "    \n",
    "    @classmethod\n",
    "    def class_name(cls,class_name):\n",
    "        cls.mentor_class([\"krish\",\"sudh\"])\n",
    "        \n",
    "    def mentor(self,mentor_list):\n",
    "        print(mentor_list)\n",
    "        self.mentor_class([\"krish\",\"sudh\"])"
   ]
  },
  {
   "cell_type": "code",
   "execution_count": 83,
   "id": "b2599a9a-4f2f-4bb6-bdc6-6d47f246eacd",
   "metadata": {},
   "outputs": [],
   "source": [
    "pw1 = pwskills1()"
   ]
  },
  {
   "cell_type": "code",
   "execution_count": 84,
   "id": "7497bfd6-4648-4b8a-9ad9-441fb26bf975",
   "metadata": {},
   "outputs": [
    {
     "name": "stdout",
     "output_type": "stream",
     "text": [
      "mohan mohan@gmail.com 94354654\n"
     ]
    }
   ],
   "source": [
    "pw1.student_details(\"mohan\",\"mohan@gmail.com\",94354654)"
   ]
  },
  {
   "cell_type": "code",
   "execution_count": 85,
   "id": "4b8756d1-aafc-4488-83dc-69109c38e0ef",
   "metadata": {},
   "outputs": [
    {
     "name": "stdout",
     "output_type": "stream",
     "text": [
      "['krish@gmail.com', 'sudh@gmail.com']\n"
     ]
    }
   ],
   "source": [
    "pw1.mentor_mail_id([\"krish@gmail.com\",\"sudh@gmail.com\"])"
   ]
  },
  {
   "cell_type": "code",
   "execution_count": 86,
   "id": "22476aeb-77aa-42fb-89c8-a221b7828b48",
   "metadata": {},
   "outputs": [
    {
     "name": "stdout",
     "output_type": "stream",
     "text": [
      "['krish', 'sudh']\n",
      "['krish@gmail.com', 'sudh@gmail.com']\n"
     ]
    }
   ],
   "source": [
    "pw1.class_name(\"data science masters\")"
   ]
  },
  {
   "cell_type": "code",
   "execution_count": 87,
   "id": "bc0c749b-dca1-44a4-a829-9d41c7a8e4a4",
   "metadata": {},
   "outputs": [
    {
     "name": "stdout",
     "output_type": "stream",
     "text": [
      "['krish@gmail.com', 'sudh@gmail.com']\n"
     ]
    }
   ],
   "source": [
    "pwskills1.mentor_mail_id([\"krish@gmail.com\",\"sudh@gmail.com\"])"
   ]
  },
  {
   "cell_type": "code",
   "execution_count": null,
   "id": "be6a4e60-7fa3-48fa-941a-a5278e28cfed",
   "metadata": {},
   "outputs": [],
   "source": [
    "# class method helps overload init method, gives access to var\n",
    "# static method reduce memory usage"
   ]
  },
  {
   "cell_type": "markdown",
   "id": "7f6174a4-d9f3-4c74-a919-a10d4490f584",
   "metadata": {},
   "source": [
    "## Special (magic or Dunder) method"
   ]
  },
  {
   "cell_type": "code",
   "execution_count": 88,
   "id": "1d0fecef-dc3a-4cfe-a6f9-d5fafde3c085",
   "metadata": {},
   "outputs": [
    {
     "data": {
      "text/plain": [
       "['__abs__',\n",
       " '__add__',\n",
       " '__and__',\n",
       " '__bool__',\n",
       " '__ceil__',\n",
       " '__class__',\n",
       " '__delattr__',\n",
       " '__dir__',\n",
       " '__divmod__',\n",
       " '__doc__',\n",
       " '__eq__',\n",
       " '__float__',\n",
       " '__floor__',\n",
       " '__floordiv__',\n",
       " '__format__',\n",
       " '__ge__',\n",
       " '__getattribute__',\n",
       " '__getnewargs__',\n",
       " '__gt__',\n",
       " '__hash__',\n",
       " '__index__',\n",
       " '__init__',\n",
       " '__init_subclass__',\n",
       " '__int__',\n",
       " '__invert__',\n",
       " '__le__',\n",
       " '__lshift__',\n",
       " '__lt__',\n",
       " '__mod__',\n",
       " '__mul__',\n",
       " '__ne__',\n",
       " '__neg__',\n",
       " '__new__',\n",
       " '__or__',\n",
       " '__pos__',\n",
       " '__pow__',\n",
       " '__radd__',\n",
       " '__rand__',\n",
       " '__rdivmod__',\n",
       " '__reduce__',\n",
       " '__reduce_ex__',\n",
       " '__repr__',\n",
       " '__rfloordiv__',\n",
       " '__rlshift__',\n",
       " '__rmod__',\n",
       " '__rmul__',\n",
       " '__ror__',\n",
       " '__round__',\n",
       " '__rpow__',\n",
       " '__rrshift__',\n",
       " '__rshift__',\n",
       " '__rsub__',\n",
       " '__rtruediv__',\n",
       " '__rxor__',\n",
       " '__setattr__',\n",
       " '__sizeof__',\n",
       " '__str__',\n",
       " '__sub__',\n",
       " '__subclasshook__',\n",
       " '__truediv__',\n",
       " '__trunc__',\n",
       " '__xor__',\n",
       " 'as_integer_ratio',\n",
       " 'bit_count',\n",
       " 'bit_length',\n",
       " 'conjugate',\n",
       " 'denominator',\n",
       " 'from_bytes',\n",
       " 'imag',\n",
       " 'numerator',\n",
       " 'real',\n",
       " 'to_bytes']"
      ]
     },
     "execution_count": 88,
     "metadata": {},
     "output_type": "execute_result"
    }
   ],
   "source": [
    "dir(int)"
   ]
  },
  {
   "cell_type": "code",
   "execution_count": null,
   "id": "762ed3d1-12b9-4d61-9daa-181597a821ff",
   "metadata": {},
   "outputs": [],
   "source": [
    "# all these above are magic or dunder func or methods have 2 underscore before and after "
   ]
  },
  {
   "cell_type": "code",
   "execution_count": 89,
   "id": "13c394f0-736c-46eb-91cd-ddaf0d2342bf",
   "metadata": {},
   "outputs": [],
   "source": [
    "a = 10"
   ]
  },
  {
   "cell_type": "code",
   "execution_count": 90,
   "id": "769abe6b-a132-4b8b-acdd-4b9ce58857a0",
   "metadata": {},
   "outputs": [
    {
     "data": {
      "text/plain": [
       "17"
      ]
     },
     "execution_count": 90,
     "metadata": {},
     "output_type": "execute_result"
    }
   ],
   "source": [
    "a+7"
   ]
  },
  {
   "cell_type": "code",
   "execution_count": 92,
   "id": "1946a13f-60f2-4f58-b38c-b65d2f0f9a18",
   "metadata": {},
   "outputs": [
    {
     "data": {
      "text/plain": [
       "17"
      ]
     },
     "execution_count": 92,
     "metadata": {},
     "output_type": "execute_result"
    }
   ],
   "source": [
    "a.__add__(7)"
   ]
  },
  {
   "cell_type": "code",
   "execution_count": 93,
   "id": "8cf07281-b674-49d9-a274-462c440f4ea2",
   "metadata": {},
   "outputs": [
    {
     "data": {
      "text/plain": [
       "['__add__',\n",
       " '__class__',\n",
       " '__contains__',\n",
       " '__delattr__',\n",
       " '__dir__',\n",
       " '__doc__',\n",
       " '__eq__',\n",
       " '__format__',\n",
       " '__ge__',\n",
       " '__getattribute__',\n",
       " '__getitem__',\n",
       " '__getnewargs__',\n",
       " '__gt__',\n",
       " '__hash__',\n",
       " '__init__',\n",
       " '__init_subclass__',\n",
       " '__iter__',\n",
       " '__le__',\n",
       " '__len__',\n",
       " '__lt__',\n",
       " '__mod__',\n",
       " '__mul__',\n",
       " '__ne__',\n",
       " '__new__',\n",
       " '__reduce__',\n",
       " '__reduce_ex__',\n",
       " '__repr__',\n",
       " '__rmod__',\n",
       " '__rmul__',\n",
       " '__setattr__',\n",
       " '__sizeof__',\n",
       " '__str__',\n",
       " '__subclasshook__',\n",
       " 'capitalize',\n",
       " 'casefold',\n",
       " 'center',\n",
       " 'count',\n",
       " 'encode',\n",
       " 'endswith',\n",
       " 'expandtabs',\n",
       " 'find',\n",
       " 'format',\n",
       " 'format_map',\n",
       " 'index',\n",
       " 'isalnum',\n",
       " 'isalpha',\n",
       " 'isascii',\n",
       " 'isdecimal',\n",
       " 'isdigit',\n",
       " 'isidentifier',\n",
       " 'islower',\n",
       " 'isnumeric',\n",
       " 'isprintable',\n",
       " 'isspace',\n",
       " 'istitle',\n",
       " 'isupper',\n",
       " 'join',\n",
       " 'ljust',\n",
       " 'lower',\n",
       " 'lstrip',\n",
       " 'maketrans',\n",
       " 'partition',\n",
       " 'removeprefix',\n",
       " 'removesuffix',\n",
       " 'replace',\n",
       " 'rfind',\n",
       " 'rindex',\n",
       " 'rjust',\n",
       " 'rpartition',\n",
       " 'rsplit',\n",
       " 'rstrip',\n",
       " 'split',\n",
       " 'splitlines',\n",
       " 'startswith',\n",
       " 'strip',\n",
       " 'swapcase',\n",
       " 'title',\n",
       " 'translate',\n",
       " 'upper',\n",
       " 'zfill']"
      ]
     },
     "execution_count": 93,
     "metadata": {},
     "output_type": "execute_result"
    }
   ],
   "source": [
    "dir(str)"
   ]
  },
  {
   "cell_type": "code",
   "execution_count": 97,
   "id": "94d9e95f-b5e8-4d5d-b2db-f43c2d142491",
   "metadata": {},
   "outputs": [],
   "source": [
    "class pwskill:\n",
    "    \n",
    "    \n",
    "    def __init__(self):\n",
    "        print(\"This is my init \")"
   ]
  },
  {
   "cell_type": "code",
   "execution_count": 98,
   "id": "f4d75870-9108-4083-a7c0-35362f9fd64c",
   "metadata": {},
   "outputs": [
    {
     "name": "stdout",
     "output_type": "stream",
     "text": [
      "This is my init \n"
     ]
    }
   ],
   "source": [
    "pw = pwskill()"
   ]
  },
  {
   "cell_type": "code",
   "execution_count": 99,
   "id": "224c3240-1b92-43d0-a5ee-450664549a82",
   "metadata": {},
   "outputs": [],
   "source": [
    "class pwskill:\n",
    "    \n",
    "    def __new__(cls):\n",
    "        print(\"This is my new\")\n",
    "        \n",
    "    def __init__(self):\n",
    "        print(\"This is my init \")"
   ]
  },
  {
   "cell_type": "code",
   "execution_count": 101,
   "id": "0bd95d47-7e6d-49a0-9e76-eb2aedb70c67",
   "metadata": {},
   "outputs": [
    {
     "name": "stdout",
     "output_type": "stream",
     "text": [
      "This is my new\n"
     ]
    }
   ],
   "source": [
    "pw = pwskill()"
   ]
  },
  {
   "cell_type": "code",
   "execution_count": 106,
   "id": "68db1ba4-e3b8-4ee0-b0c2-bf5036e2dc17",
   "metadata": {},
   "outputs": [],
   "source": [
    "class pwskills:\n",
    "    \n",
    "    def __init__(self):\n",
    "        self.mobile_number = 9234757745\n",
    "        \n",
    "        \n",
    "    #edited\n",
    "    def __str__(self):\n",
    "        return \"this is a magic method which will print something for object\""
   ]
  },
  {
   "cell_type": "code",
   "execution_count": 108,
   "id": "e6abf979-f5c8-441f-bfa6-2c877bea33d3",
   "metadata": {},
   "outputs": [],
   "source": [
    "pw1 = pwskills()"
   ]
  },
  {
   "cell_type": "code",
   "execution_count": 104,
   "id": "aab145fc-7d42-4a93-ae97-c4d1db50d980",
   "metadata": {},
   "outputs": [
    {
     "data": {
      "text/plain": [
       "<__main__.pwskills at 0x7f37d6e1b520>"
      ]
     },
     "execution_count": 104,
     "metadata": {},
     "output_type": "execute_result"
    }
   ],
   "source": [
    "pw1"
   ]
  },
  {
   "cell_type": "code",
   "execution_count": 105,
   "id": "82cdea2e-98bf-4fc8-8c16-57cb98d0bfe4",
   "metadata": {},
   "outputs": [
    {
     "name": "stdout",
     "output_type": "stream",
     "text": [
      "<__main__.pwskills object at 0x7f37d6e1b520>\n"
     ]
    }
   ],
   "source": [
    "print(pw1)"
   ]
  },
  {
   "cell_type": "code",
   "execution_count": 109,
   "id": "5a1251aa-90cd-4c2b-bdc3-f5096943e78f",
   "metadata": {},
   "outputs": [
    {
     "name": "stdout",
     "output_type": "stream",
     "text": [
      "this is a magic method which will print something for object\n"
     ]
    }
   ],
   "source": [
    "print(pw1)"
   ]
  },
  {
   "cell_type": "code",
   "execution_count": 110,
   "id": "caa82e86-151e-452b-aca8-851016713277",
   "metadata": {},
   "outputs": [
    {
     "data": {
      "text/plain": [
       "['__add__',\n",
       " '__class__',\n",
       " '__class_getitem__',\n",
       " '__contains__',\n",
       " '__delattr__',\n",
       " '__dir__',\n",
       " '__doc__',\n",
       " '__eq__',\n",
       " '__format__',\n",
       " '__ge__',\n",
       " '__getattribute__',\n",
       " '__getitem__',\n",
       " '__getnewargs__',\n",
       " '__gt__',\n",
       " '__hash__',\n",
       " '__init__',\n",
       " '__init_subclass__',\n",
       " '__iter__',\n",
       " '__le__',\n",
       " '__len__',\n",
       " '__lt__',\n",
       " '__mul__',\n",
       " '__ne__',\n",
       " '__new__',\n",
       " '__reduce__',\n",
       " '__reduce_ex__',\n",
       " '__repr__',\n",
       " '__rmul__',\n",
       " '__setattr__',\n",
       " '__sizeof__',\n",
       " '__str__',\n",
       " '__subclasshook__',\n",
       " 'count',\n",
       " 'index']"
      ]
     },
     "execution_count": 110,
     "metadata": {},
     "output_type": "execute_result"
    }
   ],
   "source": [
    "dir(tuple)"
   ]
  },
  {
   "cell_type": "markdown",
   "id": "bc6af696-ba91-4b0b-aa1d-297c43ab9419",
   "metadata": {},
   "source": [
    "## Property Decorator"
   ]
  },
  {
   "cell_type": "code",
   "execution_count": 111,
   "id": "a11b4eb0-d7dc-40c8-afc0-ae8e5a161236",
   "metadata": {},
   "outputs": [],
   "source": [
    "class pwskills:\n",
    "    \n",
    "    def __init__(self , course_price, course_name):\n",
    "        self.__course_price = course_price\n",
    "        self.course_name = course_name"
   ]
  },
  {
   "cell_type": "code",
   "execution_count": 112,
   "id": "a33566ea-30ca-457f-99e5-63bfcf7600b8",
   "metadata": {},
   "outputs": [],
   "source": [
    "pw = pwskills(3500, \"data science masters\")"
   ]
  },
  {
   "cell_type": "code",
   "execution_count": 113,
   "id": "d1c84357-35a2-47c1-b491-d4a580b8cc43",
   "metadata": {},
   "outputs": [
    {
     "data": {
      "text/plain": [
       "'data science masters'"
      ]
     },
     "execution_count": 113,
     "metadata": {},
     "output_type": "execute_result"
    }
   ],
   "source": [
    "pw.course_name"
   ]
  },
  {
   "cell_type": "code",
   "execution_count": 115,
   "id": "cee0033e-c160-42fa-aa51-7a900b9cf93c",
   "metadata": {},
   "outputs": [
    {
     "ename": "AttributeError",
     "evalue": "'pwskills' object has no attribute 'course_price'",
     "output_type": "error",
     "traceback": [
      "\u001b[0;31m---------------------------------------------------------------------------\u001b[0m",
      "\u001b[0;31mAttributeError\u001b[0m                            Traceback (most recent call last)",
      "Cell \u001b[0;32mIn[115], line 1\u001b[0m\n\u001b[0;32m----> 1\u001b[0m \u001b[43mpw\u001b[49m\u001b[38;5;241;43m.\u001b[39;49m\u001b[43mcourse_price\u001b[49m \u001b[38;5;66;03m## not accessible because variable is private by using double underscore\u001b[39;00m\n",
      "\u001b[0;31mAttributeError\u001b[0m: 'pwskills' object has no attribute 'course_price'"
     ]
    }
   ],
   "source": [
    "pw.course_price ## not accessible because variable is private by using double underscore"
   ]
  },
  {
   "cell_type": "code",
   "execution_count": 118,
   "id": "98c4e320-c1ca-4b74-b5ae-6a723aeea4e3",
   "metadata": {},
   "outputs": [
    {
     "data": {
      "text/plain": [
       "3500"
      ]
     },
     "execution_count": 118,
     "metadata": {},
     "output_type": "execute_result"
    }
   ],
   "source": [
    "pw._pwskills__course_price\n",
    "# accessing it as user because we know clss name"
   ]
  },
  {
   "cell_type": "code",
   "execution_count": null,
   "id": "19d44428-10ac-4af4-8e46-6162581f15a0",
   "metadata": {},
   "outputs": [],
   "source": [
    "# _ means protected\n",
    "# _ _ means private\n",
    "# no underscore means public"
   ]
  },
  {
   "cell_type": "code",
   "execution_count": 119,
   "id": "5de50ca7-2ec9-46ec-aa4a-be73d866d4cb",
   "metadata": {},
   "outputs": [],
   "source": [
    "# property decorator --> help to expose class property to outer world\n",
    "# we will be able to expose property of particular classes using property decorator\n",
    "# we don't give access to varible name but rather give access to value directly\n",
    "class pwskills:\n",
    "    \n",
    "    def __init__(self , course_price, course_name):\n",
    "        self.__course_price = course_price\n",
    "        self.course_name = course_name\n",
    "        \n",
    "    @property\n",
    "    def course_price_access(self):\n",
    "        return self.__course_price"
   ]
  },
  {
   "cell_type": "code",
   "execution_count": 122,
   "id": "f8b8e1fd-517d-410c-9d6f-2292d0bceaa0",
   "metadata": {},
   "outputs": [],
   "source": [
    "pw = pwskills(3500,\"data science masters\")"
   ]
  },
  {
   "cell_type": "code",
   "execution_count": 123,
   "id": "3c6c3300-d469-4b6c-8754-5ff55fefb4db",
   "metadata": {},
   "outputs": [
    {
     "data": {
      "text/plain": [
       "3500"
      ]
     },
     "execution_count": 123,
     "metadata": {},
     "output_type": "execute_result"
    }
   ],
   "source": [
    "pw.course_price_access"
   ]
  },
  {
   "cell_type": "code",
   "execution_count": 152,
   "id": "8fb72113-a241-4dd4-96ce-9a0033150cde",
   "metadata": {},
   "outputs": [],
   "source": [
    "# but no modification can be done directly we as programmer provide this access to user\n",
    "# so there is setter property\n",
    "class pwskills1:\n",
    "    \n",
    "    def __init__(self , course_price, course_name):\n",
    "        self.__course_price = course_price\n",
    "        self.course_name = course_name\n",
    "        \n",
    "    @property\n",
    "    def course_price_access(self):\n",
    "        return self.__course_price\n",
    "    \n",
    "    @course_price_access.setter\n",
    "    def course_price_set(self,price):\n",
    "        if price <= 3500:\n",
    "            pass\n",
    "        else:\n",
    "            self.__course_price = price\n",
    "            \n",
    "     #allow user access to delete a private variable\n",
    "    @course_price_access.deleter\n",
    "    def course_price_del(self):\n",
    "        del self.__course_price"
   ]
  },
  {
   "cell_type": "code",
   "execution_count": 153,
   "id": "bec357bf-036e-41b1-98a4-ac3accc2d829",
   "metadata": {},
   "outputs": [],
   "source": [
    "pw1 = pwskills1(3500,\"data science masters\")"
   ]
  },
  {
   "cell_type": "code",
   "execution_count": 146,
   "id": "64085fd8-28c4-416f-a01f-df4195d2f853",
   "metadata": {},
   "outputs": [
    {
     "data": {
      "text/plain": [
       "3500"
      ]
     },
     "execution_count": 146,
     "metadata": {},
     "output_type": "execute_result"
    }
   ],
   "source": [
    "pw1.course_price_access"
   ]
  },
  {
   "cell_type": "code",
   "execution_count": 147,
   "id": "534c053d-b13a-4c4f-9caf-71bff7c2a45f",
   "metadata": {},
   "outputs": [],
   "source": [
    "pw1.course_price_set = 4500"
   ]
  },
  {
   "cell_type": "code",
   "execution_count": 148,
   "id": "7183c1d7-dbac-40cc-a6cd-9aa2fa063d2a",
   "metadata": {},
   "outputs": [
    {
     "data": {
      "text/plain": [
       "4500"
      ]
     },
     "execution_count": 148,
     "metadata": {},
     "output_type": "execute_result"
    }
   ],
   "source": [
    "pw1.course_price_access"
   ]
  },
  {
   "cell_type": "code",
   "execution_count": 154,
   "id": "1086a311-02f6-4f4b-b2ee-064fb0863cf1",
   "metadata": {},
   "outputs": [],
   "source": [
    "del pw1.course_price_del"
   ]
  },
  {
   "cell_type": "code",
   "execution_count": 155,
   "id": "40857ab6-3b0f-4339-9559-f25054510cef",
   "metadata": {},
   "outputs": [
    {
     "ename": "AttributeError",
     "evalue": "'pwskills1' object has no attribute '_pwskills1__course_price'",
     "output_type": "error",
     "traceback": [
      "\u001b[0;31m---------------------------------------------------------------------------\u001b[0m",
      "\u001b[0;31mAttributeError\u001b[0m                            Traceback (most recent call last)",
      "Cell \u001b[0;32mIn[155], line 1\u001b[0m\n\u001b[0;32m----> 1\u001b[0m \u001b[43mpw1\u001b[49m\u001b[38;5;241;43m.\u001b[39;49m\u001b[43mcourse_price_access\u001b[49m\n",
      "Cell \u001b[0;32mIn[152], line 11\u001b[0m, in \u001b[0;36mpwskills1.course_price_access\u001b[0;34m(self)\u001b[0m\n\u001b[1;32m      9\u001b[0m \u001b[38;5;129m@property\u001b[39m\n\u001b[1;32m     10\u001b[0m \u001b[38;5;28;01mdef\u001b[39;00m \u001b[38;5;21mcourse_price_access\u001b[39m(\u001b[38;5;28mself\u001b[39m):\n\u001b[0;32m---> 11\u001b[0m     \u001b[38;5;28;01mreturn\u001b[39;00m \u001b[38;5;28;43mself\u001b[39;49m\u001b[38;5;241;43m.\u001b[39;49m\u001b[43m__course_price\u001b[49m\n",
      "\u001b[0;31mAttributeError\u001b[0m: 'pwskills1' object has no attribute '_pwskills1__course_price'"
     ]
    }
   ],
   "source": [
    "pw1.course_price_access"
   ]
  },
  {
   "cell_type": "code",
   "execution_count": 156,
   "id": "634dfbf9-896b-49dc-92d2-9830dcda3f0f",
   "metadata": {},
   "outputs": [],
   "source": [
    "## private and protected variable --> to expose that varible to outer world we use property decorator\n",
    "## if i have to allow user to set/modify something we use setter\n",
    "## for performing deletion operation on private or protected var we use deleter"
   ]
  },
  {
   "cell_type": "code",
   "execution_count": null,
   "id": "9b74242e-59ef-4626-94ca-fc999f6340cc",
   "metadata": {},
   "outputs": [],
   "source": []
  }
 ],
 "metadata": {
  "kernelspec": {
   "display_name": "Python 3 (ipykernel)",
   "language": "python",
   "name": "python3"
  },
  "language_info": {
   "codemirror_mode": {
    "name": "ipython",
    "version": 3
   },
   "file_extension": ".py",
   "mimetype": "text/x-python",
   "name": "python",
   "nbconvert_exporter": "python",
   "pygments_lexer": "ipython3",
   "version": "3.10.8"
  }
 },
 "nbformat": 4,
 "nbformat_minor": 5
}
