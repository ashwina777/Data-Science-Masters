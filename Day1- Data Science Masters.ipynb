{
 "cells": [
  {
   "cell_type": "code",
   "execution_count": 62,
   "id": "1b537a4b-fc3e-4a32-9d2d-33557b161308",
   "metadata": {},
   "outputs": [
    {
     "data": {
      "text/plain": [
       "20"
      ]
     },
     "execution_count": 62,
     "metadata": {},
     "output_type": "execute_result"
    }
   ],
   "source": [
    "## this is a function\n",
    "a=20\n",
    "a"
   ]
  },
  {
   "cell_type": "code",
   "execution_count": null,
   "id": "8e786399-054e-448f-9ad0-bad7cb85398a",
   "metadata": {},
   "outputs": [],
   "source": [
    "\"\"\" this\n",
    "is a multi-line comment\"\"\"\n",
    "a=20\n",
    "a"
   ]
  },
  {
   "cell_type": "code",
   "execution_count": null,
   "id": "467c6363-27fc-4f8a-b664-d050343e5346",
   "metadata": {},
   "outputs": [],
   "source": []
  },
  {
   "cell_type": "code",
   "execution_count": 1,
   "id": "803e4efa-d165-425e-bc56-d8231fe365c8",
   "metadata": {},
   "outputs": [],
   "source": [
    "a=10"
   ]
  },
  {
   "cell_type": "code",
   "execution_count": 2,
   "id": "2b80009f-013e-49d2-b425-d5e483b6fd44",
   "metadata": {},
   "outputs": [
    {
     "data": {
      "text/plain": [
       "10"
      ]
     },
     "execution_count": 2,
     "metadata": {},
     "output_type": "execute_result"
    }
   ],
   "source": [
    "a"
   ]
  },
  {
   "cell_type": "markdown",
   "id": "1b5eb65a-c9f5-4f44-9a2f-0c7558abf6b3",
   "metadata": {},
   "source": [
    "### I am ashwina\n",
    "## I am doing this data science course\n",
    "# with motu saan"
   ]
  },
  {
   "cell_type": "code",
   "execution_count": 3,
   "id": "d3d0afea-c03c-47e1-b534-1beea1f0b399",
   "metadata": {},
   "outputs": [],
   "source": [
    "# hello world\n",
    "## these are comments\n",
    "# comments are ignored by compiler"
   ]
  },
  {
   "cell_type": "markdown",
   "id": "7ce1bb70-2d55-4ee3-b7e8-7516efe49521",
   "metadata": {},
   "source": [
    "### Number"
   ]
  },
  {
   "cell_type": "code",
   "execution_count": 5,
   "id": "1ac329e2-47c7-415c-9000-b1d14a0cf38a",
   "metadata": {},
   "outputs": [
    {
     "data": {
      "text/plain": [
       "4"
      ]
     },
     "execution_count": 5,
     "metadata": {},
     "output_type": "execute_result"
    }
   ],
   "source": [
    "1+3"
   ]
  },
  {
   "cell_type": "code",
   "execution_count": 6,
   "id": "fbd4d929-3a4e-4e8a-a7f9-dbb10eab5d2b",
   "metadata": {},
   "outputs": [
    {
     "name": "stdout",
     "output_type": "stream",
     "text": [
      "4\n"
     ]
    }
   ],
   "source": [
    "print(1+3) #act as output console"
   ]
  },
  {
   "cell_type": "code",
   "execution_count": 7,
   "id": "ca1b5ffa-66c2-476a-98eb-6233335acccf",
   "metadata": {},
   "outputs": [
    {
     "data": {
      "text/plain": [
       "10"
      ]
     },
     "execution_count": 7,
     "metadata": {},
     "output_type": "execute_result"
    }
   ],
   "source": [
    "a=10\n",
    "a"
   ]
  },
  {
   "cell_type": "code",
   "execution_count": 8,
   "id": "0797e06e-bf6c-49f2-b140-fead7913c38d",
   "metadata": {},
   "outputs": [
    {
     "name": "stdout",
     "output_type": "stream",
     "text": [
      "10\n"
     ]
    }
   ],
   "source": [
    "print(a)"
   ]
  },
  {
   "cell_type": "code",
   "execution_count": 9,
   "id": "0dcf1be3-3d35-4a3b-ab68-ab6a6bf59da2",
   "metadata": {},
   "outputs": [
    {
     "name": "stdout",
     "output_type": "stream",
     "text": [
      "Hello world\n"
     ]
    }
   ],
   "source": [
    "print(\"Hello world\")"
   ]
  },
  {
   "cell_type": "code",
   "execution_count": 11,
   "id": "93575832-1fb3-426d-a325-d277c7b99f4a",
   "metadata": {},
   "outputs": [
    {
     "name": "stdout",
     "output_type": "stream",
     "text": [
      "hello \n",
      " i am ashwina \n"
     ]
    }
   ],
   "source": [
    "print(\"hello \\n i am ashwina \")"
   ]
  },
  {
   "cell_type": "markdown",
   "id": "65bbb3b4-91b3-4413-b207-088ab9459433",
   "metadata": {},
   "source": [
    "## Variables assignment"
   ]
  },
  {
   "cell_type": "code",
   "execution_count": 19,
   "id": "e3083ef4-8968-4378-a3a5-bd8d4ed391ca",
   "metadata": {},
   "outputs": [
    {
     "data": {
      "text/plain": [
       "'Rawat'"
      ]
     },
     "execution_count": 19,
     "metadata": {},
     "output_type": "execute_result"
    }
   ],
   "source": [
    "name=\"Ashwina\"\n",
    "Last_Name='Rawat'\n",
    "Last_Name"
   ]
  },
  {
   "cell_type": "code",
   "execution_count": 15,
   "id": "5b4e9d44-9c25-48d1-b34d-cefe97fff291",
   "metadata": {},
   "outputs": [
    {
     "data": {
      "text/plain": [
       "'Ashwina'"
      ]
     },
     "execution_count": 15,
     "metadata": {},
     "output_type": "execute_result"
    }
   ],
   "source": [
    "name"
   ]
  },
  {
   "cell_type": "code",
   "execution_count": 20,
   "id": "85512347-2b6e-4dcc-bcf4-df1aaa4620c2",
   "metadata": {},
   "outputs": [
    {
     "data": {
      "text/plain": [
       "str"
      ]
     },
     "execution_count": 20,
     "metadata": {},
     "output_type": "execute_result"
    }
   ],
   "source": [
    "type('')"
   ]
  },
  {
   "cell_type": "code",
   "execution_count": 16,
   "id": "5116dcdd-82ca-4009-93a8-fb0bc49c2b65",
   "metadata": {},
   "outputs": [
    {
     "name": "stdout",
     "output_type": "stream",
     "text": [
      "Tushi\n"
     ]
    }
   ],
   "source": [
    "name=\"Tushi\"\n",
    "print(name)"
   ]
  },
  {
   "cell_type": "code",
   "execution_count": 21,
   "id": "d826c244-29a1-4283-a7b5-4dce131caff1",
   "metadata": {},
   "outputs": [
    {
     "data": {
      "text/plain": [
       "str"
      ]
     },
     "execution_count": 21,
     "metadata": {},
     "output_type": "execute_result"
    }
   ],
   "source": [
    "type(name)"
   ]
  },
  {
   "cell_type": "code",
   "execution_count": 22,
   "id": "fe765385-2d37-4b06-998c-5fedf4e4d864",
   "metadata": {},
   "outputs": [],
   "source": [
    "decimal_num=78.87"
   ]
  },
  {
   "cell_type": "code",
   "execution_count": 23,
   "id": "1ad8946d-670a-4662-9cf0-e294e4109db1",
   "metadata": {},
   "outputs": [
    {
     "data": {
      "text/plain": [
       "78.87"
      ]
     },
     "execution_count": 23,
     "metadata": {},
     "output_type": "execute_result"
    }
   ],
   "source": [
    "decimal_num"
   ]
  },
  {
   "cell_type": "code",
   "execution_count": 24,
   "id": "f1d0373f-9e30-4f94-ae10-a714eb5b2ecb",
   "metadata": {},
   "outputs": [
    {
     "data": {
      "text/plain": [
       "float"
      ]
     },
     "execution_count": 24,
     "metadata": {},
     "output_type": "execute_result"
    }
   ],
   "source": [
    "type(decimal_num)"
   ]
  },
  {
   "cell_type": "code",
   "execution_count": 25,
   "id": "e309faa9-2da6-4b04-b386-ace0fa8c2244",
   "metadata": {},
   "outputs": [
    {
     "data": {
      "text/plain": [
       "complex"
      ]
     },
     "execution_count": 25,
     "metadata": {},
     "output_type": "execute_result"
    }
   ],
   "source": [
    "type(1+2j) #complex number"
   ]
  },
  {
   "cell_type": "code",
   "execution_count": 26,
   "id": "f913a934-c209-4a68-abfc-d326e3e25a0b",
   "metadata": {},
   "outputs": [],
   "source": [
    "## don't start variable name with number"
   ]
  },
  {
   "cell_type": "code",
   "execution_count": 28,
   "id": "2377f445-a461-4d90-9feb-552d5eaf67b2",
   "metadata": {},
   "outputs": [],
   "source": [
    "## variables are case sensitive\n",
    "name='ash'\n",
    "Name='ashwina'"
   ]
  },
  {
   "cell_type": "code",
   "execution_count": 29,
   "id": "a832d3c2-d548-4a65-a820-3afa9cf8c942",
   "metadata": {},
   "outputs": [
    {
     "data": {
      "text/plain": [
       "'ash'"
      ]
     },
     "execution_count": 29,
     "metadata": {},
     "output_type": "execute_result"
    }
   ],
   "source": [
    "name"
   ]
  },
  {
   "cell_type": "code",
   "execution_count": 30,
   "id": "5a85d755-c416-4257-a621-5da8e5d7378c",
   "metadata": {},
   "outputs": [
    {
     "data": {
      "text/plain": [
       "'ashwina'"
      ]
     },
     "execution_count": 30,
     "metadata": {},
     "output_type": "execute_result"
    }
   ],
   "source": [
    "Name"
   ]
  },
  {
   "cell_type": "code",
   "execution_count": null,
   "id": "cd9169dc-b75f-4322-a94f-fdefa900888f",
   "metadata": {},
   "outputs": [],
   "source": [
    "## Reserved keyword\n",
    "...\n",
    "int, float,len,complex,bool,str,return,yield\n",
    "..."
   ]
  },
  {
   "cell_type": "code",
   "execution_count": 32,
   "id": "ee8aa113-a213-41bc-87a5-98bfe0d2d779",
   "metadata": {},
   "outputs": [
    {
     "data": {
      "text/plain": [
       "True"
      ]
     },
     "execution_count": 32,
     "metadata": {},
     "output_type": "execute_result"
    }
   ],
   "source": [
    "# boolean\n",
    "True"
   ]
  },
  {
   "cell_type": "code",
   "execution_count": 33,
   "id": "e283716c-9e8a-4925-ae74-034cb793b27d",
   "metadata": {},
   "outputs": [
    {
     "data": {
      "text/plain": [
       "False"
      ]
     },
     "execution_count": 33,
     "metadata": {},
     "output_type": "execute_result"
    }
   ],
   "source": [
    "False"
   ]
  },
  {
   "cell_type": "code",
   "execution_count": 34,
   "id": "2db73b8c-3242-4e2c-be23-d528b02a468c",
   "metadata": {},
   "outputs": [
    {
     "data": {
      "text/plain": [
       "False"
      ]
     },
     "execution_count": 34,
     "metadata": {},
     "output_type": "execute_result"
    }
   ],
   "source": [
    "True and False"
   ]
  },
  {
   "cell_type": "code",
   "execution_count": 35,
   "id": "1006ee07-ab57-445f-be36-e0de0511fd7e",
   "metadata": {},
   "outputs": [
    {
     "data": {
      "text/plain": [
       "True"
      ]
     },
     "execution_count": 35,
     "metadata": {},
     "output_type": "execute_result"
    }
   ],
   "source": [
    "True or False"
   ]
  },
  {
   "cell_type": "code",
   "execution_count": 36,
   "id": "bfb6f843-a5f8-4b9b-82e6-de4f361354cc",
   "metadata": {},
   "outputs": [
    {
     "data": {
      "text/plain": [
       "False"
      ]
     },
     "execution_count": 36,
     "metadata": {},
     "output_type": "execute_result"
    }
   ],
   "source": [
    "not True"
   ]
  },
  {
   "cell_type": "code",
   "execution_count": 38,
   "id": "bd7674e6-413d-4130-b817-32407ebaf6dd",
   "metadata": {},
   "outputs": [
    {
     "data": {
      "text/plain": [
       "True"
      ]
     },
     "execution_count": 38,
     "metadata": {},
     "output_type": "execute_result"
    }
   ],
   "source": [
    "not False"
   ]
  },
  {
   "cell_type": "code",
   "execution_count": 39,
   "id": "f1266d92-cab0-413b-a0ec-f3bdf9fab2c8",
   "metadata": {},
   "outputs": [
    {
     "data": {
      "text/plain": [
       "bool"
      ]
     },
     "execution_count": 39,
     "metadata": {},
     "output_type": "execute_result"
    }
   ],
   "source": [
    "type(not False)"
   ]
  },
  {
   "cell_type": "code",
   "execution_count": 50,
   "id": "3310d3b2-9f68-424a-8861-a038aac72bda",
   "metadata": {},
   "outputs": [
    {
     "data": {
      "text/plain": [
       "False"
      ]
     },
     "execution_count": 50,
     "metadata": {},
     "output_type": "execute_result"
    }
   ],
   "source": [
    "## TYpecasting coverting number into boolean value\n",
    "bool(0)"
   ]
  },
  {
   "cell_type": "code",
   "execution_count": 41,
   "id": "25e5fb28-e208-4e21-b030-d458604a80d0",
   "metadata": {},
   "outputs": [
    {
     "data": {
      "text/plain": [
       "True"
      ]
     },
     "execution_count": 41,
     "metadata": {},
     "output_type": "execute_result"
    }
   ],
   "source": [
    "bool(1)"
   ]
  },
  {
   "cell_type": "code",
   "execution_count": 51,
   "id": "cd74e83a-d109-4657-818b-a7fdefc227b9",
   "metadata": {},
   "outputs": [
    {
     "data": {
      "text/plain": [
       "'23'"
      ]
     },
     "execution_count": 51,
     "metadata": {},
     "output_type": "execute_result"
    }
   ],
   "source": [
    "str(23)"
   ]
  },
  {
   "cell_type": "code",
   "execution_count": 52,
   "id": "d4d188db-f903-4cc4-80db-22549284f0df",
   "metadata": {},
   "outputs": [
    {
     "data": {
      "text/plain": [
       "23"
      ]
     },
     "execution_count": 52,
     "metadata": {},
     "output_type": "execute_result"
    }
   ],
   "source": [
    "int('23')"
   ]
  },
  {
   "cell_type": "code",
   "execution_count": 53,
   "id": "51faf55f-963d-4461-a4f3-4b5390708c5a",
   "metadata": {},
   "outputs": [
    {
     "data": {
      "text/plain": [
       "int"
      ]
     },
     "execution_count": 53,
     "metadata": {},
     "output_type": "execute_result"
    }
   ],
   "source": [
    "type(int('23'))"
   ]
  },
  {
   "cell_type": "markdown",
   "id": "c173c684-d015-40dc-b734-b5d3f856af77",
   "metadata": {},
   "source": [
    "## Dynamic Typing"
   ]
  },
  {
   "cell_type": "code",
   "execution_count": 54,
   "id": "082fe376-7790-4de6-8364-1982c2418062",
   "metadata": {},
   "outputs": [],
   "source": [
    " ##compiler at run time will know the type of variable "
   ]
  },
  {
   "cell_type": "code",
   "execution_count": 55,
   "id": "4fdcefce-69ec-4e87-aefd-c60fc08c616b",
   "metadata": {},
   "outputs": [],
   "source": [
    "a=12\n",
    "strl='ASH'\n",
    "a=\"var\""
   ]
  },
  {
   "cell_type": "code",
   "execution_count": 57,
   "id": "76e61866-ac97-4aad-8234-058fc4dcbe3f",
   "metadata": {},
   "outputs": [
    {
     "name": "stdout",
     "output_type": "stream",
     "text": [
      "<class 'str'>\n"
     ]
    }
   ],
   "source": [
    "print(type(a))"
   ]
  },
  {
   "cell_type": "code",
   "execution_count": 58,
   "id": "91e98a99-788f-4bb9-b6ba-43f8768d07f1",
   "metadata": {},
   "outputs": [
    {
     "data": {
      "text/plain": [
       "1"
      ]
     },
     "execution_count": 58,
     "metadata": {},
     "output_type": "execute_result"
    }
   ],
   "source": [
    "int(1.43)"
   ]
  },
  {
   "cell_type": "code",
   "execution_count": 59,
   "id": "5d458746-cb65-4c77-92b6-7cd36fcc9d04",
   "metadata": {},
   "outputs": [],
   "source": [
    "## concatenation between different types"
   ]
  },
  {
   "cell_type": "code",
   "execution_count": 60,
   "id": "05dbf7ae-3a3e-4921-bdd4-6c168f5dcdfc",
   "metadata": {},
   "outputs": [
    {
     "data": {
      "text/plain": [
       "'11'"
      ]
     },
     "execution_count": 60,
     "metadata": {},
     "output_type": "execute_result"
    }
   ],
   "source": [
    "\"1\" + \"1\""
   ]
  },
  {
   "cell_type": "code",
   "execution_count": 61,
   "id": "98ad5f7e-e69e-42cb-bd6a-0405a823855a",
   "metadata": {},
   "outputs": [
    {
     "data": {
      "text/plain": [
       "'1111111111111111111111111111111111111111111111111111111111111111111111111111111111111111111111111111'"
      ]
     },
     "execution_count": 61,
     "metadata": {},
     "output_type": "execute_result"
    }
   ],
   "source": [
    "\"1\" * 100"
   ]
  },
  {
   "cell_type": "code",
   "execution_count": null,
   "id": "06bf5299-75a5-45c6-add8-fe7d5bcb2263",
   "metadata": {},
   "outputs": [],
   "source": []
  }
 ],
 "metadata": {
  "kernelspec": {
   "display_name": "Python 3 (ipykernel)",
   "language": "python",
   "name": "python3"
  },
  "language_info": {
   "codemirror_mode": {
    "name": "ipython",
    "version": 3
   },
   "file_extension": ".py",
   "mimetype": "text/x-python",
   "name": "python",
   "nbconvert_exporter": "python",
   "pygments_lexer": "ipython3",
   "version": "3.10.8"
  }
 },
 "nbformat": 4,
 "nbformat_minor": 5
}
