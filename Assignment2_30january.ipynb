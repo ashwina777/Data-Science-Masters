{
 "cells": [
  {
   "cell_type": "markdown",
   "id": "19d7ddf4-3a9a-4b64-9ffc-a9bd623307bf",
   "metadata": {},
   "source": [
    "#### 1.Write a program to accept percentage from user and display the grade according to the following criteria:-\n",
    "\n",
    "|MARKS|GRADE|\n",
    "|:-:|:-:|\n",
    "| **>90** | A |\n",
    "| **>80 and <=90** | B |\n",
    "| **>=60 and <=80** | C |\n",
    "| **below 60** | D |\n"
   ]
  },
  {
   "cell_type": "code",
   "execution_count": 9,
   "id": "b60534d3-05e3-40d8-9136-fd0b1600058e",
   "metadata": {},
   "outputs": [
    {
     "name": "stdout",
     "output_type": "stream",
     "text": [
      "Enter you percentage 80.5\n",
      " Your Grade is B\n"
     ]
    }
   ],
   "source": [
    "per = float(input('Enter you percentage'))\n",
    "if per > 90:\n",
    "    print(' Your Grade is A')\n",
    "elif per > 80 and per <=90:\n",
    "        print(' Your Grade is B')\n",
    "elif per >= 60 and per <=80:\n",
    "        print(' Your Grade is C')\n",
    "else:\n",
    "            print(' Your Grade is D')\n",
    "        "
   ]
  },
  {
   "cell_type": "markdown",
   "id": "15df9409-40ea-42ef-bd4d-0ee140e813bb",
   "metadata": {},
   "source": [
    "#### 2.Write a program to accept the cost price of bike and dispay the road tax to be paid according to the following criteria:-\n",
    "\n",
    "|TAX|Cost Price(in Rs)|\n",
    "|:-:|:-:|\n",
    "| **15%** | >100000 |\n",
    "| **10%** | >50000 and <= 100000 |\n",
    "| **5%** | <=50000 |\n"
   ]
  },
  {
   "cell_type": "code",
   "execution_count": 30,
   "id": "7b7b53e1-2023-467b-b4fd-72cfda9f427e",
   "metadata": {},
   "outputs": [
    {
     "name": "stdout",
     "output_type": "stream",
     "text": [
      "Enter the cost price of the bike: 50123\n",
      "Tax 10%\n",
      "Road tax to be paid: 5012.3\n"
     ]
    }
   ],
   "source": [
    "cost_price = float(input(\"Enter the cost price of the bike:\"))\n",
    "if cost_price > 100000:\n",
    "    print('Tax 15%')\n",
    "    road_tax = cost_price * 0.15\n",
    "elif cost_price > 50000 and cost_price <= 100000:\n",
    "    print('Tax 10%')\n",
    "    road_tax = cost_price * 0.10\n",
    "else:\n",
    "    print('Tax 5%')\n",
    "    road_tax = cost_price * 0.05\n",
    "print(\"Road tax to be paid:\", road_tax)\n"
   ]
  },
  {
   "cell_type": "markdown",
   "id": "347204e0-b729-4d82-97a9-c8fffc4ad504",
   "metadata": {},
   "source": [
    "#### 3.Accept any city from the user and display monoments of that city:-\n",
    "\n",
    "| City | Monument |\n",
    "|:-:|:-:|\n",
    "| **Delhi** | Red Fort |\n",
    "| **Agra** | Taj Mahal |\n",
    "| **Jaipur** | Jal Mahal |\n"
   ]
  },
  {
   "cell_type": "code",
   "execution_count": 31,
   "id": "464f9ca5-db22-4c99-a770-88b60ea89478",
   "metadata": {},
   "outputs": [
    {
     "name": "stdout",
     "output_type": "stream",
     "text": [
      "Enter the city Agra\n",
      "Monument - Taj Mahal\n"
     ]
    }
   ],
   "source": [
    "city=input('Enter the city')\n",
    "if city == 'Delhi':\n",
    "    print('Monumnet - Red fort')\n",
    "elif city == 'Agra':\n",
    "    print('Monument - Taj Mahal')\n",
    "elif city == 'Jaipur':\n",
    "     print('Monument - Jal Mahal')\n",
    "else:\n",
    "    print('monument not found!')\n"
   ]
  },
  {
   "cell_type": "code",
   "execution_count": 2,
   "id": "d567764a-c6be-4c3e-bc8f-fd503c379620",
   "metadata": {},
   "outputs": [
    {
     "name": "stdin",
     "output_type": "stream",
     "text": [
      "Enter any number 3456\n"
     ]
    },
    {
     "name": "stdout",
     "output_type": "stream",
     "text": [
      "6\n"
     ]
    }
   ],
   "source": [
    "# 4.check how many times a given number can be divided by 3 before it is less than or equal to 10.\n",
    "num=int(input('Enter any number'))\n",
    "count = 0\n",
    "while num > 10:\n",
    "        num /= 3\n",
    "        count += 1\n",
    "print(count)"
   ]
  },
  {
   "cell_type": "markdown",
   "id": "94c37772-b45a-40a4-83d8-eeaa58163845",
   "metadata": {},
   "source": [
    "5.why and when to use while loop in Python give a detailed description with example.<br>\n",
    "The while loop in Python is used when you want to repeatedly execute a block of code as long as a certain condition is true. The basic syntax of a while loop in Python is as follows:<br>\n",
    "while condition:<br>\n",
    "    # Code to be executed<br>\n",
    "    # ...<br>\n",
    "    # ...<br>\n",
    "    # ...<br>\n",
    "    # Code to update the condition<br>\n",
    "    # ...<br>\n",
    "The condition in the while loop is evaluated before each iteration of the loop. If the condition is true, the code inside the loop is executed. If the condition becomes false, the loop terminates and the program continues with the next statement after the loop.<br>\n",
    "\n",
    "Here is an example of using a while loop in Python to print the first 10 positive numbers:<br>\n",
    "\n",
    "count = 1<br>\n",
    "while count <= 10:<br>\n",
    "    print(count)<br>\n",
    "    count += 1<br>\n",
    "    \n",
    "The output of this program will be:<br>\n",
    "1<br>\n",
    "2<br>\n",
    "3<br>\n",
    "4<br>\n",
    "5<br>\n",
    "6<br>\n",
    "7<br>\n",
    "8<br>\n",
    "9<br>\n",
    "10<br>\n",
    "You should use a while loop when you don't know in advance how many times you need to repeat a block of code. For example, you might use a while loop to continuously prompt the user for input until they enter a valid value. On the other hand, if you know exactly how many times you want to repeat a block of code, it's usually more appropriate to use a for loop "
   ]
  },
  {
   "cell_type": "code",
   "execution_count": 8,
   "id": "84aa4890-eaab-4a46-98a8-29aaa7ef682d",
   "metadata": {},
   "outputs": [
    {
     "name": "stdout",
     "output_type": "stream",
     "text": [
      "10\n",
      "9\n",
      "8\n",
      "7\n",
      "6\n",
      "5\n",
      "4\n",
      "3\n",
      "2\n",
      "1\n"
     ]
    }
   ],
   "source": [
    "# 7.Reverse a while loop to display from 10 to 1.\n",
    "n = 10\n",
    "while n >= 1:\n",
    "    print(n)\n",
    "    n-=1"
   ]
  },
  {
   "cell_type": "code",
   "execution_count": 23,
   "id": "34353897-3a7f-4b72-bd80-ffa7c8407b83",
   "metadata": {},
   "outputs": [
    {
     "name": "stdin",
     "output_type": "stream",
     "text": [
      "Enter any number 8\n"
     ]
    },
    {
     "name": "stdout",
     "output_type": "stream",
     "text": [
      "\n",
      "\n",
      "*\n",
      "\n",
      "**\n",
      "\n",
      "***\n",
      "\n",
      "****\n",
      "\n",
      "*****\n",
      "\n",
      "******\n",
      "\n",
      "*******\n",
      "\n"
     ]
    }
   ],
   "source": [
    "# 6. Use nested while loop to print 3 different pattern.\n",
    "n=int(input('Enter any number'))\n",
    "for i in range(n):\n",
    "\n",
    "    for j in range(i):\n",
    "         print('*',end='')\n",
    "    print('\\n')"
   ]
  },
  {
   "cell_type": "code",
   "execution_count": 32,
   "id": "adc13b7e-ac06-4c57-980b-449c183205d0",
   "metadata": {},
   "outputs": [
    {
     "name": "stdin",
     "output_type": "stream",
     "text": [
      "Enter any number 8\n"
     ]
    },
    {
     "name": "stdout",
     "output_type": "stream",
     "text": [
      "*******\n",
      "\n",
      "******\n",
      "\n",
      "*****\n",
      "\n",
      "****\n",
      "\n",
      "***\n",
      "\n",
      "**\n",
      "\n",
      "*\n",
      "\n",
      "\n",
      "\n"
     ]
    }
   ],
   "source": [
    "# 6. Use nested while loop to print 3 different pattern.\n",
    "n=int(input('Enter any number'))\n",
    "for i in reversed(range(n)):\n",
    "\n",
    "    for j in range(i):\n",
    "         print('*',end='')\n",
    "    print('\\n')"
   ]
  },
  {
   "cell_type": "code",
   "execution_count": 35,
   "id": "2d295e1a-901b-4e8f-a2fd-aeb51318735d",
   "metadata": {},
   "outputs": [
    {
     "name": "stdin",
     "output_type": "stream",
     "text": [
      "Enter any number 8\n"
     ]
    },
    {
     "name": "stdout",
     "output_type": "stream",
     "text": [
      "\n",
      "\n",
      "*\n",
      "\n",
      "**\n",
      "\n",
      "***\n",
      "\n",
      "****\n",
      "\n",
      "*****\n",
      "\n",
      "******\n",
      "\n",
      "*******\n",
      "\n",
      "*******\n",
      "\n",
      "******\n",
      "\n",
      "*****\n",
      "\n",
      "****\n",
      "\n",
      "***\n",
      "\n",
      "**\n",
      "\n",
      "*\n",
      "\n",
      "\n",
      "\n"
     ]
    }
   ],
   "source": [
    "# 6. Use nested while loop to print 3 different pattern.\n",
    "n=int(input('Enter any number'))\n",
    "for i in range(n):\n",
    "\n",
    "    for j in range(i):\n",
    "         print('*',end='')\n",
    "    print('\\n')\n",
    "for k in reversed(range(n)):\n",
    "\n",
    "    for l in range(k):\n",
    "         print('*',end='')\n",
    "    print('\\n')    "
   ]
  },
  {
   "cell_type": "code",
   "execution_count": null,
   "id": "09691b17-f4ca-4900-8bbf-37971c22828b",
   "metadata": {},
   "outputs": [],
   "source": []
  }
 ],
 "metadata": {
  "kernelspec": {
   "display_name": "Python 3 (ipykernel)",
   "language": "python",
   "name": "python3"
  },
  "language_info": {
   "codemirror_mode": {
    "name": "ipython",
    "version": 3
   },
   "file_extension": ".py",
   "mimetype": "text/x-python",
   "name": "python",
   "nbconvert_exporter": "python",
   "pygments_lexer": "ipython3",
   "version": "3.10.8"
  }
 },
 "nbformat": 4,
 "nbformat_minor": 5
}
