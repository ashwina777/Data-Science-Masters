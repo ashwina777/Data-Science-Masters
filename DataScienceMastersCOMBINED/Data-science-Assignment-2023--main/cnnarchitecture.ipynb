{
  "cells": [
    {
      "cell_type": "markdown",
      "id": "a0b26762-eee4-4e56-a8fa-b9abaaad8a22",
      "metadata": {
        "id": "a0b26762-eee4-4e56-a8fa-b9abaaad8a22"
      },
      "source": [
        "Q.1 Describe the purpose and benefits of pooling in CNN\n",
        "\n",
        "Pooling in Convolutional Neural Networks (CNNs) is like a team huddle for the network. Its purpose is to simplify and summarize the information it gathers.\n",
        "magine you're looking at a big picture, like a puzzle. Pooling helps by zooming out a bit and focusing on the essential parts. It's like taking groups of puzzle pieces and replacing them with a single representative piece. This way, the network doesn't get overwhelmed with too much detail.\n",
        "\n",
        "- The benefits of pooling are twofold:\n",
        "\n",
        "1. Reducing Size: Pooling makes the picture smaller by keeping the main points. Imagine you're showing someone a drawing, and you want to give them a quick idea without all the tiny details. Pooling does that for the neural network—it keeps the crucial features and tosses away the less important stuff.\n",
        "2. Enhancing Patterns: By focusing on the important parts, pooling helps the network recognize patterns better. It's like saying, \"These big shapes are what really matter in understanding what's going on.\" It helps the network learn the essential aspects of an image or data, making it more efficient and effective."
      ]
    },
    {
      "cell_type": "markdown",
      "id": "747598ac-4fb2-4bc5-82a5-e2df9124b9db",
      "metadata": {
        "id": "747598ac-4fb2-4bc5-82a5-e2df9124b9db"
      },
      "source": [
        "Q.2 Explain the difference between min pooling and max pooling\n",
        "\n",
        "- Min Pooling:\n",
        "    Min pooling is like finding the lowest number in a set. If you're looking at temperatures in different cities, min pooling would be saying, \"Let's pay attention to the coolest temperature in each group, and ignore the warmer ones.\" It's about emphasizing the smallest or least value.\n",
        "- Max Pooling:\n",
        "    Imagine you have a bunch of numbers, like scores in a game. Max pooling is like picking the highest score from a group. So, if you're playing a video game, max pooling would be saying, \"Okay, let's only focus on the highest score in each group, and forget about the others.\" It's all about highlighting the biggest or most significant value.\n",
        "    \n",
        "    In both cases, whether you're picking the highest (max pooling) or the lowest (min pooling), the idea is to simplify the information and focus on the extremes, helping the neural network to grasp the essential features of the data."
      ]
    },
    {
      "cell_type": "markdown",
      "id": "ce95a0b3-c495-45e1-9495-fbba261d49d1",
      "metadata": {
        "id": "ce95a0b3-c495-45e1-9495-fbba261d49d1"
      },
      "source": [
        "Q.3 Discuss the concept of padding in CNN and its significance.\n",
        "\n",
        "- Padding in Convolutional Neural Networks (CNNs) is like adding a little buffer around a picture or an image.\n",
        "\n",
        "- Imagine you're playing with a toy puzzle, and it's too big for the table. If you want to make sure you see all the pieces and their edges, you might put the puzzle in the middle of the table and add some extra space around it. This extra space is like padding.\n",
        "\n",
        "- In CNNs, padding adds extra pixels around the edges of an image before applying filters or convolutional operations. The significance of this is to prevent losing information at the edges. When we apply filters to an image, the pixels at the edges might not get as much attention, and we could miss important details there. Padding ensures that the information at the edges gets considered just as much as the rest.\n",
        "\n",
        "- So, in simple terms, padding is like making sure your puzzle (or image) has enough space around it, so you don't miss any pieces (or details) when the neural network is doing its job. It helps keep all the information intact."
      ]
    },
    {
      "cell_type": "markdown",
      "id": "2440e3ca-94b4-43de-bffc-5070e35a6a01",
      "metadata": {
        "id": "2440e3ca-94b4-43de-bffc-5070e35a6a01"
      },
      "source": [
        "Q.4 compare and contrast zero-padding in CNN and its significance.\n",
        "\n",
        "Zero-padding in CNN:\n",
        "\n",
        "Definition:\n",
        "\n",
        "- Zero-padding involves adding extra pixels with a value of zero around the edges of an image before applying convolutional operations.\n",
        "\n",
        "Significance:\n",
        "\n",
        "1. Preserving Information:\n",
        " - Zero-padding helps maintain the original size of the input. Without padding, the size of the image shrinks as the convolutional layers are applied, potentially losing information from the edges.\n",
        "\n",
        "2. Edge Information:\n",
        "\n",
        "- It ensures that pixels at the edges of the image are adequately considered during convolution. This is important for detecting features at the image boundary.\n",
        "\n",
        "3. Centering:\n",
        "- Padding also helps in centering the kernel (the filter used for convolution) on the pixels of the image, allowing for more accurate feature extraction.\n",
        "\n",
        "Contrast:\n",
        "\n",
        "1. No Padding:\n",
        "\n",
        "- Without padding, convolutional operations can neglect information at the borders, making the output feature map smaller.\n",
        "\n",
        "2. Padding with Zeros:\n",
        "\n",
        "- Zero-padding specifically involves adding zero-valued pixels. This is different from other types of padding where additional values might be added based on certain rules."
      ]
    },
    {
      "cell_type": "markdown",
      "id": "d8cc89cd-535d-4f15-a4f6-c6eb287c4208",
      "metadata": {
        "id": "d8cc89cd-535d-4f15-a4f6-c6eb287c4208"
      },
      "source": [
        "TOPIC: Exploring LeNet\n",
        "Q1 . Provide a brief overview of LeNet-5 architecture.\n",
        "\n",
        "LeNet-5 is like a little brain for computers that helps them understand pictures. Imagine you want a computer to recognize handwritten numbers, like when you write \"1\" or \"7\" on a piece of paper. LeNet-5 is a special arrangement of computer parts that makes this possible.\n",
        "\n",
        "1. Input Layer:\n",
        "\n",
        "It's like the computer's eyes that see the handwritten number.\n",
        "\n",
        "2. Convolutional Layers:\n",
        "\n",
        "These layers are like special filters that find important patterns in the numbers. They help the computer understand the curves and lines.\n",
        "\n",
        "3. Pooling Layers:\n",
        "\n",
        "Imagine you're playing a game, and you want to focus on the most important parts. Pooling is like zooming out a bit and saying, \"Okay, let's just look at the main things in the picture.\"\n",
        "\n",
        "4. Fully Connected Layers:\n",
        "\n",
        "After understanding the patterns, the computer connects the dots to figure out which number you wrote. It's like your brain making sense of what your eyes see.\n",
        "\n",
        "5. Output Layer:\n",
        "\n",
        "This layer is like the computer's mouth. It says, \"Hey, I think you wrote the number '5'!\" or whatever number it figured out.\n",
        "\n",
        "In simple terms, LeNet-5 is a smart computer arrangement that looks at handwritten numbers, finds patterns, and tells you what number it thinks you wrote. It's like a little helper for recognizing and understanding handwritten digits.\n"
      ]
    },
    {
      "cell_type": "markdown",
      "id": "0345c285-f074-4d31-82c7-e35be07cba81",
      "metadata": {
        "id": "0345c285-f074-4d31-82c7-e35be07cba81"
      },
      "source": [
        "Q2. Describe the key components of LeNet-5 and their respective purposes.\n",
        "\n",
        "1. Input Layer (Eyes):\n",
        "\n",
        "- This is where the computer looks at the handwritten number. It's like the eyes of the computer, taking in the picture of what you wrote.\n",
        "\n",
        "2. Convolutional Layers (Pattern Finders):\n",
        "- These are like special filters that search for important patterns in the numbers. They help the computer understand things like curves and lines.\n",
        "\n",
        "3. Pooling Layers (Zoom Out):\n",
        "- Imagine you're looking at a big picture, and you want to focus on the important stuff. Pooling is like zooming out a bit and saying, \"Let's just look at the main things in the picture.\"\n",
        "\n",
        "4. Fully Connected Layers (Connecting Dots):\n",
        "- After understanding the patterns, the computer connects the dots to figure out which number you wrote. It's like your brain making sense of what your eyes saw.\n",
        "\n",
        "5. Output Layer (Mouth):\n",
        "- This is where the computer says, \"Hey, I think you wrote the number '5'!\" or whatever number it figured out. It's like the computer's way of talking and telling you its guess.\n",
        "\n",
        "In a nutshell, LeNet-5 is like a little computer detective. It uses its \"eyes\" to see the number, special \"filters\" to find patterns, \"zooms out\" to focus on important parts, \"connects the dots\" to understand the number, and then \"talks\" to tell you what it thinks you wrote."
      ]
    },
    {
      "cell_type": "markdown",
      "id": "d1539bc2-b8ee-44a8-a1c2-c7b6c2c18bb1",
      "metadata": {
        "id": "d1539bc2-b8ee-44a8-a1c2-c7b6c2c18bb1"
      },
      "source": [
        "Q3. Discuss the advantages and limitations of LeNet-5 in the context of image classification tasks\n",
        "\n",
        "1. Pioneer in CNNs:\n",
        "- LeNet-5 was one of the first successful Convolutional Neural Networks (CNNs) designed for image recognition tasks. It paved the way for more advanced architectures.\n",
        "\n",
        "2. Effective for Handwritten Digits:\n",
        "- LeNet-5 is particularly good at recognizing handwritten digits, making it suitable for tasks like digit recognition in postal codes or checks.\n",
        "\n",
        "3. Hierarchical Feature Learning:\n",
        "- The convolutional and pooling layers in LeNet-5 allow it to learn hierarchical features, capturing simple details in early layers and combining them for more complex patterns in later layers.\n",
        "\n",
        "4. Translation Invariance:\n",
        "\n",
        "- The use of convolutional and pooling layers provides some level of translation invariance, meaning it can recognize patterns regardless of their position in the image.\n",
        "\n",
        "5. Memory Efficiency:\n",
        "- LeNet-5 is designed to be memory-efficient, making it suitable for early hardware constraints when it was developed.\n",
        "\n",
        " Limitations of LeNet-5:\n",
        "\n",
        "1. Limited Complexity:\n",
        "\n",
        "- LeNet-5 may struggle with more complex image recognition tasks, especially those involving intricate patterns or high-resolution images, as it was designed for simpler handwritten digit recognition.\n",
        "\n",
        "2. Not Deep Enough:\n",
        "- Compared to modern CNN architectures, LeNet-5 is relatively shallow. Deeper networks often perform better on more challenging tasks by learning more intricate features.\n",
        "\n",
        "3. Overfitting Risk:\n",
        "\n",
        "- In some cases, LeNet-5 may be prone to overfitting, particularly when dealing with a limited amount of data. Overfitting occurs when the model becomes too specialized in the training data and performs poorly on new, unseen data.\n",
        "\n",
        "4. Less Adaptive to Variations:\n",
        "\n",
        "- LeNet-5 may struggle with variations in orientation, scale, or lighting in images. More recent architectures include additional features to handle these variations better.\n",
        "\n",
        "5. Not State-of-the-Art:\n",
        "\n",
        "- While groundbreaking in its time, LeNet-5 is now considered somewhat outdated. State-of-the-art models like ResNet, Inception, or more recent architectures often outperform LeNet-5 on a variety of image classification tasks."
      ]
    },
    {
      "cell_type": "code",
      "execution_count": 1,
      "id": "a02687f8-6c27-44fe-a122-f1ed31c9812c",
      "metadata": {
        "colab": {
          "base_uri": "https://localhost:8080/"
        },
        "id": "a02687f8-6c27-44fe-a122-f1ed31c9812c",
        "outputId": "dd858bf8-9554-4adf-b46a-4b2d0945341a"
      },
      "outputs": [
        {
          "output_type": "stream",
          "name": "stdout",
          "text": [
            "Epoch 1/10\n",
            "1563/1563 [==============================] - 75s 47ms/step - loss: 1.6376 - accuracy: 0.4003 - val_loss: 1.2923 - val_accuracy: 0.5393\n",
            "Epoch 2/10\n",
            "1563/1563 [==============================] - 72s 46ms/step - loss: 1.3236 - accuracy: 0.5280 - val_loss: 1.1188 - val_accuracy: 0.6110\n",
            "Epoch 3/10\n",
            "1563/1563 [==============================] - 71s 45ms/step - loss: 1.1824 - accuracy: 0.5837 - val_loss: 1.0205 - val_accuracy: 0.6433\n",
            "Epoch 4/10\n",
            "1563/1563 [==============================] - 72s 46ms/step - loss: 1.0984 - accuracy: 0.6125 - val_loss: 0.9905 - val_accuracy: 0.6604\n",
            "Epoch 5/10\n",
            "1563/1563 [==============================] - 75s 48ms/step - loss: 1.0339 - accuracy: 0.6389 - val_loss: 0.9245 - val_accuracy: 0.6841\n",
            "Epoch 6/10\n",
            "1563/1563 [==============================] - 73s 47ms/step - loss: 0.9821 - accuracy: 0.6538 - val_loss: 0.9026 - val_accuracy: 0.6880\n",
            "Epoch 7/10\n",
            "1563/1563 [==============================] - 73s 47ms/step - loss: 0.9393 - accuracy: 0.6706 - val_loss: 0.9114 - val_accuracy: 0.6841\n",
            "Epoch 8/10\n",
            "1563/1563 [==============================] - 70s 45ms/step - loss: 0.8994 - accuracy: 0.6847 - val_loss: 0.8929 - val_accuracy: 0.6950\n",
            "Epoch 9/10\n",
            "1563/1563 [==============================] - 72s 46ms/step - loss: 0.8654 - accuracy: 0.6933 - val_loss: 0.8660 - val_accuracy: 0.7042\n",
            "Epoch 10/10\n",
            "1563/1563 [==============================] - 78s 50ms/step - loss: 0.8326 - accuracy: 0.7062 - val_loss: 0.8485 - val_accuracy: 0.7078\n",
            "313/313 [==============================] - 4s 12ms/step - loss: 0.8485 - accuracy: 0.7078\n",
            "Test Accuracy: 0.7077999711036682\n"
          ]
        }
      ],
      "source": [
        "import tensorflow as tf\n",
        "from tensorflow.keras import layers, models, datasets, optimizers\n",
        "from tensorflow.keras.callbacks import EarlyStopping\n",
        "\n",
        "# Load CIFAR-10 dataset\n",
        "(train_images, train_labels), (test_images, test_labels) = datasets.cifar10.load_data()\n",
        "train_images, test_images = train_images / 255.0, test_images / 255.0\n",
        "\n",
        "# Define a simplified model\n",
        "model = models.Sequential()\n",
        "model.add(layers.Conv2D(32, (3, 3), activation='relu', input_shape=(32, 32, 3)))\n",
        "model.add(layers.MaxPooling2D((2, 2)))\n",
        "model.add(layers.Conv2D(64, (3, 3), activation='relu'))\n",
        "model.add(layers.MaxPooling2D((2, 2)))\n",
        "model.add(layers.Flatten())\n",
        "model.add(layers.Dense(128, activation='relu'))\n",
        "model.add(layers.Dropout(0.5))\n",
        "model.add(layers.Dense(10, activation='softmax'))\n",
        "\n",
        "# Compile the model\n",
        "model.compile(optimizer='adam', loss='sparse_categorical_crossentropy', metrics=['accuracy'])\n",
        "\n",
        "# Early Stopping\n",
        "early_stopping = EarlyStopping(monitor='val_loss', patience=3, restore_best_weights=True)\n",
        "\n",
        "# Train the model with modified settings\n",
        "model.fit(\n",
        "    train_images, train_labels, epochs=10,\n",
        "    validation_data=(test_images, test_labels),\n",
        "    callbacks=[early_stopping]\n",
        ")\n",
        "\n",
        "# Evaluate the model\n",
        "test_loss, test_acc = model.evaluate(test_images, test_labels)\n",
        "print(f'Test Accuracy: {test_acc}')\n"
      ]
    },
    {
      "cell_type": "code",
      "execution_count": null,
      "id": "ca71a5ba-d3aa-4810-81cf-cfb19c3bd4e2",
      "metadata": {
        "id": "ca71a5ba-d3aa-4810-81cf-cfb19c3bd4e2"
      },
      "outputs": [],
      "source": []
    }
  ],
  "metadata": {
    "kernelspec": {
      "display_name": "Python 3 (ipykernel)",
      "language": "python",
      "name": "python3"
    },
    "language_info": {
      "codemirror_mode": {
        "name": "ipython",
        "version": 3
      },
      "file_extension": ".py",
      "mimetype": "text/x-python",
      "name": "python",
      "nbconvert_exporter": "python",
      "pygments_lexer": "ipython3",
      "version": "3.10.8"
    },
    "colab": {
      "provenance": []
    }
  },
  "nbformat": 4,
  "nbformat_minor": 5
}