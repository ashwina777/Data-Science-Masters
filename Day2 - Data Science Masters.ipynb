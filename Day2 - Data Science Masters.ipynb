{
 "cells": [
  {
   "cell_type": "code",
   "execution_count": 1,
   "id": "1bc3193c-d69f-46cf-8115-8bc6ecdb3770",
   "metadata": {},
   "outputs": [],
   "source": [
    "a=20"
   ]
  },
  {
   "cell_type": "code",
   "execution_count": 2,
   "id": "45bf8cdc-d14e-4f50-a64e-9552807826e6",
   "metadata": {},
   "outputs": [],
   "source": [
    "a='c'"
   ]
  },
  {
   "cell_type": "code",
   "execution_count": 4,
   "id": "64cbeffc-1372-4ab4-b1b9-2386904fb275",
   "metadata": {},
   "outputs": [
    {
     "data": {
      "text/plain": [
       "str"
      ]
     },
     "execution_count": 4,
     "metadata": {},
     "output_type": "execute_result"
    }
   ],
   "source": [
    "type(a) ## there is no such thing as character datatype only string datatype in python"
   ]
  },
  {
   "cell_type": "code",
   "execution_count": 6,
   "id": "4138ef4f-750b-4fe5-8da5-a8a8ed5583f2",
   "metadata": {},
   "outputs": [
    {
     "data": {
      "text/plain": [
       "123"
      ]
     },
     "execution_count": 6,
     "metadata": {},
     "output_type": "execute_result"
    }
   ],
   "source": [
    "int('123')"
   ]
  },
  {
   "cell_type": "code",
   "execution_count": 7,
   "id": "410cdf7f-99d8-449a-8b22-4fc1e40c1634",
   "metadata": {},
   "outputs": [
    {
     "ename": "ValueError",
     "evalue": "invalid literal for int() with base 10: 'abcd'",
     "output_type": "error",
     "traceback": [
      "\u001b[0;31m---------------------------------------------------------------------------\u001b[0m",
      "\u001b[0;31mValueError\u001b[0m                                Traceback (most recent call last)",
      "Cell \u001b[0;32mIn[7], line 1\u001b[0m\n\u001b[0;32m----> 1\u001b[0m \u001b[38;5;28;43mint\u001b[39;49m\u001b[43m(\u001b[49m\u001b[38;5;124;43m'\u001b[39;49m\u001b[38;5;124;43mabcd\u001b[39;49m\u001b[38;5;124;43m'\u001b[39;49m\u001b[43m)\u001b[49m\n",
      "\u001b[0;31mValueError\u001b[0m: invalid literal for int() with base 10: 'abcd'"
     ]
    }
   ],
   "source": [
    "int('abcd')"
   ]
  },
  {
   "cell_type": "code",
   "execution_count": 8,
   "id": "297b7ef6-fe88-47cf-8993-01bd2fc5bed2",
   "metadata": {},
   "outputs": [
    {
     "name": "stdout",
     "output_type": "stream",
     "text": [
      "Hello world\n"
     ]
    }
   ],
   "source": [
    "print('Hello world')"
   ]
  },
  {
   "cell_type": "code",
   "execution_count": 9,
   "id": "aa025794-b57c-4fb2-9a6e-4b9937bbe96f",
   "metadata": {},
   "outputs": [
    {
     "name": "stdout",
     "output_type": "stream",
     "text": [
      "123\n"
     ]
    }
   ],
   "source": [
    "print(123)"
   ]
  },
  {
   "cell_type": "code",
   "execution_count": 10,
   "id": "63f5715b-e84f-4889-962d-b01bbc307b3d",
   "metadata": {},
   "outputs": [
    {
     "name": "stdout",
     "output_type": "stream",
     "text": [
      "My age is:  18\n"
     ]
    }
   ],
   "source": [
    "age=18\n",
    "print (\"My age is: \",age)"
   ]
  },
  {
   "cell_type": "code",
   "execution_count": 12,
   "id": "54bf1c55-c0fa-4a9c-aa09-b2a9a6baa8ac",
   "metadata": {},
   "outputs": [
    {
     "name": "stdout",
     "output_type": "stream",
     "text": [
      "My age is: 18\n"
     ]
    }
   ],
   "source": [
    "print(f\"My age is: {age}\")"
   ]
  },
  {
   "cell_type": "code",
   "execution_count": 13,
   "id": "c7b15023-579b-479b-b77b-d40e61be50ed",
   "metadata": {},
   "outputs": [],
   "source": [
    "##f string used for formatting"
   ]
  },
  {
   "cell_type": "code",
   "execution_count": 14,
   "id": "2b777634-ad5b-4129-963f-ca4fa7770e01",
   "metadata": {},
   "outputs": [],
   "source": [
    "## format()\n",
    "## In python we start index from 0 \n",
    "## In R we start from 1"
   ]
  },
  {
   "cell_type": "code",
   "execution_count": 15,
   "id": "92838373-5fc3-4085-ae1b-16408c271f88",
   "metadata": {},
   "outputs": [
    {
     "name": "stdout",
     "output_type": "stream",
     "text": [
      "My name is ash and my age is 18\n"
     ]
    }
   ],
   "source": [
    "name=\"ash\"\n",
    "age=18\n",
    "print(\"My name is {} and my age is {}\".format(name,age))"
   ]
  },
  {
   "cell_type": "code",
   "execution_count": 18,
   "id": "534fd27e-5967-40e2-8f6a-db33f286d492",
   "metadata": {},
   "outputs": [
    {
     "name": "stdout",
     "output_type": "stream",
     "text": [
      "My name is ash and my age is 18\n"
     ]
    }
   ],
   "source": [
    "## placeholder order doesn't matter\n",
    "print(\"My name is {firstname} and my age is {firstage}\".format(firstage=age,firstname=name))"
   ]
  },
  {
   "cell_type": "code",
   "execution_count": 20,
   "id": "ed855ba2-6f08-45d1-a2c6-814a5efa2c78",
   "metadata": {},
   "outputs": [
    {
     "data": {
      "text/plain": [
       "'My age is 18 and i have completed: my degree of BCA with the name of Ashwina Rawat'"
      ]
     },
     "execution_count": 20,
     "metadata": {},
     "output_type": "execute_result"
    }
   ],
   "source": [
    "name=\"Ashwina Rawat\"\n",
    "age=18\n",
    "degree=\"BCA\"\n",
    "\"My age is 18 and i have completed: my degree of BCA with the name of Ashwina Rawat\""
   ]
  },
  {
   "cell_type": "code",
   "execution_count": 22,
   "id": "88c4d4dc-fbb4-4363-9603-21fb94da32be",
   "metadata": {},
   "outputs": [
    {
     "name": "stdout",
     "output_type": "stream",
     "text": [
      "My age is 18 and i have completed: my dof degree of BCA with the name of Ashwina Rawat\n"
     ]
    }
   ],
   "source": [
    "print(\"My age is {} and i have completed: my dof degree of {} with the name of {}\".format(age,degree,name))"
   ]
  },
  {
   "cell_type": "code",
   "execution_count": 24,
   "id": "9aed2300-9936-42e0-a803-2bdc6875997e",
   "metadata": {},
   "outputs": [
    {
     "name": "stdout",
     "output_type": "stream",
     "text": [
      "My age is 18 and i have completed: my degree of BCA with the name of Ashwina Rawat\n"
     ]
    }
   ],
   "source": [
    "print(\"My age is {age} and i have completed: my degree of {degree} with the name of {name}\".format(degree=degree,name=name,age=age))"
   ]
  },
  {
   "cell_type": "code",
   "execution_count": 25,
   "id": "698fd563-865b-4eaf-8c80-971337af08e5",
   "metadata": {},
   "outputs": [
    {
     "name": "stdout",
     "output_type": "stream",
     "text": [
      "My age is 18 and i have completed: my dof degree of BCA with the name of Ashwina Rawat\n"
     ]
    }
   ],
   "source": [
    "print(f\"My age is {age} and i have completed: my dof degree of {degree} with the name of {name}\")"
   ]
  },
  {
   "cell_type": "code",
   "execution_count": 26,
   "id": "461ff299-f468-4cdb-b573-75767dc602c0",
   "metadata": {},
   "outputs": [
    {
     "data": {
      "text/plain": [
       "' control  flow \\nThey are decision making statemetn'"
      ]
     },
     "execution_count": 26,
     "metadata": {},
     "output_type": "execute_result"
    }
   ],
   "source": [
    "\n",
    "\"\"\" control  flow \n",
    "They are decision making statement\"\"\"\n"
   ]
  },
  {
   "cell_type": "code",
   "execution_count": 27,
   "id": "a54c9172-8729-48a9-b56a-7b2d707c6f3f",
   "metadata": {},
   "outputs": [
    {
     "name": "stdout",
     "output_type": "stream",
     "text": [
      "You are eligible to vote\n"
     ]
    }
   ],
   "source": [
    "## If statements\n",
    "age=18\n",
    "if age>=18:\n",
    "    print(\"You are eligible to vote\")"
   ]
  },
  {
   "cell_type": "code",
   "execution_count": null,
   "id": "71b35658-79a5-42a0-b534-b074764b2533",
   "metadata": {},
   "outputs": [],
   "source": [
    "== , <= , >="
   ]
  },
  {
   "cell_type": "code",
   "execution_count": 30,
   "id": "ea464509-51ed-464d-b35f-2d52f0f5e8ec",
   "metadata": {},
   "outputs": [
    {
     "name": "stdout",
     "output_type": "stream",
     "text": [
      "You are not eligible to vote\n"
     ]
    }
   ],
   "source": [
    "## If statements\n",
    "age=17\n",
    "if age<18:\n",
    "    print(\"You are not eligible to vote\")"
   ]
  },
  {
   "cell_type": "code",
   "execution_count": 32,
   "id": "d7e74c39-025c-4b54-845c-ff7ada0507e8",
   "metadata": {},
   "outputs": [
    {
     "name": "stdin",
     "output_type": "stream",
     "text": [
      " hello!!!\n"
     ]
    },
    {
     "data": {
      "text/plain": [
       "'hello!!!'"
      ]
     },
     "execution_count": 32,
     "metadata": {},
     "output_type": "execute_result"
    }
   ],
   "source": [
    "## inout at runtime\n",
    "input()"
   ]
  },
  {
   "cell_type": "code",
   "execution_count": 37,
   "id": "0805c769-1a7b-43f1-9d4c-17eb4abfe774",
   "metadata": {},
   "outputs": [
    {
     "name": "stdin",
     "output_type": "stream",
     "text": [
      " Ashwina\n"
     ]
    }
   ],
   "source": [
    "## default datatype of input is string\n",
    "name=input()"
   ]
  },
  {
   "cell_type": "code",
   "execution_count": 34,
   "id": "5a222765-d2ab-4e29-b122-2bfacd46872e",
   "metadata": {},
   "outputs": [
    {
     "data": {
      "text/plain": [
       "'Ashwina'"
      ]
     },
     "execution_count": 34,
     "metadata": {},
     "output_type": "execute_result"
    }
   ],
   "source": [
    "name"
   ]
  },
  {
   "cell_type": "code",
   "execution_count": 36,
   "id": "4e2a44c7-77f4-4681-a968-8d0fbc275839",
   "metadata": {},
   "outputs": [
    {
     "name": "stdin",
     "output_type": "stream",
     "text": [
      "Enter the name\n",
      " Ashwina\n"
     ]
    }
   ],
   "source": [
    "name=input(\"Enter the name\\n\")"
   ]
  },
  {
   "cell_type": "code",
   "execution_count": 38,
   "id": "261016f8-9d32-4329-963d-ea420e525539",
   "metadata": {},
   "outputs": [
    {
     "name": "stdin",
     "output_type": "stream",
     "text": [
      "Enter your age 18\n"
     ]
    }
   ],
   "source": [
    "age=int(input(\"Enter your age\"))"
   ]
  },
  {
   "cell_type": "code",
   "execution_count": 10,
   "id": "93fde266-59c4-45d0-a1c0-d0765dfb873e",
   "metadata": {},
   "outputs": [
    {
     "data": {
      "text/plain": [
       "'\\n 1. Take age as input\\n 2.check whether the agr >= 18 and age<=45\\n 3. display  message you are young blood '"
      ]
     },
     "execution_count": 10,
     "metadata": {},
     "output_type": "execute_result"
    }
   ],
   "source": [
    "## Tasks\n",
    "\"\"\"\n",
    " 1. Take age as input\n",
    " 2.check whether the agr >= 18 and age<=45\n",
    " 3. display  message you are young blood \"\"\"\n",
    "    "
   ]
  },
  {
   "cell_type": "code",
   "execution_count": 46,
   "id": "269d7ab7-ab22-4239-acd1-963b2dbf6efd",
   "metadata": {},
   "outputs": [
    {
     "name": "stdin",
     "output_type": "stream",
     "text": [
      "Enter Your Age 26\n"
     ]
    },
    {
     "name": "stdout",
     "output_type": "stream",
     "text": [
      "you are young blood\n"
     ]
    }
   ],
   "source": [
    "age=int(input(\"Enter Your Age\"))\n",
    "if age>=18 and age<=45:\n",
    "    print(\"you are young blood\")"
   ]
  },
  {
   "cell_type": "code",
   "execution_count": 49,
   "id": "23f1799d-9880-4c18-a866-c1ba6f7ff220",
   "metadata": {},
   "outputs": [
    {
     "name": "stdin",
     "output_type": "stream",
     "text": [
      "Enter Your Age 55\n"
     ]
    },
    {
     "name": "stdout",
     "output_type": "stream",
     "text": [
      "Thank you Your application is rejected\n"
     ]
    }
   ],
   "source": [
    "## if else statement\n",
    "age=int(input(\"Enter Your Age\"))\n",
    "if age>=18 and age<=45:\n",
    "    print(\"you are young blood\")\n",
    "else:\n",
    "        print(\"Thank you Your application is rejected\")"
   ]
  },
  {
   "cell_type": "code",
   "execution_count": null,
   "id": "f3ab65b8-bd76-4e36-9abb-511f44b519e5",
   "metadata": {},
   "outputs": [],
   "source": [
    "## mall - input product price\n",
    "## product >1000rs 20% off\n",
    "## print the product price\n",
    "## prodct <=1000 30%off\n",
    "## print the product price\n"
   ]
  },
  {
   "cell_type": "code",
   "execution_count": 54,
   "id": "885b946e-1384-4d9f-87d8-07b9d592e235",
   "metadata": {},
   "outputs": [
    {
     "name": "stdin",
     "output_type": "stream",
     "text": [
      "Enter the price of product 1021\n"
     ]
    },
    {
     "name": "stdout",
     "output_type": "stream",
     "text": [
      "discount 20%\n",
      "Discounted Price of product:  816.8\n"
     ]
    }
   ],
   "source": [
    "## self\n",
    "product_price=int(input(\"Enter the price of product\"))\n",
    "if product_price<=1000:\n",
    "    print('discout 30%')\n",
    "    discount=product_price*0.3\n",
    "    price=product_price - discount\n",
    "    print(\"Discounted Price of product  is: \",price)\n",
    "else:\n",
    "    print(\"discount 20%\")\n",
    "    discount=product_price*0.2\n",
    "    price=product_price - discount\n",
    "    print(\"Discounted Price of product: \",price)"
   ]
  },
  {
   "cell_type": "code",
   "execution_count": 1,
   "id": "497f57a0-6b82-417a-9747-fcc4302ddc0b",
   "metadata": {},
   "outputs": [
    {
     "name": "stdin",
     "output_type": "stream",
     "text": [
      "Enter the price 1022\n"
     ]
    },
    {
     "name": "stdout",
     "output_type": "stream",
     "text": [
      "The price of product is 817.6\n"
     ]
    }
   ],
   "source": [
    "## more efficient way\n",
    "product_price=int(input(\"Enter the price\"))\n",
    "if product_price>1000:\n",
    "    print(\"The price of product is {}\".format(product_price*0.8))\n",
    "    ##or we can write .format(product_price - (product_price*0.2))\n",
    "else:\n",
    "    print(\"The price of the product is {}\".format(product_price*0.7))\n",
    "   "
   ]
  },
  {
   "cell_type": "code",
   "execution_count": 7,
   "id": "94e04cce-08b4-4775-ad6d-5fa3e7b48d62",
   "metadata": {},
   "outputs": [
    {
     "name": "stdin",
     "output_type": "stream",
     "text": [
      "Enter the price 1000\n"
     ]
    },
    {
     "name": "stdout",
     "output_type": "stream",
     "text": [
      "The price of the product is 700.0\n"
     ]
    }
   ],
   "source": [
    "## even more efficient way\n",
    "product_price=int(input(\"Enter the price\"))\n",
    "if product_price>1000:\n",
    "    print(f\"The price of product is {(product_price*0.8)}\")\n",
    "    ##or we can write .format(product_price - (product_price*0.2))\n",
    "else:\n",
    "    print(f\"The price of the product is {(product_price*0.7)}\")\n",
    "   "
   ]
  },
  {
   "cell_type": "code",
   "execution_count": 8,
   "id": "d204a7c5-3dfa-4397-9796-181e7d7d6b77",
   "metadata": {},
   "outputs": [],
   "source": [
    "## mall - input product price\n",
    "## product >3000rs 20% off\n",
    "## print the product price\n",
    "## prodct >=2000 and <=3000 30%off\n",
    "## print the product price\n",
    "## price==2999 additional gift\n",
    "## product <=1000rs and <=2000 40% off\n",
    "## print the product price after removing the discount\n"
   ]
  },
  {
   "cell_type": "code",
   "execution_count": 5,
   "id": "e5fab87f-6a0d-43dd-83fd-09132eaf0c0f",
   "metadata": {},
   "outputs": [
    {
     "name": "stdin",
     "output_type": "stream",
     "text": [
      "Enter the price 4000\n"
     ]
    },
    {
     "name": "stdout",
     "output_type": "stream",
     "text": [
      "Congratulations you get a goa trip\n",
      "The price of product is 3200.0\n"
     ]
    }
   ],
   "source": [
    "## else if thing\n",
    "product_price=int(input(\"Enter the price\"))\n",
    "if product_price>3000:\n",
    "    if product_price==4000:\n",
    "        print(\"Congratulations you get a goa trip\")\n",
    "    print(f\"The price of product is {(product_price*0.8)}\")\n",
    "    ##or we can write .format(product_price - (product_price*0.2))\n",
    "elif product_price>=2000 and product_price<=3000:\n",
    "    if product_price==2999:\n",
    "        print(\"Congratulation you get an additional gift\")\n",
    "    print(f\"The price of the product is {(product_price*0.7)}\")\n",
    "elif product_price>=1000 and product_price<=2000:\n",
    "    print(f\"The price of the product is {(product_price*0.6)}\")\n",
    "else:\n",
    "    print(\"No discount\")\n",
    "   "
   ]
  },
  {
   "cell_type": "code",
   "execution_count": 6,
   "id": "af6b7a83-3979-409f-bb5d-325435215085",
   "metadata": {},
   "outputs": [
    {
     "name": "stdin",
     "output_type": "stream",
     "text": [
      "Enter the number 598\n"
     ]
    },
    {
     "name": "stdout",
     "output_type": "stream",
     "text": [
      "Value is less than or equal to 999\n"
     ]
    }
   ],
   "source": [
    "## Single statement suites\n",
    "val=int(input(\"Enter the number\"))\n",
    "if(val<=999):print(\"Value is less than or equal to 999\")\n",
    "else:\n",
    "    print(\"go home\")"
   ]
  },
  {
   "cell_type": "markdown",
   "id": "9ba15f61-ff7b-4f3e-a8b4-705b918a1d7c",
   "metadata": {
    "tags": []
   },
   "source": [
    "## loop statements\n",
    "1. while loop\n",
    "2. for loop\n",
    "3. nested loop\n",
    "4. Loop control(break,continue,pass)"
   ]
  },
  {
   "cell_type": "code",
   "execution_count": 17,
   "id": "ba350f33-2aa1-4771-bf51-dc4f0997be92",
   "metadata": {},
   "outputs": [
    {
     "name": "stdout",
     "output_type": "stream",
     "text": [
      "25\n",
      "26\n",
      "27\n",
      "28\n",
      "29\n",
      "30\n",
      "31\n",
      "32\n",
      "33\n",
      "34\n",
      "35\n",
      "36\n",
      "37\n",
      "38\n",
      "39\n",
      "40\n",
      "41\n",
      "42\n",
      "43\n",
      "44\n",
      "45\n",
      "46\n",
      "47\n",
      "48\n",
      "49\n",
      "50\n",
      "51\n",
      "52\n",
      "53\n",
      "54\n",
      "55\n",
      "56\n",
      "57\n",
      "58\n",
      "59\n",
      "60\n",
      "It's time for retirement\n"
     ]
    }
   ],
   "source": [
    "# while loop\n",
    "joining_age=25\n",
    "while joining_age<=60:\n",
    "    print(joining_age)\n",
    "    joining_age=joining_age+1\n",
    "else:\n",
    "    print(\"It's time for retirement\")"
   ]
  },
  {
   "cell_type": "code",
   "execution_count": 20,
   "id": "fae0c054-613f-4f1d-8b21-ed15790fd03a",
   "metadata": {},
   "outputs": [
    {
     "name": "stdout",
     "output_type": "stream",
     "text": [
      "1000\n",
      "900\n",
      "800\n",
      "700\n",
      "600\n",
      "500\n",
      "400\n",
      "300\n",
      "200\n",
      "100\n",
      "Put more money bank peolple!!!\n"
     ]
    }
   ],
   "source": [
    "## ATM machine with 1000rs\n",
    "total_amount=1000\n",
    "while total_amount!=0:\n",
    "    print(total_amount)\n",
    "    total_amount=total_amount-100\n",
    "else:\n",
    "    print(\"Put more money bank peolple!!!\")\n",
    "   \n"
   ]
  },
  {
   "cell_type": "markdown",
   "id": "069db28b-2148-4b76-abbc-aa3dfdb497be",
   "metadata": {},
   "source": [
    "## For loop\n"
   ]
  },
  {
   "cell_type": "code",
   "execution_count": 30,
   "id": "608397e3-3feb-450a-ae8b-d743f4ba412f",
   "metadata": {},
   "outputs": [],
   "source": [
    "lst=[\"Ashwina\",1,2,3,4,5,\"apple\",\"banana\"]"
   ]
  },
  {
   "cell_type": "code",
   "execution_count": 31,
   "id": "fefafbe6-d8f5-4cc1-8555-0e036eb9b913",
   "metadata": {},
   "outputs": [
    {
     "data": {
      "text/plain": [
       "list"
      ]
     },
     "execution_count": 31,
     "metadata": {},
     "output_type": "execute_result"
    }
   ],
   "source": [
    "type(lst)"
   ]
  },
  {
   "cell_type": "code",
   "execution_count": 33,
   "id": "00a4e377-36cc-41d5-8022-3afcb74a17c9",
   "metadata": {},
   "outputs": [
    {
     "data": {
      "text/plain": [
       "'apple'"
      ]
     },
     "execution_count": 33,
     "metadata": {},
     "output_type": "execute_result"
    }
   ],
   "source": [
    "lst[6]"
   ]
  },
  {
   "cell_type": "code",
   "execution_count": 34,
   "id": "6ce15c58-d032-444c-a96e-c877ca021605",
   "metadata": {},
   "outputs": [
    {
     "data": {
      "text/plain": [
       "['Ashwina', 1, 2, 3, 4, 5, 'apple', 'banana']"
      ]
     },
     "execution_count": 34,
     "metadata": {},
     "output_type": "execute_result"
    }
   ],
   "source": [
    "lst"
   ]
  },
  {
   "cell_type": "code",
   "execution_count": 36,
   "id": "50056922-e2c4-4a61-b60a-c0c58a287bbc",
   "metadata": {},
   "outputs": [
    {
     "name": "stdout",
     "output_type": "stream",
     "text": [
      "Ashwina\n",
      "1\n",
      "2\n",
      "3\n",
      "4\n",
      "5\n",
      "apple\n",
      "banana\n"
     ]
    }
   ],
   "source": [
    "## for is used for iterating through the collection\n",
    "for x in lst:\n",
    "    print(x)"
   ]
  },
  {
   "cell_type": "code",
   "execution_count": 37,
   "id": "28362e93-4546-4a20-b7be-c474fb43e7e2",
   "metadata": {},
   "outputs": [],
   "source": [
    "fruit_list=[\"mango\",\"cherry\",\"guava\",\"kiwi\",\"papaya\"]"
   ]
  },
  {
   "cell_type": "code",
   "execution_count": 39,
   "id": "e5f0a3ca-0bf3-4553-ac4b-c0d298cf8f3f",
   "metadata": {},
   "outputs": [
    {
     "name": "stdout",
     "output_type": "stream",
     "text": [
      "mango\n",
      "cherry\n",
      "guava\n",
      "kiwi\n",
      "The fruit is kiwi...\n",
      "papaya\n"
     ]
    }
   ],
   "source": [
    "for a in fruit_list:\n",
    "    print(a)\n",
    "    if a==\"kiwi\":\n",
    "        print(\"The fruit is kiwi...\")"
   ]
  },
  {
   "cell_type": "code",
   "execution_count": 49,
   "id": "3f9ffee4-6bd4-4a5f-91dc-4dea7ac5afa5",
   "metadata": {},
   "outputs": [
    {
     "name": "stdout",
     "output_type": "stream",
     "text": [
      "mangocherryguavakiwi\n",
      "The fruit is kiwi...\n"
     ]
    }
   ],
   "source": [
    "for a in fruit_list:\n",
    "    print(a,end='') ## one line\n",
    "    if a==\"kiwi\":\n",
    "        print(\"\\nThe fruit is kiwi...\")\n",
    "        break "
   ]
  },
  {
   "cell_type": "code",
   "execution_count": 45,
   "id": "8870991c-b96c-4e11-a634-633e36f48a9f",
   "metadata": {},
   "outputs": [
    {
     "name": "stdout",
     "output_type": "stream",
     "text": [
      "m\n",
      "a\n",
      "n\n",
      "g\n",
      "o\n"
     ]
    }
   ],
   "source": [
    "fruit='mango'\n",
    "for x in fruit:\n",
    "    print(x)\n",
    "## conclusion : string is also a collection or list of charaters/elements"
   ]
  },
  {
   "cell_type": "code",
   "execution_count": 46,
   "id": "a6948164-b3d4-4ce0-b52c-15e94ea471a0",
   "metadata": {},
   "outputs": [
    {
     "data": {
      "text/plain": [
       "'o'"
      ]
     },
     "execution_count": 46,
     "metadata": {},
     "output_type": "execute_result"
    }
   ],
   "source": [
    "fruit[4]"
   ]
  },
  {
   "cell_type": "code",
   "execution_count": 51,
   "id": "76f7c31b-7e02-45b3-9005-43cb597385ff",
   "metadata": {},
   "outputs": [
    {
     "name": "stdout",
     "output_type": "stream",
     "text": [
      "1\n",
      "2\n",
      "3\n",
      "4\n",
      "5\n"
     ]
    }
   ],
   "source": [
    "## range \n",
    "for i in range(1,6):\n",
    "    print(i)"
   ]
  },
  {
   "cell_type": "code",
   "execution_count": 56,
   "id": "22435f67-8101-4453-ad90-ce0a0019a12b",
   "metadata": {},
   "outputs": [
    {
     "name": "stdout",
     "output_type": "stream",
     "text": [
      "1\n",
      "3\n",
      "5\n",
      "7\n",
      "9\n"
     ]
    }
   ],
   "source": [
    "for i in range(1,10,2):\n",
    "    print(i)"
   ]
  },
  {
   "cell_type": "code",
   "execution_count": 66,
   "id": "d0bf5e2a-9374-4900-9a67-479ca1df7cf6",
   "metadata": {},
   "outputs": [
    {
     "name": "stdout",
     "output_type": "stream",
     "text": [
      "*\t*\t*\t*\t*\t*\t*\t*\t*\t*\t*\t*\t*\t*\t*\t*\t*\t*\t*\t*\t*\t*\t*\t*\t*\t*\t*\t*\t"
     ]
    }
   ],
   "source": [
    "##  Nested Loops\n",
    "n=7\n",
    "\n",
    "for i in range(0,n):\n",
    "    for j in range(0,i+1):\n",
    "         print(\"*\",end='\\t')"
   ]
  },
  {
   "cell_type": "code",
   "execution_count": 74,
   "id": "092fb4cd-7f12-401e-960d-d056cfd5b513",
   "metadata": {},
   "outputs": [
    {
     "name": "stdout",
     "output_type": "stream",
     "text": [
      "*\n",
      "**\n",
      "***\n",
      "****\n",
      "*****\n",
      "******\n",
      "*******\n"
     ]
    }
   ],
   "source": [
    "##  Nested Loops\n",
    "n=7\n",
    "\n",
    "for i in range(0,n):\n",
    "    for j in range(0,i+1):\n",
    "         print(\"*\",end='')\n",
    "    print(\"\\r\")"
   ]
  },
  {
   "cell_type": "code",
   "execution_count": 75,
   "id": "017911c3-fc45-4c8a-8bde-c285e2054a35",
   "metadata": {},
   "outputs": [],
   "source": [
    "## loop controls\n",
    "## break and continue\n",
    "fruit_list=[\"mango\",\"cherry\",\"guava\",\"kiwi\",\"papaya\"]"
   ]
  },
  {
   "cell_type": "code",
   "execution_count": null,
   "id": "32927687-5a54-48f3-b578-db25c80923e8",
   "metadata": {},
   "outputs": [],
   "source": []
  },
  {
   "cell_type": "code",
   "execution_count": 77,
   "id": "e00a0a34-77e9-4590-91e1-7ab5de2dafd4",
   "metadata": {},
   "outputs": [
    {
     "name": "stdout",
     "output_type": "stream",
     "text": [
      "mango\n",
      "cherry\n",
      "The fruit is guava\n"
     ]
    }
   ],
   "source": [
    "## skips the entire iterationonce condition is met\n",
    "## stop the loop and go outside loop\n",
    "for i in fruit_list:\n",
    "    if i == \"guava\":\n",
    "        print(\"The fruit is guava\")\n",
    "        break\n",
    "    print(i)\n",
    "        \n",
    "        "
   ]
  },
  {
   "cell_type": "code",
   "execution_count": 78,
   "id": "a023d535-eb22-46f0-9b0b-f4dc757b82d0",
   "metadata": {},
   "outputs": [
    {
     "name": "stdout",
     "output_type": "stream",
     "text": [
      "mango\n",
      "cherry\n",
      "The fruit is guava\n",
      "guava\n",
      "kiwi\n",
      "papaya\n"
     ]
    }
   ],
   "source": [
    "for i in fruit_list:\n",
    "    if i == \"guava\":\n",
    "        print(\"The fruit is guava\")\n",
    "        pass\n",
    "    print(i)\n",
    "        \n",
    "        "
   ]
  },
  {
   "cell_type": "code",
   "execution_count": 79,
   "id": "1c0f15e1-e33f-41db-a9ad-d4010e9c1014",
   "metadata": {},
   "outputs": [
    {
     "name": "stdout",
     "output_type": "stream",
     "text": [
      "mango\n",
      "cherry\n",
      "The fruit is guava\n",
      "kiwi\n",
      "papaya\n"
     ]
    }
   ],
   "source": [
    "## skip the particular iteration when condition is met\n",
    "for i in fruit_list:\n",
    "    if i == \"guava\":\n",
    "        print(\"The fruit is guava\")\n",
    "        continue\n",
    "    print(i)\n",
    "        \n",
    "        "
   ]
  },
  {
   "cell_type": "code",
   "execution_count": null,
   "id": "b7a8272b-f726-4c72-a900-8e8f24cec133",
   "metadata": {},
   "outputs": [],
   "source": []
  }
 ],
 "metadata": {
  "kernelspec": {
   "display_name": "Python 3 (ipykernel)",
   "language": "python",
   "name": "python3"
  },
  "language_info": {
   "codemirror_mode": {
    "name": "ipython",
    "version": 3
   },
   "file_extension": ".py",
   "mimetype": "text/x-python",
   "name": "python",
   "nbconvert_exporter": "python",
   "pygments_lexer": "ipython3",
   "version": "3.10.8"
  }
 },
 "nbformat": 4,
 "nbformat_minor": 5
}
