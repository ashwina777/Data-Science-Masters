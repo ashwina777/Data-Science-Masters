{
 "cells": [
  {
   "cell_type": "markdown",
   "id": "32db467e-d1ed-4155-b36f-fd3aff99d2d3",
   "metadata": {},
   "source": [
    "## Logging and Debugging"
   ]
  },
  {
   "cell_type": "code",
   "execution_count": 3,
   "id": "37640f03-4746-4baf-a894-7c778b66006b",
   "metadata": {},
   "outputs": [
    {
     "name": "stdout",
     "output_type": "stream",
     "text": [
      "this is my print statement\n"
     ]
    }
   ],
   "source": [
    "print(\"this is my print statement\")"
   ]
  },
  {
   "cell_type": "code",
   "execution_count": 4,
   "id": "8fda5588-5c0c-4038-bd82-fa1130d46831",
   "metadata": {},
   "outputs": [],
   "source": [
    "# print always displays the statement in output console and once the machine shuts down everything is gone\n",
    "# we need some permanent storage to log information this is where logging is used"
   ]
  },
  {
   "cell_type": "code",
   "execution_count": 5,
   "id": "d3f4b161-5db8-453a-ad08-5038a66afe45",
   "metadata": {},
   "outputs": [],
   "source": [
    "import logging\n",
    "#import log first ... INFO,error,critical etc are a tag"
   ]
  },
  {
   "cell_type": "code",
   "execution_count": 6,
   "id": "8f439fe1-967f-4461-855d-5fe727ec0156",
   "metadata": {},
   "outputs": [],
   "source": [
    "logging.basicConfig(filename = \"test.log\" , level = logging.INFO)"
   ]
  },
  {
   "cell_type": "code",
   "execution_count": 7,
   "id": "60ed64bd-1a4c-4b9e-bdf7-11751c4019eb",
   "metadata": {},
   "outputs": [
    {
     "name": "stderr",
     "output_type": "stream",
     "text": [
      "2023-07-12 06:25:51,651 root INFO this is my line of execution\n"
     ]
    }
   ],
   "source": [
    "logging.info(\"this is my line of execution\")"
   ]
  },
  {
   "cell_type": "code",
   "execution_count": 8,
   "id": "19d17851-5d03-4a8e-9169-3241bf94c37f",
   "metadata": {},
   "outputs": [
    {
     "name": "stderr",
     "output_type": "stream",
     "text": [
      "2023-07-12 06:25:52,132 root ERROR this is my error\n"
     ]
    }
   ],
   "source": [
    "logging.error(\"this is my error\")"
   ]
  },
  {
   "cell_type": "code",
   "execution_count": 9,
   "id": "3fdbf709-1339-4da8-8c78-112bcb761c5c",
   "metadata": {},
   "outputs": [
    {
     "name": "stderr",
     "output_type": "stream",
     "text": [
      "2023-07-12 06:25:53,611 root CRITICAL this is my critical\n"
     ]
    }
   ],
   "source": [
    "logging.critical(\"this is my critical\")\n",
    "# different labels"
   ]
  },
  {
   "cell_type": "code",
   "execution_count": 10,
   "id": "9719de33-3462-4b77-b7c6-be5c74320185",
   "metadata": {},
   "outputs": [
    {
     "name": "stderr",
     "output_type": "stream",
     "text": [
      "2023-07-12 06:25:55,472 root WARNING this is my warning\n"
     ]
    }
   ],
   "source": [
    "logging.warning(\"this is my warning\")"
   ]
  },
  {
   "cell_type": "code",
   "execution_count": 11,
   "id": "e43abc3c-956c-4f38-b057-2f131a80c792",
   "metadata": {},
   "outputs": [
    {
     "name": "stderr",
     "output_type": "stream",
     "text": [
      "2023-07-12 06:25:56,016 root DEBUG this is my info related to debug\n"
     ]
    }
   ],
   "source": [
    "logging.debug(\"this is my info related to debug\")\n",
    "#this will not be displayed in file b'cos file level is info and debug has greater hierarchy"
   ]
  },
  {
   "cell_type": "code",
   "execution_count": 12,
   "id": "87ea763d-bd07-46bc-9a66-9fc3f9cc23db",
   "metadata": {},
   "outputs": [
    {
     "ename": "AttributeError",
     "evalue": "module 'logging' has no attribute 'noset'",
     "output_type": "error",
     "traceback": [
      "\u001b[0;31m---------------------------------------------------------------------------\u001b[0m",
      "\u001b[0;31mAttributeError\u001b[0m                            Traceback (most recent call last)",
      "Cell \u001b[0;32mIn[12], line 1\u001b[0m\n\u001b[0;32m----> 1\u001b[0m \u001b[43mlogging\u001b[49m\u001b[38;5;241;43m.\u001b[39;49m\u001b[43mnoset\u001b[49m(\u001b[38;5;124m\"\u001b[39m\u001b[38;5;124mthis is my noset related log\u001b[39m\u001b[38;5;124m\"\u001b[39m)\n",
      "\u001b[0;31mAttributeError\u001b[0m: module 'logging' has no attribute 'noset'"
     ]
    }
   ],
   "source": [
    "logging.noset(\"this is my noset related log\")"
   ]
  },
  {
   "cell_type": "code",
   "execution_count": 13,
   "id": "6ee2d376-bb3e-4166-aa41-36bf269b6db0",
   "metadata": {},
   "outputs": [],
   "source": [
    "# stop logging in a file\n",
    "logging.shutdown()"
   ]
  },
  {
   "cell_type": "code",
   "execution_count": 14,
   "id": "4c37b326-19f4-47f5-a2e0-6603fa8dd5d8",
   "metadata": {},
   "outputs": [],
   "source": [
    "logging.basicConfig(filename = \"test5.log\" , level = logging.DEBUG , format = '%(asctime)s %(message)s')"
   ]
  },
  {
   "cell_type": "code",
   "execution_count": 15,
   "id": "98de9751-3ab4-4daa-ab64-31820f17c0cb",
   "metadata": {
    "tags": []
   },
   "outputs": [
    {
     "name": "stderr",
     "output_type": "stream",
     "text": [
      "2023-07-12 06:25:58,538 root INFO this is my info log\n"
     ]
    }
   ],
   "source": [
    "logging.info(\"this is my info log\")"
   ]
  },
  {
   "cell_type": "code",
   "execution_count": 16,
   "id": "ec7761bf-6a14-4907-843c-28e73ac27998",
   "metadata": {},
   "outputs": [
    {
     "name": "stderr",
     "output_type": "stream",
     "text": [
      "2023-07-12 06:25:58,972 root DEBUG this is my debug log\n"
     ]
    }
   ],
   "source": [
    "logging.debug(\"this is my debug log\")"
   ]
  },
  {
   "cell_type": "code",
   "execution_count": 17,
   "id": "9b109151-4bc8-4c0e-8301-69acfcd41b0f",
   "metadata": {},
   "outputs": [
    {
     "name": "stderr",
     "output_type": "stream",
     "text": [
      "2023-07-12 06:25:59,460 root WARNING this is my warning\n"
     ]
    }
   ],
   "source": [
    "logging.warning(\"this is my warning\")"
   ]
  },
  {
   "cell_type": "code",
   "execution_count": 18,
   "id": "a497c3e3-7619-402b-82e4-694aba594f3c",
   "metadata": {},
   "outputs": [],
   "source": [
    "logging.shutdown()"
   ]
  },
  {
   "cell_type": "code",
   "execution_count": 19,
   "id": "2c1e1012-28a8-40be-aeae-2d04cd726406",
   "metadata": {},
   "outputs": [],
   "source": [
    "logging.basicConfig(filenname = \"test3.log\", level = logging.DEBUG , format = '%(asctime)s %(name)s %(levelname)s %(message)s')"
   ]
  },
  {
   "cell_type": "code",
   "execution_count": 20,
   "id": "c0166992-cab1-4a7c-a497-72a1d8656aa5",
   "metadata": {},
   "outputs": [
    {
     "name": "stderr",
     "output_type": "stream",
     "text": [
      "2023-07-12 06:26:01,491 root INFO this is my log info\n"
     ]
    }
   ],
   "source": [
    "logging.info(\"this is my log info\")"
   ]
  },
  {
   "cell_type": "code",
   "execution_count": 21,
   "id": "250cc4c3-4303-4efc-81b2-b99f894fbee6",
   "metadata": {},
   "outputs": [],
   "source": [
    "l = [1,2,3,4,[5,6,7,],\"ashwina\",\"rawat\"]"
   ]
  },
  {
   "cell_type": "code",
   "execution_count": 22,
   "id": "809e68b3-0e09-40d8-9b0a-b662543a383b",
   "metadata": {},
   "outputs": [],
   "source": [
    "# create two separate lists one eith numbers other conataining string\n",
    "l1_int=[]\n",
    "l2_str=[]\n",
    "for i in l:\n",
    "    if type(i) == list:\n",
    "        for j in i:\n",
    "            if type(j) == int:\n",
    "                l1_int.append(j)\n",
    "    elif type(i) == int:\n",
    "        l1_int.append(i)\n",
    "        \n",
    "    else :\n",
    "        if type(i) == str:\n",
    "            l2_str.append(i)"
   ]
  },
  {
   "cell_type": "code",
   "execution_count": 23,
   "id": "dbe6590d-1624-43d8-be44-aea2313bb711",
   "metadata": {},
   "outputs": [
    {
     "data": {
      "text/plain": [
       "[1, 2, 3, 4, 5, 6, 7]"
      ]
     },
     "execution_count": 23,
     "metadata": {},
     "output_type": "execute_result"
    }
   ],
   "source": [
    "l1_int"
   ]
  },
  {
   "cell_type": "code",
   "execution_count": 24,
   "id": "3e5f2fd8-32b2-4110-86a6-95c9655ca632",
   "metadata": {},
   "outputs": [
    {
     "data": {
      "text/plain": [
       "['ashwina', 'rawat']"
      ]
     },
     "execution_count": 24,
     "metadata": {},
     "output_type": "execute_result"
    }
   ],
   "source": [
    "l2_str"
   ]
  },
  {
   "cell_type": "code",
   "execution_count": 32,
   "id": "fc845961-4153-4416-b88c-01b49893d2a4",
   "metadata": {},
   "outputs": [
    {
     "name": "stderr",
     "output_type": "stream",
     "text": [
      "2023-07-12 06:32:41,576 root INFO this is my first for loop [1, 2, 3, 4, [5, 6, 7], 'ashwina', 'rawat']\n",
      "2023-07-12 06:32:41,578 root INFO this is the value of i am logging 1\n",
      "2023-07-12 06:32:41,578 root INFO this is my final result int [1] and string []\n",
      "2023-07-12 06:32:41,579 root INFO this is my first for loop [1, 2, 3, 4, [5, 6, 7], 'ashwina', 'rawat']\n",
      "2023-07-12 06:32:41,580 root INFO this is the value of i am logging 2\n",
      "2023-07-12 06:32:41,580 root INFO this is my final result int [1, 2] and string []\n",
      "2023-07-12 06:32:41,582 root INFO this is my first for loop [1, 2, 3, 4, [5, 6, 7], 'ashwina', 'rawat']\n",
      "2023-07-12 06:32:41,582 root INFO this is the value of i am logging 3\n",
      "2023-07-12 06:32:41,583 root INFO this is my final result int [1, 2, 3] and string []\n",
      "2023-07-12 06:32:41,584 root INFO this is my first for loop [1, 2, 3, 4, [5, 6, 7], 'ashwina', 'rawat']\n",
      "2023-07-12 06:32:41,584 root INFO this is the value of i am logging 4\n",
      "2023-07-12 06:32:41,585 root INFO this is my final result int [1, 2, 3, 4] and string []\n",
      "2023-07-12 06:32:41,586 root INFO this is my first for loop [1, 2, 3, 4, [5, 6, 7], 'ashwina', 'rawat']\n",
      "2023-07-12 06:32:41,587 root INFO this is the value of i am logging [5, 6, 7]\n",
      "2023-07-12 06:32:41,587 root INFO logging in j 5 and i is [5, 6, 7]\n",
      "2023-07-12 06:32:41,590 root INFO logging in j 6 and i is [5, 6, 7]\n",
      "2023-07-12 06:32:41,590 root INFO logging in j 7 and i is [5, 6, 7]\n",
      "2023-07-12 06:32:41,591 root INFO this is my final result int [1, 2, 3, 4, 5, 6, 7] and string []\n",
      "2023-07-12 06:32:41,592 root INFO this is my first for loop [1, 2, 3, 4, [5, 6, 7], 'ashwina', 'rawat']\n",
      "2023-07-12 06:32:41,593 root INFO this is the value of i am logging ashwina\n",
      "2023-07-12 06:32:41,594 root INFO this is my final result int [1, 2, 3, 4, 5, 6, 7] and string ['ashwina']\n",
      "2023-07-12 06:32:41,595 root INFO this is my first for loop [1, 2, 3, 4, [5, 6, 7], 'ashwina', 'rawat']\n",
      "2023-07-12 06:32:41,596 root INFO this is the value of i am logging rawat\n",
      "2023-07-12 06:32:41,597 root INFO this is my final result int [1, 2, 3, 4, 5, 6, 7] and string ['ashwina', 'rawat']\n"
     ]
    }
   ],
   "source": [
    "# create two separate lists one eith numbers other conataining string\n",
    "l1_int=[]\n",
    "l2_str=[]\n",
    "for i in l:\n",
    "    logging.info(\"this is my first for loop {}\".format(l))\n",
    "    logging.info(\"this is the value of i am logging {}\".format(i))\n",
    "    if type(i) == list:\n",
    "        for j in i:\n",
    "            logging.info(\"logging in j {j} and i is {i}\".format(i=i,j=j))\n",
    "            if type(j) == int:\n",
    "                l1_int.append(j)\n",
    "    elif type(i) == int:\n",
    "        l1_int.append(i)\n",
    "        \n",
    "    else :\n",
    "        if type(i) == str:\n",
    "            l2_str.append(i)\n",
    "            \n",
    "    logging.info(\"this is my final result int {l1} and string {l2}\".format(l1=l1_int, l2 =l2_str))"
   ]
  },
  {
   "cell_type": "code",
   "execution_count": null,
   "id": "944370c6-76e2-4d85-893c-b5764118883d",
   "metadata": {},
   "outputs": [],
   "source": []
  }
 ],
 "metadata": {
  "kernelspec": {
   "display_name": "Python 3 (ipykernel)",
   "language": "python",
   "name": "python3"
  },
  "language_info": {
   "codemirror_mode": {
    "name": "ipython",
    "version": 3
   },
   "file_extension": ".py",
   "mimetype": "text/x-python",
   "name": "python",
   "nbconvert_exporter": "python",
   "pygments_lexer": "ipython3",
   "version": "3.10.8"
  }
 },
 "nbformat": 4,
 "nbformat_minor": 5
}
