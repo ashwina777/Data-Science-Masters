{
 "cells": [
  {
   "cell_type": "markdown",
   "id": "ec43834e-a2ad-4397-976f-babda67ff6d3",
   "metadata": {},
   "source": [
    "### Polymorphism - multiple state/characteristics"
   ]
  },
  {
   "cell_type": "code",
   "execution_count": 2,
   "id": "d8a38346-e064-412c-9ad2-8fd6cd479f90",
   "metadata": {},
   "outputs": [],
   "source": [
    "def test(a,b):\n",
    "    return a+b\n"
   ]
  },
  {
   "cell_type": "code",
   "execution_count": 3,
   "id": "9fa924c8-8c92-4712-ba97-f6f55f0bdbb4",
   "metadata": {},
   "outputs": [
    {
     "data": {
      "text/plain": [
       "9"
      ]
     },
     "execution_count": 3,
     "metadata": {},
     "output_type": "execute_result"
    }
   ],
   "source": [
    "test(4,5)\n",
    "#addition operation"
   ]
  },
  {
   "cell_type": "code",
   "execution_count": 5,
   "id": "ecf17e74-d956-4271-8e85-f18bdbf779f4",
   "metadata": {},
   "outputs": [
    {
     "data": {
      "text/plain": [
       "'ashwina__rawat'"
      ]
     },
     "execution_count": 5,
     "metadata": {},
     "output_type": "execute_result"
    }
   ],
   "source": [
    "test('ashwina_', '_rawat')\n",
    "# here it behave as concatenation op."
   ]
  },
  {
   "cell_type": "code",
   "execution_count": 6,
   "id": "8188a063-4156-41dc-8efa-a72f6c198bdf",
   "metadata": {},
   "outputs": [
    {
     "data": {
      "text/plain": [
       "[2, 3, 4, 5, 34, 3, 4, 5, 6, 7]"
      ]
     },
     "execution_count": 6,
     "metadata": {},
     "output_type": "execute_result"
    }
   ],
   "source": [
    "test([2,3,4,5],[34,3,4,5,6,7])\n",
    "# list append operation"
   ]
  },
  {
   "cell_type": "code",
   "execution_count": 7,
   "id": "df1c6e2f-2266-434e-934e-9a995f7dbf81",
   "metadata": {},
   "outputs": [],
   "source": [
    "class data_science:\n",
    "    def syllabus(self):\n",
    "        print('this is my method for data science syllabus')"
   ]
  },
  {
   "cell_type": "code",
   "execution_count": 8,
   "id": "2eb7c37e-b381-43c3-9d0f-649c81b553ac",
   "metadata": {},
   "outputs": [],
   "source": [
    "class web_dev:\n",
    "    def syllabus(self):\n",
    "        print('this is my method for web dev')\n",
    "        "
   ]
  },
  {
   "cell_type": "code",
   "execution_count": 9,
   "id": "6cca0c79-4ea4-4b80-b1c3-a72a530acde4",
   "metadata": {},
   "outputs": [],
   "source": [
    "def class_parcer(class_obj):\n",
    "    for i in class_obj :\n",
    "        i.syllabus()"
   ]
  },
  {
   "cell_type": "code",
   "execution_count": 10,
   "id": "46e44ffb-7f1f-4521-b7d4-d0b4573fb788",
   "metadata": {},
   "outputs": [],
   "source": [
    "obj_data_science=data_science() "
   ]
  },
  {
   "cell_type": "code",
   "execution_count": 11,
   "id": "0a7b2fde-40fa-4dd6-a4f5-f5077a8c00cc",
   "metadata": {},
   "outputs": [],
   "source": [
    "obj_web_dev = web_dev()"
   ]
  },
  {
   "cell_type": "code",
   "execution_count": 12,
   "id": "d14f4f89-2003-4b56-b683-2e3b3d3cde2e",
   "metadata": {},
   "outputs": [],
   "source": [
    "class_obj=[obj_data_science,obj_web_dev]"
   ]
  },
  {
   "cell_type": "code",
   "execution_count": 13,
   "id": "0671fc63-569d-48ad-a38d-ea21e3a8fca8",
   "metadata": {},
   "outputs": [
    {
     "name": "stdout",
     "output_type": "stream",
     "text": [
      "this is my method for data science syllabus\n",
      "this is my method for web dev\n"
     ]
    }
   ],
   "source": [
    "class_parcer(class_obj)"
   ]
  },
  {
   "cell_type": "markdown",
   "id": "e5214f06-b6bd-41c2-b0f5-8847c114ca02",
   "metadata": {},
   "source": [
    "## Encapsulation"
   ]
  },
  {
   "cell_type": "code",
   "execution_count": 2,
   "id": "abfefc80-0280-48cf-8aa7-98f39f9273e5",
   "metadata": {},
   "outputs": [],
   "source": [
    "class test:\n",
    "    def __init__(self ,a,b):\n",
    "        self.a=a\n",
    "        self.b=b"
   ]
  },
  {
   "cell_type": "code",
   "execution_count": 3,
   "id": "bdb9823d-a6ff-4588-85bc-b6e573a3a952",
   "metadata": {},
   "outputs": [],
   "source": [
    "t=test(45,64)"
   ]
  },
  {
   "cell_type": "code",
   "execution_count": 4,
   "id": "8b6f17d9-435b-4159-a9dc-ff64437f0eaf",
   "metadata": {},
   "outputs": [
    {
     "data": {
      "text/plain": [
       "45"
      ]
     },
     "execution_count": 4,
     "metadata": {},
     "output_type": "execute_result"
    }
   ],
   "source": [
    "t.a"
   ]
  },
  {
   "cell_type": "code",
   "execution_count": 5,
   "id": "0d1b81da-ab2e-43fd-9e5f-c40d95d92277",
   "metadata": {},
   "outputs": [
    {
     "data": {
      "text/plain": [
       "64"
      ]
     },
     "execution_count": 5,
     "metadata": {},
     "output_type": "execute_result"
    }
   ],
   "source": [
    "t.b"
   ]
  },
  {
   "cell_type": "code",
   "execution_count": 7,
   "id": "b2a69b05-db0b-4938-92b2-a23fd2d5a829",
   "metadata": {},
   "outputs": [],
   "source": [
    "t.a=324"
   ]
  },
  {
   "cell_type": "code",
   "execution_count": 8,
   "id": "c992cb4c-5784-45c9-bbd9-ea245284b2ae",
   "metadata": {},
   "outputs": [
    {
     "data": {
      "text/plain": [
       "324"
      ]
     },
     "execution_count": 8,
     "metadata": {},
     "output_type": "execute_result"
    }
   ],
   "source": [
    "t.a"
   ]
  },
  {
   "cell_type": "markdown",
   "id": "862050ab-b1ff-4dfe-82fe-f0903e2313a2",
   "metadata": {
    "tags": []
   },
   "source": [
    "#### we can access and modify variable which can be risky to take preventive measure we use encapsulation\n",
    "#### encapsulation helps prevent direct access and modification of data"
   ]
  },
  {
   "cell_type": "code",
   "execution_count": 56,
   "id": "3ba3bb8f-ccf8-4864-ac1f-adf597421d9d",
   "metadata": {
    "tags": []
   },
   "outputs": [],
   "source": [
    "class car:\n",
    "    \n",
    "    def __init__(self,year,make,model,speed):\n",
    "        self.__year = year\n",
    "        self.__make = make\n",
    "        self.__model = model\n",
    "        self.__speed = 0\n",
    "## using double underscores makes the variables private\n",
    "    def set_speed(self,speed):\n",
    "        self.__speed = 0 if speed < 0 else speed\n",
    "        \n",
    "    def get_speed(self):\n",
    "        return self.__speed"
   ]
  },
  {
   "cell_type": "code",
   "execution_count": 57,
   "id": "ac14b08a-b5bf-4686-8dcf-63604c02358f",
   "metadata": {},
   "outputs": [
    {
     "ename": "AttributeError",
     "evalue": "'car' object has no attribute 'get_speed'",
     "output_type": "error",
     "traceback": [
      "\u001b[0;31m---------------------------------------------------------------------------\u001b[0m",
      "\u001b[0;31mAttributeError\u001b[0m                            Traceback (most recent call last)",
      "Cell \u001b[0;32mIn[57], line 1\u001b[0m\n\u001b[0;32m----> 1\u001b[0m \u001b[43mobj_car\u001b[49m\u001b[38;5;241;43m.\u001b[39;49m\u001b[43mget_speed\u001b[49m() \u001b[38;5;66;03m#not working**\u001b[39;00m\n",
      "\u001b[0;31mAttributeError\u001b[0m: 'car' object has no attribute 'get_speed'"
     ]
    }
   ],
   "source": [
    "obj_car.get_speed() #not working**"
   ]
  },
  {
   "cell_type": "code",
   "execution_count": 33,
   "id": "f8b39155-92d9-4e0c-8117-ee5c134d5a17",
   "metadata": {},
   "outputs": [
    {
     "ename": "TypeError",
     "evalue": "car.__init__() missing 4 required positional arguments: 'year', 'make', 'model', and 'speed'",
     "output_type": "error",
     "traceback": [
      "\u001b[0;31m---------------------------------------------------------------------------\u001b[0m",
      "\u001b[0;31mTypeError\u001b[0m                                 Traceback (most recent call last)",
      "Cell \u001b[0;32mIn[33], line 1\u001b[0m\n\u001b[0;32m----> 1\u001b[0m obj_car \u001b[38;5;241m=\u001b[39m \u001b[43mcar\u001b[49m\u001b[43m(\u001b[49m\u001b[43m)\u001b[49m\n",
      "\u001b[0;31mTypeError\u001b[0m: car.__init__() missing 4 required positional arguments: 'year', 'make', 'model', and 'speed'"
     ]
    }
   ],
   "source": [
    "obj_car = car()"
   ]
  },
  {
   "cell_type": "code",
   "execution_count": null,
   "id": "78d8bb4c-b39c-4fd4-8e88-d021ce06d41c",
   "metadata": {},
   "outputs": [],
   "source": [
    "obj_car = car(2021,\"Nissan\",\"Innova\",12)"
   ]
  },
  {
   "cell_type": "code",
   "execution_count": null,
   "id": "47d12a96-b38b-4ecb-b770-2d8f80618b17",
   "metadata": {},
   "outputs": [],
   "source": []
  },
  {
   "cell_type": "code",
   "execution_count": 34,
   "id": "dfac9b57-78fb-4d2a-ac2b-0f6a9170a2d9",
   "metadata": {},
   "outputs": [
    {
     "ename": "AttributeError",
     "evalue": "'car' object has no attribute '__year'",
     "output_type": "error",
     "traceback": [
      "\u001b[0;31m---------------------------------------------------------------------------\u001b[0m",
      "\u001b[0;31mAttributeError\u001b[0m                            Traceback (most recent call last)",
      "Cell \u001b[0;32mIn[34], line 1\u001b[0m\n\u001b[0;32m----> 1\u001b[0m \u001b[43mobj_car\u001b[49m\u001b[38;5;241;43m.\u001b[39;49m\u001b[43m__year\u001b[49m\n",
      "\u001b[0;31mAttributeError\u001b[0m: 'car' object has no attribute '__year'"
     ]
    }
   ],
   "source": [
    "obj_car.__year"
   ]
  },
  {
   "cell_type": "code",
   "execution_count": null,
   "id": "2a8c1902-9278-4437-9414-335b14fdb978",
   "metadata": {},
   "outputs": [],
   "source": [
    "obj_car._car__year"
   ]
  },
  {
   "cell_type": "code",
   "execution_count": null,
   "id": "a6246d92-d6fd-4ffd-a169-ad404012f684",
   "metadata": {},
   "outputs": [],
   "source": [
    "obj_car._car__year =2023"
   ]
  },
  {
   "cell_type": "code",
   "execution_count": 35,
   "id": "6ff57d41-4fa2-4937-b3f0-8d84e146b104",
   "metadata": {},
   "outputs": [
    {
     "data": {
      "text/plain": [
       "2023"
      ]
     },
     "execution_count": 35,
     "metadata": {},
     "output_type": "execute_result"
    }
   ],
   "source": [
    "obj_car._car__year"
   ]
  },
  {
   "cell_type": "code",
   "execution_count": 36,
   "id": "c7e78983-a84b-4c73-b2a8-9a02cb0b106c",
   "metadata": {},
   "outputs": [],
   "source": [
    "obj_car.set_speed(-123)"
   ]
  },
  {
   "cell_type": "code",
   "execution_count": 37,
   "id": "693e90f4-810f-4299-b25d-a1ecdc2f837d",
   "metadata": {},
   "outputs": [],
   "source": [
    "obj_car.set_speed(342)"
   ]
  },
  {
   "cell_type": "code",
   "execution_count": 38,
   "id": "ba4979a3-d08f-459d-8386-617d583859f2",
   "metadata": {},
   "outputs": [
    {
     "data": {
      "text/plain": [
       "342"
      ]
     },
     "execution_count": 38,
     "metadata": {},
     "output_type": "execute_result"
    }
   ],
   "source": [
    "obj_car._car__speed"
   ]
  },
  {
   "cell_type": "code",
   "execution_count": 44,
   "id": "1db06afe-c85f-4bec-b405-d86b40d2754a",
   "metadata": {},
   "outputs": [],
   "source": [
    "class bank_account:\n",
    "    \n",
    "    def __init__(self,balance):\n",
    "        self.__balance=balance\n",
    "        \n",
    "        \n",
    "    def deposit(self,amount):\n",
    "        self.__balance=self.__balance+amount\n",
    "        \n",
    "    def withdraw(self,amount):\n",
    "        if self.__balance >= amount:\n",
    "            self.__balance = self.__balance - amount\n",
    "            \n",
    "            return True\n",
    "        else:\n",
    "            return False\n",
    "    def get_balance(self):\n",
    "        return self.__balance\n",
    "            "
   ]
  },
  {
   "cell_type": "code",
   "execution_count": 45,
   "id": "a539496d-86e1-47e5-9995-c6026bf13b8e",
   "metadata": {},
   "outputs": [],
   "source": [
    "obj_bank_account = bank_account(1000)"
   ]
  },
  {
   "cell_type": "code",
   "execution_count": 47,
   "id": "c6ee9eef-c375-4787-8233-dd31e27b98a0",
   "metadata": {},
   "outputs": [
    {
     "ename": "AttributeError",
     "evalue": "'bank_account' object has no attribute 'balance'",
     "output_type": "error",
     "traceback": [
      "\u001b[0;31m---------------------------------------------------------------------------\u001b[0m",
      "\u001b[0;31mAttributeError\u001b[0m                            Traceback (most recent call last)",
      "Cell \u001b[0;32mIn[47], line 1\u001b[0m\n\u001b[0;32m----> 1\u001b[0m \u001b[43mobj_bank_account\u001b[49m\u001b[38;5;241;43m.\u001b[39;49m\u001b[43mbalance\u001b[49m()\n",
      "\u001b[0;31mAttributeError\u001b[0m: 'bank_account' object has no attribute 'balance'"
     ]
    }
   ],
   "source": [
    "obj_bank_account.balance() ##cannot access this as user only access as a programmer"
   ]
  },
  {
   "cell_type": "code",
   "execution_count": 48,
   "id": "0f6404b3-4161-4412-a97b-1b6a969d049e",
   "metadata": {},
   "outputs": [
    {
     "data": {
      "text/plain": [
       "1000"
      ]
     },
     "execution_count": 48,
     "metadata": {},
     "output_type": "execute_result"
    }
   ],
   "source": [
    "obj_bank_account.get_balance()"
   ]
  },
  {
   "cell_type": "code",
   "execution_count": 49,
   "id": "e8560450-3d4b-4c0c-8392-dc1a9f7300cc",
   "metadata": {},
   "outputs": [],
   "source": [
    "obj_bank_account.deposit(123445)"
   ]
  },
  {
   "cell_type": "code",
   "execution_count": 50,
   "id": "660721df-7272-4a52-8c4e-39bcc997acbf",
   "metadata": {},
   "outputs": [
    {
     "data": {
      "text/plain": [
       "False"
      ]
     },
     "execution_count": 50,
     "metadata": {},
     "output_type": "execute_result"
    }
   ],
   "source": [
    "obj_bank_account.withdraw(2355454)"
   ]
  },
  {
   "cell_type": "code",
   "execution_count": 51,
   "id": "80d7f646-5ad5-4e49-ac43-666022f7fa6c",
   "metadata": {},
   "outputs": [
    {
     "data": {
      "text/plain": [
       "True"
      ]
     },
     "execution_count": 51,
     "metadata": {},
     "output_type": "execute_result"
    }
   ],
   "source": [
    "obj_bank_account.withdraw(2354)"
   ]
  },
  {
   "cell_type": "code",
   "execution_count": 52,
   "id": "d67ed2b8-d13d-4132-ac98-282a23dd9f81",
   "metadata": {},
   "outputs": [
    {
     "data": {
      "text/plain": [
       "122091"
      ]
     },
     "execution_count": 52,
     "metadata": {},
     "output_type": "execute_result"
    }
   ],
   "source": [
    "obj_bank_account.get_balance()"
   ]
  },
  {
   "cell_type": "markdown",
   "id": "38afcc1d-0d11-461b-926f-6573f8a30342",
   "metadata": {},
   "source": [
    "### Inheritance"
   ]
  },
  {
   "cell_type": "code",
   "execution_count": 58,
   "id": "102e9261-21cd-4e59-95ad-60d848cd6f2a",
   "metadata": {},
   "outputs": [],
   "source": [
    "class parent:\n",
    "    \n",
    "    def test_parent(self):\n",
    "        print(\"This is my parent class\")"
   ]
  },
  {
   "cell_type": "code",
   "execution_count": 59,
   "id": "d3b5208d-e825-45b5-aaa7-b97ad60644f7",
   "metadata": {},
   "outputs": [],
   "source": [
    "class child(parent):\n",
    "    pass"
   ]
  },
  {
   "cell_type": "code",
   "execution_count": 60,
   "id": "e5e2dce9-1977-4a21-8047-c426711e77df",
   "metadata": {},
   "outputs": [],
   "source": [
    "child_obj=child()"
   ]
  },
  {
   "cell_type": "code",
   "execution_count": 62,
   "id": "20fad28b-1376-463a-980e-b8f4ef2c1b7e",
   "metadata": {},
   "outputs": [
    {
     "name": "stdout",
     "output_type": "stream",
     "text": [
      "This is my parent class\n"
     ]
    }
   ],
   "source": [
    "child_obj.test_parent()\n",
    "#using onject of child class we can inherit or use parent class"
   ]
  },
  {
   "cell_type": "markdown",
   "id": "31e1e9b7-2edf-46f8-9e18-7e1a0eb1c1cb",
   "metadata": {},
   "source": [
    "### multilevel inheritance"
   ]
  },
  {
   "cell_type": "code",
   "execution_count": 63,
   "id": "2a22e2ae-d82f-405e-9447-0ca5506aefe0",
   "metadata": {},
   "outputs": [],
   "source": [
    "class class1:\n",
    "    def test_class1(self):\n",
    "        print(\"this is my class1\")"
   ]
  },
  {
   "cell_type": "code",
   "execution_count": 66,
   "id": "6a415f14-c569-43c0-9164-b4333eedfbb9",
   "metadata": {},
   "outputs": [],
   "source": [
    "class class2(class1):\n",
    "    def test_class2(self):\n",
    "        print(\"this is my class2\")"
   ]
  },
  {
   "cell_type": "code",
   "execution_count": 68,
   "id": "4b48b811-d024-4366-bac6-2546a8cffeac",
   "metadata": {},
   "outputs": [],
   "source": [
    "class class3(class2):\n",
    "    def test_class3(self):\n",
    "        print(\"this is my class3\")"
   ]
  },
  {
   "cell_type": "code",
   "execution_count": 69,
   "id": "4c680911-cc22-4755-8ce7-0cbdec7f5d33",
   "metadata": {},
   "outputs": [],
   "source": [
    "obj_class3 = class3()"
   ]
  },
  {
   "cell_type": "code",
   "execution_count": 71,
   "id": "aa7f89d4-cb9e-4221-adfa-f0c281e5cc74",
   "metadata": {},
   "outputs": [
    {
     "name": "stdout",
     "output_type": "stream",
     "text": [
      "this is my class1\n"
     ]
    }
   ],
   "source": [
    "obj_class3.test_class1()"
   ]
  },
  {
   "cell_type": "code",
   "execution_count": 72,
   "id": "fb95dc51-5808-463f-a68c-c3bcbc4d282c",
   "metadata": {},
   "outputs": [
    {
     "name": "stdout",
     "output_type": "stream",
     "text": [
      "this is my class2\n"
     ]
    }
   ],
   "source": [
    "obj_class3.test_class2()"
   ]
  },
  {
   "cell_type": "code",
   "execution_count": 73,
   "id": "ca64668c-ae79-413d-82ec-2e4f7e8fffaf",
   "metadata": {},
   "outputs": [
    {
     "name": "stdout",
     "output_type": "stream",
     "text": [
      "this is my class3\n"
     ]
    }
   ],
   "source": [
    "obj_class3.test_class3()"
   ]
  },
  {
   "cell_type": "markdown",
   "id": "ee9033ca-c76b-4304-99c9-c6d668d923e5",
   "metadata": {},
   "source": [
    "## multiple inheritance"
   ]
  },
  {
   "cell_type": "code",
   "execution_count": 74,
   "id": "c97a1dbb-45b8-4878-b8ee-69d496164d9c",
   "metadata": {},
   "outputs": [],
   "source": [
    "class class1:\n",
    "    def test_class1(self):\n",
    "        print(\"this is classs1\")"
   ]
  },
  {
   "cell_type": "code",
   "execution_count": 75,
   "id": "fbc73c38-b2d4-4090-8775-83d119a61dcb",
   "metadata": {},
   "outputs": [],
   "source": [
    "class class2:\n",
    "    def test_class2(self):\n",
    "        print(\"this is class2\")"
   ]
  },
  {
   "cell_type": "code",
   "execution_count": 76,
   "id": "7af466fa-1383-491b-8886-f870ad2f9b00",
   "metadata": {},
   "outputs": [],
   "source": [
    "class class3(class1,class2):\n",
    "    pass"
   ]
  },
  {
   "cell_type": "code",
   "execution_count": 77,
   "id": "d70806b0-1603-4f35-b21e-3b59c1aaf24c",
   "metadata": {},
   "outputs": [],
   "source": [
    "obj_class3 = class3()"
   ]
  },
  {
   "cell_type": "code",
   "execution_count": 78,
   "id": "f6ce4902-6510-4a94-87c9-6807e57c2da2",
   "metadata": {},
   "outputs": [
    {
     "name": "stdout",
     "output_type": "stream",
     "text": [
      "this is classs1\n"
     ]
    }
   ],
   "source": [
    "obj_class3.test_class1()"
   ]
  },
  {
   "cell_type": "code",
   "execution_count": 79,
   "id": "f3fc7788-4382-4b8a-bdb5-7eef62d90cae",
   "metadata": {
    "tags": []
   },
   "outputs": [
    {
     "name": "stdout",
     "output_type": "stream",
     "text": [
      "this is class2\n"
     ]
    }
   ],
   "source": [
    "obj_class3.test_class2()"
   ]
  },
  {
   "cell_type": "markdown",
   "id": "ade9a60a-adde-4739-abb1-531fa0b247e7",
   "metadata": {},
   "source": [
    "## Abstraction"
   ]
  },
  {
   "cell_type": "code",
   "execution_count": 81,
   "id": "74ea70ac-78f7-4ab6-858d-0228a8b5a8fa",
   "metadata": {},
   "outputs": [],
   "source": [
    "import abc\n",
    "\n",
    "class pwskills:\n",
    "    \n",
    "    @abc.abstractmethod\n",
    "    def student_details(self):\n",
    "        pass\n",
    "    \n",
    "    @abc.abstractmethod\n",
    "    def student_assignment(self):\n",
    "        pass\n",
    "    \n",
    "    @abc.abstractmethod\n",
    "    def student_marks(self):\n",
    "        pass"
   ]
  },
  {
   "cell_type": "code",
   "execution_count": 83,
   "id": "39022c90-8e6b-43df-99e9-76fc40ab29f0",
   "metadata": {},
   "outputs": [],
   "source": [
    "class data_science(pwskills):\n",
    "    \n",
    "    def student_details(self):\n",
    "        return \"it will try to return a details of data science masters\"\n",
    "    \n",
    "    def student_assignment(self):\n",
    "        return \"it will return a details of student assignment for data science master's\"\n",
    "        "
   ]
  },
  {
   "cell_type": "code",
   "execution_count": 84,
   "id": "cabe81a6-5184-47f1-b533-bf5cab3263dd",
   "metadata": {},
   "outputs": [],
   "source": [
    "class web_dev(pwskills):\n",
    "    def student_details(self):\n",
    "        return \"this will retun the details of web dev class\"\n",
    "    \n",
    "    def student_marks(self):\n",
    "        return \"this will return marks of web dev class\""
   ]
  },
  {
   "cell_type": "code",
   "execution_count": 85,
   "id": "492c8d2b-406b-4101-8704-15e72a1af7be",
   "metadata": {},
   "outputs": [
    {
     "data": {
      "text/plain": [
       "'it will try to return a details of data science masters'"
      ]
     },
     "execution_count": 85,
     "metadata": {},
     "output_type": "execute_result"
    }
   ],
   "source": [
    "ds = data_science()\n",
    "ds.student_details()"
   ]
  },
  {
   "cell_type": "code",
   "execution_count": 87,
   "id": "5f7dcb05-ee46-4463-beda-cb2764798d94",
   "metadata": {},
   "outputs": [
    {
     "data": {
      "text/plain": [
       "'this will return marks of web dev class'"
      ]
     },
     "execution_count": 87,
     "metadata": {},
     "output_type": "execute_result"
    }
   ],
   "source": [
    "wd = web_dev()\n",
    "wd.student_marks()"
   ]
  },
  {
   "cell_type": "code",
   "execution_count": null,
   "id": "2be7bbbe-42d9-40a8-830c-3d6db350563f",
   "metadata": {},
   "outputs": [],
   "source": [
    "\"\"\" To define an abstract class, you use the abc (abstract base class) module\n",
    "it is just a blueprint then we can call it and define it\n",
    "An abstract class can be considered as a blueprint for other classes. \n",
    "It allows you to create a set of methods that must be created within any child classes built from the abstract class. \n",
    "A class which contains one or more abstract methods is called an abstract class\"\"\"\n"
   ]
  }
 ],
 "metadata": {
  "kernelspec": {
   "display_name": "Python 3 (ipykernel)",
   "language": "python",
   "name": "python3"
  },
  "language_info": {
   "codemirror_mode": {
    "name": "ipython",
    "version": 3
   },
   "file_extension": ".py",
   "mimetype": "text/x-python",
   "name": "python",
   "nbconvert_exporter": "python",
   "pygments_lexer": "ipython3",
   "version": "3.10.8"
  }
 },
 "nbformat": 4,
 "nbformat_minor": 5
}
