{
 "cells": [
  {
   "cell_type": "markdown",
   "id": "268b2aab-ce41-4cdd-9351-a0df87f6bf75",
   "metadata": {},
   "source": [
    "## OOPS - Object-Oriented Programming System"
   ]
  },
  {
   "cell_type": "code",
   "execution_count": 1,
   "id": "f8beee0e-a242-416f-ab78-881f487b3633",
   "metadata": {},
   "outputs": [],
   "source": [
    "a=1"
   ]
  },
  {
   "cell_type": "code",
   "execution_count": 2,
   "id": "747ddf78-e1e7-4d8a-9d1d-f4372f00578c",
   "metadata": {},
   "outputs": [
    {
     "name": "stdout",
     "output_type": "stream",
     "text": [
      "<class 'int'>\n"
     ]
    }
   ],
   "source": [
    "print(type(a))"
   ]
  },
  {
   "cell_type": "code",
   "execution_count": 3,
   "id": "599ba500-a5f6-49ac-8e9c-89848de1b5aa",
   "metadata": {},
   "outputs": [
    {
     "name": "stdout",
     "output_type": "stream",
     "text": [
      "<class 'str'>\n"
     ]
    }
   ],
   "source": [
    "print(type('pwskills'))"
   ]
  },
  {
   "cell_type": "code",
   "execution_count": 1,
   "id": "fff3dac7-5c34-4686-b6bd-617f43f1d3e5",
   "metadata": {},
   "outputs": [],
   "source": [
    "class test:\n",
    "    pass"
   ]
  },
  {
   "cell_type": "code",
   "execution_count": 5,
   "id": "6731452e-c902-49d9-9bbd-0cd087fab503",
   "metadata": {},
   "outputs": [],
   "source": [
    "# here a is variable / intance/object of class test\n",
    "a=test()"
   ]
  },
  {
   "cell_type": "code",
   "execution_count": 6,
   "id": "ed20960a-7927-4641-8cec-7242ed88e772",
   "metadata": {},
   "outputs": [
    {
     "data": {
      "text/plain": [
       "__main__.test"
      ]
     },
     "execution_count": 6,
     "metadata": {},
     "output_type": "execute_result"
    }
   ],
   "source": [
    "type(a)"
   ]
  },
  {
   "cell_type": "code",
   "execution_count": 7,
   "id": "c1fcb2c0-553e-4319-8cf3-70e58882a81a",
   "metadata": {},
   "outputs": [
    {
     "name": "stdout",
     "output_type": "stream",
     "text": [
      "<class '__main__.test'>\n"
     ]
    }
   ],
   "source": [
    "print(type(a))"
   ]
  },
  {
   "cell_type": "code",
   "execution_count": 15,
   "id": "d2b7a1c6-e6be-4a6c-a18f-4b4bb71afe57",
   "metadata": {},
   "outputs": [],
   "source": [
    "class pwskills:\n",
    "    def welcome_msg(self):\n",
    "        print('welcome to pwskills')"
   ]
  },
  {
   "cell_type": "code",
   "execution_count": 16,
   "id": "1f756324-11f4-4017-a7a1-eabd460ea1c8",
   "metadata": {},
   "outputs": [],
   "source": [
    "ashwina = pwskills()"
   ]
  },
  {
   "cell_type": "code",
   "execution_count": 17,
   "id": "1cd66e0f-f161-412a-83d8-e074590dafb1",
   "metadata": {},
   "outputs": [
    {
     "name": "stdout",
     "output_type": "stream",
     "text": [
      "welcome to pwskills\n"
     ]
    }
   ],
   "source": [
    "ashwina.welcome_msg()"
   ]
  },
  {
   "cell_type": "code",
   "execution_count": 22,
   "id": "7ae3ee18-2d79-4448-b64c-021c3394d8c0",
   "metadata": {},
   "outputs": [],
   "source": [
    "sohan=pwskills()"
   ]
  },
  {
   "cell_type": "code",
   "execution_count": 23,
   "id": "e7e36e00-aa49-44ad-9333-d33e28ad0969",
   "metadata": {},
   "outputs": [
    {
     "name": "stdout",
     "output_type": "stream",
     "text": [
      "welcome to pwskills\n"
     ]
    }
   ],
   "source": [
    "sohan.welcome_msg()"
   ]
  },
  {
   "cell_type": "code",
   "execution_count": 24,
   "id": "ec98ac0d-6ad8-494a-b11a-83f5f6acef8f",
   "metadata": {},
   "outputs": [],
   "source": [
    "a=1"
   ]
  },
  {
   "cell_type": "code",
   "execution_count": 25,
   "id": "300e4c2c-beaa-4431-915d-bddd24d1711e",
   "metadata": {},
   "outputs": [],
   "source": [
    "b=2"
   ]
  },
  {
   "cell_type": "code",
   "execution_count": 26,
   "id": "93dfc9fe-c52f-4a47-870a-06d55f6ea7ea",
   "metadata": {},
   "outputs": [
    {
     "data": {
      "text/plain": [
       "1"
      ]
     },
     "execution_count": 26,
     "metadata": {},
     "output_type": "execute_result"
    }
   ],
   "source": [
    "a"
   ]
  },
  {
   "cell_type": "code",
   "execution_count": 27,
   "id": "463602ab-aa12-4174-9192-d5f1424628ab",
   "metadata": {},
   "outputs": [
    {
     "data": {
      "text/plain": [
       "2"
      ]
     },
     "execution_count": 27,
     "metadata": {},
     "output_type": "execute_result"
    }
   ],
   "source": [
    "b"
   ]
  },
  {
   "cell_type": "code",
   "execution_count": null,
   "id": "6116ca9c-738b-4592-bad9-5fd058cfe6f4",
   "metadata": {},
   "outputs": [],
   "source": [
    "# init is constructor always try to take data while creating object and pass it to class\n",
    "# class obj ashwina\n",
    "# self.ph_no -- self is a pointer"
   ]
  },
  {
   "cell_type": "code",
   "execution_count": 28,
   "id": "c772dc38-4bb7-474a-b5a2-ff5f0be56382",
   "metadata": {},
   "outputs": [],
   "source": [
    "class pwskills1:\n",
    "    def __init__(self , phone_number, email_id,student_id):\n",
    "        self.phone_number=phone_number\n",
    "        self.email_id=email_id\n",
    "        self.student_id=student_id\n",
    "    def return_student_details(self):\n",
    "        return self.phone_number, self.email_id,self.student_id"
   ]
  },
  {
   "cell_type": "code",
   "execution_count": 29,
   "id": "99090d43-ae6e-46f6-ba2e-e7fa216592c1",
   "metadata": {},
   "outputs": [
    {
     "ename": "TypeError",
     "evalue": "pwskills1.__init__() missing 3 required positional arguments: 'phone_number', 'email_id', and 'student_id'",
     "output_type": "error",
     "traceback": [
      "\u001b[0;31m---------------------------------------------------------------------------\u001b[0m",
      "\u001b[0;31mTypeError\u001b[0m                                 Traceback (most recent call last)",
      "Cell \u001b[0;32mIn[29], line 1\u001b[0m\n\u001b[0;32m----> 1\u001b[0m ashwina\u001b[38;5;241m=\u001b[39m \u001b[43mpwskills1\u001b[49m\u001b[43m(\u001b[49m\u001b[43m)\u001b[49m\n",
      "\u001b[0;31mTypeError\u001b[0m: pwskills1.__init__() missing 3 required positional arguments: 'phone_number', 'email_id', and 'student_id'"
     ]
    }
   ],
   "source": [
    "ashwina= pwskills1()"
   ]
  },
  {
   "cell_type": "code",
   "execution_count": 31,
   "id": "01d3683c-bee2-4b27-beb4-e1ee44afac39",
   "metadata": {},
   "outputs": [],
   "source": [
    "ashwina=pwskills1(985678978,'ash@gmail.com',2402231)"
   ]
  },
  {
   "cell_type": "code",
   "execution_count": 32,
   "id": "8d89c1fe-db30-4f5f-915f-28741b37c230",
   "metadata": {},
   "outputs": [
    {
     "data": {
      "text/plain": [
       "985678978"
      ]
     },
     "execution_count": 32,
     "metadata": {},
     "output_type": "execute_result"
    }
   ],
   "source": [
    "ashwina.phone_number"
   ]
  },
  {
   "cell_type": "code",
   "execution_count": 33,
   "id": "b722b6ca-0f8b-4e88-a810-e86dae2339e9",
   "metadata": {},
   "outputs": [
    {
     "data": {
      "text/plain": [
       "'ash@gmail.com'"
      ]
     },
     "execution_count": 33,
     "metadata": {},
     "output_type": "execute_result"
    }
   ],
   "source": [
    "ashwina.email_id"
   ]
  },
  {
   "cell_type": "code",
   "execution_count": 34,
   "id": "266b1648-51aa-421a-83b1-0d49c5364a7d",
   "metadata": {},
   "outputs": [
    {
     "data": {
      "text/plain": [
       "2402231"
      ]
     },
     "execution_count": 34,
     "metadata": {},
     "output_type": "execute_result"
    }
   ],
   "source": [
    "ashwina.student_id"
   ]
  },
  {
   "cell_type": "code",
   "execution_count": 35,
   "id": "f7664712-2198-4466-abce-5a7e83b2a784",
   "metadata": {},
   "outputs": [
    {
     "data": {
      "text/plain": [
       "<bound method pwskills1.return_student_details of <__main__.pwskills1 object at 0x7f851e60acb0>>"
      ]
     },
     "execution_count": 35,
     "metadata": {},
     "output_type": "execute_result"
    }
   ],
   "source": [
    "ashwina.return_student_details"
   ]
  },
  {
   "cell_type": "code",
   "execution_count": 36,
   "id": "2ea142a5-61a3-4cc6-9b24-0423e3186135",
   "metadata": {},
   "outputs": [
    {
     "data": {
      "text/plain": [
       "(985678978, 'ash@gmail.com', 2402231)"
      ]
     },
     "execution_count": 36,
     "metadata": {},
     "output_type": "execute_result"
    }
   ],
   "source": [
    "ashwina.return_student_details()"
   ]
  },
  {
   "cell_type": "code",
   "execution_count": 38,
   "id": "9bd0dc46-773f-4bf3-88a8-a6c43964f3a2",
   "metadata": {},
   "outputs": [],
   "source": [
    "sohan = pwskills1(4545645767, 'sohan@gmail.com', 220456)"
   ]
  },
  {
   "cell_type": "code",
   "execution_count": 39,
   "id": "a83949cc-a95c-49d0-a221-ab00a49a40f7",
   "metadata": {},
   "outputs": [
    {
     "data": {
      "text/plain": [
       "4545645767"
      ]
     },
     "execution_count": 39,
     "metadata": {},
     "output_type": "execute_result"
    }
   ],
   "source": [
    "sohan.phone_number"
   ]
  },
  {
   "cell_type": "code",
   "execution_count": 40,
   "id": "fc157202-8b24-4a29-acfc-a81573fc4adf",
   "metadata": {},
   "outputs": [
    {
     "data": {
      "text/plain": [
       "(4545645767, 'sohan@gmail.com', 220456)"
      ]
     },
     "execution_count": 40,
     "metadata": {},
     "output_type": "execute_result"
    }
   ],
   "source": [
    "sohan.return_student_details()"
   ]
  },
  {
   "cell_type": "code",
   "execution_count": 47,
   "id": "365c4787-5132-4fca-971d-462acfc6cc39",
   "metadata": {},
   "outputs": [],
   "source": [
    "class pwskills2:\n",
    "    def __init__(ash , phone_number, email_id,student_id):\n",
    "        ash.phone_number=phone_number\n",
    "        ash.email_id=email_id\n",
    "        ash.student_id=student_id\n",
    "    def return_student_details(ash):\n",
    "        return ash.phone_number, ash.email_id,ash.student_id"
   ]
  },
  {
   "cell_type": "code",
   "execution_count": 48,
   "id": "b107092d-ffff-44d5-9aeb-0cb8e30aa1b5",
   "metadata": {},
   "outputs": [],
   "source": [
    "mohan=pwskills2(63456777,'mohan@gmail.com',220432)"
   ]
  },
  {
   "cell_type": "code",
   "execution_count": 49,
   "id": "19b2ba2c-bb16-4e11-9edd-dd995e0ff100",
   "metadata": {},
   "outputs": [
    {
     "data": {
      "text/plain": [
       "63456777"
      ]
     },
     "execution_count": 49,
     "metadata": {},
     "output_type": "execute_result"
    }
   ],
   "source": [
    "mohan.phone_number"
   ]
  },
  {
   "cell_type": "code",
   "execution_count": 50,
   "id": "37de69c4-13f5-4d33-9768-64277d3d9e5a",
   "metadata": {},
   "outputs": [
    {
     "data": {
      "text/plain": [
       "(63456777, 'mohan@gmail.com', 220432)"
      ]
     },
     "execution_count": 50,
     "metadata": {},
     "output_type": "execute_result"
    }
   ],
   "source": [
    "mohan.return_student_details()"
   ]
  },
  {
   "cell_type": "code",
   "execution_count": 51,
   "id": "fb48b3bd-e32d-464d-bd6c-a200ac5fdf44",
   "metadata": {},
   "outputs": [],
   "source": [
    "# self is just a convention we can we anything"
   ]
  },
  {
   "cell_type": "code",
   "execution_count": 61,
   "id": "1eb3004f-682d-463c-8b9a-901446e8f0ca",
   "metadata": {},
   "outputs": [],
   "source": [
    "class pwskills3:\n",
    "    def __init__(ash , phone_number, email_id,student_id):\n",
    "        ash.phone_number1=phone_number\n",
    "        ash.email_id=email_id\n",
    "        ash.student_id=student_id\n",
    "        \n",
    "        \n",
    "    def return_student_details(ash):\n",
    "        return ash.phone_number1, ash.email_id,ash.student_id"
   ]
  },
  {
   "cell_type": "code",
   "execution_count": 62,
   "id": "a55b4e5f-c6d2-4b39-be4f-b645ee46c9d1",
   "metadata": {},
   "outputs": [],
   "source": [
    "rohan = pwskills3(64453454,'rohan@gmailcom',2243)"
   ]
  },
  {
   "cell_type": "code",
   "execution_count": 58,
   "id": "afa924f5-56cb-44c9-a6c4-a64a190ef7c3",
   "metadata": {},
   "outputs": [
    {
     "ename": "AttributeError",
     "evalue": "'pwskills3' object has no attribute 'phone_number'",
     "output_type": "error",
     "traceback": [
      "\u001b[0;31m---------------------------------------------------------------------------\u001b[0m",
      "\u001b[0;31mAttributeError\u001b[0m                            Traceback (most recent call last)",
      "Cell \u001b[0;32mIn[58], line 1\u001b[0m\n\u001b[0;32m----> 1\u001b[0m \u001b[43mrohan\u001b[49m\u001b[38;5;241;43m.\u001b[39;49m\u001b[43mphone_number\u001b[49m\n",
      "\u001b[0;31mAttributeError\u001b[0m: 'pwskills3' object has no attribute 'phone_number'"
     ]
    }
   ],
   "source": [
    "rohan.phone_number"
   ]
  },
  {
   "cell_type": "code",
   "execution_count": 59,
   "id": "77d05141-a3c6-462c-979f-fbb368711d3e",
   "metadata": {},
   "outputs": [
    {
     "data": {
      "text/plain": [
       "64453454"
      ]
     },
     "execution_count": 59,
     "metadata": {},
     "output_type": "execute_result"
    }
   ],
   "source": [
    "rohan.phone_number1"
   ]
  },
  {
   "cell_type": "code",
   "execution_count": 60,
   "id": "0ab7f932-2ff2-48ea-9524-7059c0178eed",
   "metadata": {},
   "outputs": [
    {
     "ename": "AttributeError",
     "evalue": "'pwskills3' object has no attribute 'phone_number'",
     "output_type": "error",
     "traceback": [
      "\u001b[0;31m---------------------------------------------------------------------------\u001b[0m",
      "\u001b[0;31mAttributeError\u001b[0m                            Traceback (most recent call last)",
      "Cell \u001b[0;32mIn[60], line 1\u001b[0m\n\u001b[0;32m----> 1\u001b[0m \u001b[43mrohan\u001b[49m\u001b[38;5;241;43m.\u001b[39;49m\u001b[43mreturn_student_details\u001b[49m\u001b[43m(\u001b[49m\u001b[43m)\u001b[49m\n",
      "Cell \u001b[0;32mIn[56], line 9\u001b[0m, in \u001b[0;36mpwskills3.return_student_details\u001b[0;34m(ash)\u001b[0m\n\u001b[1;32m      8\u001b[0m \u001b[38;5;28;01mdef\u001b[39;00m \u001b[38;5;21mreturn_student_details\u001b[39m(ash):\n\u001b[0;32m----> 9\u001b[0m     \u001b[38;5;28;01mreturn\u001b[39;00m \u001b[43mash\u001b[49m\u001b[38;5;241;43m.\u001b[39;49m\u001b[43mphone_number\u001b[49m, ash\u001b[38;5;241m.\u001b[39memail_id,ash\u001b[38;5;241m.\u001b[39mstudent_id\n",
      "\u001b[0;31mAttributeError\u001b[0m: 'pwskills3' object has no attribute 'phone_number'"
     ]
    }
   ],
   "source": [
    "rohan.return_student_details()"
   ]
  },
  {
   "cell_type": "code",
   "execution_count": 63,
   "id": "04edc8e6-d5d9-4d31-9aa6-b2841ea363a3",
   "metadata": {},
   "outputs": [
    {
     "data": {
      "text/plain": [
       "(64453454, 'rohan@gmailcom', 2243)"
      ]
     },
     "execution_count": 63,
     "metadata": {},
     "output_type": "execute_result"
    }
   ],
   "source": [
    "rohan.return_student_details()"
   ]
  },
  {
   "cell_type": "markdown",
   "id": "eddca55e-600a-4360-bf65-51947bcaa10c",
   "metadata": {},
   "source": [
    "### class increase structure , modularity  inside code and increase reusability of code"
   ]
  },
  {
   "cell_type": "code",
   "execution_count": null,
   "id": "a414b505-138d-413f-aac0-77865359a8f4",
   "metadata": {},
   "outputs": [],
   "source": []
  }
 ],
 "metadata": {
  "kernelspec": {
   "display_name": "Python 3 (ipykernel)",
   "language": "python",
   "name": "python3"
  },
  "language_info": {
   "codemirror_mode": {
    "name": "ipython",
    "version": 3
   },
   "file_extension": ".py",
   "mimetype": "text/x-python",
   "name": "python",
   "nbconvert_exporter": "python",
   "pygments_lexer": "ipython3",
   "version": "3.10.8"
  }
 },
 "nbformat": 4,
 "nbformat_minor": 5
}
