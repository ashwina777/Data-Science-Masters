{
 "cells": [
  {
   "cell_type": "markdown",
   "id": "8b0977ce-57a0-4294-a42e-7587a3ca6cb6",
   "metadata": {},
   "source": [
    "# Tuple"
   ]
  },
  {
   "cell_type": "code",
   "execution_count": 1,
   "id": "64270b83-f55a-4001-8ce7-cfd8fc5c97cf",
   "metadata": {},
   "outputs": [],
   "source": [
    "t=()"
   ]
  },
  {
   "cell_type": "code",
   "execution_count": 2,
   "id": "6c92e79d-4c09-490f-be0b-97b7c49b7d87",
   "metadata": {},
   "outputs": [
    {
     "data": {
      "text/plain": [
       "tuple"
      ]
     },
     "execution_count": 2,
     "metadata": {},
     "output_type": "execute_result"
    }
   ],
   "source": [
    "type(t)"
   ]
  },
  {
   "cell_type": "code",
   "execution_count": 4,
   "id": "a0767f50-04ec-4d5f-9f49-87b5df370dce",
   "metadata": {},
   "outputs": [],
   "source": [
    "t1=(1,2,3,4,45.5,45+7j,'ash',True)"
   ]
  },
  {
   "cell_type": "code",
   "execution_count": 5,
   "id": "27909e2c-70d7-4cbe-baf1-7500d09e1a1a",
   "metadata": {},
   "outputs": [
    {
     "data": {
      "text/plain": [
       "tuple"
      ]
     },
     "execution_count": 5,
     "metadata": {},
     "output_type": "execute_result"
    }
   ],
   "source": [
    "type(t1)"
   ]
  },
  {
   "cell_type": "code",
   "execution_count": 9,
   "id": "0637f77f-71f5-480e-911c-8ddd60200556",
   "metadata": {},
   "outputs": [],
   "source": [
    "l1 = [1,2,3,4]"
   ]
  },
  {
   "cell_type": "code",
   "execution_count": 10,
   "id": "1936ddb4-b567-4a18-ab3c-eb527b258bfd",
   "metadata": {},
   "outputs": [
    {
     "data": {
      "text/plain": [
       "list"
      ]
     },
     "execution_count": 10,
     "metadata": {},
     "output_type": "execute_result"
    }
   ],
   "source": [
    "type(l1)"
   ]
  },
  {
   "cell_type": "code",
   "execution_count": 11,
   "id": "d09ef52c-9a40-4b36-9e4a-8d9149f18cb9",
   "metadata": {},
   "outputs": [
    {
     "data": {
      "text/plain": [
       "(1, 2, 3, 4, 45.5, (45+7j), 'ash', True)"
      ]
     },
     "execution_count": 11,
     "metadata": {},
     "output_type": "execute_result"
    }
   ],
   "source": [
    "t1"
   ]
  },
  {
   "cell_type": "code",
   "execution_count": 12,
   "id": "1572cba4-c90c-47c1-ba1a-ffb9c52c303e",
   "metadata": {},
   "outputs": [
    {
     "data": {
      "text/plain": [
       "1"
      ]
     },
     "execution_count": 12,
     "metadata": {},
     "output_type": "execute_result"
    }
   ],
   "source": [
    "t1[0]"
   ]
  },
  {
   "cell_type": "code",
   "execution_count": 14,
   "id": "2808950b-0242-4a69-af0c-f7d98d885c07",
   "metadata": {},
   "outputs": [
    {
     "data": {
      "text/plain": [
       "'ash'"
      ]
     },
     "execution_count": 14,
     "metadata": {},
     "output_type": "execute_result"
    }
   ],
   "source": [
    "t1[6]"
   ]
  },
  {
   "cell_type": "code",
   "execution_count": 15,
   "id": "29357280-b0de-4a8f-b98f-812f91812684",
   "metadata": {},
   "outputs": [
    {
     "data": {
      "text/plain": [
       "(True, 'ash', (45+7j), 45.5, 4, 3, 2, 1)"
      ]
     },
     "execution_count": 15,
     "metadata": {},
     "output_type": "execute_result"
    }
   ],
   "source": [
    "t1[::-1]"
   ]
  },
  {
   "cell_type": "code",
   "execution_count": 19,
   "id": "54baf5ce-3242-4755-a537-a5ff3edaa8ae",
   "metadata": {},
   "outputs": [],
   "source": [
    "t1 = t1[::-1]\n",
    "#item reassignment operation"
   ]
  },
  {
   "cell_type": "code",
   "execution_count": 20,
   "id": "1dc631bf-f2a7-43fb-be09-e30448fbf8b9",
   "metadata": {},
   "outputs": [
    {
     "data": {
      "text/plain": [
       "(True, 'ash', (45+7j), 45.5, 4, 3, 2, 1)"
      ]
     },
     "execution_count": 20,
     "metadata": {},
     "output_type": "execute_result"
    }
   ],
   "source": [
    "t1"
   ]
  },
  {
   "cell_type": "code",
   "execution_count": 22,
   "id": "2d7fd2f7-4b2f-4a7c-aadd-6f570fc1116d",
   "metadata": {},
   "outputs": [
    {
     "data": {
      "text/plain": [
       "(True, 'ash', (45+7j))"
      ]
     },
     "execution_count": 22,
     "metadata": {},
     "output_type": "execute_result"
    }
   ],
   "source": [
    "t1[0:3]"
   ]
  },
  {
   "cell_type": "markdown",
   "id": "147874fd-be7e-408a-84dd-ba38feb8f784",
   "metadata": {},
   "source": [
    "## Functions in tuples\n",
    "count function\n",
    "index function"
   ]
  },
  {
   "cell_type": "code",
   "execution_count": 30,
   "id": "b321ef88-17d1-4c3c-926b-660116649369",
   "metadata": {},
   "outputs": [
    {
     "data": {
      "text/plain": [
       "(True, 'ash', (45+7j), 45.5, 4, 3, 2, 1)"
      ]
     },
     "execution_count": 30,
     "metadata": {},
     "output_type": "execute_result"
    }
   ],
   "source": [
    "t1"
   ]
  },
  {
   "cell_type": "code",
   "execution_count": 24,
   "id": "97d78044-7ef6-4b3f-b18c-f2cbee012dfa",
   "metadata": {},
   "outputs": [
    {
     "data": {
      "text/plain": [
       "1"
      ]
     },
     "execution_count": 24,
     "metadata": {},
     "output_type": "execute_result"
    }
   ],
   "source": [
    "t1.count(4)"
   ]
  },
  {
   "cell_type": "code",
   "execution_count": 29,
   "id": "40860b98-2dd4-4bc0-9ab2-72c7bd84febc",
   "metadata": {},
   "outputs": [
    {
     "data": {
      "text/plain": [
       "2"
      ]
     },
     "execution_count": 29,
     "metadata": {},
     "output_type": "execute_result"
    }
   ],
   "source": [
    "t1.count(1)"
   ]
  },
  {
   "cell_type": "code",
   "execution_count": 27,
   "id": "fbd301ec-4aa9-4631-8cbb-7966076a76a5",
   "metadata": {},
   "outputs": [
    {
     "data": {
      "text/plain": [
       "4"
      ]
     },
     "execution_count": 27,
     "metadata": {},
     "output_type": "execute_result"
    }
   ],
   "source": [
    "t1.index(4)\n",
    "# returns index"
   ]
  },
  {
   "cell_type": "code",
   "execution_count": 35,
   "id": "27639a4c-81c4-4401-90c2-101fe956eb67",
   "metadata": {},
   "outputs": [
    {
     "data": {
      "text/plain": [
       "0"
      ]
     },
     "execution_count": 35,
     "metadata": {},
     "output_type": "execute_result"
    }
   ],
   "source": [
    "t1.index(1)\n",
    "# returns first index\n",
    "# here 1 means true "
   ]
  },
  {
   "cell_type": "code",
   "execution_count": 33,
   "id": "865d4454-4a25-47bb-a522-0a0eee24f32f",
   "metadata": {},
   "outputs": [
    {
     "data": {
      "text/plain": [
       "6"
      ]
     },
     "execution_count": 33,
     "metadata": {},
     "output_type": "execute_result"
    }
   ],
   "source": [
    "t1.index(2)\n",
    "# returns index"
   ]
  },
  {
   "cell_type": "code",
   "execution_count": 34,
   "id": "6146150a-a489-45b5-ae47-dc8bfe4d5d06",
   "metadata": {},
   "outputs": [
    {
     "data": {
      "text/plain": [
       "5"
      ]
     },
     "execution_count": 34,
     "metadata": {},
     "output_type": "execute_result"
    }
   ],
   "source": [
    "t1.index(3)\n",
    "# returns index"
   ]
  },
  {
   "cell_type": "code",
   "execution_count": 28,
   "id": "1c866838-5ed3-4de1-9cff-94dc4cd26d16",
   "metadata": {},
   "outputs": [
    {
     "data": {
      "text/plain": [
       "1"
      ]
     },
     "execution_count": 28,
     "metadata": {},
     "output_type": "execute_result"
    }
   ],
   "source": [
    "t1.index('ash')"
   ]
  },
  {
   "cell_type": "code",
   "execution_count": 37,
   "id": "c728f68b-9f1f-4077-9c41-ec49e35722a8",
   "metadata": {},
   "outputs": [
    {
     "data": {
      "text/plain": [
       "2"
      ]
     },
     "execution_count": 37,
     "metadata": {},
     "output_type": "execute_result"
    }
   ],
   "source": [
    "t1.count(True)\n",
    "# includes 1"
   ]
  },
  {
   "cell_type": "code",
   "execution_count": 38,
   "id": "16d9b248-02ce-4e74-a874-a63eb3505b52",
   "metadata": {},
   "outputs": [
    {
     "data": {
      "text/plain": [
       "(True, 'ash', (45+7j), 45.5, 4, 3, 2, 1)"
      ]
     },
     "execution_count": 38,
     "metadata": {},
     "output_type": "execute_result"
    }
   ],
   "source": [
    "t1"
   ]
  },
  {
   "cell_type": "code",
   "execution_count": 39,
   "id": "a0f5e2d3-3599-49f8-8735-a66b239cdde7",
   "metadata": {},
   "outputs": [
    {
     "data": {
      "text/plain": [
       "[1, 2, 3, 4]"
      ]
     },
     "execution_count": 39,
     "metadata": {},
     "output_type": "execute_result"
    }
   ],
   "source": [
    "l1"
   ]
  },
  {
   "cell_type": "code",
   "execution_count": 40,
   "id": "a8c34e31-dc61-4d49-a0fd-df5cfa68b0fc",
   "metadata": {},
   "outputs": [
    {
     "data": {
      "text/plain": [
       "True"
      ]
     },
     "execution_count": 40,
     "metadata": {},
     "output_type": "execute_result"
    }
   ],
   "source": [
    "t1[0]"
   ]
  },
  {
   "cell_type": "code",
   "execution_count": 41,
   "id": "e7693d50-b53b-4f07-b160-57bb4acd5d28",
   "metadata": {},
   "outputs": [
    {
     "ename": "TypeError",
     "evalue": "'tuple' object does not support item assignment",
     "output_type": "error",
     "traceback": [
      "\u001b[0;31m---------------------------------------------------------------------------\u001b[0m",
      "\u001b[0;31mTypeError\u001b[0m                                 Traceback (most recent call last)",
      "Cell \u001b[0;32mIn[41], line 1\u001b[0m\n\u001b[0;32m----> 1\u001b[0m \u001b[43mt1\u001b[49m\u001b[43m[\u001b[49m\u001b[38;5;241;43m0\u001b[39;49m\u001b[43m]\u001b[49m \u001b[38;5;241m=\u001b[39m \u001b[38;5;241m346\u001b[39m\n",
      "\u001b[0;31mTypeError\u001b[0m: 'tuple' object does not support item assignment"
     ]
    }
   ],
   "source": [
    "t1[0] = 346"
   ]
  },
  {
   "cell_type": "code",
   "execution_count": 42,
   "id": "e29c4049-fc33-4ab4-b262-3fd8ccbc4c0e",
   "metadata": {},
   "outputs": [],
   "source": [
    "l1[0]= 100"
   ]
  },
  {
   "cell_type": "code",
   "execution_count": 43,
   "id": "aa91a579-ea9e-4517-96ba-c6472c661cc1",
   "metadata": {},
   "outputs": [
    {
     "data": {
      "text/plain": [
       "[100, 2, 3, 4]"
      ]
     },
     "execution_count": 43,
     "metadata": {},
     "output_type": "execute_result"
    }
   ],
   "source": [
    "l1"
   ]
  },
  {
   "cell_type": "code",
   "execution_count": 44,
   "id": "342cab1d-1ade-47e1-a061-7bab7464637b",
   "metadata": {},
   "outputs": [],
   "source": [
    "# main difference between list and tuple is tuple is immuatable while lists are mutable"
   ]
  },
  {
   "cell_type": "code",
   "execution_count": null,
   "id": "ede4c29c-9542-4f9a-a1e1-bf08f6d93888",
   "metadata": {},
   "outputs": [],
   "source": []
  },
  {
   "cell_type": "code",
   "execution_count": 46,
   "id": "94f3c81f-8529-472d-98eb-fbb676d6e689",
   "metadata": {},
   "outputs": [
    {
     "name": "stdout",
     "output_type": "stream",
     "text": [
      "True\n",
      "ash\n",
      "(45+7j)\n",
      "45.5\n",
      "4\n",
      "3\n",
      "2\n",
      "1\n"
     ]
    }
   ],
   "source": [
    "for i in t1:\n",
    "    print(i) "
   ]
  },
  {
   "cell_type": "code",
   "execution_count": 47,
   "id": "716b90be-beb4-46d6-9b86-a83b94770f85",
   "metadata": {},
   "outputs": [
    {
     "name": "stdout",
     "output_type": "stream",
     "text": [
      "True <class 'bool'>\n",
      "ash <class 'str'>\n",
      "(45+7j) <class 'complex'>\n",
      "45.5 <class 'float'>\n",
      "4 <class 'int'>\n",
      "3 <class 'int'>\n",
      "2 <class 'int'>\n",
      "1 <class 'int'>\n"
     ]
    }
   ],
   "source": [
    "for i in t1:\n",
    "    print(i , type(i))"
   ]
  },
  {
   "cell_type": "code",
   "execution_count": 48,
   "id": "b5d0d942-62e4-4458-8783-8c8f59b1d4be",
   "metadata": {},
   "outputs": [],
   "source": [
    "t2 = (1,2,3,4,5)"
   ]
  },
  {
   "cell_type": "code",
   "execution_count": 49,
   "id": "d1a32057-658d-420d-99d5-46c9f50da5be",
   "metadata": {},
   "outputs": [
    {
     "data": {
      "text/plain": [
       "(1, 2, 3, 4, 5, 1, 2, 3, 4, 5, 1, 2, 3, 4, 5)"
      ]
     },
     "execution_count": 49,
     "metadata": {},
     "output_type": "execute_result"
    }
   ],
   "source": [
    "t2 * 3"
   ]
  },
  {
   "cell_type": "code",
   "execution_count": 50,
   "id": "4830f8d0-ca3c-40e6-974b-b4a00074bca9",
   "metadata": {},
   "outputs": [
    {
     "data": {
      "text/plain": [
       "5"
      ]
     },
     "execution_count": 50,
     "metadata": {},
     "output_type": "execute_result"
    }
   ],
   "source": [
    "max(t2)"
   ]
  },
  {
   "cell_type": "code",
   "execution_count": 51,
   "id": "dc33467a-69f9-47b8-a54b-97e6d49ac65c",
   "metadata": {},
   "outputs": [
    {
     "data": {
      "text/plain": [
       "1"
      ]
     },
     "execution_count": 51,
     "metadata": {},
     "output_type": "execute_result"
    }
   ],
   "source": [
    "min(t2)"
   ]
  },
  {
   "cell_type": "code",
   "execution_count": 52,
   "id": "84ae6aaa-4483-4a99-885a-09d2c964da4f",
   "metadata": {},
   "outputs": [],
   "source": [
    "t3= (1,2,3,4,5)\n",
    "t4= (4,5,6,7,8)"
   ]
  },
  {
   "cell_type": "code",
   "execution_count": 53,
   "id": "f415ecf2-c4ec-448a-9388-728ddaf84df7",
   "metadata": {},
   "outputs": [],
   "source": [
    "t5=(t3,t3)"
   ]
  },
  {
   "cell_type": "code",
   "execution_count": 54,
   "id": "04e97917-a28b-46b9-b572-53f03ced6f54",
   "metadata": {},
   "outputs": [
    {
     "data": {
      "text/plain": [
       "((1, 2, 3, 4, 5), (1, 2, 3, 4, 5))"
      ]
     },
     "execution_count": 54,
     "metadata": {},
     "output_type": "execute_result"
    }
   ],
   "source": [
    "t5"
   ]
  },
  {
   "cell_type": "code",
   "execution_count": 56,
   "id": "7fae6da2-dd94-4690-aed4-5bb5372c8aa0",
   "metadata": {},
   "outputs": [],
   "source": [
    "t6=((1,2,3,4),[1,4,5,6,3])"
   ]
  },
  {
   "cell_type": "code",
   "execution_count": 57,
   "id": "901690d1-e94e-451b-87bb-ae60e79300ec",
   "metadata": {},
   "outputs": [
    {
     "data": {
      "text/plain": [
       "((1, 2, 3, 4), [1, 4, 5, 6, 3])"
      ]
     },
     "execution_count": 57,
     "metadata": {},
     "output_type": "execute_result"
    }
   ],
   "source": [
    "t6"
   ]
  },
  {
   "cell_type": "code",
   "execution_count": 58,
   "id": "34da9bc0-3797-4828-bdec-79eb9c0002b6",
   "metadata": {},
   "outputs": [],
   "source": [
    "del t6"
   ]
  },
  {
   "cell_type": "code",
   "execution_count": 59,
   "id": "748d9d69-1e96-453f-b1dd-973d6cf17aaa",
   "metadata": {},
   "outputs": [
    {
     "ename": "NameError",
     "evalue": "name 't6' is not defined",
     "output_type": "error",
     "traceback": [
      "\u001b[0;31m---------------------------------------------------------------------------\u001b[0m",
      "\u001b[0;31mNameError\u001b[0m                                 Traceback (most recent call last)",
      "Cell \u001b[0;32mIn[59], line 1\u001b[0m\n\u001b[0;32m----> 1\u001b[0m \u001b[43mt6\u001b[49m\n",
      "\u001b[0;31mNameError\u001b[0m: name 't6' is not defined"
     ]
    }
   ],
   "source": [
    "t6"
   ]
  },
  {
   "cell_type": "code",
   "execution_count": 60,
   "id": "d3a7fd86-4720-4e50-a552-8c42f3b51e8b",
   "metadata": {},
   "outputs": [
    {
     "data": {
      "text/plain": [
       "2"
      ]
     },
     "execution_count": 60,
     "metadata": {},
     "output_type": "execute_result"
    }
   ],
   "source": [
    "len(t5)"
   ]
  },
  {
   "cell_type": "code",
   "execution_count": 61,
   "id": "c76860ac-47aa-45cb-a4af-290bdcc3237e",
   "metadata": {},
   "outputs": [
    {
     "data": {
      "text/plain": [
       "5"
      ]
     },
     "execution_count": 61,
     "metadata": {},
     "output_type": "execute_result"
    }
   ],
   "source": [
    "len(t4)"
   ]
  },
  {
   "cell_type": "code",
   "execution_count": 63,
   "id": "a22e97f7-5b26-4b2b-9217-d24abe435a5f",
   "metadata": {},
   "outputs": [
    {
     "data": {
      "text/plain": [
       "(True, 'ash', (45+7j), 45.5, 4, 3, 2, 1)"
      ]
     },
     "execution_count": 63,
     "metadata": {},
     "output_type": "execute_result"
    }
   ],
   "source": [
    "t1"
   ]
  },
  {
   "cell_type": "code",
   "execution_count": 62,
   "id": "29d01deb-d97e-4ee7-9fd9-e486adc5b6af",
   "metadata": {},
   "outputs": [
    {
     "data": {
      "text/plain": [
       "True"
      ]
     },
     "execution_count": 62,
     "metadata": {},
     "output_type": "execute_result"
    }
   ],
   "source": [
    "'ash' in t1"
   ]
  },
  {
   "cell_type": "code",
   "execution_count": 64,
   "id": "8e925b91-f625-46e1-be21-ad000cb46224",
   "metadata": {},
   "outputs": [
    {
     "data": {
      "text/plain": [
       "False"
      ]
     },
     "execution_count": 64,
     "metadata": {},
     "output_type": "execute_result"
    }
   ],
   "source": [
    "7 in t1"
   ]
  },
  {
   "cell_type": "markdown",
   "id": "1a943f3f-a051-4d81-afa0-eaedd5131598",
   "metadata": {},
   "source": [
    "# Set"
   ]
  },
  {
   "cell_type": "code",
   "execution_count": 65,
   "id": "757eb92a-56fb-45dc-83de-46dc36767fcd",
   "metadata": {},
   "outputs": [],
   "source": [
    "s = {}"
   ]
  },
  {
   "cell_type": "code",
   "execution_count": 66,
   "id": "d9df95ac-b328-4264-9550-feb7209ab880",
   "metadata": {},
   "outputs": [
    {
     "data": {
      "text/plain": [
       "dict"
      ]
     },
     "execution_count": 66,
     "metadata": {},
     "output_type": "execute_result"
    }
   ],
   "source": [
    "type(s)"
   ]
  },
  {
   "cell_type": "code",
   "execution_count": 67,
   "id": "1e5a988f-698b-4d90-b970-d0c79a0f4bb0",
   "metadata": {},
   "outputs": [],
   "source": [
    "s1 = {1,2,3,4}"
   ]
  },
  {
   "cell_type": "code",
   "execution_count": 68,
   "id": "00caf692-8060-4939-87ac-103c7aa7748e",
   "metadata": {},
   "outputs": [
    {
     "data": {
      "text/plain": [
       "set"
      ]
     },
     "execution_count": 68,
     "metadata": {},
     "output_type": "execute_result"
    }
   ],
   "source": [
    "type(s1)"
   ]
  },
  {
   "cell_type": "code",
   "execution_count": 69,
   "id": "f24e0afa-dc26-4df3-8284-992158a541dc",
   "metadata": {},
   "outputs": [],
   "source": [
    "s2 = {1,2,3,78,3,4,4,5,5,5,523,34,45,6,78}"
   ]
  },
  {
   "cell_type": "code",
   "execution_count": 70,
   "id": "44596a5f-566e-4a00-914b-44101bfa3f1e",
   "metadata": {},
   "outputs": [
    {
     "data": {
      "text/plain": [
       "{1, 2, 3, 4, 5, 6, 34, 45, 78, 523}"
      ]
     },
     "execution_count": 70,
     "metadata": {},
     "output_type": "execute_result"
    }
   ],
   "source": [
    "s2"
   ]
  },
  {
   "cell_type": "code",
   "execution_count": 73,
   "id": "8740b6bb-d141-458a-8a0b-e77485064e1a",
   "metadata": {},
   "outputs": [],
   "source": [
    "# set is a collection which stores unique information and removes duplicates"
   ]
  },
  {
   "cell_type": "code",
   "execution_count": 77,
   "id": "31082815-ceea-4dab-8589-9b970ede15eb",
   "metadata": {},
   "outputs": [
    {
     "data": {
      "text/plain": [
       "[1, 2, 3, 4, 5, 34, 6, 523, 45, 78]"
      ]
     },
     "execution_count": 77,
     "metadata": {},
     "output_type": "execute_result"
    }
   ],
   "source": [
    "list(s2)\n",
    "# temporary to make it permanent store in a variable"
   ]
  },
  {
   "cell_type": "code",
   "execution_count": 75,
   "id": "480acd94-4b0f-4483-9f8f-6766dde80e3e",
   "metadata": {},
   "outputs": [
    {
     "data": {
      "text/plain": [
       "(1, 2, 3, 4, 5, 34, 6, 523, 45, 78)"
      ]
     },
     "execution_count": 75,
     "metadata": {},
     "output_type": "execute_result"
    }
   ],
   "source": [
    "tuple(s2)"
   ]
  },
  {
   "cell_type": "code",
   "execution_count": 76,
   "id": "8a91a238-e186-4757-a393-e558773a39df",
   "metadata": {},
   "outputs": [
    {
     "data": {
      "text/plain": [
       "{1, 2, 3, 4, 5, 6, 34, 45, 78, 523}"
      ]
     },
     "execution_count": 76,
     "metadata": {},
     "output_type": "execute_result"
    }
   ],
   "source": [
    "s2"
   ]
  },
  {
   "cell_type": "code",
   "execution_count": 78,
   "id": "87397148-bf97-4996-a2d4-be9fd8768aef",
   "metadata": {},
   "outputs": [],
   "source": [
    "s2=list(s2)"
   ]
  },
  {
   "cell_type": "code",
   "execution_count": 79,
   "id": "16097d8c-c606-4a77-8c87-88b83528b172",
   "metadata": {},
   "outputs": [
    {
     "data": {
      "text/plain": [
       "[1, 2, 3, 4, 5, 34, 6, 523, 45, 78]"
      ]
     },
     "execution_count": 79,
     "metadata": {},
     "output_type": "execute_result"
    }
   ],
   "source": [
    "s2"
   ]
  },
  {
   "cell_type": "code",
   "execution_count": 1,
   "id": "361ab6fd-350a-4c8a-9341-7a86d0905f32",
   "metadata": {},
   "outputs": [],
   "source": [
    "list=[1,34,4,5,6,7,8345,56,67,67,66,55,5,55]"
   ]
  },
  {
   "cell_type": "code",
   "execution_count": 2,
   "id": "3745f248-9f09-48ec-9b4f-5ca11519ac1a",
   "metadata": {},
   "outputs": [
    {
     "data": {
      "text/plain": [
       "{1, 4, 5, 6, 7, 34, 55, 56, 66, 67, 8345}"
      ]
     },
     "execution_count": 2,
     "metadata": {},
     "output_type": "execute_result"
    }
   ],
   "source": [
    "set(list)"
   ]
  },
  {
   "cell_type": "code",
   "execution_count": 3,
   "id": "20471880-9103-4c35-a984-c6ab09b1b3b0",
   "metadata": {},
   "outputs": [
    {
     "ename": "TypeError",
     "evalue": "unhashable type: 'list'",
     "output_type": "error",
     "traceback": [
      "\u001b[0;31m---------------------------------------------------------------------------\u001b[0m",
      "\u001b[0;31mTypeError\u001b[0m                                 Traceback (most recent call last)",
      "Cell \u001b[0;32mIn[3], line 1\u001b[0m\n\u001b[0;32m----> 1\u001b[0m s4\u001b[38;5;241m=\u001b[39m{\u001b[38;5;241m1\u001b[39m,\u001b[38;5;241m2\u001b[39m,\u001b[38;5;241m3\u001b[39m,\u001b[38;5;241m4\u001b[39m,[\u001b[38;5;241m1\u001b[39m,\u001b[38;5;241m2\u001b[39m,\u001b[38;5;241m3\u001b[39m,\u001b[38;5;241m4\u001b[39m]}\n",
      "\u001b[0;31mTypeError\u001b[0m: unhashable type: 'list'"
     ]
    }
   ],
   "source": [
    "s4={1,2,3,4,[1,2,3,4]}"
   ]
  },
  {
   "cell_type": "code",
   "execution_count": 4,
   "id": "ffafede3-617d-4987-a397-c110b2778fa7",
   "metadata": {},
   "outputs": [],
   "source": [
    "s5={1,2,3,4,(1,2,3,4)}"
   ]
  },
  {
   "cell_type": "code",
   "execution_count": 5,
   "id": "616db13a-e42f-4760-8844-86076cd4b8dd",
   "metadata": {},
   "outputs": [
    {
     "data": {
      "text/plain": [
       "{(1, 2, 3, 4), 1, 2, 3, 4}"
      ]
     },
     "execution_count": 5,
     "metadata": {},
     "output_type": "execute_result"
    }
   ],
   "source": [
    "s5"
   ]
  },
  {
   "cell_type": "code",
   "execution_count": 6,
   "id": "68d7919d-d584-4d03-a61b-44ca52ae4626",
   "metadata": {},
   "outputs": [],
   "source": [
    "s6 = {'ash','ASH',2,3,4}"
   ]
  },
  {
   "cell_type": "code",
   "execution_count": 8,
   "id": "054cf7d0-0e74-452e-9ce0-61e39c1449aa",
   "metadata": {},
   "outputs": [
    {
     "data": {
      "text/plain": [
       "{2, 3, 4, 'ASH', 'ash'}"
      ]
     },
     "execution_count": 8,
     "metadata": {},
     "output_type": "execute_result"
    }
   ],
   "source": [
    "s6\n",
    "#pyhton is case sensitive"
   ]
  },
  {
   "cell_type": "code",
   "execution_count": 9,
   "id": "69c291ac-1ec1-4c78-bbae-ddf4056d1fc9",
   "metadata": {},
   "outputs": [],
   "source": [
    "s6={'ashwina','ashwina',1,2,3,4}"
   ]
  },
  {
   "cell_type": "code",
   "execution_count": 10,
   "id": "25aa5b9a-3f7b-49f9-b728-7984191e0f92",
   "metadata": {},
   "outputs": [
    {
     "data": {
      "text/plain": [
       "{1, 2, 3, 4, 'ashwina'}"
      ]
     },
     "execution_count": 10,
     "metadata": {},
     "output_type": "execute_result"
    }
   ],
   "source": [
    "s6"
   ]
  },
  {
   "cell_type": "code",
   "execution_count": 15,
   "id": "3219cb31-3f2b-41cc-a169-6e3059b22cdd",
   "metadata": {},
   "outputs": [
    {
     "ename": "TypeError",
     "evalue": "'set' object is not subscriptable",
     "output_type": "error",
     "traceback": [
      "\u001b[0;31m---------------------------------------------------------------------------\u001b[0m",
      "\u001b[0;31mTypeError\u001b[0m                                 Traceback (most recent call last)",
      "Cell \u001b[0;32mIn[15], line 1\u001b[0m\n\u001b[0;32m----> 1\u001b[0m \u001b[43ms6\u001b[49m\u001b[43m[\u001b[49m\u001b[38;5;241;43m1\u001b[39;49m\u001b[43m]\u001b[49m\n\u001b[1;32m      2\u001b[0m \u001b[38;5;66;03m# here hash index are used internally\u001b[39;00m\n",
      "\u001b[0;31mTypeError\u001b[0m: 'set' object is not subscriptable"
     ]
    }
   ],
   "source": [
    "s6[1]\n",
    "# here hash index are used internally"
   ]
  },
  {
   "cell_type": "code",
   "execution_count": 17,
   "id": "d2d56785-57a6-4b56-bbf2-9036236ad887",
   "metadata": {},
   "outputs": [
    {
     "ename": "TypeError",
     "evalue": "'set' object is not subscriptable",
     "output_type": "error",
     "traceback": [
      "\u001b[0;31m---------------------------------------------------------------------------\u001b[0m",
      "\u001b[0;31mTypeError\u001b[0m                                 Traceback (most recent call last)",
      "Cell \u001b[0;32mIn[17], line 1\u001b[0m\n\u001b[0;32m----> 1\u001b[0m \u001b[43ms6\u001b[49m\u001b[43m[\u001b[49m\u001b[43m:\u001b[49m\u001b[43m:\u001b[49m\u001b[38;5;241;43m-\u001b[39;49m\u001b[38;5;241;43m1\u001b[39;49m\u001b[43m]\u001b[49m\n\u001b[1;32m      2\u001b[0m \u001b[38;5;66;03m# no slicing\u001b[39;00m\n\u001b[1;32m      3\u001b[0m \u001b[38;5;66;03m# we can do this by converting set into list or tuple\u001b[39;00m\n",
      "\u001b[0;31mTypeError\u001b[0m: 'set' object is not subscriptable"
     ]
    }
   ],
   "source": [
    "s6[::-1]\n",
    "# no slicing\n",
    "# we can do this by converting set into list or tuple"
   ]
  },
  {
   "cell_type": "code",
   "execution_count": 16,
   "id": "45289894-fc36-45e2-94a2-98a812cca733",
   "metadata": {},
   "outputs": [
    {
     "name": "stdout",
     "output_type": "stream",
     "text": [
      "1\n",
      "2\n",
      "3\n",
      "4\n",
      "ashwina\n"
     ]
    }
   ],
   "source": [
    "for i in s6:\n",
    "    print(i)"
   ]
  },
  {
   "cell_type": "code",
   "execution_count": 18,
   "id": "dec1b207-66b3-4604-a0f4-81eeec79b087",
   "metadata": {},
   "outputs": [],
   "source": [
    "s6.add(5)"
   ]
  },
  {
   "cell_type": "code",
   "execution_count": 19,
   "id": "aa9e0567-85db-47d4-bdf5-848c74451bb8",
   "metadata": {},
   "outputs": [
    {
     "data": {
      "text/plain": [
       "{1, 2, 3, 4, 5, 'ashwina'}"
      ]
     },
     "execution_count": 19,
     "metadata": {},
     "output_type": "execute_result"
    }
   ],
   "source": [
    "s6"
   ]
  },
  {
   "cell_type": "code",
   "execution_count": 21,
   "id": "d93d6ec9-a952-4c9e-8cd6-619e4da615ad",
   "metadata": {},
   "outputs": [],
   "source": [
    "s6.add(1)"
   ]
  },
  {
   "cell_type": "code",
   "execution_count": 22,
   "id": "bd25e2c3-c901-4078-b2d7-754b2802ced4",
   "metadata": {},
   "outputs": [
    {
     "data": {
      "text/plain": [
       "{1, 2, 3, 4, 5, 'ashwina'}"
      ]
     },
     "execution_count": 22,
     "metadata": {},
     "output_type": "execute_result"
    }
   ],
   "source": [
    "s6\n",
    "#no difference"
   ]
  },
  {
   "cell_type": "code",
   "execution_count": 23,
   "id": "3de81bc0-8349-4aee-ab13-4f91e5168819",
   "metadata": {},
   "outputs": [
    {
     "data": {
      "text/plain": [
       "6"
      ]
     },
     "execution_count": 23,
     "metadata": {},
     "output_type": "execute_result"
    }
   ],
   "source": [
    "len(s6)"
   ]
  },
  {
   "cell_type": "code",
   "execution_count": 24,
   "id": "20c63259-f4bf-4f86-b8a4-4c0014801dcd",
   "metadata": {},
   "outputs": [
    {
     "data": {
      "text/plain": [
       "1"
      ]
     },
     "execution_count": 24,
     "metadata": {},
     "output_type": "execute_result"
    }
   ],
   "source": [
    "s6.pop()"
   ]
  },
  {
   "cell_type": "code",
   "execution_count": 25,
   "id": "5d49a934-acef-48a4-a522-b9569d0a82f8",
   "metadata": {},
   "outputs": [
    {
     "data": {
      "text/plain": [
       "{2, 3, 4, 5, 'ashwina'}"
      ]
     },
     "execution_count": 25,
     "metadata": {},
     "output_type": "execute_result"
    }
   ],
   "source": [
    "s6"
   ]
  },
  {
   "cell_type": "code",
   "execution_count": 26,
   "id": "e0735110-fc4d-4593-b1c3-3626b0074949",
   "metadata": {},
   "outputs": [
    {
     "data": {
      "text/plain": [
       "2"
      ]
     },
     "execution_count": 26,
     "metadata": {},
     "output_type": "execute_result"
    }
   ],
   "source": [
    "s6.pop()"
   ]
  },
  {
   "cell_type": "code",
   "execution_count": 27,
   "id": "1962b3f4-eb7f-406d-9a8f-0b12066f554b",
   "metadata": {},
   "outputs": [
    {
     "data": {
      "text/plain": [
       "3"
      ]
     },
     "execution_count": 27,
     "metadata": {},
     "output_type": "execute_result"
    }
   ],
   "source": [
    "s6.pop()"
   ]
  },
  {
   "cell_type": "code",
   "execution_count": 28,
   "id": "37a988ac-c4e9-47a8-a941-1623388a68b0",
   "metadata": {},
   "outputs": [
    {
     "data": {
      "text/plain": [
       "{4, 5, 'ashwina'}"
      ]
     },
     "execution_count": 28,
     "metadata": {},
     "output_type": "execute_result"
    }
   ],
   "source": [
    "s6"
   ]
  },
  {
   "cell_type": "code",
   "execution_count": 29,
   "id": "5510d032-24fa-4394-ac71-9a07514ae09c",
   "metadata": {},
   "outputs": [
    {
     "data": {
      "text/plain": [
       "4"
      ]
     },
     "execution_count": 29,
     "metadata": {},
     "output_type": "execute_result"
    }
   ],
   "source": [
    "s6.pop()"
   ]
  },
  {
   "cell_type": "code",
   "execution_count": 30,
   "id": "4a75819c-95b1-4dfd-bde8-68f169840fbd",
   "metadata": {},
   "outputs": [
    {
     "data": {
      "text/plain": [
       "{5, 'ashwina'}"
      ]
     },
     "execution_count": 30,
     "metadata": {},
     "output_type": "execute_result"
    }
   ],
   "source": [
    "s6"
   ]
  },
  {
   "cell_type": "code",
   "execution_count": 32,
   "id": "6efad420-9d0f-42be-bb86-ff77ab034ed8",
   "metadata": {},
   "outputs": [],
   "source": [
    "s6.clear()\n",
    "# empty entire set"
   ]
  },
  {
   "cell_type": "code",
   "execution_count": 33,
   "id": "e0c95414-78bf-46aa-a6e8-5ed1f014365a",
   "metadata": {},
   "outputs": [
    {
     "data": {
      "text/plain": [
       "set()"
      ]
     },
     "execution_count": 33,
     "metadata": {},
     "output_type": "execute_result"
    }
   ],
   "source": [
    "s6"
   ]
  },
  {
   "cell_type": "code",
   "execution_count": 2,
   "id": "519b69ca-0963-4371-b209-141badd70fc7",
   "metadata": {},
   "outputs": [],
   "source": [
    "s7 = {1,2,3,4,5}\n",
    "s8 = {1,2,3,6}"
   ]
  },
  {
   "cell_type": "code",
   "execution_count": 3,
   "id": "66bbe521-3a35-48ce-a3d5-584e181ab1c4",
   "metadata": {},
   "outputs": [
    {
     "data": {
      "text/plain": [
       "{6}"
      ]
     },
     "execution_count": 3,
     "metadata": {},
     "output_type": "execute_result"
    }
   ],
   "source": [
    "s8.difference(s7)"
   ]
  },
  {
   "cell_type": "code",
   "execution_count": 4,
   "id": "3c5d1a97-2992-48e8-9060-a79ae51ab708",
   "metadata": {},
   "outputs": [
    {
     "data": {
      "text/plain": [
       "{4, 5}"
      ]
     },
     "execution_count": 4,
     "metadata": {},
     "output_type": "execute_result"
    }
   ],
   "source": [
    "s7.difference(s8)"
   ]
  },
  {
   "cell_type": "markdown",
   "id": "e6909631-1572-4794-96a9-115dbde7b2c8",
   "metadata": {},
   "source": [
    "# Dictionary"
   ]
  },
  {
   "cell_type": "code",
   "execution_count": 5,
   "id": "9201ec94-3ede-4711-9993-66171975b11f",
   "metadata": {},
   "outputs": [],
   "source": [
    "d={}"
   ]
  },
  {
   "cell_type": "code",
   "execution_count": 6,
   "id": "8976d166-c040-4b42-a776-800537738f83",
   "metadata": {},
   "outputs": [
    {
     "data": {
      "text/plain": [
       "dict"
      ]
     },
     "execution_count": 6,
     "metadata": {},
     "output_type": "execute_result"
    }
   ],
   "source": [
    "type(d)"
   ]
  },
  {
   "cell_type": "code",
   "execution_count": 8,
   "id": "ecd51b85-96e4-4567-b3bb-fb28bfe6a5a0",
   "metadata": {},
   "outputs": [],
   "source": [
    "# data in case/form of key and a value pair"
   ]
  },
  {
   "cell_type": "code",
   "execution_count": 9,
   "id": "1bd9c90d-8fda-4d5e-9f73-8dbf2e2162bc",
   "metadata": {},
   "outputs": [],
   "source": [
    "d1={'name':'Ashwina', 'email_id':'ash@123.com','number':76556753}"
   ]
  },
  {
   "cell_type": "code",
   "execution_count": 10,
   "id": "bcb294b7-d0a2-4984-bafe-24e6b768f18d",
   "metadata": {},
   "outputs": [
    {
     "data": {
      "text/plain": [
       "{'name': 'Ashwina', 'email_id': 'ash@123.com', 'number': 76556753}"
      ]
     },
     "execution_count": 10,
     "metadata": {},
     "output_type": "execute_result"
    }
   ],
   "source": [
    "d1"
   ]
  },
  {
   "cell_type": "code",
   "execution_count": 12,
   "id": "757ee59b-4214-4c5d-b0b3-c7729fdfe5a3",
   "metadata": {},
   "outputs": [],
   "source": [
    "d2={'name': 'ash','name':'ashwina'}"
   ]
  },
  {
   "cell_type": "code",
   "execution_count": 13,
   "id": "da969b5d-63cc-4c43-89c4-200ebb41352e",
   "metadata": {},
   "outputs": [
    {
     "data": {
      "text/plain": [
       "{'name': 'ashwina'}"
      ]
     },
     "execution_count": 13,
     "metadata": {},
     "output_type": "execute_result"
    }
   ],
   "source": [
    "d2"
   ]
  },
  {
   "cell_type": "code",
   "execution_count": 14,
   "id": "3c740e54-1904-4512-b0c8-b77ebfecbec8",
   "metadata": {},
   "outputs": [],
   "source": [
    "## whenver we create a dictionary value/key should be unique\n",
    "# second value is taken or updated in case of duplicated key"
   ]
  },
  {
   "cell_type": "code",
   "execution_count": 15,
   "id": "6dcc6959-feb8-4d90-ba48-c3ae46a82993",
   "metadata": {},
   "outputs": [],
   "source": [
    "d3={2323:'abc'}"
   ]
  },
  {
   "cell_type": "code",
   "execution_count": 16,
   "id": "92de75db-8a39-4e1e-94cd-a21360ec8560",
   "metadata": {},
   "outputs": [
    {
     "data": {
      "text/plain": [
       "{2323: 'abc'}"
      ]
     },
     "execution_count": 16,
     "metadata": {},
     "output_type": "execute_result"
    }
   ],
   "source": [
    "d3"
   ]
  },
  {
   "cell_type": "code",
   "execution_count": 17,
   "id": "cb2e42de-53aa-4096-8c31-95dc69a09b5b",
   "metadata": {},
   "outputs": [],
   "source": [
    "d4={234.56:'abcd'}"
   ]
  },
  {
   "cell_type": "code",
   "execution_count": 18,
   "id": "764ffecc-4625-468a-bc30-4be6971ec0de",
   "metadata": {},
   "outputs": [
    {
     "data": {
      "text/plain": [
       "{234.56: 'abcd'}"
      ]
     },
     "execution_count": 18,
     "metadata": {},
     "output_type": "execute_result"
    }
   ],
   "source": [
    "d4"
   ]
  },
  {
   "cell_type": "code",
   "execution_count": 19,
   "id": "60a30190-e830-487e-833c-c4518fb1050d",
   "metadata": {},
   "outputs": [],
   "source": [
    "d5={True:'tr'}"
   ]
  },
  {
   "cell_type": "code",
   "execution_count": 20,
   "id": "8692b8ab-2d77-448c-9be1-413280d47ee4",
   "metadata": {},
   "outputs": [
    {
     "data": {
      "text/plain": [
       "{True: 'tr'}"
      ]
     },
     "execution_count": 20,
     "metadata": {},
     "output_type": "execute_result"
    }
   ],
   "source": [
    "d5"
   ]
  },
  {
   "cell_type": "code",
   "execution_count": 21,
   "id": "3da08b1e-d31f-4dfb-9d04-2b35118bea46",
   "metadata": {},
   "outputs": [
    {
     "ename": "SyntaxError",
     "evalue": "incomplete input (3632174995.py, line 1)",
     "output_type": "error",
     "traceback": [
      "\u001b[0;36m  Cell \u001b[0;32mIn[21], line 1\u001b[0;36m\u001b[0m\n\u001b[0;31m    d6={#:'abc'}\u001b[0m\n\u001b[0m                ^\u001b[0m\n\u001b[0;31mSyntaxError\u001b[0m\u001b[0;31m:\u001b[0m incomplete input\n"
     ]
    }
   ],
   "source": [
    "d6={#:'abc'}"
   ]
  },
  {
   "cell_type": "code",
   "execution_count": 22,
   "id": "94465e94-6995-4da0-95f0-96256d0b1fee",
   "metadata": {},
   "outputs": [
    {
     "ename": "SyntaxError",
     "evalue": "invalid syntax (2582237597.py, line 1)",
     "output_type": "error",
     "traceback": [
      "\u001b[0;36m  Cell \u001b[0;32mIn[22], line 1\u001b[0;36m\u001b[0m\n\u001b[0;31m    d6={@ : 'abc'}\u001b[0m\n\u001b[0m        ^\u001b[0m\n\u001b[0;31mSyntaxError\u001b[0m\u001b[0;31m:\u001b[0m invalid syntax\n"
     ]
    }
   ],
   "source": [
    "d6={@ : 'abc'}"
   ]
  },
  {
   "cell_type": "code",
   "execution_count": 23,
   "id": "ae26bb14-d599-4925-a4ab-d1772d226c41",
   "metadata": {},
   "outputs": [],
   "source": [
    "# no special case charater as key"
   ]
  },
  {
   "cell_type": "code",
   "execution_count": 27,
   "id": "8a0ba4a8-72ed-47a9-a920-b5aee2d12748",
   "metadata": {},
   "outputs": [
    {
     "ename": "TypeError",
     "evalue": "unhashable type: 'list'",
     "output_type": "error",
     "traceback": [
      "\u001b[0;31m---------------------------------------------------------------------------\u001b[0m",
      "\u001b[0;31mTypeError\u001b[0m                                 Traceback (most recent call last)",
      "Cell \u001b[0;32mIn[27], line 1\u001b[0m\n\u001b[0;32m----> 1\u001b[0m d6\u001b[38;5;241m=\u001b[39m{[\u001b[38;5;241m1\u001b[39m,\u001b[38;5;241m2\u001b[39m,\u001b[38;5;241m3\u001b[39m]:\u001b[38;5;124m'\u001b[39m\u001b[38;5;124mabc\u001b[39m\u001b[38;5;124m'\u001b[39m}\n\u001b[1;32m      2\u001b[0m \u001b[38;5;66;03m#list cannot be key\u001b[39;00m\n",
      "\u001b[0;31mTypeError\u001b[0m: unhashable type: 'list'"
     ]
    }
   ],
   "source": [
    "d6={[1,2,3]:'abc'}\n",
    "#list cannot be key"
   ]
  },
  {
   "cell_type": "code",
   "execution_count": 28,
   "id": "3cf97e0c-2806-4507-8458-b7a829d83009",
   "metadata": {},
   "outputs": [],
   "source": [
    "d6={(1,2,3):'abc'}"
   ]
  },
  {
   "cell_type": "code",
   "execution_count": 29,
   "id": "5e24d799-1527-43f2-8759-96d95d328060",
   "metadata": {},
   "outputs": [
    {
     "data": {
      "text/plain": [
       "{(1, 2, 3): 'abc'}"
      ]
     },
     "execution_count": 29,
     "metadata": {},
     "output_type": "execute_result"
    }
   ],
   "source": [
    "d6\n",
    "#tuple can be key"
   ]
  },
  {
   "cell_type": "code",
   "execution_count": 30,
   "id": "826320fd-47c0-496e-acea-13dd4bd0e54a",
   "metadata": {},
   "outputs": [
    {
     "ename": "TypeError",
     "evalue": "unhashable type: 'set'",
     "output_type": "error",
     "traceback": [
      "\u001b[0;31m---------------------------------------------------------------------------\u001b[0m",
      "\u001b[0;31mTypeError\u001b[0m                                 Traceback (most recent call last)",
      "Cell \u001b[0;32mIn[30], line 1\u001b[0m\n\u001b[0;32m----> 1\u001b[0m d7\u001b[38;5;241m=\u001b[39m{{\u001b[38;5;241m1\u001b[39m,\u001b[38;5;241m2\u001b[39m,\u001b[38;5;241m3\u001b[39m},\u001b[38;5;124m'\u001b[39m\u001b[38;5;124mabc\u001b[39m\u001b[38;5;124m'\u001b[39m}\n",
      "\u001b[0;31mTypeError\u001b[0m: unhashable type: 'set'"
     ]
    }
   ],
   "source": [
    "d7={{1,2,3},'abc'}"
   ]
  },
  {
   "cell_type": "code",
   "execution_count": 31,
   "id": "6995c16d-776b-41b2-823e-4ff4cf5521f9",
   "metadata": {},
   "outputs": [
    {
     "ename": "TypeError",
     "evalue": "unhashable type: 'dict'",
     "output_type": "error",
     "traceback": [
      "\u001b[0;31m---------------------------------------------------------------------------\u001b[0m",
      "\u001b[0;31mTypeError\u001b[0m                                 Traceback (most recent call last)",
      "Cell \u001b[0;32mIn[31], line 1\u001b[0m\n\u001b[0;32m----> 1\u001b[0m d8 \u001b[38;5;241m=\u001b[39m {{\u001b[38;5;124m'\u001b[39m\u001b[38;5;124mkey\u001b[39m\u001b[38;5;124m'\u001b[39m: \u001b[38;5;241m234\u001b[39m}:\u001b[38;5;124m'\u001b[39m\u001b[38;5;124mabc\u001b[39m\u001b[38;5;124m'\u001b[39m}\n",
      "\u001b[0;31mTypeError\u001b[0m: unhashable type: 'dict'"
     ]
    }
   ],
   "source": [
    "d8 = {{'key': 234}:'abc'}"
   ]
  },
  {
   "cell_type": "code",
   "execution_count": 32,
   "id": "23b841d6-af59-4019-b58f-29d66beaf564",
   "metadata": {},
   "outputs": [],
   "source": [
    "#only tuple can be key\n",
    "# no special character, set or list"
   ]
  },
  {
   "cell_type": "code",
   "execution_count": 33,
   "id": "bf2acbea-049e-4402-9e51-08e9997ea961",
   "metadata": {},
   "outputs": [],
   "source": [
    "d8={'course_name':['daata science', 'web dev','java']}"
   ]
  },
  {
   "cell_type": "code",
   "execution_count": 34,
   "id": "a0e16e75-b4de-42c1-bfbe-82d9b2966eef",
   "metadata": {},
   "outputs": [
    {
     "data": {
      "text/plain": [
       "{'course_name': ['daata science', 'web dev', 'java']}"
      ]
     },
     "execution_count": 34,
     "metadata": {},
     "output_type": "execute_result"
    }
   ],
   "source": [
    "d8"
   ]
  },
  {
   "cell_type": "code",
   "execution_count": 35,
   "id": "4046cd05-2701-426c-acc5-1871f95e40cc",
   "metadata": {},
   "outputs": [],
   "source": [
    "d9={'key':(1,2,3,4)}"
   ]
  },
  {
   "cell_type": "code",
   "execution_count": 36,
   "id": "33c4c498-fe43-4148-aeb9-129d097da790",
   "metadata": {},
   "outputs": [
    {
     "data": {
      "text/plain": [
       "{'key': (1, 2, 3, 4)}"
      ]
     },
     "execution_count": 36,
     "metadata": {},
     "output_type": "execute_result"
    }
   ],
   "source": [
    "d9"
   ]
  },
  {
   "cell_type": "code",
   "execution_count": 38,
   "id": "5f0c8b7e-b962-49a2-b91c-c50ebaa8e0b3",
   "metadata": {},
   "outputs": [],
   "source": [
    "d10={'key':{1,2,3,4}}"
   ]
  },
  {
   "cell_type": "code",
   "execution_count": 39,
   "id": "ec8512fe-667c-42b6-b74b-c9b9e2c90ccf",
   "metadata": {},
   "outputs": [
    {
     "data": {
      "text/plain": [
       "{'key': {1, 2, 3, 4}}"
      ]
     },
     "execution_count": 39,
     "metadata": {},
     "output_type": "execute_result"
    }
   ],
   "source": [
    "d10"
   ]
  },
  {
   "cell_type": "code",
   "execution_count": 40,
   "id": "cac834b3-fa94-41aa-85a8-f40b581ad702",
   "metadata": {},
   "outputs": [],
   "source": [
    "d11={'key': {'name':'ashwina', 'course': 'data science'}}"
   ]
  },
  {
   "cell_type": "code",
   "execution_count": 41,
   "id": "c4387ae4-34a5-4661-b4cf-c00a9fe8374b",
   "metadata": {},
   "outputs": [
    {
     "data": {
      "text/plain": [
       "{'key': {1, 2, 3, 4}}"
      ]
     },
     "execution_count": 41,
     "metadata": {},
     "output_type": "execute_result"
    }
   ],
   "source": [
    "d10"
   ]
  },
  {
   "cell_type": "code",
   "execution_count": 42,
   "id": "50b7c4e3-1850-420d-a9e4-14dba65dc123",
   "metadata": {},
   "outputs": [],
   "source": [
    "# value in dictionary can be set, list or tuple or a dictionary itself"
   ]
  },
  {
   "cell_type": "code",
   "execution_count": 43,
   "id": "cff67b47-c033-4567-a2ac-7513ed3396af",
   "metadata": {},
   "outputs": [],
   "source": [
    "d11={'batch_name': ['data science', 'web dev', 'java'], 'course_code': (11.1,23.4,3324),'start_date':(28,14,21),'mentor': {'krish','sudhanshu','hitesh'}}"
   ]
  },
  {
   "cell_type": "code",
   "execution_count": 44,
   "id": "62c6362e-4326-4f15-974a-56419c3bfe8f",
   "metadata": {},
   "outputs": [
    {
     "data": {
      "text/plain": [
       "{'batch_name': ['data science', 'web dev', 'java'],\n",
       " 'course_code': (11.1, 23.4, 3324),\n",
       " 'start_date': (28, 14, 21),\n",
       " 'mentor': {'hitesh', 'krish', 'sudhanshu'}}"
      ]
     },
     "execution_count": 44,
     "metadata": {},
     "output_type": "execute_result"
    }
   ],
   "source": [
    "d11"
   ]
  },
  {
   "cell_type": "code",
   "execution_count": 48,
   "id": "1e1ebae8-1998-4632-b32e-72984465efdb",
   "metadata": {},
   "outputs": [],
   "source": [
    "## add a new element in dictionary\n",
    "d11['timing']=(8,7,9)"
   ]
  },
  {
   "cell_type": "code",
   "execution_count": 49,
   "id": "8cdbb97f-000a-4ceb-91e3-c6a80ef1a175",
   "metadata": {},
   "outputs": [
    {
     "data": {
      "text/plain": [
       "{'batch_name': ['data science', 'web dev', 'java'],\n",
       " 'course_code': (11.1, 23.4, 3324),\n",
       " 'start_date': (28, 14, 21),\n",
       " 'mentor': {'hitesh', 'krish', 'sudhanshu'},\n",
       " 'timing': (8, 7, 9)}"
      ]
     },
     "execution_count": 49,
     "metadata": {},
     "output_type": "execute_result"
    }
   ],
   "source": [
    "d11"
   ]
  },
  {
   "cell_type": "code",
   "execution_count": 51,
   "id": "f9db7a09-ec16-4f83-9c6c-7e46bcc0904b",
   "metadata": {},
   "outputs": [],
   "source": [
    "# passing an existing key will update the previous key\n",
    "d11['course_code']=(141,102,113)"
   ]
  },
  {
   "cell_type": "code",
   "execution_count": 52,
   "id": "32b9b775-36ae-4533-9935-0f02fc6abad7",
   "metadata": {},
   "outputs": [
    {
     "data": {
      "text/plain": [
       "{'batch_name': ['data science', 'web dev', 'java'],\n",
       " 'course_code': (141, 102, 113),\n",
       " 'start_date': (28, 14, 21),\n",
       " 'mentor': {'hitesh', 'krish', 'sudhanshu'},\n",
       " 'timing': (8, 7, 9)}"
      ]
     },
     "execution_count": 52,
     "metadata": {},
     "output_type": "execute_result"
    }
   ],
   "source": [
    "d11"
   ]
  },
  {
   "cell_type": "code",
   "execution_count": 53,
   "id": "a1533284-fa8c-48ee-ba76-cf442a289a63",
   "metadata": {},
   "outputs": [
    {
     "data": {
      "text/plain": [
       "['data science', 'web dev', 'java']"
      ]
     },
     "execution_count": 53,
     "metadata": {},
     "output_type": "execute_result"
    }
   ],
   "source": [
    "# extract data (key= index)\n",
    "d11['batch_name']"
   ]
  },
  {
   "cell_type": "code",
   "execution_count": 54,
   "id": "cf8b9d95-af66-4bed-95f3-3be6f7a9660e",
   "metadata": {},
   "outputs": [
    {
     "data": {
      "text/plain": [
       "list"
      ]
     },
     "execution_count": 54,
     "metadata": {},
     "output_type": "execute_result"
    }
   ],
   "source": [
    "type(d11['batch_name'])"
   ]
  },
  {
   "cell_type": "code",
   "execution_count": 55,
   "id": "d7369f77-b313-4381-884f-af4366886d73",
   "metadata": {},
   "outputs": [],
   "source": [
    "d11['name']='ashwina'"
   ]
  },
  {
   "cell_type": "code",
   "execution_count": 56,
   "id": "4b2b91bb-80ee-4fd4-881b-16f4a1cae89f",
   "metadata": {},
   "outputs": [
    {
     "data": {
      "text/plain": [
       "{'batch_name': ['data science', 'web dev', 'java'],\n",
       " 'course_code': (141, 102, 113),\n",
       " 'start_date': (28, 14, 21),\n",
       " 'mentor': {'hitesh', 'krish', 'sudhanshu'},\n",
       " 'timing': (8, 7, 9),\n",
       " 'name': 'ashwina'}"
      ]
     },
     "execution_count": 56,
     "metadata": {},
     "output_type": "execute_result"
    }
   ],
   "source": [
    "d11"
   ]
  },
  {
   "cell_type": "code",
   "execution_count": 57,
   "id": "29e67fe7-bad5-4442-9acc-21f7165f1f53",
   "metadata": {},
   "outputs": [
    {
     "data": {
      "text/plain": [
       "'ashwina'"
      ]
     },
     "execution_count": 57,
     "metadata": {},
     "output_type": "execute_result"
    }
   ],
   "source": [
    "d11['name']"
   ]
  },
  {
   "cell_type": "code",
   "execution_count": 58,
   "id": "a002d8d8-4685-4e05-bb78-e9868990aa48",
   "metadata": {},
   "outputs": [
    {
     "data": {
      "text/plain": [
       "'ASHWINA'"
      ]
     },
     "execution_count": 58,
     "metadata": {},
     "output_type": "execute_result"
    }
   ],
   "source": [
    "d11['name'].upper()"
   ]
  },
  {
   "cell_type": "code",
   "execution_count": 59,
   "id": "35be8183-0f33-40ea-9b27-72e12701281f",
   "metadata": {},
   "outputs": [],
   "source": [
    "d11={'key': {'name':'ashwina', 'course': 'data science'}}"
   ]
  },
  {
   "cell_type": "code",
   "execution_count": 61,
   "id": "7054c6ba-8e9f-4660-bc26-e36ed5692cab",
   "metadata": {},
   "outputs": [
    {
     "data": {
      "text/plain": [
       "{'name': 'ashwina', 'course': 'data science'}"
      ]
     },
     "execution_count": 61,
     "metadata": {},
     "output_type": "execute_result"
    }
   ],
   "source": [
    "d11['key']"
   ]
  },
  {
   "cell_type": "code",
   "execution_count": 62,
   "id": "f5aad091-3cdb-4348-98f3-3dc9270051d7",
   "metadata": {},
   "outputs": [
    {
     "data": {
      "text/plain": [
       "dict"
      ]
     },
     "execution_count": 62,
     "metadata": {},
     "output_type": "execute_result"
    }
   ],
   "source": [
    "type(d11['key'])"
   ]
  },
  {
   "cell_type": "code",
   "execution_count": 63,
   "id": "7d076492-8fa3-4a48-98a3-7562f84cb2b8",
   "metadata": {},
   "outputs": [
    {
     "data": {
      "text/plain": [
       "'data science'"
      ]
     },
     "execution_count": 63,
     "metadata": {},
     "output_type": "execute_result"
    }
   ],
   "source": [
    "d11['key']['course']"
   ]
  },
  {
   "cell_type": "code",
   "execution_count": 65,
   "id": "5227d42c-ea06-4da6-ad63-c367c2f13cdd",
   "metadata": {},
   "outputs": [],
   "source": [
    "d11['key1']='abc'"
   ]
  },
  {
   "cell_type": "code",
   "execution_count": 66,
   "id": "e7dc7376-a2d8-4e5f-8679-7a9fbd828a44",
   "metadata": {},
   "outputs": [
    {
     "data": {
      "text/plain": [
       "{'key': {'name': 'ashwina', 'course': 'data science'}, 'key1': 'abc'}"
      ]
     },
     "execution_count": 66,
     "metadata": {},
     "output_type": "execute_result"
    }
   ],
   "source": [
    "d11"
   ]
  },
  {
   "cell_type": "code",
   "execution_count": 69,
   "id": "b187f387-fe9e-465a-9604-cd7d79c5a760",
   "metadata": {},
   "outputs": [],
   "source": [
    "del d11['key1']"
   ]
  },
  {
   "cell_type": "code",
   "execution_count": 70,
   "id": "ce80cf0f-8d2c-4df1-8a2f-94167c4995a4",
   "metadata": {},
   "outputs": [
    {
     "data": {
      "text/plain": [
       "{'key': {'name': 'ashwina', 'course': 'data science'}}"
      ]
     },
     "execution_count": 70,
     "metadata": {},
     "output_type": "execute_result"
    }
   ],
   "source": [
    "d11"
   ]
  },
  {
   "cell_type": "code",
   "execution_count": 71,
   "id": "d56973f9-02cb-4b49-968b-5c43e1336751",
   "metadata": {},
   "outputs": [],
   "source": [
    "d11.clear()"
   ]
  },
  {
   "cell_type": "code",
   "execution_count": 72,
   "id": "10951af5-2c68-4207-879d-fdfa74bd30ef",
   "metadata": {},
   "outputs": [
    {
     "data": {
      "text/plain": [
       "{'batch_name': ['data science', 'web dev', 'java'],\n",
       " 'course_code': (11.1, 23.4, 3324),\n",
       " 'start_date': (28, 14, 21),\n",
       " 'mentor': {'hitesh', 'krish', 'sudhanshu'}}"
      ]
     },
     "execution_count": 72,
     "metadata": {},
     "output_type": "execute_result"
    }
   ],
   "source": [
    "d12"
   ]
  },
  {
   "cell_type": "code",
   "execution_count": 73,
   "id": "f28259be-5ec5-4ff1-972a-376bd10751b6",
   "metadata": {},
   "outputs": [
    {
     "data": {
      "text/plain": [
       "4"
      ]
     },
     "execution_count": 73,
     "metadata": {},
     "output_type": "execute_result"
    }
   ],
   "source": [
    "len(d12)"
   ]
  },
  {
   "cell_type": "code",
   "execution_count": 75,
   "id": "0ae8204e-4bf1-4e80-843d-c435acf329f7",
   "metadata": {},
   "outputs": [
    {
     "data": {
      "text/plain": [
       "dict_keys(['batch_name', 'course_code', 'start_date', 'mentor'])"
      ]
     },
     "execution_count": 75,
     "metadata": {},
     "output_type": "execute_result"
    }
   ],
   "source": [
    "d12.keys()"
   ]
  },
  {
   "cell_type": "code",
   "execution_count": 77,
   "id": "6eacda76-7b97-4558-9f8b-d12be034dfc9",
   "metadata": {},
   "outputs": [
    {
     "data": {
      "text/plain": [
       "['batch_name', 'course_code', 'start_date', 'mentor']"
      ]
     },
     "execution_count": 77,
     "metadata": {},
     "output_type": "execute_result"
    }
   ],
   "source": [
    "list(d12.keys())"
   ]
  },
  {
   "cell_type": "code",
   "execution_count": 78,
   "id": "1c05fd5d-3b30-4a3c-b1dc-d5cd28167f25",
   "metadata": {},
   "outputs": [
    {
     "data": {
      "text/plain": [
       "[['data science', 'web dev', 'java'],\n",
       " (11.1, 23.4, 3324),\n",
       " (28, 14, 21),\n",
       " {'hitesh', 'krish', 'sudhanshu'}]"
      ]
     },
     "execution_count": 78,
     "metadata": {},
     "output_type": "execute_result"
    }
   ],
   "source": [
    "list(d12.values())"
   ]
  },
  {
   "cell_type": "code",
   "execution_count": 80,
   "id": "8f50a699-defe-4b48-8957-ed60fb5c9fa5",
   "metadata": {},
   "outputs": [
    {
     "data": {
      "text/plain": [
       "dict_items([('batch_name', ['data science', 'web dev', 'java']), ('course_code', (11.1, 23.4, 3324)), ('start_date', (28, 14, 21)), ('mentor', {'krish', 'sudhanshu', 'hitesh'})])"
      ]
     },
     "execution_count": 80,
     "metadata": {},
     "output_type": "execute_result"
    }
   ],
   "source": [
    "d12.items()"
   ]
  },
  {
   "cell_type": "code",
   "execution_count": 82,
   "id": "f7a419a5-53bc-4937-bebe-a2cca8a79b6a",
   "metadata": {},
   "outputs": [
    {
     "data": {
      "text/plain": [
       "[('batch_name', ['data science', 'web dev', 'java']),\n",
       " ('course_code', (11.1, 23.4, 3324)),\n",
       " ('start_date', (28, 14, 21)),\n",
       " ('mentor', {'hitesh', 'krish', 'sudhanshu'})]"
      ]
     },
     "execution_count": 82,
     "metadata": {},
     "output_type": "execute_result"
    }
   ],
   "source": [
    "list(d12.items())"
   ]
  },
  {
   "cell_type": "code",
   "execution_count": 88,
   "id": "34aff59b-8751-497e-87fa-bee3e7a791bb",
   "metadata": {},
   "outputs": [],
   "source": [
    "d13=d12.copy()\n",
    "# deep copy - changes won't affect each other separate address"
   ]
  },
  {
   "cell_type": "code",
   "execution_count": 85,
   "id": "20649927-90e1-462a-8bf7-89c0e669ebd2",
   "metadata": {},
   "outputs": [
    {
     "data": {
      "text/plain": [
       "{'batch_name': ['data science', 'web dev', 'java'],\n",
       " 'course_code': (11.1, 23.4, 3324),\n",
       " 'start_date': (28, 14, 21),\n",
       " 'mentor': {'hitesh', 'krish', 'sudhanshu'}}"
      ]
     },
     "execution_count": 85,
     "metadata": {},
     "output_type": "execute_result"
    }
   ],
   "source": [
    "d13"
   ]
  },
  {
   "cell_type": "code",
   "execution_count": 86,
   "id": "d023e302-40ec-45f8-8695-631e048da648",
   "metadata": {},
   "outputs": [],
   "source": [
    "d14=d12"
   ]
  },
  {
   "cell_type": "code",
   "execution_count": 87,
   "id": "5d92d1fc-665a-4504-95ac-5815f3f79d81",
   "metadata": {},
   "outputs": [
    {
     "data": {
      "text/plain": [
       "{'batch_name': ['data science', 'web dev', 'java'],\n",
       " 'course_code': (11.1, 23.4, 3324),\n",
       " 'start_date': (28, 14, 21),\n",
       " 'mentor': {'hitesh', 'krish', 'sudhanshu'}}"
      ]
     },
     "execution_count": 87,
     "metadata": {},
     "output_type": "execute_result"
    }
   ],
   "source": [
    "d14"
   ]
  },
  {
   "cell_type": "code",
   "execution_count": 89,
   "id": "14a8cba5-067e-405d-93a8-7cdf4e69282b",
   "metadata": {},
   "outputs": [],
   "source": [
    "del d12['course_code']"
   ]
  },
  {
   "cell_type": "code",
   "execution_count": 90,
   "id": "0487ea69-2171-41bd-ba7c-6d5d1b4dbc43",
   "metadata": {},
   "outputs": [
    {
     "data": {
      "text/plain": [
       "{'batch_name': ['data science', 'web dev', 'java'],\n",
       " 'start_date': (28, 14, 21),\n",
       " 'mentor': {'hitesh', 'krish', 'sudhanshu'}}"
      ]
     },
     "execution_count": 90,
     "metadata": {},
     "output_type": "execute_result"
    }
   ],
   "source": [
    "d12"
   ]
  },
  {
   "cell_type": "code",
   "execution_count": 92,
   "id": "e10c5daf-9b22-49a7-b12b-169145053b6e",
   "metadata": {},
   "outputs": [
    {
     "data": {
      "text/plain": [
       "{'batch_name': ['data science', 'web dev', 'java'],\n",
       " 'course_code': (11.1, 23.4, 3324),\n",
       " 'start_date': (28, 14, 21),\n",
       " 'mentor': {'hitesh', 'krish', 'sudhanshu'}}"
      ]
     },
     "execution_count": 92,
     "metadata": {},
     "output_type": "execute_result"
    }
   ],
   "source": [
    "d13\n",
    "# no change"
   ]
  },
  {
   "cell_type": "code",
   "execution_count": 95,
   "id": "20bf478b-f3b4-4510-bc53-8d4bd1a71ac4",
   "metadata": {},
   "outputs": [
    {
     "data": {
      "text/plain": [
       "{'batch_name': ['data science', 'web dev', 'java'],\n",
       " 'start_date': (28, 14, 21),\n",
       " 'mentor': {'hitesh', 'krish', 'sudhanshu'}}"
      ]
     },
     "execution_count": 95,
     "metadata": {},
     "output_type": "execute_result"
    }
   ],
   "source": [
    "# swallow copy\n",
    "d14\n",
    "# same memory location as d12 "
   ]
  },
  {
   "cell_type": "code",
   "execution_count": 97,
   "id": "cd492071-1e14-4c20-b2df-21784006ac32",
   "metadata": {},
   "outputs": [
    {
     "ename": "TypeError",
     "evalue": "pop expected at least 1 argument, got 0",
     "output_type": "error",
     "traceback": [
      "\u001b[0;31m---------------------------------------------------------------------------\u001b[0m",
      "\u001b[0;31mTypeError\u001b[0m                                 Traceback (most recent call last)",
      "Cell \u001b[0;32mIn[97], line 1\u001b[0m\n\u001b[0;32m----> 1\u001b[0m \u001b[43md13\u001b[49m\u001b[38;5;241;43m.\u001b[39;49m\u001b[43mpop\u001b[49m\u001b[43m(\u001b[49m\u001b[43m)\u001b[49m\n",
      "\u001b[0;31mTypeError\u001b[0m: pop expected at least 1 argument, got 0"
     ]
    }
   ],
   "source": [
    "d13.pop()\n"
   ]
  },
  {
   "cell_type": "code",
   "execution_count": 98,
   "id": "2f662ae8-70d7-4798-88b4-326a34611b67",
   "metadata": {},
   "outputs": [],
   "source": [
    "# in list pop will work but in dictionary doesn't work without argument"
   ]
  },
  {
   "cell_type": "code",
   "execution_count": 99,
   "id": "5b58cf2a-70f6-4086-a3eb-4ef35d37b5bd",
   "metadata": {},
   "outputs": [
    {
     "data": {
      "text/plain": [
       "{'hitesh', 'krish', 'sudhanshu'}"
      ]
     },
     "execution_count": 99,
     "metadata": {},
     "output_type": "execute_result"
    }
   ],
   "source": [
    "d13.pop('mentor')"
   ]
  },
  {
   "cell_type": "code",
   "execution_count": 100,
   "id": "9a7b3e26-a047-4fe8-9fda-057abaf34b1d",
   "metadata": {},
   "outputs": [
    {
     "data": {
      "text/plain": [
       "{'batch_name': ['data science', 'web dev', 'java'],\n",
       " 'course_code': (11.1, 23.4, 3324),\n",
       " 'start_date': (28, 14, 21)}"
      ]
     },
     "execution_count": 100,
     "metadata": {},
     "output_type": "execute_result"
    }
   ],
   "source": [
    "d13"
   ]
  },
  {
   "cell_type": "code",
   "execution_count": 101,
   "id": "9ddf9578-6cef-41c0-8309-4a03ddc71ae1",
   "metadata": {},
   "outputs": [
    {
     "data": {
      "text/plain": [
       "{1: ('a', 'b', 'c'), 2: ('a', 'b', 'c'), 3: ('a', 'b', 'c')}"
      ]
     },
     "execution_count": 101,
     "metadata": {},
     "output_type": "execute_result"
    }
   ],
   "source": [
    "d.fromkeys((1,2,3),('a','b','c'))"
   ]
  },
  {
   "cell_type": "code",
   "execution_count": 102,
   "id": "243cb158-e46d-4f2f-adbd-10a303cff714",
   "metadata": {},
   "outputs": [],
   "source": [
    "d14={'key1': 'value1','key2':'value2'}\n",
    "d15={'key3': 'value3','key4':'value4'}"
   ]
  },
  {
   "cell_type": "code",
   "execution_count": 103,
   "id": "6af51d32-79a7-42f5-8cbd-629824a633b0",
   "metadata": {},
   "outputs": [
    {
     "data": {
      "text/plain": [
       "({'key1': 'value1', 'key2': 'value2'}, {'key3': 'value3', 'key4': 'value4'})"
      ]
     },
     "execution_count": 103,
     "metadata": {},
     "output_type": "execute_result"
    }
   ],
   "source": [
    "(d14,d15)\n",
    "# dictionary inside tuple"
   ]
  },
  {
   "cell_type": "code",
   "execution_count": 104,
   "id": "18ab4251-fce4-4cd4-928c-2b74e038bcce",
   "metadata": {},
   "outputs": [],
   "source": [
    "d14.update(d15)"
   ]
  },
  {
   "cell_type": "code",
   "execution_count": 105,
   "id": "b9c0f3f5-4775-4f59-b133-bb38880d1f7a",
   "metadata": {},
   "outputs": [
    {
     "data": {
      "text/plain": [
       "{'key1': 'value1', 'key2': 'value2', 'key3': 'value3', 'key4': 'value4'}"
      ]
     },
     "execution_count": 105,
     "metadata": {},
     "output_type": "execute_result"
    }
   ],
   "source": [
    "d14"
   ]
  },
  {
   "cell_type": "code",
   "execution_count": 106,
   "id": "c5a5eeb3-c695-4ee1-9b21-39a6628ec2cd",
   "metadata": {},
   "outputs": [
    {
     "data": {
      "text/plain": [
       "{'key3': 'value3', 'key4': 'value4'}"
      ]
     },
     "execution_count": 106,
     "metadata": {},
     "output_type": "execute_result"
    }
   ],
   "source": [
    "d15"
   ]
  },
  {
   "cell_type": "code",
   "execution_count": 107,
   "id": "0140ec73-aafc-462b-b358-49ba04a6662f",
   "metadata": {},
   "outputs": [],
   "source": [
    "d14.get('ash')"
   ]
  },
  {
   "cell_type": "code",
   "execution_count": 108,
   "id": "967a8cb3-7d4f-41fc-b81c-617e700099e4",
   "metadata": {},
   "outputs": [
    {
     "data": {
      "text/plain": [
       "'value3'"
      ]
     },
     "execution_count": 108,
     "metadata": {},
     "output_type": "execute_result"
    }
   ],
   "source": [
    "d14.get('key3')"
   ]
  },
  {
   "cell_type": "code",
   "execution_count": 109,
   "id": "ceb4a505-4e04-4bb9-8d5f-dfe1d670e90b",
   "metadata": {},
   "outputs": [
    {
     "data": {
      "text/plain": [
       "'value3'"
      ]
     },
     "execution_count": 109,
     "metadata": {},
     "output_type": "execute_result"
    }
   ],
   "source": [
    "d14['key3']"
   ]
  },
  {
   "cell_type": "code",
   "execution_count": 112,
   "id": "1f8232ea-7b46-4f3f-a439-15e43cd62c08",
   "metadata": {},
   "outputs": [
    {
     "ename": "KeyError",
     "evalue": "'ash'",
     "output_type": "error",
     "traceback": [
      "\u001b[0;31m---------------------------------------------------------------------------\u001b[0m",
      "\u001b[0;31mKeyError\u001b[0m                                  Traceback (most recent call last)",
      "Cell \u001b[0;32mIn[112], line 1\u001b[0m\n\u001b[0;32m----> 1\u001b[0m \u001b[43md14\u001b[49m\u001b[43m[\u001b[49m\u001b[38;5;124;43m'\u001b[39;49m\u001b[38;5;124;43mash\u001b[39;49m\u001b[38;5;124;43m'\u001b[39;49m\u001b[43m]\u001b[49m\n\u001b[1;32m      2\u001b[0m \u001b[38;5;66;03m# difference between get and (fetch data from dictionary)this method is that this method gives error while get returns default(no error)\u001b[39;00m\n",
      "\u001b[0;31mKeyError\u001b[0m: 'ash'"
     ]
    }
   ],
   "source": [
    "d14['ash']\n",
    "# difference between get and (fetch data from dictionary)this method is that this method gives error while get returns default(no error)"
   ]
  },
  {
   "cell_type": "markdown",
   "id": "87412aea-fb42-4cde-aebe-5e14ff41f508",
   "metadata": {},
   "source": [
    "#### Dictionary comprehension"
   ]
  },
  {
   "cell_type": "code",
   "execution_count": 117,
   "id": "dc0db604-cdcf-4164-9d72-3fec1fbb87e0",
   "metadata": {},
   "outputs": [
    {
     "data": {
      "text/plain": [
       "{1: 1, 2: 4, 3: 9, 4: 16, 5: 25, 6: 36, 7: 49, 8: 64, 9: 81, 10: 100}"
      ]
     },
     "execution_count": 117,
     "metadata": {},
     "output_type": "execute_result"
    }
   ],
   "source": [
    "{i : i**2 for i in range(1,11)}"
   ]
  },
  {
   "cell_type": "code",
   "execution_count": 114,
   "id": "ad9fa9c9-884e-438e-a611-0a4500317b19",
   "metadata": {},
   "outputs": [
    {
     "data": {
      "text/plain": [
       "[1, 2, 3, 4, 5, 6, 7, 8, 9, 10]"
      ]
     },
     "execution_count": 114,
     "metadata": {},
     "output_type": "execute_result"
    }
   ],
   "source": [
    "list(range(1,11))"
   ]
  },
  {
   "cell_type": "code",
   "execution_count": 117,
   "id": "8c0df53b-98ca-4579-b43f-f41adeed68ee",
   "metadata": {},
   "outputs": [
    {
     "data": {
      "text/plain": [
       "{1: 1, 2: 4, 3: 9, 4: 16, 5: 25, 6: 36, 7: 49, 8: 64, 9: 81, 10: 100}"
      ]
     },
     "execution_count": 117,
     "metadata": {},
     "output_type": "execute_result"
    }
   ],
   "source": [
    "{i : i+10 for i in range(1,11)}"
   ]
  },
  {
   "cell_type": "code",
   "execution_count": null,
   "id": "1d0a8ad7-d0f1-49b6-be88-6ac1caa0e11a",
   "metadata": {},
   "outputs": [],
   "source": []
  }
 ],
 "metadata": {
  "kernelspec": {
   "display_name": "Python 3 (ipykernel)",
   "language": "python",
   "name": "python3"
  },
  "language_info": {
   "codemirror_mode": {
    "name": "ipython",
    "version": 3
   },
   "file_extension": ".py",
   "mimetype": "text/x-python",
   "name": "python",
   "nbconvert_exporter": "python",
   "pygments_lexer": "ipython3",
   "version": "3.10.8"
  }
 },
 "nbformat": 4,
 "nbformat_minor": 5
}
