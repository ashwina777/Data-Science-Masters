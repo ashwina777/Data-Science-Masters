{
 "cells": [
  {
   "cell_type": "markdown",
   "id": "cb151b00-a654-409d-abe4-3126c81410ce",
   "metadata": {},
   "source": [
    "## List of General Use Exceptions"
   ]
  },
  {
   "cell_type": "markdown",
   "id": "530cf0f3-1c6d-4a12-91e7-81f52c48bf43",
   "metadata": {},
   "source": [
    "### Some general exceptions"
   ]
  },
  {
   "cell_type": "code",
   "execution_count": 1,
   "id": "265bdce0-0ca1-4708-8415-6e9f94067147",
   "metadata": {},
   "outputs": [
    {
     "name": "stdout",
     "output_type": "stream",
     "text": [
      "division by zero\n"
     ]
    }
   ],
   "source": [
    "try :\n",
    "    a=10\n",
    "    a/0\n",
    "except ZeroDivisionError as e:\n",
    "    print(e)"
   ]
  },
  {
   "cell_type": "code",
   "execution_count": 3,
   "id": "2f269ae7-731d-4724-bf1a-715662725904",
   "metadata": {},
   "outputs": [
    {
     "name": "stdout",
     "output_type": "stream",
     "text": [
      "invalid literal for int() with base 10: '10ash'\n"
     ]
    }
   ],
   "source": [
    "try :\n",
    "    int(\"10ash\")\n",
    "except (ValueError, TypeError) as e:\n",
    "    print(e)"
   ]
  },
  {
   "cell_type": "code",
   "execution_count": 5,
   "id": "b5a9d705-bf31-400f-a7ff-51116322d5b4",
   "metadata": {},
   "outputs": [
    {
     "name": "stdout",
     "output_type": "stream",
     "text": [
      "this will catch an error\n"
     ]
    }
   ],
   "source": [
    "# not a good pratice it is mandatory to mention type of error\n",
    "try:\n",
    "    int(\"ASHWINA\")\n",
    "except:\n",
    "    print(\"this will catch an error\")\n",
    "    "
   ]
  },
  {
   "cell_type": "code",
   "execution_count": 7,
   "id": "cf7f363e-1e15-4a49-bfbd-316c0a7674bb",
   "metadata": {},
   "outputs": [
    {
     "name": "stdout",
     "output_type": "stream",
     "text": [
      "No module named 'ash'\n"
     ]
    }
   ],
   "source": [
    "try:\n",
    "    import ash\n",
    "    # this module is not present so it will give error\n",
    "except ImportError as e:\n",
    "    print(e)"
   ]
  },
  {
   "cell_type": "code",
   "execution_count": 8,
   "id": "6668415e-0720-49a5-8ebb-22fba7e313a5",
   "metadata": {},
   "outputs": [
    {
     "name": "stdout",
     "output_type": "stream",
     "text": [
      "'key10'\n"
     ]
    }
   ],
   "source": [
    "try:\n",
    "    d={1:[3,4,5,6],\"key\":\"ashwina\"}\n",
    "    d[\"key10\"] # retreiving something that doesn't exist\n",
    "except KeyError as e:\n",
    "    print(e)"
   ]
  },
  {
   "cell_type": "code",
   "execution_count": 9,
   "id": "121b06b4-3a50-4130-addf-74d75112882f",
   "metadata": {},
   "outputs": [
    {
     "name": "stdout",
     "output_type": "stream",
     "text": [
      "'str' object has no attribute 'test'\n"
     ]
    }
   ],
   "source": [
    "try:\n",
    "    \"ashwina\".test()\n",
    "    #test function doesn't exist\n",
    "except AttributeError as e:\n",
    "    print(e)"
   ]
  },
  {
   "cell_type": "code",
   "execution_count": 10,
   "id": "2a2b093d-21cd-47eb-a480-f5817c193dc1",
   "metadata": {},
   "outputs": [
    {
     "name": "stdout",
     "output_type": "stream",
     "text": [
      "list index out of range\n"
     ]
    }
   ],
   "source": [
    "try:\n",
    "    l=[1,2,3,4,5]\n",
    "    l[10]\n",
    "except IndexError as e:\n",
    "    print(e)"
   ]
  },
  {
   "cell_type": "code",
   "execution_count": 11,
   "id": "f5f453aa-9bbd-44d1-8711-08dd1486171d",
   "metadata": {},
   "outputs": [
    {
     "name": "stdout",
     "output_type": "stream",
     "text": [
      "unsupported operand type(s) for +: 'int' and 'str'\n"
     ]
    }
   ],
   "source": [
    "try:\n",
    "    123+\"ash\"\n",
    "except TypeError as e:\n",
    "    print(e)"
   ]
  },
  {
   "cell_type": "code",
   "execution_count": 12,
   "id": "573f915e-8be5-4652-96a0-43b29597e70b",
   "metadata": {},
   "outputs": [
    {
     "name": "stdout",
     "output_type": "stream",
     "text": [
      "[Errno 2] No such file or directory: 'test5.txt'\n"
     ]
    }
   ],
   "source": [
    "try:\n",
    "    with open(\"test5.txt\",\"r\") as f:\n",
    "        f.read()\n",
    "except FileNotFoundError as e:\n",
    "    print(e)"
   ]
  },
  {
   "cell_type": "code",
   "execution_count": 15,
   "id": "0ab8017b-4d72-48fa-9ea3-b5f76be3f0d6",
   "metadata": {},
   "outputs": [
    {
     "name": "stdout",
     "output_type": "stream",
     "text": [
      "test [Errno 2] No such file or directory: 'test5.txt'\n"
     ]
    }
   ],
   "source": [
    "try:\n",
    "    with open(\"test5.txt\",\"r\") as f:\n",
    "        f.read()\n",
    "except Exception as e:\n",
    "    print(\"test\",e)\n",
    "except FileNotFoundError as e:\n",
    "    print(\"this is my file not found type error\",e)"
   ]
  },
  {
   "cell_type": "code",
   "execution_count": null,
   "id": "71962253-7981-4ee6-87c8-9b5bd9cbacb5",
   "metadata": {},
   "outputs": [],
   "source": [
    "# in the above code exception class is a super class and ethic wise it shouls be writeen at end\n",
    "# it will execute that class first and not execute generic/specific class"
   ]
  },
  {
   "cell_type": "code",
   "execution_count": 19,
   "id": "535707cb-e23d-4fa7-af2b-87122afe7de4",
   "metadata": {},
   "outputs": [],
   "source": [
    "def test(file):\n",
    "    try:\n",
    "        with open(file,\"r\") as f:\n",
    "            f.read()\n",
    "    except Exception as e:\n",
    "        print(\"test\",e)\n",
    "    except FileNotFoundError as e:\n",
    "        print(\"this is my file not found type error\",e)"
   ]
  },
  {
   "cell_type": "markdown",
   "id": "b00f9a7a-f1e3-46a1-b6f2-98759467c88d",
   "metadata": {},
   "source": [
    "## Best Practice Exception Handling"
   ]
  },
  {
   "cell_type": "code",
   "execution_count": 20,
   "id": "0202b31a-026f-464b-96d2-3fc68339d064",
   "metadata": {},
   "outputs": [
    {
     "name": "stdout",
     "output_type": "stream",
     "text": [
      "division by zero\n"
     ]
    }
   ],
   "source": [
    "## use always specific exceptions - if not known use exception\n",
    "## e.g. here zero div error is used\n",
    "try :\n",
    "    10/0\n",
    "except ZeroDivisionError as e:\n",
    "    print(e)"
   ]
  },
  {
   "cell_type": "code",
   "execution_count": 21,
   "id": "b09d3ef2-6832-4176-b5a9-24e6d92a118a",
   "metadata": {},
   "outputs": [
    {
     "name": "stdout",
     "output_type": "stream",
     "text": [
      "this is ny zero division error i am handling division by zero\n"
     ]
    }
   ],
   "source": [
    "# print always a valid msg so it will be easy to debug\n",
    "try :\n",
    "    10/0\n",
    "except ZeroDivisionError as e:\n",
    "    print(\"this is ny zero division error i am handling\",e)"
   ]
  },
  {
   "cell_type": "code",
   "execution_count": 24,
   "id": "037711ae-d96f-4cd6-9558-27a3f90b8b90",
   "metadata": {},
   "outputs": [],
   "source": [
    "# always try to log errors\n",
    "import logging\n",
    "logging.basicConfig(filename = \"error.log\", level = logging.ERROR)\n",
    "try :\n",
    "    10/0\n",
    "except ZeroDivisionError as e:\n",
    "    logging.error(\"this is ny zero division error i am handling {}\".format(e))"
   ]
  },
  {
   "cell_type": "code",
   "execution_count": 28,
   "id": "d60a7563-81a8-47f6-8af3-06bed0af7667",
   "metadata": {},
   "outputs": [],
   "source": [
    "# always avoid to write multiple exception handling\n",
    "\n",
    "try :\n",
    "    10/0\n",
    "except FileNotFoundError as e:\n",
    "     logging.error(\"this is my file not found error {}\".format(e))\n",
    "except AttributeError as e:\n",
    "     logging.error(\"this is my attribute error {}\".format(e))\n",
    "    \n",
    "except ZeroDivisionError as e:\n",
    "    logging.error(\"this is ny zero division error i am handling {}\".format(e))"
   ]
  },
  {
   "cell_type": "code",
   "execution_count": 26,
   "id": "0003cb32-b026-4a6a-a269-19c1597884d8",
   "metadata": {},
   "outputs": [],
   "source": [
    "# always try to prepare proper documentation of entire classes, objects , code ,model, file ,packages etc"
   ]
  },
  {
   "cell_type": "code",
   "execution_count": 27,
   "id": "586ede88-843a-49e0-9a1a-cecee5936e70",
   "metadata": {},
   "outputs": [],
   "source": [
    "# cleanup all the resources\n",
    "\n",
    "try:\n",
    "    with open(\"test6.txt\",\"w\") as f:\n",
    "        f.write(\"This is my file\")\n",
    "except FileNotFoundError as e:\n",
    "    logging.error(\"this is my file not found {}\".format(e))\n",
    "finally:\n",
    "    f.close()"
   ]
  },
  {
   "cell_type": "code",
   "execution_count": null,
   "id": "df8f8799-540a-4f20-b6f4-985bbe325624",
   "metadata": {},
   "outputs": [],
   "source": []
  }
 ],
 "metadata": {
  "kernelspec": {
   "display_name": "Python 3 (ipykernel)",
   "language": "python",
   "name": "python3"
  },
  "language_info": {
   "codemirror_mode": {
    "name": "ipython",
    "version": 3
   },
   "file_extension": ".py",
   "mimetype": "text/x-python",
   "name": "python",
   "nbconvert_exporter": "python",
   "pygments_lexer": "ipython3",
   "version": "3.10.8"
  }
 },
 "nbformat": 4,
 "nbformat_minor": 5
}
