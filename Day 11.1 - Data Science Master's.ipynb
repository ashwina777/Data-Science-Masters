{
 "cells": [
  {
   "cell_type": "markdown",
   "id": "4b39023e-48ce-48d6-ba00-aa2d3c4729d6",
   "metadata": {},
   "source": [
    "## Working with files"
   ]
  },
  {
   "cell_type": "code",
   "execution_count": 2,
   "id": "27bccd92-b7f0-40df-b856-d8b1a2769f31",
   "metadata": {},
   "outputs": [],
   "source": [
    "f=open(\"test1.txt\" , 'w') # w mode help us write in a file and remove previous data "
   ]
  },
  {
   "cell_type": "code",
   "execution_count": 3,
   "id": "95bc2a53-16ca-4173-ba5b-02a8184b53d3",
   "metadata": {},
   "outputs": [
    {
     "data": {
      "text/plain": [
       "'/home/jovyan/work'"
      ]
     },
     "execution_count": 3,
     "metadata": {},
     "output_type": "execute_result"
    }
   ],
   "source": [
    "pwd # present working directory cmd"
   ]
  },
  {
   "cell_type": "code",
   "execution_count": 4,
   "id": "ab405b66-398e-4c32-89cb-265462e3574e",
   "metadata": {},
   "outputs": [
    {
     "name": "stdout",
     "output_type": "stream",
     "text": [
      " 1_Python_Programming_Language_Overview.ipynb\n",
      " Assignment2_30jan.ipynb\n",
      "'Day 10 - Data Science Masters.ipynb'\n",
      "\"Day 11 - Data Science Master's.ipynb\"\n",
      "'Day1- Data Science Masters.ipynb'\n",
      "'Day2 - Data Science Masters.ipynb'\n",
      "'Day3 - Data Science Master.ipynb'\n",
      "'Day4 Data Science Masters.ipynb'\n",
      "'Day5 - Data Science Masters.ipynb'\n",
      "'Day6 - Data Science Masters.ipynb'\n",
      "'Day7 - Data Science Masters.ipynb'\n",
      "'Day8 - Data Science Masters.ipynb'\n",
      "'Day9 - Data Science Masters.ipynb'\n",
      "'pwDay1 -Data Science MAsters.ipynb'\n",
      " README.md\n",
      " sample-code.ipynb\n",
      " test1.txt\n"
     ]
    }
   ],
   "source": [
    "ls"
   ]
  },
  {
   "cell_type": "code",
   "execution_count": 5,
   "id": "f6868a92-72b2-48f1-bc4f-94da1792efce",
   "metadata": {},
   "outputs": [
    {
     "data": {
      "text/plain": [
       "753"
      ]
     },
     "execution_count": 5,
     "metadata": {},
     "output_type": "execute_result"
    }
   ],
   "source": [
    "f.write(\"Data Science Masters course is highly curated and uniquely designed according to the latest industry standards. This program instills in students the skills essential to knowledge discovery efforts to identify standard, novel, and truly differentiated solutions and decision-making, including skills in managing, querying, analyzing, visualizing, and extracting meaning from extremely large data sets. This trending program provides students with the statistical, mathematical, and computational skills needed to meet the large-scale data science challenges of today's professional world. You will learn all the stack required to work in data science, data analytics, and big data industry including cloud infrastructure and real-time industry projects.\")"
   ]
  },
  {
   "cell_type": "code",
   "execution_count": 6,
   "id": "78477297-3b5a-4ca5-b84d-6ce4fb00c534",
   "metadata": {},
   "outputs": [],
   "source": [
    "f.close()"
   ]
  },
  {
   "cell_type": "code",
   "execution_count": 20,
   "id": "59aa4536-b0e4-4116-a935-bd5c73a0cb93",
   "metadata": {},
   "outputs": [],
   "source": [
    "f=open(\"test2.txt\", 'a')"
   ]
  },
  {
   "cell_type": "code",
   "execution_count": 21,
   "id": "67696126-cf69-438d-9205-c70fbd533828",
   "metadata": {},
   "outputs": [
    {
     "data": {
      "text/plain": [
       "766"
      ]
     },
     "execution_count": 21,
     "metadata": {},
     "output_type": "execute_result"
    }
   ],
   "source": [
    "# a does truncate or delete the previous info\n",
    "f.write(\"Data Science Masters course is highly curated and uniquely designed according to the latest industry standards. This program instills in students the skills essential to knowledge discovery efforts to identify standard, novel, and truly differentiated solutions and decision-making, including skills in managing, querying, analyzing, visualizing, and extracting meaning from extremely large data sets. This trending program provides students with the statistical, mathematical, and computational skills needed to meet the large-scale data science challenges of today's professional world. You will learn all the stack required to work in data science, data analytics, and big data industry including cloud infrastructure and real-time industry projects. I am ASHWINA\")"
   ]
  },
  {
   "cell_type": "code",
   "execution_count": 22,
   "id": "c1927617-6204-4321-8c2e-da2ca7388e60",
   "metadata": {},
   "outputs": [],
   "source": [
    "f.close()"
   ]
  },
  {
   "cell_type": "code",
   "execution_count": 23,
   "id": "0a9ddeee-b553-455a-bd22-23a7e2752f94",
   "metadata": {},
   "outputs": [],
   "source": [
    "data = open(\"test1.txt\", \"r\") # read mode"
   ]
  },
  {
   "cell_type": "code",
   "execution_count": 24,
   "id": "5c529254-201b-48d3-9c9a-a78f7cc264e0",
   "metadata": {},
   "outputs": [
    {
     "data": {
      "text/plain": [
       "\"Data Science Masters course is highly curated and uniquely designed according to the latest industry standards. This program instills in students the skills essential to knowledge discovery efforts to identify standard, novel, and truly differentiated solutions and decision-making, including skills in managing, querying, analyzing, visualizing, and extracting meaning from extremely large data sets. This trending program provides students with the statistical, mathematical, and computational skills needed to meet the large-scale data science challenges of today's professional world. You will learn all the stack required to work in data science, data analytics, and big data industry including cloud infrastructure and real-time industry projects.\""
      ]
     },
     "execution_count": 24,
     "metadata": {},
     "output_type": "execute_result"
    }
   ],
   "source": [
    "data.read()"
   ]
  },
  {
   "cell_type": "code",
   "execution_count": 25,
   "id": "7ffe8c69-51de-45e3-918a-023deac1ab65",
   "metadata": {},
   "outputs": [
    {
     "data": {
      "text/plain": [
       "''"
      ]
     },
     "execution_count": 25,
     "metadata": {},
     "output_type": "execute_result"
    }
   ],
   "source": [
    "data.read()"
   ]
  },
  {
   "cell_type": "code",
   "execution_count": 26,
   "id": "d24d98bd-9fee-49ae-a0dd-5a3cd7e70532",
   "metadata": {},
   "outputs": [
    {
     "data": {
      "text/plain": [
       "0"
      ]
     },
     "execution_count": 26,
     "metadata": {},
     "output_type": "execute_result"
    }
   ],
   "source": [
    "# showing nothing because cursor has reached the end there is not data\n",
    "# to reset cursor :-\n",
    "data.seek(0)"
   ]
  },
  {
   "cell_type": "code",
   "execution_count": 27,
   "id": "7137abed-f66e-4ae1-9342-b00f0931048b",
   "metadata": {},
   "outputs": [
    {
     "data": {
      "text/plain": [
       "\"Data Science Masters course is highly curated and uniquely designed according to the latest industry standards. This program instills in students the skills essential to knowledge discovery efforts to identify standard, novel, and truly differentiated solutions and decision-making, including skills in managing, querying, analyzing, visualizing, and extracting meaning from extremely large data sets. This trending program provides students with the statistical, mathematical, and computational skills needed to meet the large-scale data science challenges of today's professional world. You will learn all the stack required to work in data science, data analytics, and big data industry including cloud infrastructure and real-time industry projects.\""
      ]
     },
     "execution_count": 27,
     "metadata": {},
     "output_type": "execute_result"
    }
   ],
   "source": [
    "data.read()"
   ]
  },
  {
   "cell_type": "code",
   "execution_count": 28,
   "id": "08c1465e-a6c8-4a8b-b1ef-94c0529d7918",
   "metadata": {},
   "outputs": [
    {
     "data": {
      "text/plain": [
       "100"
      ]
     },
     "execution_count": 28,
     "metadata": {},
     "output_type": "execute_result"
    }
   ],
   "source": [
    "data.seek(100)"
   ]
  },
  {
   "cell_type": "code",
   "execution_count": 29,
   "id": "ef02cc80-d7b5-4de9-a221-73009599ac09",
   "metadata": {},
   "outputs": [
    {
     "data": {
      "text/plain": [
       "\" standards. This program instills in students the skills essential to knowledge discovery efforts to identify standard, novel, and truly differentiated solutions and decision-making, including skills in managing, querying, analyzing, visualizing, and extracting meaning from extremely large data sets. This trending program provides students with the statistical, mathematical, and computational skills needed to meet the large-scale data science challenges of today's professional world. You will learn all the stack required to work in data science, data analytics, and big data industry including cloud infrastructure and real-time industry projects.\""
      ]
     },
     "execution_count": 29,
     "metadata": {},
     "output_type": "execute_result"
    }
   ],
   "source": [
    "data.read() # reads from 100th place"
   ]
  },
  {
   "cell_type": "code",
   "execution_count": 32,
   "id": "fe4dadac-f52e-43d0-870f-fdc97800e8b7",
   "metadata": {},
   "outputs": [],
   "source": [
    "data1 = open(\"test2.txt\" , 'r')"
   ]
  },
  {
   "cell_type": "code",
   "execution_count": 33,
   "id": "a7112307-fd63-4af5-b2eb-e4a3ba8c81d3",
   "metadata": {},
   "outputs": [
    {
     "name": "stdout",
     "output_type": "stream",
     "text": [
      "I am ashwinastudying data science masyer'sstudying data science master'sData Science Masters course is highly curated and uniquely designed according to the latest industry standards. This program instills in students the skills essential to knowledge discovery efforts to identify standard, novel, and truly differentiated solutions and decision-making, including skills in managing, querying, analyzing, visualizing, and extracting meaning from extremely large data sets. This trending program provides students with the statistical, mathematical, and computational skills needed to meet the large-scale data science challenges of today's professional world. You will learn all the stack required to work in data science, data analytics, and big data industry including cloud infrastructure and real-time industry projects.Data Science Masters course is highly curated and uniquely designed according to the latest industry standards. This program instills in students the skills essential to knowledge discovery efforts to identify standard, novel, and truly differentiated solutions and decision-making, including skills in managing, querying, analyzing, visualizing, and extracting meaning from extremely large data sets. This trending program provides students with the statistical, mathematical, and computational skills needed to meet the large-scale data science challenges of today's professional world. You will learn all the stack required to work in data science, data analytics, and big data industry including cloud infrastructure and real-time industry projects. I am ASHWINA\n"
     ]
    }
   ],
   "source": [
    "for i in data1:\n",
    "    print(i)"
   ]
  },
  {
   "cell_type": "code",
   "execution_count": 36,
   "id": "f1c88e09-b271-4418-998a-3cf55bbbb6bd",
   "metadata": {},
   "outputs": [],
   "source": [
    "# to find file size\n",
    "import os"
   ]
  },
  {
   "cell_type": "code",
   "execution_count": 37,
   "id": "65f44a85-e662-4369-9557-e4708c04b2ee",
   "metadata": {},
   "outputs": [
    {
     "data": {
      "text/plain": [
       "753"
      ]
     },
     "execution_count": 37,
     "metadata": {},
     "output_type": "execute_result"
    }
   ],
   "source": [
    "os.path.getsize(\"test1.txt\")"
   ]
  },
  {
   "cell_type": "code",
   "execution_count": 38,
   "id": "38736e59-30f4-4cf0-833d-da8e6db7f960",
   "metadata": {},
   "outputs": [],
   "source": [
    "# to copy\n",
    "import shutil"
   ]
  },
  {
   "cell_type": "code",
   "execution_count": 47,
   "id": "7ec239b8-f65e-469d-bc86-95e16f39670a",
   "metadata": {},
   "outputs": [
    {
     "data": {
      "text/plain": [
       "'copied_test1.txt'"
      ]
     },
     "execution_count": 47,
     "metadata": {},
     "output_type": "execute_result"
    }
   ],
   "source": [
    "shutil.copy(\"test1.txt\",\"copied_test1.txt\")"
   ]
  },
  {
   "cell_type": "code",
   "execution_count": 48,
   "id": "cdbcc529-a532-47fb-a5d6-b4dcd18edf1c",
   "metadata": {},
   "outputs": [],
   "source": [
    "os.remove(\"test2.txt\")"
   ]
  },
  {
   "cell_type": "code",
   "execution_count": 49,
   "id": "71c6105c-07a1-4228-b16e-6a8d4a18f1a0",
   "metadata": {},
   "outputs": [],
   "source": [
    "# f is an alias it can be anything even a name"
   ]
  },
  {
   "cell_type": "code",
   "execution_count": 50,
   "id": "022cbd4e-924a-4507-acde-e66690f583f1",
   "metadata": {},
   "outputs": [
    {
     "name": "stdout",
     "output_type": "stream",
     "text": [
      "Data Science Masters course is highly curated and uniquely designed according to the latest industry standards. This program instills in students the skills essential to knowledge discovery efforts to identify standard, novel, and truly differentiated solutions and decision-making, including skills in managing, querying, analyzing, visualizing, and extracting meaning from extremely large data sets. This trending program provides students with the statistical, mathematical, and computational skills needed to meet the large-scale data science challenges of today's professional world. You will learn all the stack required to work in data science, data analytics, and big data industry including cloud infrastructure and real-time industry projects.\n"
     ]
    }
   ],
   "source": [
    "with open(\"copied_test1.txt\",'r') as f:\n",
    "    print(f.read())"
   ]
  },
  {
   "cell_type": "code",
   "execution_count": 51,
   "id": "9e3d4d07-dbce-4de2-880b-7304f3a21e42",
   "metadata": {},
   "outputs": [],
   "source": [
    "os.rename(\"copied_test1.txt\",\"test.txt\")"
   ]
  },
  {
   "cell_type": "markdown",
   "id": "5121d868-9134-4b3d-8a68-39f6c38620f7",
   "metadata": {},
   "source": [
    "## Reading and Writing Files"
   ]
  },
  {
   "cell_type": "code",
   "execution_count": 58,
   "id": "276169e2-a301-4275-a49f-a32740cbe9dc",
   "metadata": {},
   "outputs": [],
   "source": [
    "# dictionary obj or JSON - java script obj notation(file format used for transferring data form one applicaion to another)\n",
    "# JSON stores data in form of a key and value pair\n",
    "data = {\n",
    "    \"name\" : \"ashwina\",\n",
    "    \"mail_id\" : \"ashwina@gmail.com\",\n",
    "    \"phone\" : 9193324218,\n",
    "    \"course\" : [\"data science\" , \"BCA\"]\n",
    "}"
   ]
  },
  {
   "cell_type": "code",
   "execution_count": 56,
   "id": "ce78ad72-0be2-42b4-8083-a46bf0f78918",
   "metadata": {},
   "outputs": [],
   "source": [
    "import json"
   ]
  },
  {
   "cell_type": "code",
   "execution_count": 57,
   "id": "8e782340-6986-4947-adb3-217f398ddcdd",
   "metadata": {},
   "outputs": [],
   "source": [
    "with open(\"test1.json\" , \"w\") as f:\n",
    "    json.dump(data,f)"
   ]
  },
  {
   "cell_type": "code",
   "execution_count": 59,
   "id": "7ba86748-5f83-476e-9e2f-3253e1651f93",
   "metadata": {},
   "outputs": [],
   "source": [
    "# read operation load(read) / write(dump)\n",
    "with open(\"test1.json\",'r') as f:\n",
    "    data1 = json.load(f)"
   ]
  },
  {
   "cell_type": "code",
   "execution_count": 60,
   "id": "1ed83802-59be-47ac-839f-f983c5b7d292",
   "metadata": {},
   "outputs": [
    {
     "data": {
      "text/plain": [
       "{'name': 'ashwina',\n",
       " 'mail_id': 'ashwina@gmail.com',\n",
       " 'phone': 9193324218,\n",
       " 'course': ['data science', 'BCA']}"
      ]
     },
     "execution_count": 60,
     "metadata": {},
     "output_type": "execute_result"
    }
   ],
   "source": [
    "data1"
   ]
  },
  {
   "cell_type": "code",
   "execution_count": 62,
   "id": "fad9ae99-8de4-48dc-80e3-cc348c7eb129",
   "metadata": {},
   "outputs": [
    {
     "data": {
      "text/plain": [
       "['data science', 'BCA']"
      ]
     },
     "execution_count": 62,
     "metadata": {},
     "output_type": "execute_result"
    }
   ],
   "source": [
    "data1['course']"
   ]
  },
  {
   "cell_type": "code",
   "execution_count": 63,
   "id": "d41d54b1-79e3-4cfa-ba2d-f9c9829eceac",
   "metadata": {},
   "outputs": [
    {
     "data": {
      "text/plain": [
       "'BCA'"
      ]
     },
     "execution_count": 63,
     "metadata": {},
     "output_type": "execute_result"
    }
   ],
   "source": [
    "data1['course'][1]"
   ]
  },
  {
   "cell_type": "code",
   "execution_count": 64,
   "id": "5d457785-2794-414b-be02-41cffe7f9052",
   "metadata": {},
   "outputs": [],
   "source": [
    "\n",
    "data = [[\"name\",\"email_id\",\"number\"],\n",
    "       [\"ashwina\",\"ashwina@gmail.com\",934453435],\n",
    "       [\"misty\",\"misty@gmail.com\",3875875]\n",
    "       ]"
   ]
  },
  {
   "cell_type": "code",
   "execution_count": 65,
   "id": "bb2a395a-5357-4b2a-b78d-c4c03c514ec7",
   "metadata": {},
   "outputs": [],
   "source": [
    "# module csv is sfor comma separated values\n",
    "import csv"
   ]
  },
  {
   "cell_type": "code",
   "execution_count": 66,
   "id": "73e7452c-16aa-40cf-a687-4b41652b14c3",
   "metadata": {},
   "outputs": [],
   "source": [
    "with open(\"test3.csv\",'w') as f:\n",
    "    w = csv.writer(f) # w is an object\n",
    "    #iterating through the list\n",
    "    for i in data:\n",
    "        w.writerow(i)"
   ]
  },
  {
   "cell_type": "code",
   "execution_count": null,
   "id": "d43ef270-cc5a-4f0e-8f17-cdcc7f50f7e3",
   "metadata": {},
   "outputs": [],
   "source": [
    "# in csv file a table is created and the first list is considered as column name"
   ]
  },
  {
   "cell_type": "code",
   "execution_count": 67,
   "id": "87ae61f1-0746-424a-8eb5-1f4a5457dc80",
   "metadata": {},
   "outputs": [
    {
     "name": "stdout",
     "output_type": "stream",
     "text": [
      "['name', 'email_id', 'number']\n",
      "['ashwina', 'ashwina@gmail.com', '934453435']\n",
      "['misty', 'misty@gmail.com', '3875875']\n"
     ]
    }
   ],
   "source": [
    "# data read operation\n",
    "with open(\"test3.csv\",'r') as f:\n",
    "    read = csv.reader(f)\n",
    "    for i in read:\n",
    "        print(i)"
   ]
  },
  {
   "cell_type": "code",
   "execution_count": 4,
   "id": "6efea446-ce5f-45cf-a34f-5787b6f809b5",
   "metadata": {},
   "outputs": [],
   "source": [
    "# binary(read write operation) - data in form of audio,video or images\n",
    "# bin extension is for bianry file and wb is write binary mode\n",
    "with open(\"test4.bin\",'wb') as f:\n",
    "    f.write(b\"\\x01\\x02\\x03\")\n",
    "    "
   ]
  },
  {
   "cell_type": "code",
   "execution_count": 5,
   "id": "0a3097ea-282e-47fa-8be3-30158027697d",
   "metadata": {},
   "outputs": [
    {
     "name": "stdout",
     "output_type": "stream",
     "text": [
      "b'\\x01\\x02\\x03'\n"
     ]
    }
   ],
   "source": [
    "with open(\"test4.bin\",'rb') as f:\n",
    "    print(f.read())"
   ]
  },
  {
   "cell_type": "code",
   "execution_count": 6,
   "id": "f37e1072-2aab-4b57-b447-612ba2527e83",
   "metadata": {},
   "outputs": [],
   "source": [
    "# rb mode is read binary mode"
   ]
  },
  {
   "cell_type": "markdown",
   "id": "0da660ea-2111-49ec-99fb-ae97445ae456",
   "metadata": {},
   "source": [
    "## Buffered read and write & other file methods"
   ]
  },
  {
   "cell_type": "code",
   "execution_count": 7,
   "id": "07b830fb-f988-4e34-bb0a-7d8a90c65d80",
   "metadata": {},
   "outputs": [],
   "source": [
    "# io input/output\n",
    "import io"
   ]
  },
  {
   "cell_type": "code",
   "execution_count": 8,
   "id": "d5e20cf6-5bee-4e07-a84e-8ca4e7ca30d3",
   "metadata": {},
   "outputs": [],
   "source": [
    "# buffer read and write methods helps us where we have large files of several GB's and TB's\n",
    "# so we read and write in such big files in chunks using buffer method"
   ]
  },
  {
   "cell_type": "code",
   "execution_count": 10,
   "id": "2129dd73-17a8-4143-a3dd-3b80a6ad5755",
   "metadata": {},
   "outputs": [],
   "source": [
    "with open(\"test.txt\",'wb') as f:\n",
    "    file = io.BufferedWriter(f)\n",
    "    file.write(b\"this is my buffer write\\n\")\n",
    "    file.write(b\"this is my second line in buffer write\")\n",
    "    file.flush()"
   ]
  },
  {
   "cell_type": "code",
   "execution_count": 14,
   "id": "4e03fe51-b66a-4ec5-aa35-de46c5f2ab99",
   "metadata": {},
   "outputs": [
    {
     "name": "stdout",
     "output_type": "stream",
     "text": [
      "b'this is my buffer write\\nthis is my second line in buffer write'\n"
     ]
    }
   ],
   "source": [
    "with open(\"test.txt\",'rb') as f:\n",
    "    \n",
    "    file = io.BufferedReader(f)\n",
    "    data = file.read()\n",
    "    print(data)"
   ]
  },
  {
   "cell_type": "code",
   "execution_count": 16,
   "id": "fda87f22-6b6b-46c8-a800-22733fa7e7fb",
   "metadata": {},
   "outputs": [
    {
     "name": "stdout",
     "output_type": "stream",
     "text": [
      "b'this is my buffer wr'\n"
     ]
    }
   ],
   "source": [
    "with open(\"test.txt\",'rb') as f:\n",
    "    \n",
    "    file = io.BufferedReader(f)\n",
    "    data = file.read(20)\n",
    "    print(data)"
   ]
  },
  {
   "cell_type": "code",
   "execution_count": 15,
   "id": "3be3d7eb-960c-4dc0-b096-0ddeac5f9e74",
   "metadata": {},
   "outputs": [
    {
     "name": "stdout",
     "output_type": "stream",
     "text": [
      "b'this is my buffer write\\nthis is my second line in buffer write'\n"
     ]
    }
   ],
   "source": [
    "with open(\"test.txt\",'rb') as f:\n",
    "    print(f.read())"
   ]
  }
 ],
 "metadata": {
  "kernelspec": {
   "display_name": "Python 3 (ipykernel)",
   "language": "python",
   "name": "python3"
  },
  "language_info": {
   "codemirror_mode": {
    "name": "ipython",
    "version": 3
   },
   "file_extension": ".py",
   "mimetype": "text/x-python",
   "name": "python",
   "nbconvert_exporter": "python",
   "pygments_lexer": "ipython3",
   "version": "3.10.8"
  }
 },
 "nbformat": 4,
 "nbformat_minor": 5
}
